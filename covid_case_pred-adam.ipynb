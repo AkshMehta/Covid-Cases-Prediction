{
 "cells": [
  {
   "cell_type": "markdown",
   "metadata": {},
   "source": [
    "### Covid Cases Prediction And Forecasting Using Stacked LSTM"
   ]
  },
  {
   "cell_type": "code",
   "execution_count": 1,
   "metadata": {},
   "outputs": [],
   "source": [
    "import pandas as pd\n",
    "import numpy as np\n",
    "import matplotlib.pyplot as plt"
   ]
  },
  {
   "cell_type": "code",
   "execution_count": 2,
   "metadata": {},
   "outputs": [],
   "source": [
    "df1 = pd.read_csv('Covid Dataset.csv',index_col='Date Announced',parse_dates=True)"
   ]
  },
  {
   "cell_type": "code",
   "execution_count": 3,
   "metadata": {},
   "outputs": [
    {
     "data": {
      "text/html": [
       "<div>\n",
       "<style scoped>\n",
       "    .dataframe tbody tr th:only-of-type {\n",
       "        vertical-align: middle;\n",
       "    }\n",
       "\n",
       "    .dataframe tbody tr th {\n",
       "        vertical-align: top;\n",
       "    }\n",
       "\n",
       "    .dataframe thead th {\n",
       "        text-align: right;\n",
       "    }\n",
       "</style>\n",
       "<table border=\"1\" class=\"dataframe\">\n",
       "  <thead>\n",
       "    <tr style=\"text-align: right;\">\n",
       "      <th></th>\n",
       "      <th>Unnamed: 0</th>\n",
       "      <th>Num Cases</th>\n",
       "      <th>Age Bracket</th>\n",
       "      <th>Gender</th>\n",
       "      <th>Detected State</th>\n",
       "      <th>Current Status</th>\n",
       "      <th>Day</th>\n",
       "      <th>Month</th>\n",
       "      <th>Year</th>\n",
       "    </tr>\n",
       "    <tr>\n",
       "      <th>Date Announced</th>\n",
       "      <th></th>\n",
       "      <th></th>\n",
       "      <th></th>\n",
       "      <th></th>\n",
       "      <th></th>\n",
       "      <th></th>\n",
       "      <th></th>\n",
       "      <th></th>\n",
       "      <th></th>\n",
       "    </tr>\n",
       "  </thead>\n",
       "  <tbody>\n",
       "    <tr>\n",
       "      <th>2021-05-05</th>\n",
       "      <td>0</td>\n",
       "      <td>443.0</td>\n",
       "      <td>NaN</td>\n",
       "      <td>NaN</td>\n",
       "      <td>Odisha</td>\n",
       "      <td>Hospitalized</td>\n",
       "      <td>5</td>\n",
       "      <td>5</td>\n",
       "      <td>2021</td>\n",
       "    </tr>\n",
       "    <tr>\n",
       "      <th>2021-05-05</th>\n",
       "      <td>1</td>\n",
       "      <td>151.0</td>\n",
       "      <td>NaN</td>\n",
       "      <td>NaN</td>\n",
       "      <td>Odisha</td>\n",
       "      <td>Hospitalized</td>\n",
       "      <td>5</td>\n",
       "      <td>5</td>\n",
       "      <td>2021</td>\n",
       "    </tr>\n",
       "    <tr>\n",
       "      <th>2021-05-05</th>\n",
       "      <td>2</td>\n",
       "      <td>483.0</td>\n",
       "      <td>NaN</td>\n",
       "      <td>NaN</td>\n",
       "      <td>Odisha</td>\n",
       "      <td>Hospitalized</td>\n",
       "      <td>5</td>\n",
       "      <td>5</td>\n",
       "      <td>2021</td>\n",
       "    </tr>\n",
       "    <tr>\n",
       "      <th>2021-05-05</th>\n",
       "      <td>3</td>\n",
       "      <td>52.0</td>\n",
       "      <td>NaN</td>\n",
       "      <td>NaN</td>\n",
       "      <td>Odisha</td>\n",
       "      <td>Hospitalized</td>\n",
       "      <td>5</td>\n",
       "      <td>5</td>\n",
       "      <td>2021</td>\n",
       "    </tr>\n",
       "    <tr>\n",
       "      <th>2021-05-05</th>\n",
       "      <td>4</td>\n",
       "      <td>326.0</td>\n",
       "      <td>NaN</td>\n",
       "      <td>NaN</td>\n",
       "      <td>Odisha</td>\n",
       "      <td>Hospitalized</td>\n",
       "      <td>5</td>\n",
       "      <td>5</td>\n",
       "      <td>2021</td>\n",
       "    </tr>\n",
       "  </tbody>\n",
       "</table>\n",
       "</div>"
      ],
      "text/plain": [
       "                Unnamed: 0  Num Cases  Age Bracket Gender Detected State  \\\n",
       "Date Announced                                                             \n",
       "2021-05-05               0      443.0          NaN    NaN         Odisha   \n",
       "2021-05-05               1      151.0          NaN    NaN         Odisha   \n",
       "2021-05-05               2      483.0          NaN    NaN         Odisha   \n",
       "2021-05-05               3       52.0          NaN    NaN         Odisha   \n",
       "2021-05-05               4      326.0          NaN    NaN         Odisha   \n",
       "\n",
       "               Current Status  Day  Month  Year  \n",
       "Date Announced                                   \n",
       "2021-05-05       Hospitalized    5      5  2021  \n",
       "2021-05-05       Hospitalized    5      5  2021  \n",
       "2021-05-05       Hospitalized    5      5  2021  \n",
       "2021-05-05       Hospitalized    5      5  2021  \n",
       "2021-05-05       Hospitalized    5      5  2021  "
      ]
     },
     "execution_count": 3,
     "metadata": {},
     "output_type": "execute_result"
    }
   ],
   "source": [
    "df1.head()"
   ]
  },
  {
   "cell_type": "code",
   "execution_count": 4,
   "metadata": {},
   "outputs": [
    {
     "data": {
      "text/html": [
       "<div>\n",
       "<style scoped>\n",
       "    .dataframe tbody tr th:only-of-type {\n",
       "        vertical-align: middle;\n",
       "    }\n",
       "\n",
       "    .dataframe tbody tr th {\n",
       "        vertical-align: top;\n",
       "    }\n",
       "\n",
       "    .dataframe thead th {\n",
       "        text-align: right;\n",
       "    }\n",
       "</style>\n",
       "<table border=\"1\" class=\"dataframe\">\n",
       "  <thead>\n",
       "    <tr style=\"text-align: right;\">\n",
       "      <th></th>\n",
       "      <th>Unnamed: 0</th>\n",
       "      <th>Num Cases</th>\n",
       "      <th>Age Bracket</th>\n",
       "      <th>Gender</th>\n",
       "      <th>Detected State</th>\n",
       "      <th>Current Status</th>\n",
       "      <th>Day</th>\n",
       "      <th>Month</th>\n",
       "      <th>Year</th>\n",
       "    </tr>\n",
       "    <tr>\n",
       "      <th>Date Announced</th>\n",
       "      <th></th>\n",
       "      <th></th>\n",
       "      <th></th>\n",
       "      <th></th>\n",
       "      <th></th>\n",
       "      <th></th>\n",
       "      <th></th>\n",
       "      <th></th>\n",
       "      <th></th>\n",
       "    </tr>\n",
       "  </thead>\n",
       "  <tbody>\n",
       "    <tr>\n",
       "      <th>2021-08-28</th>\n",
       "      <td>12065</td>\n",
       "      <td>NaN</td>\n",
       "      <td>NaN</td>\n",
       "      <td>NaN</td>\n",
       "      <td>NaN</td>\n",
       "      <td>NaN</td>\n",
       "      <td>28</td>\n",
       "      <td>8</td>\n",
       "      <td>2021</td>\n",
       "    </tr>\n",
       "    <tr>\n",
       "      <th>2021-08-28</th>\n",
       "      <td>12066</td>\n",
       "      <td>NaN</td>\n",
       "      <td>NaN</td>\n",
       "      <td>NaN</td>\n",
       "      <td>NaN</td>\n",
       "      <td>NaN</td>\n",
       "      <td>28</td>\n",
       "      <td>8</td>\n",
       "      <td>2021</td>\n",
       "    </tr>\n",
       "    <tr>\n",
       "      <th>2021-08-28</th>\n",
       "      <td>12067</td>\n",
       "      <td>NaN</td>\n",
       "      <td>NaN</td>\n",
       "      <td>NaN</td>\n",
       "      <td>NaN</td>\n",
       "      <td>NaN</td>\n",
       "      <td>28</td>\n",
       "      <td>8</td>\n",
       "      <td>2021</td>\n",
       "    </tr>\n",
       "    <tr>\n",
       "      <th>2021-08-28</th>\n",
       "      <td>12068</td>\n",
       "      <td>NaN</td>\n",
       "      <td>NaN</td>\n",
       "      <td>NaN</td>\n",
       "      <td>NaN</td>\n",
       "      <td>NaN</td>\n",
       "      <td>28</td>\n",
       "      <td>8</td>\n",
       "      <td>2021</td>\n",
       "    </tr>\n",
       "    <tr>\n",
       "      <th>2021-08-28</th>\n",
       "      <td>12069</td>\n",
       "      <td>NaN</td>\n",
       "      <td>NaN</td>\n",
       "      <td>NaN</td>\n",
       "      <td>NaN</td>\n",
       "      <td>NaN</td>\n",
       "      <td>28</td>\n",
       "      <td>8</td>\n",
       "      <td>2021</td>\n",
       "    </tr>\n",
       "  </tbody>\n",
       "</table>\n",
       "</div>"
      ],
      "text/plain": [
       "                Unnamed: 0  Num Cases  Age Bracket Gender Detected State  \\\n",
       "Date Announced                                                             \n",
       "2021-08-28           12065        NaN          NaN    NaN            NaN   \n",
       "2021-08-28           12066        NaN          NaN    NaN            NaN   \n",
       "2021-08-28           12067        NaN          NaN    NaN            NaN   \n",
       "2021-08-28           12068        NaN          NaN    NaN            NaN   \n",
       "2021-08-28           12069        NaN          NaN    NaN            NaN   \n",
       "\n",
       "               Current Status  Day  Month  Year  \n",
       "Date Announced                                   \n",
       "2021-08-28                NaN   28      8  2021  \n",
       "2021-08-28                NaN   28      8  2021  \n",
       "2021-08-28                NaN   28      8  2021  \n",
       "2021-08-28                NaN   28      8  2021  \n",
       "2021-08-28                NaN   28      8  2021  "
      ]
     },
     "execution_count": 4,
     "metadata": {},
     "output_type": "execute_result"
    }
   ],
   "source": [
    "df1.tail()"
   ]
  },
  {
   "cell_type": "code",
   "execution_count": 5,
   "metadata": {},
   "outputs": [
    {
     "data": {
      "text/html": [
       "<div>\n",
       "<style scoped>\n",
       "    .dataframe tbody tr th:only-of-type {\n",
       "        vertical-align: middle;\n",
       "    }\n",
       "\n",
       "    .dataframe tbody tr th {\n",
       "        vertical-align: top;\n",
       "    }\n",
       "\n",
       "    .dataframe thead th {\n",
       "        text-align: right;\n",
       "    }\n",
       "</style>\n",
       "<table border=\"1\" class=\"dataframe\">\n",
       "  <thead>\n",
       "    <tr style=\"text-align: right;\">\n",
       "      <th></th>\n",
       "      <th>Unnamed: 0</th>\n",
       "      <th>Num Cases</th>\n",
       "      <th>Age Bracket</th>\n",
       "      <th>Gender</th>\n",
       "      <th>Detected State</th>\n",
       "      <th>Current Status</th>\n",
       "      <th>Day</th>\n",
       "      <th>Month</th>\n",
       "      <th>Year</th>\n",
       "    </tr>\n",
       "    <tr>\n",
       "      <th>Date Announced</th>\n",
       "      <th></th>\n",
       "      <th></th>\n",
       "      <th></th>\n",
       "      <th></th>\n",
       "      <th></th>\n",
       "      <th></th>\n",
       "      <th></th>\n",
       "      <th></th>\n",
       "      <th></th>\n",
       "    </tr>\n",
       "  </thead>\n",
       "  <tbody>\n",
       "    <tr>\n",
       "      <th>2021-05-05</th>\n",
       "      <td>0</td>\n",
       "      <td>443.0</td>\n",
       "      <td>NaN</td>\n",
       "      <td>NaN</td>\n",
       "      <td>Odisha</td>\n",
       "      <td>Hospitalized</td>\n",
       "      <td>5</td>\n",
       "      <td>5</td>\n",
       "      <td>2021</td>\n",
       "    </tr>\n",
       "    <tr>\n",
       "      <th>2021-05-05</th>\n",
       "      <td>1</td>\n",
       "      <td>151.0</td>\n",
       "      <td>NaN</td>\n",
       "      <td>NaN</td>\n",
       "      <td>Odisha</td>\n",
       "      <td>Hospitalized</td>\n",
       "      <td>5</td>\n",
       "      <td>5</td>\n",
       "      <td>2021</td>\n",
       "    </tr>\n",
       "    <tr>\n",
       "      <th>2021-05-05</th>\n",
       "      <td>2</td>\n",
       "      <td>483.0</td>\n",
       "      <td>NaN</td>\n",
       "      <td>NaN</td>\n",
       "      <td>Odisha</td>\n",
       "      <td>Hospitalized</td>\n",
       "      <td>5</td>\n",
       "      <td>5</td>\n",
       "      <td>2021</td>\n",
       "    </tr>\n",
       "    <tr>\n",
       "      <th>2021-05-05</th>\n",
       "      <td>3</td>\n",
       "      <td>52.0</td>\n",
       "      <td>NaN</td>\n",
       "      <td>NaN</td>\n",
       "      <td>Odisha</td>\n",
       "      <td>Hospitalized</td>\n",
       "      <td>5</td>\n",
       "      <td>5</td>\n",
       "      <td>2021</td>\n",
       "    </tr>\n",
       "    <tr>\n",
       "      <th>2021-05-05</th>\n",
       "      <td>4</td>\n",
       "      <td>326.0</td>\n",
       "      <td>NaN</td>\n",
       "      <td>NaN</td>\n",
       "      <td>Odisha</td>\n",
       "      <td>Hospitalized</td>\n",
       "      <td>5</td>\n",
       "      <td>5</td>\n",
       "      <td>2021</td>\n",
       "    </tr>\n",
       "    <tr>\n",
       "      <th>...</th>\n",
       "      <td>...</td>\n",
       "      <td>...</td>\n",
       "      <td>...</td>\n",
       "      <td>...</td>\n",
       "      <td>...</td>\n",
       "      <td>...</td>\n",
       "      <td>...</td>\n",
       "      <td>...</td>\n",
       "      <td>...</td>\n",
       "    </tr>\n",
       "    <tr>\n",
       "      <th>2021-08-28</th>\n",
       "      <td>12065</td>\n",
       "      <td>NaN</td>\n",
       "      <td>NaN</td>\n",
       "      <td>NaN</td>\n",
       "      <td>NaN</td>\n",
       "      <td>NaN</td>\n",
       "      <td>28</td>\n",
       "      <td>8</td>\n",
       "      <td>2021</td>\n",
       "    </tr>\n",
       "    <tr>\n",
       "      <th>2021-08-28</th>\n",
       "      <td>12066</td>\n",
       "      <td>NaN</td>\n",
       "      <td>NaN</td>\n",
       "      <td>NaN</td>\n",
       "      <td>NaN</td>\n",
       "      <td>NaN</td>\n",
       "      <td>28</td>\n",
       "      <td>8</td>\n",
       "      <td>2021</td>\n",
       "    </tr>\n",
       "    <tr>\n",
       "      <th>2021-08-28</th>\n",
       "      <td>12067</td>\n",
       "      <td>NaN</td>\n",
       "      <td>NaN</td>\n",
       "      <td>NaN</td>\n",
       "      <td>NaN</td>\n",
       "      <td>NaN</td>\n",
       "      <td>28</td>\n",
       "      <td>8</td>\n",
       "      <td>2021</td>\n",
       "    </tr>\n",
       "    <tr>\n",
       "      <th>2021-08-28</th>\n",
       "      <td>12068</td>\n",
       "      <td>NaN</td>\n",
       "      <td>NaN</td>\n",
       "      <td>NaN</td>\n",
       "      <td>NaN</td>\n",
       "      <td>NaN</td>\n",
       "      <td>28</td>\n",
       "      <td>8</td>\n",
       "      <td>2021</td>\n",
       "    </tr>\n",
       "    <tr>\n",
       "      <th>2021-08-28</th>\n",
       "      <td>12069</td>\n",
       "      <td>NaN</td>\n",
       "      <td>NaN</td>\n",
       "      <td>NaN</td>\n",
       "      <td>NaN</td>\n",
       "      <td>NaN</td>\n",
       "      <td>28</td>\n",
       "      <td>8</td>\n",
       "      <td>2021</td>\n",
       "    </tr>\n",
       "  </tbody>\n",
       "</table>\n",
       "<p>175757 rows × 9 columns</p>\n",
       "</div>"
      ],
      "text/plain": [
       "                Unnamed: 0  Num Cases  Age Bracket Gender Detected State  \\\n",
       "Date Announced                                                             \n",
       "2021-05-05               0      443.0          NaN    NaN         Odisha   \n",
       "2021-05-05               1      151.0          NaN    NaN         Odisha   \n",
       "2021-05-05               2      483.0          NaN    NaN         Odisha   \n",
       "2021-05-05               3       52.0          NaN    NaN         Odisha   \n",
       "2021-05-05               4      326.0          NaN    NaN         Odisha   \n",
       "...                    ...        ...          ...    ...            ...   \n",
       "2021-08-28           12065        NaN          NaN    NaN            NaN   \n",
       "2021-08-28           12066        NaN          NaN    NaN            NaN   \n",
       "2021-08-28           12067        NaN          NaN    NaN            NaN   \n",
       "2021-08-28           12068        NaN          NaN    NaN            NaN   \n",
       "2021-08-28           12069        NaN          NaN    NaN            NaN   \n",
       "\n",
       "               Current Status  Day  Month  Year  \n",
       "Date Announced                                   \n",
       "2021-05-05       Hospitalized    5      5  2021  \n",
       "2021-05-05       Hospitalized    5      5  2021  \n",
       "2021-05-05       Hospitalized    5      5  2021  \n",
       "2021-05-05       Hospitalized    5      5  2021  \n",
       "2021-05-05       Hospitalized    5      5  2021  \n",
       "...                       ...  ...    ...   ...  \n",
       "2021-08-28                NaN   28      8  2021  \n",
       "2021-08-28                NaN   28      8  2021  \n",
       "2021-08-28                NaN   28      8  2021  \n",
       "2021-08-28                NaN   28      8  2021  \n",
       "2021-08-28                NaN   28      8  2021  \n",
       "\n",
       "[175757 rows x 9 columns]"
      ]
     },
     "execution_count": 5,
     "metadata": {},
     "output_type": "execute_result"
    }
   ],
   "source": [
    "df1"
   ]
  },
  {
   "cell_type": "code",
   "execution_count": 6,
   "metadata": {},
   "outputs": [],
   "source": [
    "del df1['Unnamed: 0']\n",
    "del df1['Age Bracket']\n",
    "del df1['Gender']\n",
    "del df1['Detected State']\n",
    "del df1['Current Status']\n",
    "del df1['Day']\n",
    "del df1['Month']\n",
    "del df1['Year']"
   ]
  },
  {
   "cell_type": "code",
   "execution_count": 7,
   "metadata": {},
   "outputs": [
    {
     "data": {
      "text/html": [
       "<div>\n",
       "<style scoped>\n",
       "    .dataframe tbody tr th:only-of-type {\n",
       "        vertical-align: middle;\n",
       "    }\n",
       "\n",
       "    .dataframe tbody tr th {\n",
       "        vertical-align: top;\n",
       "    }\n",
       "\n",
       "    .dataframe thead th {\n",
       "        text-align: right;\n",
       "    }\n",
       "</style>\n",
       "<table border=\"1\" class=\"dataframe\">\n",
       "  <thead>\n",
       "    <tr style=\"text-align: right;\">\n",
       "      <th></th>\n",
       "      <th>Num Cases</th>\n",
       "    </tr>\n",
       "    <tr>\n",
       "      <th>Date Announced</th>\n",
       "      <th></th>\n",
       "    </tr>\n",
       "  </thead>\n",
       "  <tbody>\n",
       "    <tr>\n",
       "      <th>2021-05-05</th>\n",
       "      <td>443.0</td>\n",
       "    </tr>\n",
       "    <tr>\n",
       "      <th>2021-05-05</th>\n",
       "      <td>151.0</td>\n",
       "    </tr>\n",
       "    <tr>\n",
       "      <th>2021-05-05</th>\n",
       "      <td>483.0</td>\n",
       "    </tr>\n",
       "    <tr>\n",
       "      <th>2021-05-05</th>\n",
       "      <td>52.0</td>\n",
       "    </tr>\n",
       "    <tr>\n",
       "      <th>2021-05-05</th>\n",
       "      <td>326.0</td>\n",
       "    </tr>\n",
       "    <tr>\n",
       "      <th>...</th>\n",
       "      <td>...</td>\n",
       "    </tr>\n",
       "    <tr>\n",
       "      <th>2021-08-28</th>\n",
       "      <td>521.0</td>\n",
       "    </tr>\n",
       "    <tr>\n",
       "      <th>2021-08-28</th>\n",
       "      <td>550.0</td>\n",
       "    </tr>\n",
       "    <tr>\n",
       "      <th>2021-08-28</th>\n",
       "      <td>13.0</td>\n",
       "    </tr>\n",
       "    <tr>\n",
       "      <th>2021-08-28</th>\n",
       "      <td>1.0</td>\n",
       "    </tr>\n",
       "    <tr>\n",
       "      <th>2021-08-28</th>\n",
       "      <td>6.0</td>\n",
       "    </tr>\n",
       "  </tbody>\n",
       "</table>\n",
       "<p>175429 rows × 1 columns</p>\n",
       "</div>"
      ],
      "text/plain": [
       "                Num Cases\n",
       "Date Announced           \n",
       "2021-05-05          443.0\n",
       "2021-05-05          151.0\n",
       "2021-05-05          483.0\n",
       "2021-05-05           52.0\n",
       "2021-05-05          326.0\n",
       "...                   ...\n",
       "2021-08-28          521.0\n",
       "2021-08-28          550.0\n",
       "2021-08-28           13.0\n",
       "2021-08-28            1.0\n",
       "2021-08-28            6.0\n",
       "\n",
       "[175429 rows x 1 columns]"
      ]
     },
     "execution_count": 7,
     "metadata": {},
     "output_type": "execute_result"
    }
   ],
   "source": [
    "df1 = df1.dropna()\n",
    "df1"
   ]
  },
  {
   "cell_type": "code",
   "execution_count": 8,
   "metadata": {},
   "outputs": [
    {
     "data": {
      "text/plain": [
       "Num Cases    0\n",
       "dtype: int64"
      ]
     },
     "execution_count": 8,
     "metadata": {},
     "output_type": "execute_result"
    }
   ],
   "source": [
    "df1.isna().sum()"
   ]
  },
  {
   "cell_type": "code",
   "execution_count": 9,
   "metadata": {},
   "outputs": [
    {
     "data": {
      "text/plain": [
       "True"
      ]
     },
     "execution_count": 9,
     "metadata": {},
     "output_type": "execute_result"
    }
   ],
   "source": [
    "(df1['Num Cases'].values < 0).any()"
   ]
  },
  {
   "cell_type": "code",
   "execution_count": 10,
   "metadata": {},
   "outputs": [],
   "source": [
    "df1 = df1[df1['Num Cases'] > 0]"
   ]
  },
  {
   "cell_type": "code",
   "execution_count": 11,
   "metadata": {},
   "outputs": [
    {
     "data": {
      "text/html": [
       "<div>\n",
       "<style scoped>\n",
       "    .dataframe tbody tr th:only-of-type {\n",
       "        vertical-align: middle;\n",
       "    }\n",
       "\n",
       "    .dataframe tbody tr th {\n",
       "        vertical-align: top;\n",
       "    }\n",
       "\n",
       "    .dataframe thead th {\n",
       "        text-align: right;\n",
       "    }\n",
       "</style>\n",
       "<table border=\"1\" class=\"dataframe\">\n",
       "  <thead>\n",
       "    <tr style=\"text-align: right;\">\n",
       "      <th></th>\n",
       "      <th>Num Cases</th>\n",
       "    </tr>\n",
       "    <tr>\n",
       "      <th>Date Announced</th>\n",
       "      <th></th>\n",
       "    </tr>\n",
       "  </thead>\n",
       "  <tbody>\n",
       "    <tr>\n",
       "      <th>2021-05-05</th>\n",
       "      <td>443.0</td>\n",
       "    </tr>\n",
       "    <tr>\n",
       "      <th>2021-05-05</th>\n",
       "      <td>151.0</td>\n",
       "    </tr>\n",
       "    <tr>\n",
       "      <th>2021-05-05</th>\n",
       "      <td>483.0</td>\n",
       "    </tr>\n",
       "    <tr>\n",
       "      <th>2021-05-05</th>\n",
       "      <td>52.0</td>\n",
       "    </tr>\n",
       "    <tr>\n",
       "      <th>2021-05-05</th>\n",
       "      <td>326.0</td>\n",
       "    </tr>\n",
       "    <tr>\n",
       "      <th>...</th>\n",
       "      <td>...</td>\n",
       "    </tr>\n",
       "    <tr>\n",
       "      <th>2021-08-28</th>\n",
       "      <td>521.0</td>\n",
       "    </tr>\n",
       "    <tr>\n",
       "      <th>2021-08-28</th>\n",
       "      <td>550.0</td>\n",
       "    </tr>\n",
       "    <tr>\n",
       "      <th>2021-08-28</th>\n",
       "      <td>13.0</td>\n",
       "    </tr>\n",
       "    <tr>\n",
       "      <th>2021-08-28</th>\n",
       "      <td>1.0</td>\n",
       "    </tr>\n",
       "    <tr>\n",
       "      <th>2021-08-28</th>\n",
       "      <td>6.0</td>\n",
       "    </tr>\n",
       "  </tbody>\n",
       "</table>\n",
       "<p>173963 rows × 1 columns</p>\n",
       "</div>"
      ],
      "text/plain": [
       "                Num Cases\n",
       "Date Announced           \n",
       "2021-05-05          443.0\n",
       "2021-05-05          151.0\n",
       "2021-05-05          483.0\n",
       "2021-05-05           52.0\n",
       "2021-05-05          326.0\n",
       "...                   ...\n",
       "2021-08-28          521.0\n",
       "2021-08-28          550.0\n",
       "2021-08-28           13.0\n",
       "2021-08-28            1.0\n",
       "2021-08-28            6.0\n",
       "\n",
       "[173963 rows x 1 columns]"
      ]
     },
     "execution_count": 11,
     "metadata": {},
     "output_type": "execute_result"
    }
   ],
   "source": [
    "df1"
   ]
  },
  {
   "cell_type": "code",
   "execution_count": 12,
   "metadata": {},
   "outputs": [
    {
     "data": {
      "text/plain": [
       "False"
      ]
     },
     "execution_count": 12,
     "metadata": {},
     "output_type": "execute_result"
    }
   ],
   "source": [
    "(df1['Num Cases'].values < 0).any()"
   ]
  },
  {
   "cell_type": "code",
   "execution_count": 13,
   "metadata": {},
   "outputs": [
    {
     "data": {
      "text/html": [
       "<div>\n",
       "<style scoped>\n",
       "    .dataframe tbody tr th:only-of-type {\n",
       "        vertical-align: middle;\n",
       "    }\n",
       "\n",
       "    .dataframe tbody tr th {\n",
       "        vertical-align: top;\n",
       "    }\n",
       "\n",
       "    .dataframe thead th {\n",
       "        text-align: right;\n",
       "    }\n",
       "</style>\n",
       "<table border=\"1\" class=\"dataframe\">\n",
       "  <thead>\n",
       "    <tr style=\"text-align: right;\">\n",
       "      <th></th>\n",
       "      <th>Num Cases</th>\n",
       "    </tr>\n",
       "  </thead>\n",
       "  <tbody>\n",
       "    <tr>\n",
       "      <th>count</th>\n",
       "      <td>173963.000000</td>\n",
       "    </tr>\n",
       "    <tr>\n",
       "      <th>mean</th>\n",
       "      <td>156.762881</td>\n",
       "    </tr>\n",
       "    <tr>\n",
       "      <th>std</th>\n",
       "      <td>584.433606</td>\n",
       "    </tr>\n",
       "    <tr>\n",
       "      <th>min</th>\n",
       "      <td>1.000000</td>\n",
       "    </tr>\n",
       "    <tr>\n",
       "      <th>25%</th>\n",
       "      <td>2.000000</td>\n",
       "    </tr>\n",
       "    <tr>\n",
       "      <th>50%</th>\n",
       "      <td>12.000000</td>\n",
       "    </tr>\n",
       "    <tr>\n",
       "      <th>75%</th>\n",
       "      <td>89.000000</td>\n",
       "    </tr>\n",
       "    <tr>\n",
       "      <th>max</th>\n",
       "      <td>36030.000000</td>\n",
       "    </tr>\n",
       "  </tbody>\n",
       "</table>\n",
       "</div>"
      ],
      "text/plain": [
       "           Num Cases\n",
       "count  173963.000000\n",
       "mean      156.762881\n",
       "std       584.433606\n",
       "min         1.000000\n",
       "25%         2.000000\n",
       "50%        12.000000\n",
       "75%        89.000000\n",
       "max     36030.000000"
      ]
     },
     "execution_count": 13,
     "metadata": {},
     "output_type": "execute_result"
    }
   ],
   "source": [
    "df1.describe()"
   ]
  },
  {
   "cell_type": "code",
   "execution_count": 14,
   "metadata": {},
   "outputs": [
    {
     "data": {
      "text/plain": [
       "<matplotlib.axes._subplots.AxesSubplot at 0x15a24221910>"
      ]
     },
     "execution_count": 14,
     "metadata": {},
     "output_type": "execute_result"
    },
    {
     "data": {
      "image/png": "[encoded data removed]",
      "text/plain": [
       "<Figure size 864x432 with 1 Axes>"
      ]
     },
     "metadata": {
      "needs_background": "light"
     },
     "output_type": "display_data"
    }
   ],
   "source": [
    "df1.plot(figsize=(12,6))"
   ]
  },
  {
   "cell_type": "code",
   "execution_count": 15,
   "metadata": {},
   "outputs": [
    {
     "data": {
      "text/plain": [
       "[<matplotlib.lines.Line2D at 0x15a25824910>]"
      ]
     },
     "execution_count": 15,
     "metadata": {},
     "output_type": "execute_result"
    },
    {
     "data": {
      "image/png": "[encoded data removed]",
      "text/plain": [
       "<Figure size 432x288 with 1 Axes>"
      ]
     },
     "metadata": {
      "needs_background": "light"
     },
     "output_type": "display_data"
    }
   ],
   "source": [
    "import matplotlib.pyplot as plt\n",
    "plt.plot(df1)"
   ]
  },
  {
   "cell_type": "code",
   "execution_count": 16,
   "metadata": {},
   "outputs": [],
   "source": [
    "from statsmodels.tsa.stattools import adfuller\n",
    "def adfuller_test(Num_Cases):\n",
    "    result=adfuller(Num_Cases)\n",
    "    labels = ['ADF Test Statistic','p-value','#Lags Used','Number of Observations Used']\n",
    "    for value,label in zip(result,labels):\n",
    "        print(label+' : '+str(value) )\n",
    "    if result[1] <= 0.05:\n",
    "        print(\"strong evidence against the null hypothesis(Ho), reject the null hypothesis. Data has no unit root and is stationary\")\n",
    "    else:\n",
    "        print(\"weak evidence against null hypothesis, time series has a unit root, indicating it is non-stationary \")"
   ]
  },
  {
   "cell_type": "code",
   "execution_count": 17,
   "metadata": {},
   "outputs": [],
   "source": [
    "### LSTM are sensitive to the scale of the data. so we apply MinMax scaler "
   ]
  },
  {
   "cell_type": "code",
   "execution_count": 18,
   "metadata": {},
   "outputs": [],
   "source": [
    "import numpy as np"
   ]
  },
  {
   "cell_type": "code",
   "execution_count": 19,
   "metadata": {},
   "outputs": [
    {
     "data": {
      "text/html": [
       "<div>\n",
       "<style scoped>\n",
       "    .dataframe tbody tr th:only-of-type {\n",
       "        vertical-align: middle;\n",
       "    }\n",
       "\n",
       "    .dataframe tbody tr th {\n",
       "        vertical-align: top;\n",
       "    }\n",
       "\n",
       "    .dataframe thead th {\n",
       "        text-align: right;\n",
       "    }\n",
       "</style>\n",
       "<table border=\"1\" class=\"dataframe\">\n",
       "  <thead>\n",
       "    <tr style=\"text-align: right;\">\n",
       "      <th></th>\n",
       "      <th>Num Cases</th>\n",
       "    </tr>\n",
       "    <tr>\n",
       "      <th>Date Announced</th>\n",
       "      <th></th>\n",
       "    </tr>\n",
       "  </thead>\n",
       "  <tbody>\n",
       "    <tr>\n",
       "      <th>2021-05-05</th>\n",
       "      <td>443.0</td>\n",
       "    </tr>\n",
       "    <tr>\n",
       "      <th>2021-05-05</th>\n",
       "      <td>151.0</td>\n",
       "    </tr>\n",
       "    <tr>\n",
       "      <th>2021-05-05</th>\n",
       "      <td>483.0</td>\n",
       "    </tr>\n",
       "    <tr>\n",
       "      <th>2021-05-05</th>\n",
       "      <td>52.0</td>\n",
       "    </tr>\n",
       "    <tr>\n",
       "      <th>2021-05-05</th>\n",
       "      <td>326.0</td>\n",
       "    </tr>\n",
       "    <tr>\n",
       "      <th>...</th>\n",
       "      <td>...</td>\n",
       "    </tr>\n",
       "    <tr>\n",
       "      <th>2021-08-28</th>\n",
       "      <td>521.0</td>\n",
       "    </tr>\n",
       "    <tr>\n",
       "      <th>2021-08-28</th>\n",
       "      <td>550.0</td>\n",
       "    </tr>\n",
       "    <tr>\n",
       "      <th>2021-08-28</th>\n",
       "      <td>13.0</td>\n",
       "    </tr>\n",
       "    <tr>\n",
       "      <th>2021-08-28</th>\n",
       "      <td>1.0</td>\n",
       "    </tr>\n",
       "    <tr>\n",
       "      <th>2021-08-28</th>\n",
       "      <td>6.0</td>\n",
       "    </tr>\n",
       "  </tbody>\n",
       "</table>\n",
       "<p>173963 rows × 1 columns</p>\n",
       "</div>"
      ],
      "text/plain": [
       "                Num Cases\n",
       "Date Announced           \n",
       "2021-05-05          443.0\n",
       "2021-05-05          151.0\n",
       "2021-05-05          483.0\n",
       "2021-05-05           52.0\n",
       "2021-05-05          326.0\n",
       "...                   ...\n",
       "2021-08-28          521.0\n",
       "2021-08-28          550.0\n",
       "2021-08-28           13.0\n",
       "2021-08-28            1.0\n",
       "2021-08-28            6.0\n",
       "\n",
       "[173963 rows x 1 columns]"
      ]
     },
     "execution_count": 19,
     "metadata": {},
     "output_type": "execute_result"
    }
   ],
   "source": [
    "df1"
   ]
  },
  {
   "cell_type": "code",
   "execution_count": 20,
   "metadata": {},
   "outputs": [],
   "source": [
    "from sklearn.preprocessing import MinMaxScaler\n",
    "scaler=MinMaxScaler(feature_range=(0,1))\n",
    "df1=scaler.fit_transform(np.array(df1).reshape(-1,1))"
   ]
  },
  {
   "cell_type": "code",
   "execution_count": 21,
   "metadata": {},
   "outputs": [
    {
     "name": "stdout",
     "output_type": "stream",
     "text": [
      "[[0.0122679 ]\n",
      " [0.00416331]\n",
      " [0.01337811]\n",
      " ...\n",
      " [0.00033307]\n",
      " [0.        ]\n",
      " [0.00013878]]\n"
     ]
    }
   ],
   "source": [
    "print(df1)"
   ]
  },
  {
   "cell_type": "code",
   "execution_count": 22,
   "metadata": {},
   "outputs": [],
   "source": [
    "##splitting dataset into train and test split\n",
    "training_size=int(len(df1)*0.75)\n",
    "test_size=len(df1)-training_size\n",
    "train_data,test_data=df1[0:training_size,:],df1[training_size:len(df1),:1]"
   ]
  },
  {
   "cell_type": "code",
   "execution_count": 23,
   "metadata": {},
   "outputs": [
    {
     "data": {
      "text/plain": [
       "(130472, 43491)"
      ]
     },
     "execution_count": 23,
     "metadata": {},
     "output_type": "execute_result"
    }
   ],
   "source": [
    "training_size,test_size"
   ]
  },
  {
   "cell_type": "code",
   "execution_count": 24,
   "metadata": {},
   "outputs": [
    {
     "data": {
      "text/plain": [
       "array([[0.0122679 ],\n",
       "       [0.00416331],\n",
       "       [0.01337811],\n",
       "       ...,\n",
       "       [0.        ],\n",
       "       [0.01276749],\n",
       "       [0.00319187]])"
      ]
     },
     "execution_count": 24,
     "metadata": {},
     "output_type": "execute_result"
    }
   ],
   "source": [
    "train_data"
   ]
  },
  {
   "cell_type": "code",
   "execution_count": 25,
   "metadata": {},
   "outputs": [],
   "source": [
    "import numpy\n",
    "# convert an array of values into a dataset matrix\n",
    "def create_dataset(dataset, time_step=1):\n",
    "\tdataX, dataY = [], []\n",
    "\tfor i in range(len(dataset)-time_step-1):\n",
    "\t\ta = dataset[i:(i+time_step), 0]   ###i=0, 0,1,2,3-----99   100 \n",
    "\t\tdataX.append(a)\n",
    "\t\tdataY.append(dataset[i + time_step, 0])\n",
    "\treturn numpy.array(dataX), numpy.array(dataY)"
   ]
  },
  {
   "cell_type": "code",
   "execution_count": 26,
   "metadata": {},
   "outputs": [],
   "source": [
    "# reshape into X=t,t+1,t+2,t+3 and Y=t+4\n",
    "time_step = 100\n",
    "X_train, y_train = create_dataset(train_data, time_step)\n",
    "X_test, ytest = create_dataset(test_data, time_step)"
   ]
  },
  {
   "cell_type": "code",
   "execution_count": 27,
   "metadata": {},
   "outputs": [
    {
     "name": "stdout",
     "output_type": "stream",
     "text": [
      "(130371, 100)\n",
      "(130371,)\n"
     ]
    },
    {
     "data": {
      "text/plain": [
       "(None, None)"
      ]
     },
     "execution_count": 27,
     "metadata": {},
     "output_type": "execute_result"
    }
   ],
   "source": [
    "print(X_train.shape), print(y_train.shape)"
   ]
  },
  {
   "cell_type": "code",
   "execution_count": 28,
   "metadata": {},
   "outputs": [
    {
     "name": "stdout",
     "output_type": "stream",
     "text": [
      "(43390, 100)\n",
      "(43390,)\n"
     ]
    },
    {
     "data": {
      "text/plain": [
       "(None, None)"
      ]
     },
     "execution_count": 28,
     "metadata": {},
     "output_type": "execute_result"
    }
   ],
   "source": [
    "print(X_test.shape), print(ytest.shape)"
   ]
  },
  {
   "cell_type": "code",
   "execution_count": 29,
   "metadata": {},
   "outputs": [],
   "source": [
    "# reshape input to be [samples, time steps, features] which is required for LSTM\n",
    "X_train =X_train.reshape(X_train.shape[0],X_train.shape[1] , 1)\n",
    "X_test = X_test.reshape(X_test.shape[0],X_test.shape[1] , 1)"
   ]
  },
  {
   "cell_type": "code",
   "execution_count": 30,
   "metadata": {},
   "outputs": [],
   "source": [
    "### Create the Stacked LSTM model\n",
    "from tensorflow.keras.models import Sequential\n",
    "from tensorflow.keras.layers import Dense\n",
    "from tensorflow.keras.layers import LSTM"
   ]
  },
  {
   "cell_type": "code",
   "execution_count": 31,
   "metadata": {},
   "outputs": [],
   "source": [
    "model=Sequential()\n",
    "model.add(LSTM(50,return_sequences=True,input_shape=(100,1)))\n",
    "model.add(LSTM(50,return_sequences=True))\n",
    "model.add(LSTM(50))\n",
    "model.add(Dense(1))\n",
    "model.compile(loss='mean_squared_error',optimizer='adam',metrics=['acc'])\n"
   ]
  },
  {
   "cell_type": "code",
   "execution_count": 32,
   "metadata": {},
   "outputs": [
    {
     "name": "stdout",
     "output_type": "stream",
     "text": [
      "Model: \"sequential\"\n",
      "_________________________________________________________________\n",
      " Layer (type)                Output Shape              Param #   \n",
      "=================================================================\n",
      " lstm (LSTM)                 (None, 100, 50)           10400     \n",
      "                                                                 \n",
      " lstm_1 (LSTM)               (None, 100, 50)           20200     \n",
      "                                                                 \n",
      " lstm_2 (LSTM)               (None, 50)                20200     \n",
      "                                                                 \n",
      " dense (Dense)               (None, 1)                 51        \n",
      "                                                                 \n",
      "=================================================================\n",
      "Total params: 50,851\n",
      "Trainable params: 50,851\n",
      "Non-trainable params: 0\n",
      "_________________________________________________________________\n"
     ]
    }
   ],
   "source": [
    "model.summary()"
   ]
  },
  {
   "cell_type": "code",
   "execution_count": 33,
   "metadata": {},
   "outputs": [
    {
     "name": "stdout",
     "output_type": "stream",
     "text": [
      "Epoch 1/100\n",
      "2038/2038 [==============================] - 650s 312ms/step - loss: 2.7961e-04 - acc: 0.1785 - val_loss: 3.4250e-05 - val_acc: 0.2861\n",
      "Epoch 2/100\n",
      "2038/2038 [==============================] - 611s 300ms/step - loss: 2.6879e-04 - acc: 0.1785 - val_loss: 2.6469e-05 - val_acc: 0.2861\n",
      "Epoch 3/100\n",
      "2038/2038 [==============================] - 611s 300ms/step - loss: 2.6518e-04 - acc: 0.1785 - val_loss: 2.6522e-05 - val_acc: 0.2861\n",
      "Epoch 4/100\n",
      "2038/2038 [==============================] - 615s 302ms/step - loss: 2.6200e-04 - acc: 0.1785 - val_loss: 2.5657e-05 - val_acc: 0.2861\n",
      "Epoch 5/100\n",
      "2038/2038 [==============================] - 640s 314ms/step - loss: 2.6037e-04 - acc: 0.1785 - val_loss: 3.0248e-05 - val_acc: 0.2861\n",
      "Epoch 6/100\n",
      "2038/2038 [==============================] - 624s 306ms/step - loss: 2.5923e-04 - acc: 0.1785 - val_loss: 2.7616e-05 - val_acc: 0.2861\n",
      "Epoch 7/100\n",
      "2038/2038 [==============================] - 668s 328ms/step - loss: 2.5919e-04 - acc: 0.1785 - val_loss: 2.5098e-05 - val_acc: 0.2861\n",
      "Epoch 8/100\n",
      "2038/2038 [==============================] - 619s 304ms/step - loss: 2.5878e-04 - acc: 0.1785 - val_loss: 2.4001e-05 - val_acc: 0.2861\n",
      "Epoch 9/100\n",
      "2038/2038 [==============================] - 619s 304ms/step - loss: 2.5825e-04 - acc: 0.1785 - val_loss: 2.4982e-05 - val_acc: 0.2861\n",
      "Epoch 10/100\n",
      "2038/2038 [==============================] - 642s 315ms/step - loss: 2.5771e-04 - acc: 0.1785 - val_loss: 2.7626e-05 - val_acc: 0.2861\n",
      "Epoch 11/100\n",
      "2038/2038 [==============================] - 616s 302ms/step - loss: 2.5746e-04 - acc: 0.1785 - val_loss: 2.6730e-05 - val_acc: 0.2861\n",
      "Epoch 12/100\n",
      "2038/2038 [==============================] - 634s 311ms/step - loss: 2.5693e-04 - acc: 0.1785 - val_loss: 2.5087e-05 - val_acc: 0.2861\n",
      "Epoch 13/100\n",
      "2038/2038 [==============================] - 641s 315ms/step - loss: 2.5619e-04 - acc: 0.1785 - val_loss: 3.0257e-05 - val_acc: 0.2861\n",
      "Epoch 14/100\n",
      "2038/2038 [==============================] - 618s 303ms/step - loss: 2.5595e-04 - acc: 0.1785 - val_loss: 2.8805e-05 - val_acc: 0.2861\n",
      "Epoch 15/100\n",
      "2038/2038 [==============================] - 622s 305ms/step - loss: 2.5491e-04 - acc: 0.1785 - val_loss: 3.1242e-05 - val_acc: 0.2861\n",
      "Epoch 16/100\n",
      "2038/2038 [==============================] - 615s 302ms/step - loss: 2.5388e-04 - acc: 0.1785 - val_loss: 3.4697e-05 - val_acc: 0.2861\n",
      "Epoch 17/100\n",
      "2038/2038 [==============================] - 614s 301ms/step - loss: 2.5220e-04 - acc: 0.1785 - val_loss: 2.3592e-05 - val_acc: 0.2861\n",
      "Epoch 18/100\n",
      "2038/2038 [==============================] - 635s 312ms/step - loss: 2.5081e-04 - acc: 0.1785 - val_loss: 2.4664e-05 - val_acc: 0.2861\n",
      "Epoch 19/100\n",
      "2038/2038 [==============================] - 636s 312ms/step - loss: 2.5021e-04 - acc: 0.1785 - val_loss: 2.5444e-05 - val_acc: 0.2861\n",
      "Epoch 20/100\n",
      "2038/2038 [==============================] - 616s 302ms/step - loss: 2.4802e-04 - acc: 0.1785 - val_loss: 2.6271e-05 - val_acc: 0.2861\n",
      "Epoch 21/100\n",
      "2038/2038 [==============================] - 651s 319ms/step - loss: 2.4655e-04 - acc: 0.1785 - val_loss: 2.3245e-05 - val_acc: 0.2861\n",
      "Epoch 22/100\n",
      "2038/2038 [==============================] - 636s 312ms/step - loss: 2.4538e-04 - acc: 0.1785 - val_loss: 2.5034e-05 - val_acc: 0.2861\n",
      "Epoch 23/100\n",
      "2038/2038 [==============================] - 640s 314ms/step - loss: 2.4383e-04 - acc: 0.1785 - val_loss: 2.5572e-05 - val_acc: 0.2861\n",
      "Epoch 24/100\n",
      "2038/2038 [==============================] - 617s 303ms/step - loss: 2.4087e-04 - acc: 0.1785 - val_loss: 4.2109e-05 - val_acc: 0.2861\n",
      "Epoch 25/100\n",
      "2038/2038 [==============================] - 620s 304ms/step - loss: 2.3323e-04 - acc: 0.1785 - val_loss: 2.7373e-05 - val_acc: 0.2861\n",
      "Epoch 26/100\n",
      "2038/2038 [==============================] - 640s 314ms/step - loss: 2.3764e-04 - acc: 0.1785 - val_loss: 2.8030e-05 - val_acc: 0.2861\n",
      "Epoch 27/100\n",
      "2038/2038 [==============================] - 630s 309ms/step - loss: 2.5441e-04 - acc: 0.1785 - val_loss: 2.2705e-05 - val_acc: 0.2861\n",
      "Epoch 28/100\n",
      "2038/2038 [==============================] - 617s 303ms/step - loss: 2.4530e-04 - acc: 0.1785 - val_loss: 2.4534e-05 - val_acc: 0.2861\n",
      "Epoch 29/100\n",
      "2038/2038 [==============================] - 630s 309ms/step - loss: 2.3941e-04 - acc: 0.1785 - val_loss: 2.2328e-05 - val_acc: 0.2861\n",
      "Epoch 30/100\n",
      "2038/2038 [==============================] - 625s 307ms/step - loss: 2.2714e-04 - acc: 0.1785 - val_loss: 2.3620e-05 - val_acc: 0.2861\n",
      "Epoch 31/100\n",
      "2038/2038 [==============================] - 647s 318ms/step - loss: 2.3613e-04 - acc: 0.1785 - val_loss: 5.7155e-05 - val_acc: 0.2861\n",
      "Epoch 32/100\n",
      "2038/2038 [==============================] - 646s 317ms/step - loss: 2.3480e-04 - acc: 0.1785 - val_loss: 2.8046e-05 - val_acc: 0.2861\n",
      "Epoch 33/100\n",
      "2038/2038 [==============================] - 614s 301ms/step - loss: 2.2885e-04 - acc: 0.1785 - val_loss: 2.3420e-05 - val_acc: 0.2861\n",
      "Epoch 34/100\n",
      "2038/2038 [==============================] - 615s 302ms/step - loss: 2.1957e-04 - acc: 0.1785 - val_loss: 2.2063e-05 - val_acc: 0.2861\n",
      "Epoch 35/100\n",
      "2038/2038 [==============================] - 616s 302ms/step - loss: 2.1529e-04 - acc: 0.1785 - val_loss: 2.4504e-05 - val_acc: 0.2861\n",
      "Epoch 36/100\n",
      "2038/2038 [==============================] - 617s 303ms/step - loss: 2.2211e-04 - acc: 0.1785 - val_loss: 2.2058e-05 - val_acc: 0.2861\n",
      "Epoch 37/100\n",
      "2038/2038 [==============================] - 619s 304ms/step - loss: 2.1925e-04 - acc: 0.1785 - val_loss: 2.5636e-05 - val_acc: 0.2861\n",
      "Epoch 38/100\n",
      "2038/2038 [==============================] - 634s 311ms/step - loss: 2.1017e-04 - acc: 0.1785 - val_loss: 2.4585e-05 - val_acc: 0.2861\n",
      "Epoch 39/100\n",
      "2038/2038 [==============================] - 612s 300ms/step - loss: 2.0455e-04 - acc: 0.1785 - val_loss: 2.3137e-05 - val_acc: 0.2861\n",
      "Epoch 40/100\n",
      "2038/2038 [==============================] - 637s 312ms/step - loss: 2.1339e-04 - acc: 0.1785 - val_loss: 2.3464e-05 - val_acc: 0.2861\n",
      "Epoch 41/100\n",
      "2038/2038 [==============================] - 636s 312ms/step - loss: 1.9970e-04 - acc: 0.1785 - val_loss: 2.4803e-05 - val_acc: 0.2861\n",
      "Epoch 42/100\n",
      "2038/2038 [==============================] - 612s 300ms/step - loss: 1.9599e-04 - acc: 0.1785 - val_loss: 2.9064e-05 - val_acc: 0.2861\n",
      "Epoch 43/100\n",
      "2038/2038 [==============================] - 647s 318ms/step - loss: 2.0106e-04 - acc: 0.1785 - val_loss: 2.6013e-05 - val_acc: 0.2861\n",
      "Epoch 44/100\n",
      "2038/2038 [==============================] - 611s 300ms/step - loss: 1.9216e-04 - acc: 0.1785 - val_loss: 2.4537e-05 - val_acc: 0.2861\n",
      "Epoch 45/100\n",
      "2038/2038 [==============================] - 636s 312ms/step - loss: 1.9534e-04 - acc: 0.1785 - val_loss: 2.3652e-05 - val_acc: 0.2861\n",
      "Epoch 46/100\n",
      "2038/2038 [==============================] - 617s 303ms/step - loss: 1.8948e-04 - acc: 0.1785 - val_loss: 2.3159e-05 - val_acc: 0.2861\n",
      "Epoch 47/100\n",
      "2038/2038 [==============================] - 615s 302ms/step - loss: 2.0137e-04 - acc: 0.1785 - val_loss: 2.1375e-05 - val_acc: 0.2861\n",
      "Epoch 48/100\n",
      "2038/2038 [==============================] - 633s 311ms/step - loss: 1.9028e-04 - acc: 0.1785 - val_loss: 2.1102e-05 - val_acc: 0.2861\n",
      "Epoch 49/100\n",
      "2038/2038 [==============================] - 615s 302ms/step - loss: 1.9301e-04 - acc: 0.1785 - val_loss: 2.3042e-05 - val_acc: 0.2861\n",
      "Epoch 50/100\n",
      "2038/2038 [==============================] - 640s 314ms/step - loss: 1.8671e-04 - acc: 0.1785 - val_loss: 2.4995e-05 - val_acc: 0.2861\n",
      "Epoch 51/100\n",
      "2038/2038 [==============================] - 616s 302ms/step - loss: 1.8432e-04 - acc: 0.1785 - val_loss: 2.2432e-05 - val_acc: 0.2861\n",
      "Epoch 52/100\n",
      "2038/2038 [==============================] - 617s 303ms/step - loss: 1.8679e-04 - acc: 0.1785 - val_loss: 2.1747e-05 - val_acc: 0.2861\n",
      "Epoch 53/100\n",
      "2038/2038 [==============================] - 648s 318ms/step - loss: 1.8363e-04 - acc: 0.1785 - val_loss: 2.2603e-05 - val_acc: 0.2861\n",
      "Epoch 54/100\n",
      "2038/2038 [==============================] - 613s 301ms/step - loss: 1.8158e-04 - acc: 0.1785 - val_loss: 2.2918e-05 - val_acc: 0.2861\n",
      "Epoch 55/100\n",
      "2038/2038 [==============================] - 641s 314ms/step - loss: 1.8068e-04 - acc: 0.1785 - val_loss: 2.3856e-05 - val_acc: 0.2861\n",
      "Epoch 56/100\n",
      "2038/2038 [==============================] - 613s 301ms/step - loss: 1.7762e-04 - acc: 0.1785 - val_loss: 2.9293e-05 - val_acc: 0.2861\n",
      "Epoch 57/100\n",
      "2038/2038 [==============================] - 628s 308ms/step - loss: 1.7626e-04 - acc: 0.1785 - val_loss: 2.6396e-05 - val_acc: 0.2861\n",
      "Epoch 58/100\n",
      "2038/2038 [==============================] - 637s 313ms/step - loss: 1.7615e-04 - acc: 0.1785 - val_loss: 2.3720e-05 - val_acc: 0.2861\n",
      "Epoch 59/100\n",
      "2038/2038 [==============================] - 701s 344ms/step - loss: 1.7324e-04 - acc: 0.1785 - val_loss: 2.7088e-05 - val_acc: 0.2861\n",
      "Epoch 60/100\n",
      "2038/2038 [==============================] - 707s 347ms/step - loss: 1.7409e-04 - acc: 0.1785 - val_loss: 2.2164e-05 - val_acc: 0.2861\n",
      "Epoch 61/100\n",
      "2038/2038 [==============================] - 794s 390ms/step - loss: 1.7651e-04 - acc: 0.1785 - val_loss: 3.4370e-05 - val_acc: 0.2861\n",
      "Epoch 62/100\n",
      "2038/2038 [==============================] - 842s 413ms/step - loss: 1.6823e-04 - acc: 0.1785 - val_loss: 2.2206e-05 - val_acc: 0.2861\n",
      "Epoch 63/100\n",
      "2038/2038 [==============================] - 857s 420ms/step - loss: 1.6536e-04 - acc: 0.1785 - val_loss: 2.1277e-05 - val_acc: 0.2861\n",
      "Epoch 64/100\n",
      "2038/2038 [==============================] - 814s 400ms/step - loss: 1.6465e-04 - acc: 0.1785 - val_loss: 2.1881e-05 - val_acc: 0.2861\n",
      "Epoch 65/100\n",
      "2038/2038 [==============================] - 832s 408ms/step - loss: 1.6761e-04 - acc: 0.1785 - val_loss: 2.1944e-05 - val_acc: 0.2861\n",
      "Epoch 66/100\n",
      "2038/2038 [==============================] - 859s 421ms/step - loss: 1.5870e-04 - acc: 0.1785 - val_loss: 2.1306e-05 - val_acc: 0.2861\n",
      "Epoch 67/100\n",
      "2038/2038 [==============================] - 784s 385ms/step - loss: 1.6128e-04 - acc: 0.1785 - val_loss: 2.4016e-05 - val_acc: 0.2861\n",
      "Epoch 68/100\n",
      "2038/2038 [==============================] - 1067s 524ms/step - loss: 1.5922e-04 - acc: 0.1785 - val_loss: 2.0335e-05 - val_acc: 0.2861\n",
      "Epoch 69/100\n",
      "2038/2038 [==============================] - 1204s 591ms/step - loss: 1.5655e-04 - acc: 0.1785 - val_loss: 1.9783e-05 - val_acc: 0.2861\n",
      "Epoch 70/100\n",
      "2038/2038 [==============================] - 860s 422ms/step - loss: 1.5985e-04 - acc: 0.1785 - val_loss: 2.2166e-05 - val_acc: 0.2861\n",
      "Epoch 71/100\n",
      "2038/2038 [==============================] - 660s 324ms/step - loss: 1.5614e-04 - acc: 0.1785 - val_loss: 2.1750e-05 - val_acc: 0.2861\n",
      "Epoch 72/100\n",
      "2038/2038 [==============================] - 726s 356ms/step - loss: 1.5469e-04 - acc: 0.1785 - val_loss: 2.2444e-05 - val_acc: 0.2861\n",
      "Epoch 73/100\n",
      "2038/2038 [==============================] - 730s 358ms/step - loss: 1.4717e-04 - acc: 0.1785 - val_loss: 2.1607e-05 - val_acc: 0.2861\n",
      "Epoch 74/100\n",
      "2038/2038 [==============================] - 653s 320ms/step - loss: 1.4931e-04 - acc: 0.1785 - val_loss: 2.2081e-05 - val_acc: 0.2861\n",
      "Epoch 75/100\n",
      "2038/2038 [==============================] - 737s 361ms/step - loss: 1.4770e-04 - acc: 0.1785 - val_loss: 1.9781e-05 - val_acc: 0.2861\n",
      "Epoch 76/100\n",
      "2038/2038 [==============================] - 646s 317ms/step - loss: 1.5234e-04 - acc: 0.1785 - val_loss: 2.2736e-05 - val_acc: 0.2861\n",
      "Epoch 77/100\n",
      "2038/2038 [==============================] - 620s 304ms/step - loss: 1.4746e-04 - acc: 0.1785 - val_loss: 1.8995e-05 - val_acc: 0.2861\n",
      "Epoch 78/100\n",
      "2038/2038 [==============================] - 645s 316ms/step - loss: 1.4269e-04 - acc: 0.1785 - val_loss: 2.1668e-05 - val_acc: 0.2861\n",
      "Epoch 79/100\n",
      "2038/2038 [==============================] - 669s 328ms/step - loss: 1.4585e-04 - acc: 0.1785 - val_loss: 2.0449e-05 - val_acc: 0.2861\n",
      "Epoch 80/100\n",
      "2038/2038 [==============================] - 648s 318ms/step - loss: 1.4853e-04 - acc: 0.1785 - val_loss: 2.3463e-05 - val_acc: 0.2861\n",
      "Epoch 81/100\n",
      "2038/2038 [==============================] - 709s 348ms/step - loss: 1.4203e-04 - acc: 0.1785 - val_loss: 2.0996e-05 - val_acc: 0.2861\n",
      "Epoch 82/100\n",
      "2038/2038 [==============================] - 628s 308ms/step - loss: 1.3911e-04 - acc: 0.1785 - val_loss: 1.9603e-05 - val_acc: 0.2861\n",
      "Epoch 83/100\n",
      "2038/2038 [==============================] - 621s 305ms/step - loss: 1.4019e-04 - acc: 0.1785 - val_loss: 3.1900e-05 - val_acc: 0.2861\n",
      "Epoch 84/100\n",
      "2038/2038 [==============================] - 616s 302ms/step - loss: 1.3915e-04 - acc: 0.1785 - val_loss: 2.4024e-05 - val_acc: 0.2861\n",
      "Epoch 85/100\n",
      "2038/2038 [==============================] - 617s 303ms/step - loss: 1.3415e-04 - acc: 0.1785 - val_loss: 2.2344e-05 - val_acc: 0.2861\n",
      "Epoch 86/100\n",
      "2038/2038 [==============================] - 615s 302ms/step - loss: 1.3565e-04 - acc: 0.1785 - val_loss: 2.6333e-05 - val_acc: 0.2861\n",
      "Epoch 87/100\n",
      "2038/2038 [==============================] - 624s 306ms/step - loss: 1.5766e-04 - acc: 0.1785 - val_loss: 2.5003e-05 - val_acc: 0.2861\n",
      "Epoch 88/100\n",
      "2038/2038 [==============================] - 617s 303ms/step - loss: 1.2984e-04 - acc: 0.1785 - val_loss: 2.0208e-05 - val_acc: 0.2861\n",
      "Epoch 89/100\n",
      "2038/2038 [==============================] - 641s 314ms/step - loss: 1.3644e-04 - acc: 0.1785 - val_loss: 2.5802e-05 - val_acc: 0.2861\n",
      "Epoch 90/100\n",
      "2038/2038 [==============================] - 613s 301ms/step - loss: 1.3023e-04 - acc: 0.1785 - val_loss: 2.8988e-05 - val_acc: 0.2861\n",
      "Epoch 91/100\n",
      "2038/2038 [==============================] - 612s 300ms/step - loss: 1.3313e-04 - acc: 0.1785 - val_loss: 2.2800e-05 - val_acc: 0.2861\n",
      "Epoch 92/100\n",
      "2038/2038 [==============================] - 644s 316ms/step - loss: 1.2325e-04 - acc: 0.1785 - val_loss: 1.8295e-05 - val_acc: 0.2861\n",
      "Epoch 93/100\n",
      "2038/2038 [==============================] - 684s 336ms/step - loss: 1.2688e-04 - acc: 0.1785 - val_loss: 1.9196e-05 - val_acc: 0.2861\n",
      "Epoch 94/100\n",
      "2038/2038 [==============================] - 1143s 561ms/step - loss: 1.3003e-04 - acc: 0.1785 - val_loss: 2.2875e-05 - val_acc: 0.2861\n",
      "Epoch 95/100\n",
      "2038/2038 [==============================] - 1302s 639ms/step - loss: 1.2225e-04 - acc: 0.1785 - val_loss: 1.8943e-05 - val_acc: 0.2861\n",
      "Epoch 96/100\n",
      "2038/2038 [==============================] - 1280s 628ms/step - loss: 1.2002e-04 - acc: 0.1785 - val_loss: 2.4335e-05 - val_acc: 0.2861\n",
      "Epoch 97/100\n",
      "2038/2038 [==============================] - 1216s 597ms/step - loss: 1.2395e-04 - acc: 0.1785 - val_loss: 2.0956e-05 - val_acc: 0.2861\n",
      "Epoch 98/100\n",
      "2038/2038 [==============================] - 620s 304ms/step - loss: 1.3816e-04 - acc: 0.1785 - val_loss: 1.9049e-05 - val_acc: 0.2861\n",
      "Epoch 99/100\n",
      "2038/2038 [==============================] - 631s 310ms/step - loss: 1.1973e-04 - acc: 0.1785 - val_loss: 2.4168e-05 - val_acc: 0.2861\n",
      "Epoch 100/100\n",
      "2038/2038 [==============================] - 630s 309ms/step - loss: 1.2919e-04 - acc: 0.1785 - val_loss: 2.0750e-05 - val_acc: 0.2861\n"
     ]
    },
    {
     "data": {
      "text/plain": [
       "<keras.callbacks.History at 0x15a3ed7e6d0>"
      ]
     },
     "execution_count": 33,
     "metadata": {},
     "output_type": "execute_result"
    }
   ],
   "source": [
    "model.fit(X_train,y_train,validation_data=(X_test,ytest),epochs=100,batch_size=64,verbose=1)"
   ]
  },
  {
   "cell_type": "code",
   "execution_count": 34,
   "metadata": {},
   "outputs": [
    {
     "data": {
      "text/plain": [
       "[<matplotlib.lines.Line2D at 0x15a46994310>]"
      ]
     },
     "execution_count": 34,
     "metadata": {},
     "output_type": "execute_result"
    },
    {
     "data": {
      "image/png": "[encoded data removed]",
      "text/plain": [
       "<Figure size 432x288 with 1 Axes>"
      ]
     },
     "metadata": {
      "needs_background": "light"
     },
     "output_type": "display_data"
    }
   ],
   "source": [
    "loss_per_epoch = model.history.history['loss']\n",
    "plt.plot(range(len(loss_per_epoch)),loss_per_epoch)"
   ]
  },
  {
   "cell_type": "code",
   "execution_count": 35,
   "metadata": {},
   "outputs": [
    {
     "data": {
      "text/plain": [
       "[<matplotlib.lines.Line2D at 0x15a469ee460>]"
      ]
     },
     "execution_count": 35,
     "metadata": {},
     "output_type": "execute_result"
    },
    {
     "data": {
      "image/png": "[encoded data removed]",
      "text/plain": [
       "<Figure size 432x288 with 1 Axes>"
      ]
     },
     "metadata": {
      "needs_background": "light"
     },
     "output_type": "display_data"
    }
   ],
   "source": [
    "acc_per_epoch = model.history.history['acc']\n",
    "plt.plot(range(len(acc_per_epoch)),acc_per_epoch)"
   ]
  },
  {
   "cell_type": "code",
   "execution_count": 36,
   "metadata": {},
   "outputs": [],
   "source": [
    "import tensorflow as tf"
   ]
  },
  {
   "cell_type": "code",
   "execution_count": 37,
   "metadata": {},
   "outputs": [
    {
     "data": {
      "text/plain": [
       "'2.7.0'"
      ]
     },
     "execution_count": 37,
     "metadata": {},
     "output_type": "execute_result"
    }
   ],
   "source": [
    "tf.__version__"
   ]
  },
  {
   "cell_type": "code",
   "execution_count": 38,
   "metadata": {},
   "outputs": [],
   "source": [
    "### Lets Do the prediction and check performance metrics\n",
    "train_predict=model.predict(X_train)\n",
    "test_predict=model.predict(X_test)"
   ]
  },
  {
   "cell_type": "code",
   "execution_count": 39,
   "metadata": {},
   "outputs": [],
   "source": [
    "##Transformback to original form\n",
    "train_predict=scaler.inverse_transform(train_predict)\n",
    "test_predict=scaler.inverse_transform(test_predict)"
   ]
  },
  {
   "cell_type": "code",
   "execution_count": 40,
   "metadata": {},
   "outputs": [
    {
     "data": {
      "text/plain": [
       "595.837451549445"
      ]
     },
     "execution_count": 40,
     "metadata": {},
     "output_type": "execute_result"
    }
   ],
   "source": [
    "### Calculate RMSE performance metrics\n",
    "import math\n",
    "from sklearn.metrics import mean_squared_error,mean_absolute_error\n",
    "math.sqrt(mean_squared_error(y_train,train_predict))"
   ]
  },
  {
   "cell_type": "code",
   "execution_count": 41,
   "metadata": {},
   "outputs": [
    {
     "data": {
      "text/plain": [
       "77202.84652028138"
      ]
     },
     "execution_count": 41,
     "metadata": {},
     "output_type": "execute_result"
    }
   ],
   "source": [
    "mean_squared_error(ytest,test_predict)"
   ]
  },
  {
   "cell_type": "code",
   "execution_count": 42,
   "metadata": {},
   "outputs": [
    {
     "data": {
      "text/plain": [
       "355022.26866893715"
      ]
     },
     "execution_count": 42,
     "metadata": {},
     "output_type": "execute_result"
    }
   ],
   "source": [
    "mean_squared_error(y_train,train_predict)"
   ]
  },
  {
   "cell_type": "code",
   "execution_count": 43,
   "metadata": {},
   "outputs": [
    {
     "data": {
      "text/plain": [
       "208.3720347972473"
      ]
     },
     "execution_count": 43,
     "metadata": {},
     "output_type": "execute_result"
    }
   ],
   "source": [
    "mean_absolute_error(y_train,train_predict)"
   ]
  },
  {
   "cell_type": "code",
   "execution_count": 44,
   "metadata": {},
   "outputs": [
    {
     "data": {
      "text/plain": [
       "100.61905392052252"
      ]
     },
     "execution_count": 44,
     "metadata": {},
     "output_type": "execute_result"
    }
   ],
   "source": [
    "mean_absolute_error(ytest,test_predict)"
   ]
  },
  {
   "cell_type": "code",
   "execution_count": 45,
   "metadata": {},
   "outputs": [
    {
     "data": {
      "text/plain": [
       "277.85400216711184"
      ]
     },
     "execution_count": 45,
     "metadata": {},
     "output_type": "execute_result"
    }
   ],
   "source": [
    "### Test Data RMSE\n",
    "math.sqrt(mean_squared_error(ytest,test_predict))"
   ]
  },
  {
   "cell_type": "code",
   "execution_count": 46,
   "metadata": {},
   "outputs": [
    {
     "data": {
      "text/plain": [
       "10.030904940259504"
      ]
     },
     "execution_count": 46,
     "metadata": {},
     "output_type": "execute_result"
    }
   ],
   "source": [
    "math.sqrt(mean_absolute_error(ytest,test_predict))"
   ]
  },
  {
   "cell_type": "code",
   "execution_count": 47,
   "metadata": {},
   "outputs": [
    {
     "data": {
      "text/plain": [
       "14.435097325520438"
      ]
     },
     "execution_count": 47,
     "metadata": {},
     "output_type": "execute_result"
    }
   ],
   "source": [
    "math.sqrt(mean_absolute_error(y_train,train_predict))"
   ]
  },
  {
   "cell_type": "code",
   "execution_count": 48,
   "metadata": {},
   "outputs": [
    {
     "data": {
      "image/png": "[encoded data removed]",
      "text/plain": [
       "<Figure size 432x288 with 1 Axes>"
      ]
     },
     "metadata": {
      "needs_background": "light"
     },
     "output_type": "display_data"
    }
   ],
   "source": [
    "### Plotting \n",
    "# shift train predictions for plotting\n",
    "look_back=100\n",
    "trainPredictPlot = numpy.empty_like(df1)\n",
    "trainPredictPlot[:, :] = np.nan\n",
    "trainPredictPlot[look_back:len(train_predict)+look_back, :] = train_predict\n",
    "# shift test predictions for plotting\n",
    "testPredictPlot = numpy.empty_like(df1)\n",
    "testPredictPlot[:, :] = numpy.nan\n",
    "testPredictPlot[len(train_predict)+(look_back*2)+1:len(df1)-1, :] = test_predict\n",
    "# plot baseline and predictions\n",
    "plt.plot(scaler.inverse_transform(df1))\n",
    "plt.plot(trainPredictPlot)\n",
    "plt.plot(testPredictPlot)\n",
    "plt.show()"
   ]
  },
  {
   "cell_type": "code",
   "execution_count": 49,
   "metadata": {},
   "outputs": [
    {
     "data": {
      "text/plain": [
       "43491"
      ]
     },
     "execution_count": 49,
     "metadata": {},
     "output_type": "execute_result"
    }
   ],
   "source": [
    "len(test_data)"
   ]
  },
  {
   "cell_type": "code",
   "execution_count": 50,
   "metadata": {},
   "outputs": [
    {
     "data": {
      "text/plain": [
       "(1, 100)"
      ]
     },
     "execution_count": 50,
     "metadata": {},
     "output_type": "execute_result"
    }
   ],
   "source": [
    "x_input=test_data[43391:].reshape(1,-1)\n",
    "x_input.shape\n"
   ]
  },
  {
   "cell_type": "code",
   "execution_count": null,
   "metadata": {},
   "outputs": [],
   "source": []
  },
  {
   "cell_type": "code",
   "execution_count": null,
   "metadata": {},
   "outputs": [],
   "source": []
  },
  {
   "cell_type": "code",
   "execution_count": 51,
   "metadata": {},
   "outputs": [],
   "source": [
    "temp_input=list(x_input)\n",
    "temp_input=temp_input[0].tolist()"
   ]
  },
  {
   "cell_type": "code",
   "execution_count": 52,
   "metadata": {},
   "outputs": [
    {
     "data": {
      "text/plain": [
       "[0.0,\n",
       " 0.0,\n",
       " 0.0,\n",
       " 0.0,\n",
       " 0.0,\n",
       " 0.0,\n",
       " 0.0,\n",
       " 0.0,\n",
       " 0.0,\n",
       " 0.0,\n",
       " 0.0,\n",
       " 0.0,\n",
       " 0.0,\n",
       " 0.0,\n",
       " 0.0,\n",
       " 0.0,\n",
       " 0.0,\n",
       " 0.0,\n",
       " 0.0,\n",
       " 0.0,\n",
       " 0.0,\n",
       " 0.0,\n",
       " 0.0,\n",
       " 0.0,\n",
       " 0.0,\n",
       " 0.0,\n",
       " 0.0,\n",
       " 0.0,\n",
       " 0.0,\n",
       " 0.0,\n",
       " 0.0,\n",
       " 0.0,\n",
       " 0.0,\n",
       " 0.0,\n",
       " 0.0,\n",
       " 0.0,\n",
       " 0.0,\n",
       " 0.0,\n",
       " 0.0,\n",
       " 0.0,\n",
       " 0.0,\n",
       " 0.0,\n",
       " 0.0,\n",
       " 0.0,\n",
       " 0.0,\n",
       " 0.0,\n",
       " 0.0,\n",
       " 0.0,\n",
       " 0.0,\n",
       " 0.0,\n",
       " 0.0,\n",
       " 0.0,\n",
       " 0.0,\n",
       " 0.0,\n",
       " 0.0,\n",
       " 0.0,\n",
       " 0.0,\n",
       " 0.0,\n",
       " 0.0,\n",
       " 0.0,\n",
       " 0.0,\n",
       " 0.0,\n",
       " 0.0,\n",
       " 0.0,\n",
       " 0.0,\n",
       " 0.0,\n",
       " 0.0,\n",
       " 0.0,\n",
       " 0.0,\n",
       " 0.06547503400038858,\n",
       " 0.043576008215604096,\n",
       " 0.07632740292542119,\n",
       " 0.06702933747814262,\n",
       " 0.03408365483360626,\n",
       " 0.022315357073468593,\n",
       " 0.05390102417497016,\n",
       " 0.034499986122290376,\n",
       " 0.046601348913375334,\n",
       " 0.013183824141663658,\n",
       " 0.03247384051736101,\n",
       " 0.0205390102417497,\n",
       " 0.10563712564878293,\n",
       " 0.05045935218851481,\n",
       " 0.10980043853562409,\n",
       " 0.06994365649893142,\n",
       " 0.06902772766382637,\n",
       " 0.06200560659468761,\n",
       " 0.08876183074745345,\n",
       " 0.08329401315606873,\n",
       " 0.09134308473729495,\n",
       " 0.06383746426489773,\n",
       " 0.03394487773737822,\n",
       " 0.01798551167115379,\n",
       " 0.04557439840128785,\n",
       " 0.03155791168225596,\n",
       " 0.014432818007716005,\n",
       " 0.01523772516583863,\n",
       " 0.00033306503094729243,\n",
       " 0.0,\n",
       " 0.0001387770962280385]"
      ]
     },
     "execution_count": 52,
     "metadata": {},
     "output_type": "execute_result"
    }
   ],
   "source": [
    "temp_input"
   ]
  },
  {
   "cell_type": "code",
   "execution_count": 53,
   "metadata": {},
   "outputs": [
    {
     "name": "stdout",
     "output_type": "stream",
     "text": [
      "[0.00813397]\n",
      "101\n",
      "1 day input [0.         0.         0.         0.         0.         0.\n",
      " 0.         0.         0.         0.         0.         0.\n",
      " 0.         0.         0.         0.         0.         0.\n",
      " 0.         0.         0.         0.         0.         0.\n",
      " 0.         0.         0.         0.         0.         0.\n",
      " 0.         0.         0.         0.         0.         0.\n",
      " 0.         0.         0.         0.         0.         0.\n",
      " 0.         0.         0.         0.         0.         0.\n",
      " 0.         0.         0.         0.         0.         0.\n",
      " 0.         0.         0.         0.         0.         0.\n",
      " 0.         0.         0.         0.         0.         0.\n",
      " 0.         0.         0.06547503 0.04357601 0.0763274  0.06702934\n",
      " 0.03408365 0.02231536 0.05390102 0.03449999 0.04660135 0.01318382\n",
      " 0.03247384 0.02053901 0.10563713 0.05045935 0.10980044 0.06994366\n",
      " 0.06902773 0.06200561 0.08876183 0.08329401 0.09134308 0.06383746\n",
      " 0.03394488 0.01798551 0.0455744  0.03155791 0.01443282 0.01523773\n",
      " 0.00033307 0.         0.00013878 0.00813397]\n",
      "1 day output [[0.00673377]]\n",
      "2 day input [0.         0.         0.         0.         0.         0.\n",
      " 0.         0.         0.         0.         0.         0.\n",
      " 0.         0.         0.         0.         0.         0.\n",
      " 0.         0.         0.         0.         0.         0.\n",
      " 0.         0.         0.         0.         0.         0.\n",
      " 0.         0.         0.         0.         0.         0.\n",
      " 0.         0.         0.         0.         0.         0.\n",
      " 0.         0.         0.         0.         0.         0.\n",
      " 0.         0.         0.         0.         0.         0.\n",
      " 0.         0.         0.         0.         0.         0.\n",
      " 0.         0.         0.         0.         0.         0.\n",
      " 0.         0.06547503 0.04357601 0.0763274  0.06702934 0.03408365\n",
      " 0.02231536 0.05390102 0.03449999 0.04660135 0.01318382 0.03247384\n",
      " 0.02053901 0.10563713 0.05045935 0.10980044 0.06994366 0.06902773\n",
      " 0.06200561 0.08876183 0.08329401 0.09134308 0.06383746 0.03394488\n",
      " 0.01798551 0.0455744  0.03155791 0.01443282 0.01523773 0.00033307\n",
      " 0.         0.00013878 0.00813397 0.00673377]\n",
      "2 day output [[0.00478537]]\n",
      "3 day input [0.         0.         0.         0.         0.         0.\n",
      " 0.         0.         0.         0.         0.         0.\n",
      " 0.         0.         0.         0.         0.         0.\n",
      " 0.         0.         0.         0.         0.         0.\n",
      " 0.         0.         0.         0.         0.         0.\n",
      " 0.         0.         0.         0.         0.         0.\n",
      " 0.         0.         0.         0.         0.         0.\n",
      " 0.         0.         0.         0.         0.         0.\n",
      " 0.         0.         0.         0.         0.         0.\n",
      " 0.         0.         0.         0.         0.         0.\n",
      " 0.         0.         0.         0.         0.         0.\n",
      " 0.06547503 0.04357601 0.0763274  0.06702934 0.03408365 0.02231536\n",
      " 0.05390102 0.03449999 0.04660135 0.01318382 0.03247384 0.02053901\n",
      " 0.10563713 0.05045935 0.10980044 0.06994366 0.06902773 0.06200561\n",
      " 0.08876183 0.08329401 0.09134308 0.06383746 0.03394488 0.01798551\n",
      " 0.0455744  0.03155791 0.01443282 0.01523773 0.00033307 0.\n",
      " 0.00013878 0.00813397 0.00673377 0.00478537]\n",
      "3 day output [[0.00323056]]\n",
      "4 day input [0.         0.         0.         0.         0.         0.\n",
      " 0.         0.         0.         0.         0.         0.\n",
      " 0.         0.         0.         0.         0.         0.\n",
      " 0.         0.         0.         0.         0.         0.\n",
      " 0.         0.         0.         0.         0.         0.\n",
      " 0.         0.         0.         0.         0.         0.\n",
      " 0.         0.         0.         0.         0.         0.\n",
      " 0.         0.         0.         0.         0.         0.\n",
      " 0.         0.         0.         0.         0.         0.\n",
      " 0.         0.         0.         0.         0.         0.\n",
      " 0.         0.         0.         0.         0.         0.06547503\n",
      " 0.04357601 0.0763274  0.06702934 0.03408365 0.02231536 0.05390102\n",
      " 0.03449999 0.04660135 0.01318382 0.03247384 0.02053901 0.10563713\n",
      " 0.05045935 0.10980044 0.06994366 0.06902773 0.06200561 0.08876183\n",
      " 0.08329401 0.09134308 0.06383746 0.03394488 0.01798551 0.0455744\n",
      " 0.03155791 0.01443282 0.01523773 0.00033307 0.         0.00013878\n",
      " 0.00813397 0.00673377 0.00478537 0.00323056]\n",
      "4 day output [[0.00236821]]\n",
      "5 day input [0.         0.         0.         0.         0.         0.\n",
      " 0.         0.         0.         0.         0.         0.\n",
      " 0.         0.         0.         0.         0.         0.\n",
      " 0.         0.         0.         0.         0.         0.\n",
      " 0.         0.         0.         0.         0.         0.\n",
      " 0.         0.         0.         0.         0.         0.\n",
      " 0.         0.         0.         0.         0.         0.\n",
      " 0.         0.         0.         0.         0.         0.\n",
      " 0.         0.         0.         0.         0.         0.\n",
      " 0.         0.         0.         0.         0.         0.\n",
      " 0.         0.         0.         0.         0.06547503 0.04357601\n",
      " 0.0763274  0.06702934 0.03408365 0.02231536 0.05390102 0.03449999\n",
      " 0.04660135 0.01318382 0.03247384 0.02053901 0.10563713 0.05045935\n",
      " 0.10980044 0.06994366 0.06902773 0.06200561 0.08876183 0.08329401\n",
      " 0.09134308 0.06383746 0.03394488 0.01798551 0.0455744  0.03155791\n",
      " 0.01443282 0.01523773 0.00033307 0.         0.00013878 0.00813397\n",
      " 0.00673377 0.00478537 0.00323056 0.00236821]\n",
      "5 day output [[0.00256484]]\n",
      "6 day input [0.         0.         0.         0.         0.         0.\n",
      " 0.         0.         0.         0.         0.         0.\n",
      " 0.         0.         0.         0.         0.         0.\n",
      " 0.         0.         0.         0.         0.         0.\n",
      " 0.         0.         0.         0.         0.         0.\n",
      " 0.         0.         0.         0.         0.         0.\n",
      " 0.         0.         0.         0.         0.         0.\n",
      " 0.         0.         0.         0.         0.         0.\n",
      " 0.         0.         0.         0.         0.         0.\n",
      " 0.         0.         0.         0.         0.         0.\n",
      " 0.         0.         0.         0.06547503 0.04357601 0.0763274\n",
      " 0.06702934 0.03408365 0.02231536 0.05390102 0.03449999 0.04660135\n",
      " 0.01318382 0.03247384 0.02053901 0.10563713 0.05045935 0.10980044\n",
      " 0.06994366 0.06902773 0.06200561 0.08876183 0.08329401 0.09134308\n",
      " 0.06383746 0.03394488 0.01798551 0.0455744  0.03155791 0.01443282\n",
      " 0.01523773 0.00033307 0.         0.00013878 0.00813397 0.00673377\n",
      " 0.00478537 0.00323056 0.00236821 0.00256484]\n",
      "6 day output [[0.00367434]]\n",
      "7 day input [0.         0.         0.         0.         0.         0.\n",
      " 0.         0.         0.         0.         0.         0.\n",
      " 0.         0.         0.         0.         0.         0.\n",
      " 0.         0.         0.         0.         0.         0.\n",
      " 0.         0.         0.         0.         0.         0.\n",
      " 0.         0.         0.         0.         0.         0.\n",
      " 0.         0.         0.         0.         0.         0.\n",
      " 0.         0.         0.         0.         0.         0.\n",
      " 0.         0.         0.         0.         0.         0.\n",
      " 0.         0.         0.         0.         0.         0.\n",
      " 0.         0.         0.06547503 0.04357601 0.0763274  0.06702934\n",
      " 0.03408365 0.02231536 0.05390102 0.03449999 0.04660135 0.01318382\n",
      " 0.03247384 0.02053901 0.10563713 0.05045935 0.10980044 0.06994366\n",
      " 0.06902773 0.06200561 0.08876183 0.08329401 0.09134308 0.06383746\n",
      " 0.03394488 0.01798551 0.0455744  0.03155791 0.01443282 0.01523773\n",
      " 0.00033307 0.         0.00013878 0.00813397 0.00673377 0.00478537\n",
      " 0.00323056 0.00236821 0.00256484 0.00367434]\n",
      "7 day output [[0.00450014]]\n",
      "8 day input [0.         0.         0.         0.         0.         0.\n",
      " 0.         0.         0.         0.         0.         0.\n",
      " 0.         0.         0.         0.         0.         0.\n",
      " 0.         0.         0.         0.         0.         0.\n",
      " 0.         0.         0.         0.         0.         0.\n",
      " 0.         0.         0.         0.         0.         0.\n",
      " 0.         0.         0.         0.         0.         0.\n",
      " 0.         0.         0.         0.         0.         0.\n",
      " 0.         0.         0.         0.         0.         0.\n",
      " 0.         0.         0.         0.         0.         0.\n",
      " 0.         0.06547503 0.04357601 0.0763274  0.06702934 0.03408365\n",
      " 0.02231536 0.05390102 0.03449999 0.04660135 0.01318382 0.03247384\n",
      " 0.02053901 0.10563713 0.05045935 0.10980044 0.06994366 0.06902773\n",
      " 0.06200561 0.08876183 0.08329401 0.09134308 0.06383746 0.03394488\n",
      " 0.01798551 0.0455744  0.03155791 0.01443282 0.01523773 0.00033307\n",
      " 0.         0.00013878 0.00813397 0.00673377 0.00478537 0.00323056\n",
      " 0.00236821 0.00256484 0.00367434 0.00450014]\n"
     ]
    },
    {
     "name": "stdout",
     "output_type": "stream",
     "text": [
      "8 day output [[0.00438469]]\n",
      "9 day input [0.         0.         0.         0.         0.         0.\n",
      " 0.         0.         0.         0.         0.         0.\n",
      " 0.         0.         0.         0.         0.         0.\n",
      " 0.         0.         0.         0.         0.         0.\n",
      " 0.         0.         0.         0.         0.         0.\n",
      " 0.         0.         0.         0.         0.         0.\n",
      " 0.         0.         0.         0.         0.         0.\n",
      " 0.         0.         0.         0.         0.         0.\n",
      " 0.         0.         0.         0.         0.         0.\n",
      " 0.         0.         0.         0.         0.         0.\n",
      " 0.06547503 0.04357601 0.0763274  0.06702934 0.03408365 0.02231536\n",
      " 0.05390102 0.03449999 0.04660135 0.01318382 0.03247384 0.02053901\n",
      " 0.10563713 0.05045935 0.10980044 0.06994366 0.06902773 0.06200561\n",
      " 0.08876183 0.08329401 0.09134308 0.06383746 0.03394488 0.01798551\n",
      " 0.0455744  0.03155791 0.01443282 0.01523773 0.00033307 0.\n",
      " 0.00013878 0.00813397 0.00673377 0.00478537 0.00323056 0.00236821\n",
      " 0.00256484 0.00367434 0.00450014 0.00438469]\n",
      "9 day output [[0.00530059]]\n",
      "10 day input [0.         0.         0.         0.         0.         0.\n",
      " 0.         0.         0.         0.         0.         0.\n",
      " 0.         0.         0.         0.         0.         0.\n",
      " 0.         0.         0.         0.         0.         0.\n",
      " 0.         0.         0.         0.         0.         0.\n",
      " 0.         0.         0.         0.         0.         0.\n",
      " 0.         0.         0.         0.         0.         0.\n",
      " 0.         0.         0.         0.         0.         0.\n",
      " 0.         0.         0.         0.         0.         0.\n",
      " 0.         0.         0.         0.         0.         0.06547503\n",
      " 0.04357601 0.0763274  0.06702934 0.03408365 0.02231536 0.05390102\n",
      " 0.03449999 0.04660135 0.01318382 0.03247384 0.02053901 0.10563713\n",
      " 0.05045935 0.10980044 0.06994366 0.06902773 0.06200561 0.08876183\n",
      " 0.08329401 0.09134308 0.06383746 0.03394488 0.01798551 0.0455744\n",
      " 0.03155791 0.01443282 0.01523773 0.00033307 0.         0.00013878\n",
      " 0.00813397 0.00673377 0.00478537 0.00323056 0.00236821 0.00256484\n",
      " 0.00367434 0.00450014 0.00438469 0.00530059]\n",
      "10 day output [[0.00702822]]\n",
      "11 day input [0.         0.         0.         0.         0.         0.\n",
      " 0.         0.         0.         0.         0.         0.\n",
      " 0.         0.         0.         0.         0.         0.\n",
      " 0.         0.         0.         0.         0.         0.\n",
      " 0.         0.         0.         0.         0.         0.\n",
      " 0.         0.         0.         0.         0.         0.\n",
      " 0.         0.         0.         0.         0.         0.\n",
      " 0.         0.         0.         0.         0.         0.\n",
      " 0.         0.         0.         0.         0.         0.\n",
      " 0.         0.         0.         0.         0.06547503 0.04357601\n",
      " 0.0763274  0.06702934 0.03408365 0.02231536 0.05390102 0.03449999\n",
      " 0.04660135 0.01318382 0.03247384 0.02053901 0.10563713 0.05045935\n",
      " 0.10980044 0.06994366 0.06902773 0.06200561 0.08876183 0.08329401\n",
      " 0.09134308 0.06383746 0.03394488 0.01798551 0.0455744  0.03155791\n",
      " 0.01443282 0.01523773 0.00033307 0.         0.00013878 0.00813397\n",
      " 0.00673377 0.00478537 0.00323056 0.00236821 0.00256484 0.00367434\n",
      " 0.00450014 0.00438469 0.00530059 0.00702822]\n",
      "11 day output [[0.00895114]]\n",
      "12 day input [0.         0.         0.         0.         0.         0.\n",
      " 0.         0.         0.         0.         0.         0.\n",
      " 0.         0.         0.         0.         0.         0.\n",
      " 0.         0.         0.         0.         0.         0.\n",
      " 0.         0.         0.         0.         0.         0.\n",
      " 0.         0.         0.         0.         0.         0.\n",
      " 0.         0.         0.         0.         0.         0.\n",
      " 0.         0.         0.         0.         0.         0.\n",
      " 0.         0.         0.         0.         0.         0.\n",
      " 0.         0.         0.         0.06547503 0.04357601 0.0763274\n",
      " 0.06702934 0.03408365 0.02231536 0.05390102 0.03449999 0.04660135\n",
      " 0.01318382 0.03247384 0.02053901 0.10563713 0.05045935 0.10980044\n",
      " 0.06994366 0.06902773 0.06200561 0.08876183 0.08329401 0.09134308\n",
      " 0.06383746 0.03394488 0.01798551 0.0455744  0.03155791 0.01443282\n",
      " 0.01523773 0.00033307 0.         0.00013878 0.00813397 0.00673377\n",
      " 0.00478537 0.00323056 0.00236821 0.00256484 0.00367434 0.00450014\n",
      " 0.00438469 0.00530059 0.00702822 0.00895114]\n",
      "12 day output [[0.01022557]]\n",
      "13 day input [0.         0.         0.         0.         0.         0.\n",
      " 0.         0.         0.         0.         0.         0.\n",
      " 0.         0.         0.         0.         0.         0.\n",
      " 0.         0.         0.         0.         0.         0.\n",
      " 0.         0.         0.         0.         0.         0.\n",
      " 0.         0.         0.         0.         0.         0.\n",
      " 0.         0.         0.         0.         0.         0.\n",
      " 0.         0.         0.         0.         0.         0.\n",
      " 0.         0.         0.         0.         0.         0.\n",
      " 0.         0.         0.06547503 0.04357601 0.0763274  0.06702934\n",
      " 0.03408365 0.02231536 0.05390102 0.03449999 0.04660135 0.01318382\n",
      " 0.03247384 0.02053901 0.10563713 0.05045935 0.10980044 0.06994366\n",
      " 0.06902773 0.06200561 0.08876183 0.08329401 0.09134308 0.06383746\n",
      " 0.03394488 0.01798551 0.0455744  0.03155791 0.01443282 0.01523773\n",
      " 0.00033307 0.         0.00013878 0.00813397 0.00673377 0.00478537\n",
      " 0.00323056 0.00236821 0.00256484 0.00367434 0.00450014 0.00438469\n",
      " 0.00530059 0.00702822 0.00895114 0.01022557]\n",
      "13 day output [[0.01112874]]\n",
      "14 day input [0.         0.         0.         0.         0.         0.\n",
      " 0.         0.         0.         0.         0.         0.\n",
      " 0.         0.         0.         0.         0.         0.\n",
      " 0.         0.         0.         0.         0.         0.\n",
      " 0.         0.         0.         0.         0.         0.\n",
      " 0.         0.         0.         0.         0.         0.\n",
      " 0.         0.         0.         0.         0.         0.\n",
      " 0.         0.         0.         0.         0.         0.\n",
      " 0.         0.         0.         0.         0.         0.\n",
      " 0.         0.06547503 0.04357601 0.0763274  0.06702934 0.03408365\n",
      " 0.02231536 0.05390102 0.03449999 0.04660135 0.01318382 0.03247384\n",
      " 0.02053901 0.10563713 0.05045935 0.10980044 0.06994366 0.06902773\n",
      " 0.06200561 0.08876183 0.08329401 0.09134308 0.06383746 0.03394488\n",
      " 0.01798551 0.0455744  0.03155791 0.01443282 0.01523773 0.00033307\n",
      " 0.         0.00013878 0.00813397 0.00673377 0.00478537 0.00323056\n",
      " 0.00236821 0.00256484 0.00367434 0.00450014 0.00438469 0.00530059\n",
      " 0.00702822 0.00895114 0.01022557 0.01112874]\n",
      "14 day output [[0.01232701]]\n",
      "15 day input [0.         0.         0.         0.         0.         0.\n",
      " 0.         0.         0.         0.         0.         0.\n",
      " 0.         0.         0.         0.         0.         0.\n",
      " 0.         0.         0.         0.         0.         0.\n",
      " 0.         0.         0.         0.         0.         0.\n",
      " 0.         0.         0.         0.         0.         0.\n",
      " 0.         0.         0.         0.         0.         0.\n",
      " 0.         0.         0.         0.         0.         0.\n",
      " 0.         0.         0.         0.         0.         0.\n",
      " 0.06547503 0.04357601 0.0763274  0.06702934 0.03408365 0.02231536\n",
      " 0.05390102 0.03449999 0.04660135 0.01318382 0.03247384 0.02053901\n",
      " 0.10563713 0.05045935 0.10980044 0.06994366 0.06902773 0.06200561\n",
      " 0.08876183 0.08329401 0.09134308 0.06383746 0.03394488 0.01798551\n",
      " 0.0455744  0.03155791 0.01443282 0.01523773 0.00033307 0.\n",
      " 0.00013878 0.00813397 0.00673377 0.00478537 0.00323056 0.00236821\n",
      " 0.00256484 0.00367434 0.00450014 0.00438469 0.00530059 0.00702822\n",
      " 0.00895114 0.01022557 0.01112874 0.01232701]\n",
      "15 day output [[0.01291065]]\n",
      "16 day input [0.         0.         0.         0.         0.         0.\n",
      " 0.         0.         0.         0.         0.         0.\n",
      " 0.         0.         0.         0.         0.         0.\n",
      " 0.         0.         0.         0.         0.         0.\n",
      " 0.         0.         0.         0.         0.         0.\n",
      " 0.         0.         0.         0.         0.         0.\n",
      " 0.         0.         0.         0.         0.         0.\n",
      " 0.         0.         0.         0.         0.         0.\n",
      " 0.         0.         0.         0.         0.         0.06547503\n",
      " 0.04357601 0.0763274  0.06702934 0.03408365 0.02231536 0.05390102\n",
      " 0.03449999 0.04660135 0.01318382 0.03247384 0.02053901 0.10563713\n",
      " 0.05045935 0.10980044 0.06994366 0.06902773 0.06200561 0.08876183\n",
      " 0.08329401 0.09134308 0.06383746 0.03394488 0.01798551 0.0455744\n",
      " 0.03155791 0.01443282 0.01523773 0.00033307 0.         0.00013878\n",
      " 0.00813397 0.00673377 0.00478537 0.00323056 0.00236821 0.00256484\n",
      " 0.00367434 0.00450014 0.00438469 0.00530059 0.00702822 0.00895114\n",
      " 0.01022557 0.01112874 0.01232701 0.01291065]\n"
     ]
    },
    {
     "name": "stdout",
     "output_type": "stream",
     "text": [
      "16 day output [[0.01277923]]\n",
      "17 day input [0.         0.         0.         0.         0.         0.\n",
      " 0.         0.         0.         0.         0.         0.\n",
      " 0.         0.         0.         0.         0.         0.\n",
      " 0.         0.         0.         0.         0.         0.\n",
      " 0.         0.         0.         0.         0.         0.\n",
      " 0.         0.         0.         0.         0.         0.\n",
      " 0.         0.         0.         0.         0.         0.\n",
      " 0.         0.         0.         0.         0.         0.\n",
      " 0.         0.         0.         0.         0.06547503 0.04357601\n",
      " 0.0763274  0.06702934 0.03408365 0.02231536 0.05390102 0.03449999\n",
      " 0.04660135 0.01318382 0.03247384 0.02053901 0.10563713 0.05045935\n",
      " 0.10980044 0.06994366 0.06902773 0.06200561 0.08876183 0.08329401\n",
      " 0.09134308 0.06383746 0.03394488 0.01798551 0.0455744  0.03155791\n",
      " 0.01443282 0.01523773 0.00033307 0.         0.00013878 0.00813397\n",
      " 0.00673377 0.00478537 0.00323056 0.00236821 0.00256484 0.00367434\n",
      " 0.00450014 0.00438469 0.00530059 0.00702822 0.00895114 0.01022557\n",
      " 0.01112874 0.01232701 0.01291065 0.01277923]\n",
      "17 day output [[0.01224604]]\n",
      "18 day input [0.         0.         0.         0.         0.         0.\n",
      " 0.         0.         0.         0.         0.         0.\n",
      " 0.         0.         0.         0.         0.         0.\n",
      " 0.         0.         0.         0.         0.         0.\n",
      " 0.         0.         0.         0.         0.         0.\n",
      " 0.         0.         0.         0.         0.         0.\n",
      " 0.         0.         0.         0.         0.         0.\n",
      " 0.         0.         0.         0.         0.         0.\n",
      " 0.         0.         0.         0.06547503 0.04357601 0.0763274\n",
      " 0.06702934 0.03408365 0.02231536 0.05390102 0.03449999 0.04660135\n",
      " 0.01318382 0.03247384 0.02053901 0.10563713 0.05045935 0.10980044\n",
      " 0.06994366 0.06902773 0.06200561 0.08876183 0.08329401 0.09134308\n",
      " 0.06383746 0.03394488 0.01798551 0.0455744  0.03155791 0.01443282\n",
      " 0.01523773 0.00033307 0.         0.00013878 0.00813397 0.00673377\n",
      " 0.00478537 0.00323056 0.00236821 0.00256484 0.00367434 0.00450014\n",
      " 0.00438469 0.00530059 0.00702822 0.00895114 0.01022557 0.01112874\n",
      " 0.01232701 0.01291065 0.01277923 0.01224604]\n",
      "18 day output [[0.01153933]]\n",
      "19 day input [0.         0.         0.         0.         0.         0.\n",
      " 0.         0.         0.         0.         0.         0.\n",
      " 0.         0.         0.         0.         0.         0.\n",
      " 0.         0.         0.         0.         0.         0.\n",
      " 0.         0.         0.         0.         0.         0.\n",
      " 0.         0.         0.         0.         0.         0.\n",
      " 0.         0.         0.         0.         0.         0.\n",
      " 0.         0.         0.         0.         0.         0.\n",
      " 0.         0.         0.06547503 0.04357601 0.0763274  0.06702934\n",
      " 0.03408365 0.02231536 0.05390102 0.03449999 0.04660135 0.01318382\n",
      " 0.03247384 0.02053901 0.10563713 0.05045935 0.10980044 0.06994366\n",
      " 0.06902773 0.06200561 0.08876183 0.08329401 0.09134308 0.06383746\n",
      " 0.03394488 0.01798551 0.0455744  0.03155791 0.01443282 0.01523773\n",
      " 0.00033307 0.         0.00013878 0.00813397 0.00673377 0.00478537\n",
      " 0.00323056 0.00236821 0.00256484 0.00367434 0.00450014 0.00438469\n",
      " 0.00530059 0.00702822 0.00895114 0.01022557 0.01112874 0.01232701\n",
      " 0.01291065 0.01277923 0.01224604 0.01153933]\n",
      "19 day output [[0.01103811]]\n",
      "20 day input [0.         0.         0.         0.         0.         0.\n",
      " 0.         0.         0.         0.         0.         0.\n",
      " 0.         0.         0.         0.         0.         0.\n",
      " 0.         0.         0.         0.         0.         0.\n",
      " 0.         0.         0.         0.         0.         0.\n",
      " 0.         0.         0.         0.         0.         0.\n",
      " 0.         0.         0.         0.         0.         0.\n",
      " 0.         0.         0.         0.         0.         0.\n",
      " 0.         0.06547503 0.04357601 0.0763274  0.06702934 0.03408365\n",
      " 0.02231536 0.05390102 0.03449999 0.04660135 0.01318382 0.03247384\n",
      " 0.02053901 0.10563713 0.05045935 0.10980044 0.06994366 0.06902773\n",
      " 0.06200561 0.08876183 0.08329401 0.09134308 0.06383746 0.03394488\n",
      " 0.01798551 0.0455744  0.03155791 0.01443282 0.01523773 0.00033307\n",
      " 0.         0.00013878 0.00813397 0.00673377 0.00478537 0.00323056\n",
      " 0.00236821 0.00256484 0.00367434 0.00450014 0.00438469 0.00530059\n",
      " 0.00702822 0.00895114 0.01022557 0.01112874 0.01232701 0.01291065\n",
      " 0.01277923 0.01224604 0.01153933 0.01103811]\n",
      "20 day output [[0.0113011]]\n",
      "21 day input [0.         0.         0.         0.         0.         0.\n",
      " 0.         0.         0.         0.         0.         0.\n",
      " 0.         0.         0.         0.         0.         0.\n",
      " 0.         0.         0.         0.         0.         0.\n",
      " 0.         0.         0.         0.         0.         0.\n",
      " 0.         0.         0.         0.         0.         0.\n",
      " 0.         0.         0.         0.         0.         0.\n",
      " 0.         0.         0.         0.         0.         0.\n",
      " 0.06547503 0.04357601 0.0763274  0.06702934 0.03408365 0.02231536\n",
      " 0.05390102 0.03449999 0.04660135 0.01318382 0.03247384 0.02053901\n",
      " 0.10563713 0.05045935 0.10980044 0.06994366 0.06902773 0.06200561\n",
      " 0.08876183 0.08329401 0.09134308 0.06383746 0.03394488 0.01798551\n",
      " 0.0455744  0.03155791 0.01443282 0.01523773 0.00033307 0.\n",
      " 0.00013878 0.00813397 0.00673377 0.00478537 0.00323056 0.00236821\n",
      " 0.00256484 0.00367434 0.00450014 0.00438469 0.00530059 0.00702822\n",
      " 0.00895114 0.01022557 0.01112874 0.01232701 0.01291065 0.01277923\n",
      " 0.01224604 0.01153933 0.01103811 0.0113011 ]\n",
      "21 day output [[0.01288412]]\n",
      "22 day input [0.         0.         0.         0.         0.         0.\n",
      " 0.         0.         0.         0.         0.         0.\n",
      " 0.         0.         0.         0.         0.         0.\n",
      " 0.         0.         0.         0.         0.         0.\n",
      " 0.         0.         0.         0.         0.         0.\n",
      " 0.         0.         0.         0.         0.         0.\n",
      " 0.         0.         0.         0.         0.         0.\n",
      " 0.         0.         0.         0.         0.         0.06547503\n",
      " 0.04357601 0.0763274  0.06702934 0.03408365 0.02231536 0.05390102\n",
      " 0.03449999 0.04660135 0.01318382 0.03247384 0.02053901 0.10563713\n",
      " 0.05045935 0.10980044 0.06994366 0.06902773 0.06200561 0.08876183\n",
      " 0.08329401 0.09134308 0.06383746 0.03394488 0.01798551 0.0455744\n",
      " 0.03155791 0.01443282 0.01523773 0.00033307 0.         0.00013878\n",
      " 0.00813397 0.00673377 0.00478537 0.00323056 0.00236821 0.00256484\n",
      " 0.00367434 0.00450014 0.00438469 0.00530059 0.00702822 0.00895114\n",
      " 0.01022557 0.01112874 0.01232701 0.01291065 0.01277923 0.01224604\n",
      " 0.01153933 0.01103811 0.0113011  0.01288412]\n",
      "22 day output [[0.01555997]]\n",
      "23 day input [0.         0.         0.         0.         0.         0.\n",
      " 0.         0.         0.         0.         0.         0.\n",
      " 0.         0.         0.         0.         0.         0.\n",
      " 0.         0.         0.         0.         0.         0.\n",
      " 0.         0.         0.         0.         0.         0.\n",
      " 0.         0.         0.         0.         0.         0.\n",
      " 0.         0.         0.         0.         0.         0.\n",
      " 0.         0.         0.         0.         0.06547503 0.04357601\n",
      " 0.0763274  0.06702934 0.03408365 0.02231536 0.05390102 0.03449999\n",
      " 0.04660135 0.01318382 0.03247384 0.02053901 0.10563713 0.05045935\n",
      " 0.10980044 0.06994366 0.06902773 0.06200561 0.08876183 0.08329401\n",
      " 0.09134308 0.06383746 0.03394488 0.01798551 0.0455744  0.03155791\n",
      " 0.01443282 0.01523773 0.00033307 0.         0.00013878 0.00813397\n",
      " 0.00673377 0.00478537 0.00323056 0.00236821 0.00256484 0.00367434\n",
      " 0.00450014 0.00438469 0.00530059 0.00702822 0.00895114 0.01022557\n",
      " 0.01112874 0.01232701 0.01291065 0.01277923 0.01224604 0.01153933\n",
      " 0.01103811 0.0113011  0.01288412 0.01555997]\n",
      "23 day output [[0.01866435]]\n",
      "24 day input [0.         0.         0.         0.         0.         0.\n",
      " 0.         0.         0.         0.         0.         0.\n",
      " 0.         0.         0.         0.         0.         0.\n",
      " 0.         0.         0.         0.         0.         0.\n",
      " 0.         0.         0.         0.         0.         0.\n",
      " 0.         0.         0.         0.         0.         0.\n",
      " 0.         0.         0.         0.         0.         0.\n",
      " 0.         0.         0.         0.06547503 0.04357601 0.0763274\n",
      " 0.06702934 0.03408365 0.02231536 0.05390102 0.03449999 0.04660135\n",
      " 0.01318382 0.03247384 0.02053901 0.10563713 0.05045935 0.10980044\n",
      " 0.06994366 0.06902773 0.06200561 0.08876183 0.08329401 0.09134308\n",
      " 0.06383746 0.03394488 0.01798551 0.0455744  0.03155791 0.01443282\n",
      " 0.01523773 0.00033307 0.         0.00013878 0.00813397 0.00673377\n",
      " 0.00478537 0.00323056 0.00236821 0.00256484 0.00367434 0.00450014\n",
      " 0.00438469 0.00530059 0.00702822 0.00895114 0.01022557 0.01112874\n",
      " 0.01232701 0.01291065 0.01277923 0.01224604 0.01153933 0.01103811\n",
      " 0.0113011  0.01288412 0.01555997 0.01866435]\n",
      "24 day output [[0.02246826]]\n",
      "25 day input [0.         0.         0.         0.         0.         0.\n",
      " 0.         0.         0.         0.         0.         0.\n",
      " 0.         0.         0.         0.         0.         0.\n",
      " 0.         0.         0.         0.         0.         0.\n",
      " 0.         0.         0.         0.         0.         0.\n",
      " 0.         0.         0.         0.         0.         0.\n",
      " 0.         0.         0.         0.         0.         0.\n",
      " 0.         0.         0.06547503 0.04357601 0.0763274  0.06702934\n",
      " 0.03408365 0.02231536 0.05390102 0.03449999 0.04660135 0.01318382\n",
      " 0.03247384 0.02053901 0.10563713 0.05045935 0.10980044 0.06994366\n",
      " 0.06902773 0.06200561 0.08876183 0.08329401 0.09134308 0.06383746\n",
      " 0.03394488 0.01798551 0.0455744  0.03155791 0.01443282 0.01523773\n",
      " 0.00033307 0.         0.00013878 0.00813397 0.00673377 0.00478537\n",
      " 0.00323056 0.00236821 0.00256484 0.00367434 0.00450014 0.00438469\n",
      " 0.00530059 0.00702822 0.00895114 0.01022557 0.01112874 0.01232701\n",
      " 0.01291065 0.01277923 0.01224604 0.01153933 0.01103811 0.0113011\n",
      " 0.01288412 0.01555997 0.01866435 0.02246826]\n"
     ]
    },
    {
     "name": "stdout",
     "output_type": "stream",
     "text": [
      "25 day output [[0.02831925]]\n",
      "26 day input [0.         0.         0.         0.         0.         0.\n",
      " 0.         0.         0.         0.         0.         0.\n",
      " 0.         0.         0.         0.         0.         0.\n",
      " 0.         0.         0.         0.         0.         0.\n",
      " 0.         0.         0.         0.         0.         0.\n",
      " 0.         0.         0.         0.         0.         0.\n",
      " 0.         0.         0.         0.         0.         0.\n",
      " 0.         0.06547503 0.04357601 0.0763274  0.06702934 0.03408365\n",
      " 0.02231536 0.05390102 0.03449999 0.04660135 0.01318382 0.03247384\n",
      " 0.02053901 0.10563713 0.05045935 0.10980044 0.06994366 0.06902773\n",
      " 0.06200561 0.08876183 0.08329401 0.09134308 0.06383746 0.03394488\n",
      " 0.01798551 0.0455744  0.03155791 0.01443282 0.01523773 0.00033307\n",
      " 0.         0.00013878 0.00813397 0.00673377 0.00478537 0.00323056\n",
      " 0.00236821 0.00256484 0.00367434 0.00450014 0.00438469 0.00530059\n",
      " 0.00702822 0.00895114 0.01022557 0.01112874 0.01232701 0.01291065\n",
      " 0.01277923 0.01224604 0.01153933 0.01103811 0.0113011  0.01288412\n",
      " 0.01555997 0.01866435 0.02246826 0.02831925]\n",
      "26 day output [[0.03440831]]\n",
      "27 day input [0.         0.         0.         0.         0.         0.\n",
      " 0.         0.         0.         0.         0.         0.\n",
      " 0.         0.         0.         0.         0.         0.\n",
      " 0.         0.         0.         0.         0.         0.\n",
      " 0.         0.         0.         0.         0.         0.\n",
      " 0.         0.         0.         0.         0.         0.\n",
      " 0.         0.         0.         0.         0.         0.\n",
      " 0.06547503 0.04357601 0.0763274  0.06702934 0.03408365 0.02231536\n",
      " 0.05390102 0.03449999 0.04660135 0.01318382 0.03247384 0.02053901\n",
      " 0.10563713 0.05045935 0.10980044 0.06994366 0.06902773 0.06200561\n",
      " 0.08876183 0.08329401 0.09134308 0.06383746 0.03394488 0.01798551\n",
      " 0.0455744  0.03155791 0.01443282 0.01523773 0.00033307 0.\n",
      " 0.00013878 0.00813397 0.00673377 0.00478537 0.00323056 0.00236821\n",
      " 0.00256484 0.00367434 0.00450014 0.00438469 0.00530059 0.00702822\n",
      " 0.00895114 0.01022557 0.01112874 0.01232701 0.01291065 0.01277923\n",
      " 0.01224604 0.01153933 0.01103811 0.0113011  0.01288412 0.01555997\n",
      " 0.01866435 0.02246826 0.02831925 0.03440831]\n",
      "27 day output [[0.0385975]]\n",
      "28 day input [0.         0.         0.         0.         0.         0.\n",
      " 0.         0.         0.         0.         0.         0.\n",
      " 0.         0.         0.         0.         0.         0.\n",
      " 0.         0.         0.         0.         0.         0.\n",
      " 0.         0.         0.         0.         0.         0.\n",
      " 0.         0.         0.         0.         0.         0.\n",
      " 0.         0.         0.         0.         0.         0.06547503\n",
      " 0.04357601 0.0763274  0.06702934 0.03408365 0.02231536 0.05390102\n",
      " 0.03449999 0.04660135 0.01318382 0.03247384 0.02053901 0.10563713\n",
      " 0.05045935 0.10980044 0.06994366 0.06902773 0.06200561 0.08876183\n",
      " 0.08329401 0.09134308 0.06383746 0.03394488 0.01798551 0.0455744\n",
      " 0.03155791 0.01443282 0.01523773 0.00033307 0.         0.00013878\n",
      " 0.00813397 0.00673377 0.00478537 0.00323056 0.00236821 0.00256484\n",
      " 0.00367434 0.00450014 0.00438469 0.00530059 0.00702822 0.00895114\n",
      " 0.01022557 0.01112874 0.01232701 0.01291065 0.01277923 0.01224604\n",
      " 0.01153933 0.01103811 0.0113011  0.01288412 0.01555997 0.01866435\n",
      " 0.02246826 0.02831925 0.03440831 0.0385975 ]\n",
      "28 day output [[0.03946662]]\n",
      "29 day input [0.         0.         0.         0.         0.         0.\n",
      " 0.         0.         0.         0.         0.         0.\n",
      " 0.         0.         0.         0.         0.         0.\n",
      " 0.         0.         0.         0.         0.         0.\n",
      " 0.         0.         0.         0.         0.         0.\n",
      " 0.         0.         0.         0.         0.         0.\n",
      " 0.         0.         0.         0.         0.06547503 0.04357601\n",
      " 0.0763274  0.06702934 0.03408365 0.02231536 0.05390102 0.03449999\n",
      " 0.04660135 0.01318382 0.03247384 0.02053901 0.10563713 0.05045935\n",
      " 0.10980044 0.06994366 0.06902773 0.06200561 0.08876183 0.08329401\n",
      " 0.09134308 0.06383746 0.03394488 0.01798551 0.0455744  0.03155791\n",
      " 0.01443282 0.01523773 0.00033307 0.         0.00013878 0.00813397\n",
      " 0.00673377 0.00478537 0.00323056 0.00236821 0.00256484 0.00367434\n",
      " 0.00450014 0.00438469 0.00530059 0.00702822 0.00895114 0.01022557\n",
      " 0.01112874 0.01232701 0.01291065 0.01277923 0.01224604 0.01153933\n",
      " 0.01103811 0.0113011  0.01288412 0.01555997 0.01866435 0.02246826\n",
      " 0.02831925 0.03440831 0.0385975  0.03946662]\n",
      "29 day output [[0.03644068]]\n",
      "[[0.008133972994983196], [0.006733772344887257], [0.00478537380695343], [0.003230564296245575], [0.002368208020925522], [0.002564840018749237], [0.0036743395030498505], [0.004500137642025948], [0.004384689033031464], [0.00530058890581131], [0.007028224878013134], [0.008951140567660332], [0.01022556982934475], [0.0111287422478199], [0.012327011674642563], [0.012910648249089718], [0.012779234908521175], [0.01224603969603777], [0.011539327912032604], [0.011038105934858322], [0.011301103048026562], [0.01288412231951952], [0.01555996760725975], [0.018664350733160973], [0.022468261420726776], [0.028319252654910088], [0.03440830856561661], [0.03859750181436539], [0.03946661949157715], [0.03644067794084549]]\n"
     ]
    }
   ],
   "source": [
    "# demonstrate prediction for next 30 days\n",
    "from numpy import array\n",
    "\n",
    "lst_output=[]\n",
    "n_steps=100\n",
    "i=0\n",
    "while(i<30):\n",
    "    \n",
    "    if(len(temp_input)>100):\n",
    "        #print(temp_input)\n",
    "        x_input=np.array(temp_input[1:])\n",
    "        print(\"{} day input {}\".format(i,x_input))\n",
    "        x_input=x_input.reshape(1,-1)\n",
    "        x_input = x_input.reshape((1, n_steps, 1))\n",
    "        #print(x_input)\n",
    "        yhat = model.predict(x_input, verbose=0)\n",
    "        print(\"{} day output {}\".format(i,yhat))\n",
    "        temp_input.extend(yhat[0].tolist())\n",
    "        temp_input=temp_input[1:]\n",
    "        #print(temp_input)\n",
    "        lst_output.extend(yhat.tolist())\n",
    "        i=i+1\n",
    "    else:\n",
    "        x_input = x_input.reshape((1, n_steps,1))\n",
    "        yhat = model.predict(x_input, verbose=0)\n",
    "        print(yhat[0])\n",
    "        temp_input.extend(yhat[0].tolist())\n",
    "        print(len(temp_input))\n",
    "        lst_output.extend(yhat.tolist())\n",
    "        i=i+1\n",
    "    \n",
    "\n",
    "print(lst_output)"
   ]
  },
  {
   "cell_type": "code",
   "execution_count": 54,
   "metadata": {},
   "outputs": [],
   "source": [
    "day_new=np.arange(1,101)\n",
    "day_pred=np.arange(101,131)"
   ]
  },
  {
   "cell_type": "code",
   "execution_count": 55,
   "metadata": {},
   "outputs": [],
   "source": [
    "import matplotlib.pyplot as plt"
   ]
  },
  {
   "cell_type": "code",
   "execution_count": 56,
   "metadata": {},
   "outputs": [
    {
     "data": {
      "text/plain": [
       "173963"
      ]
     },
     "execution_count": 56,
     "metadata": {},
     "output_type": "execute_result"
    }
   ],
   "source": [
    "len(df1)"
   ]
  },
  {
   "cell_type": "code",
   "execution_count": null,
   "metadata": {},
   "outputs": [],
   "source": []
  },
  {
   "cell_type": "code",
   "execution_count": 57,
   "metadata": {},
   "outputs": [
    {
     "data": {
      "text/plain": [
       "[<matplotlib.lines.Line2D at 0x15a47d1e040>]"
      ]
     },
     "execution_count": 57,
     "metadata": {},
     "output_type": "execute_result"
    },
    {
     "data": {
      "image/png": "[encoded data removed]",
      "text/plain": [
       "<Figure size 432x288 with 1 Axes>"
      ]
     },
     "metadata": {
      "needs_background": "light"
     },
     "output_type": "display_data"
    }
   ],
   "source": [
    "plt.plot(day_new,scaler.inverse_transform(df1[173863:]))\n",
    "plt.plot(day_pred,scaler.inverse_transform(lst_output))"
   ]
  },
  {
   "cell_type": "code",
   "execution_count": 58,
   "metadata": {},
   "outputs": [
    {
     "data": {
      "text/plain": [
       "[<matplotlib.lines.Line2D at 0x15a4477e730>]"
      ]
     },
     "execution_count": 58,
     "metadata": {},
     "output_type": "execute_result"
    },
    {
     "data": {
      "image/png": "[encoded data removed]",
      "text/plain": [
       "<Figure size 432x288 with 1 Axes>"
      ]
     },
     "metadata": {
      "needs_background": "light"
     },
     "output_type": "display_data"
    }
   ],
   "source": [
    "df3=df1.tolist()\n",
    "df3.extend(lst_output)\n",
    "plt.plot(df3[173900:])"
   ]
  },
  {
   "cell_type": "code",
   "execution_count": 59,
   "metadata": {},
   "outputs": [],
   "source": [
    "df3=scaler.inverse_transform(df3).tolist()"
   ]
  },
  {
   "cell_type": "code",
   "execution_count": 60,
   "metadata": {},
   "outputs": [
    {
     "data": {
      "text/plain": [
       "[<matplotlib.lines.Line2D at 0x15a3bb44f70>]"
      ]
     },
     "execution_count": 60,
     "metadata": {},
     "output_type": "execute_result"
    },
    {
     "data": {
      "image/png": "[encoded data removed]",
      "text/plain": [
       "<Figure size 432x288 with 1 Axes>"
      ]
     },
     "metadata": {
      "needs_background": "light"
     },
     "output_type": "display_data"
    }
   ],
   "source": [
    "plt.plot(df3)"
   ]
  },
  {
   "cell_type": "code",
   "execution_count": 61,
   "metadata": {},
   "outputs": [
    {
     "name": "stdout",
     "output_type": "stream",
     "text": [
      "WARNING:tensorflow:Model was constructed with shape (None, 100, 1) for input KerasTensor(type_spec=TensorSpec(shape=(None, 100, 1), dtype=tf.float32, name='lstm_input'), name='lstm_input', description=\"created by layer 'lstm_input'\"), but it was called on an input with incompatible shape (None, 1, 1).\n"
     ]
    },
    {
     "data": {
      "text/plain": [
       "array([[-0.01690673]], dtype=float32)"
      ]
     },
     "execution_count": 61,
     "metadata": {},
     "output_type": "execute_result"
    }
   ],
   "source": [
    "model.predict([[17400]])"
   ]
  },
  {
   "cell_type": "code",
   "execution_count": 62,
   "metadata": {},
   "outputs": [],
   "source": [
    "from keras.models import load_model\n",
    "\n",
    "model.save('my_model.h5') "
   ]
  },
  {
   "cell_type": "code",
   "execution_count": 63,
   "metadata": {},
   "outputs": [
    {
     "name": "stderr",
     "output_type": "stream",
     "text": [
      "WARNING:absl:Found untraced functions such as lstm_cell_layer_call_fn, lstm_cell_layer_call_and_return_conditional_losses, lstm_cell_1_layer_call_fn, lstm_cell_1_layer_call_and_return_conditional_losses, lstm_cell_2_layer_call_fn while saving (showing 5 of 15). These functions will not be directly callable after loading.\n"
     ]
    },
    {
     "name": "stdout",
     "output_type": "stream",
     "text": [
      "INFO:tensorflow:Assets written to: my_model\\assets\n"
     ]
    },
    {
     "name": "stderr",
     "output_type": "stream",
     "text": [
      "INFO:tensorflow:Assets written to: my_model\\assets\n",
      "WARNING:absl:<keras.layers.recurrent.LSTMCell object at 0x0000015A3A8935B0> has the same name 'LSTMCell' as a built-in Keras object. Consider renaming <class 'keras.layers.recurrent.LSTMCell'> to avoid naming conflicts when loading with `tf.keras.models.load_model`. If renaming is not possible, pass the object in the `custom_objects` parameter of the load function.\n",
      "WARNING:absl:<keras.layers.recurrent.LSTMCell object at 0x0000015A3B988040> has the same name 'LSTMCell' as a built-in Keras object. Consider renaming <class 'keras.layers.recurrent.LSTMCell'> to avoid naming conflicts when loading with `tf.keras.models.load_model`. If renaming is not possible, pass the object in the `custom_objects` parameter of the load function.\n",
      "WARNING:absl:<keras.layers.recurrent.LSTMCell object at 0x0000015A3BA9AEB0> has the same name 'LSTMCell' as a built-in Keras object. Consider renaming <class 'keras.layers.recurrent.LSTMCell'> to avoid naming conflicts when loading with `tf.keras.models.load_model`. If renaming is not possible, pass the object in the `custom_objects` parameter of the load function.\n"
     ]
    }
   ],
   "source": [
    "model.save(\"my_model\")"
   ]
  },
  {
   "cell_type": "code",
   "execution_count": 64,
   "metadata": {},
   "outputs": [
    {
     "name": "stderr",
     "output_type": "stream",
     "text": [
      "WARNING:absl:Found untraced functions such as lstm_cell_layer_call_fn, lstm_cell_layer_call_and_return_conditional_losses, lstm_cell_1_layer_call_fn, lstm_cell_1_layer_call_and_return_conditional_losses, lstm_cell_2_layer_call_fn while saving (showing 5 of 15). These functions will not be directly callable after loading.\n"
     ]
    },
    {
     "name": "stdout",
     "output_type": "stream",
     "text": [
      "INFO:tensorflow:Assets written to: ram://618a9f05-2d81-4cbd-b50b-1fd8761aa0f6/assets\n"
     ]
    },
    {
     "name": "stderr",
     "output_type": "stream",
     "text": [
      "INFO:tensorflow:Assets written to: ram://618a9f05-2d81-4cbd-b50b-1fd8761aa0f6/assets\n",
      "WARNING:absl:<keras.layers.recurrent.LSTMCell object at 0x0000015A3A8935B0> has the same name 'LSTMCell' as a built-in Keras object. Consider renaming <class 'keras.layers.recurrent.LSTMCell'> to avoid naming conflicts when loading with `tf.keras.models.load_model`. If renaming is not possible, pass the object in the `custom_objects` parameter of the load function.\n",
      "WARNING:absl:<keras.layers.recurrent.LSTMCell object at 0x0000015A3B988040> has the same name 'LSTMCell' as a built-in Keras object. Consider renaming <class 'keras.layers.recurrent.LSTMCell'> to avoid naming conflicts when loading with `tf.keras.models.load_model`. If renaming is not possible, pass the object in the `custom_objects` parameter of the load function.\n",
      "WARNING:absl:<keras.layers.recurrent.LSTMCell object at 0x0000015A3BA9AEB0> has the same name 'LSTMCell' as a built-in Keras object. Consider renaming <class 'keras.layers.recurrent.LSTMCell'> to avoid naming conflicts when loading with `tf.keras.models.load_model`. If renaming is not possible, pass the object in the `custom_objects` parameter of the load function.\n"
     ]
    },
    {
     "ename": "NotFoundError",
     "evalue": "",
     "output_type": "error",
     "traceback": [
      "\u001b[1;31m---------------------------------------------------------------------------\u001b[0m",
      "\u001b[1;31mNotFoundError\u001b[0m                             Traceback (most recent call last)",
      "\u001b[1;32m<ipython-input-64-36e2be473ba5>\u001b[0m in \u001b[0;36m<module>\u001b[1;34m\u001b[0m\n\u001b[0;32m      1\u001b[0m \u001b[1;32mimport\u001b[0m \u001b[0mpickle\u001b[0m\u001b[1;33m\u001b[0m\u001b[1;33m\u001b[0m\u001b[0m\n\u001b[1;32m----> 2\u001b[1;33m \u001b[0mpickle\u001b[0m\u001b[1;33m.\u001b[0m\u001b[0mdump\u001b[0m\u001b[1;33m(\u001b[0m\u001b[0mmodel\u001b[0m\u001b[1;33m,\u001b[0m\u001b[0mopen\u001b[0m\u001b[1;33m(\u001b[0m\u001b[1;34m'model.pkl'\u001b[0m\u001b[1;33m,\u001b[0m\u001b[1;34m'wb'\u001b[0m\u001b[1;33m)\u001b[0m\u001b[1;33m)\u001b[0m\u001b[1;33m\u001b[0m\u001b[1;33m\u001b[0m\u001b[0m\n\u001b[0m",
      "\u001b[1;32m~\\anaconda3\\lib\\site-packages\\keras\\engine\\training.py\u001b[0m in \u001b[0;36m__reduce__\u001b[1;34m(self)\u001b[0m\n\u001b[0;32m    313\u001b[0m     \u001b[1;32mif\u001b[0m \u001b[0mself\u001b[0m\u001b[1;33m.\u001b[0m\u001b[0mbuilt\u001b[0m\u001b[1;33m:\u001b[0m\u001b[1;33m\u001b[0m\u001b[1;33m\u001b[0m\u001b[0m\n\u001b[0;32m    314\u001b[0m       return (pickle_utils.deserialize_model_from_bytecode,\n\u001b[1;32m--> 315\u001b[1;33m               pickle_utils.serialize_model_as_bytecode(self))\n\u001b[0m\u001b[0;32m    316\u001b[0m     \u001b[1;32melse\u001b[0m\u001b[1;33m:\u001b[0m\u001b[1;33m\u001b[0m\u001b[1;33m\u001b[0m\u001b[0m\n\u001b[0;32m    317\u001b[0m       \u001b[1;31m# SavedModel (and hence serialize_model_as_bytecode) only support\u001b[0m\u001b[1;33m\u001b[0m\u001b[1;33m\u001b[0m\u001b[1;33m\u001b[0m\u001b[0m\n",
      "\u001b[1;32m~\\anaconda3\\lib\\site-packages\\keras\\saving\\pickle_utils.py\u001b[0m in \u001b[0;36mserialize_model_as_bytecode\u001b[1;34m(model)\u001b[0m\n\u001b[0;32m     75\u001b[0m         \u001b[1;32mwith\u001b[0m \u001b[0mtf\u001b[0m\u001b[1;33m.\u001b[0m\u001b[0mio\u001b[0m\u001b[1;33m.\u001b[0m\u001b[0mgfile\u001b[0m\u001b[1;33m.\u001b[0m\u001b[0mGFile\u001b[0m\u001b[1;33m(\u001b[0m\u001b[0mdest_path\u001b[0m\u001b[1;33m,\u001b[0m \u001b[1;34m\"rb\"\u001b[0m\u001b[1;33m)\u001b[0m \u001b[1;32mas\u001b[0m \u001b[0mf\u001b[0m\u001b[1;33m:\u001b[0m\u001b[1;33m\u001b[0m\u001b[1;33m\u001b[0m\u001b[0m\n\u001b[0;32m     76\u001b[0m           \u001b[0minfo\u001b[0m \u001b[1;33m=\u001b[0m \u001b[0mtarfile\u001b[0m\u001b[1;33m.\u001b[0m\u001b[0mTarInfo\u001b[0m\u001b[1;33m(\u001b[0m\u001b[0mname\u001b[0m\u001b[1;33m=\u001b[0m\u001b[0mos\u001b[0m\u001b[1;33m.\u001b[0m\u001b[0mpath\u001b[0m\u001b[1;33m.\u001b[0m\u001b[0mrelpath\u001b[0m\u001b[1;33m(\u001b[0m\u001b[0mdest_path\u001b[0m\u001b[1;33m,\u001b[0m \u001b[0mtemp_dir\u001b[0m\u001b[1;33m)\u001b[0m\u001b[1;33m)\u001b[0m\u001b[1;33m\u001b[0m\u001b[1;33m\u001b[0m\u001b[0m\n\u001b[1;32m---> 77\u001b[1;33m           \u001b[0minfo\u001b[0m\u001b[1;33m.\u001b[0m\u001b[0msize\u001b[0m \u001b[1;33m=\u001b[0m \u001b[0mf\u001b[0m\u001b[1;33m.\u001b[0m\u001b[0msize\u001b[0m\u001b[1;33m(\u001b[0m\u001b[1;33m)\u001b[0m\u001b[1;33m\u001b[0m\u001b[1;33m\u001b[0m\u001b[0m\n\u001b[0m\u001b[0;32m     78\u001b[0m           \u001b[0marchive\u001b[0m\u001b[1;33m.\u001b[0m\u001b[0maddfile\u001b[0m\u001b[1;33m(\u001b[0m\u001b[0mtarinfo\u001b[0m\u001b[1;33m=\u001b[0m\u001b[0minfo\u001b[0m\u001b[1;33m,\u001b[0m \u001b[0mfileobj\u001b[0m\u001b[1;33m=\u001b[0m\u001b[0mf\u001b[0m\u001b[1;33m)\u001b[0m\u001b[1;33m\u001b[0m\u001b[1;33m\u001b[0m\u001b[0m\n\u001b[0;32m     79\u001b[0m   \u001b[0mtf\u001b[0m\u001b[1;33m.\u001b[0m\u001b[0mio\u001b[0m\u001b[1;33m.\u001b[0m\u001b[0mgfile\u001b[0m\u001b[1;33m.\u001b[0m\u001b[0mrmtree\u001b[0m\u001b[1;33m(\u001b[0m\u001b[0mtemp_dir\u001b[0m\u001b[1;33m)\u001b[0m\u001b[1;33m\u001b[0m\u001b[1;33m\u001b[0m\u001b[0m\n",
      "\u001b[1;32m~\\anaconda3\\lib\\site-packages\\tensorflow\\python\\lib\\io\\file_io.py\u001b[0m in \u001b[0;36msize\u001b[1;34m(self)\u001b[0m\n\u001b[0;32m     97\u001b[0m   \u001b[1;32mdef\u001b[0m \u001b[0msize\u001b[0m\u001b[1;33m(\u001b[0m\u001b[0mself\u001b[0m\u001b[1;33m)\u001b[0m\u001b[1;33m:\u001b[0m\u001b[1;33m\u001b[0m\u001b[1;33m\u001b[0m\u001b[0m\n\u001b[0;32m     98\u001b[0m     \u001b[1;34m\"\"\"Returns the size of the file.\"\"\"\u001b[0m\u001b[1;33m\u001b[0m\u001b[1;33m\u001b[0m\u001b[0m\n\u001b[1;32m---> 99\u001b[1;33m     \u001b[1;32mreturn\u001b[0m \u001b[0mstat\u001b[0m\u001b[1;33m(\u001b[0m\u001b[0mself\u001b[0m\u001b[1;33m.\u001b[0m\u001b[0m__name\u001b[0m\u001b[1;33m)\u001b[0m\u001b[1;33m.\u001b[0m\u001b[0mlength\u001b[0m\u001b[1;33m\u001b[0m\u001b[1;33m\u001b[0m\u001b[0m\n\u001b[0m\u001b[0;32m    100\u001b[0m \u001b[1;33m\u001b[0m\u001b[0m\n\u001b[0;32m    101\u001b[0m   \u001b[1;32mdef\u001b[0m \u001b[0mwrite\u001b[0m\u001b[1;33m(\u001b[0m\u001b[0mself\u001b[0m\u001b[1;33m,\u001b[0m \u001b[0mfile_content\u001b[0m\u001b[1;33m)\u001b[0m\u001b[1;33m:\u001b[0m\u001b[1;33m\u001b[0m\u001b[1;33m\u001b[0m\u001b[0m\n",
      "\u001b[1;32m~\\anaconda3\\lib\\site-packages\\tensorflow\\python\\lib\\io\\file_io.py\u001b[0m in \u001b[0;36mstat\u001b[1;34m(filename)\u001b[0m\n\u001b[0;32m    908\u001b[0m     \u001b[0merrors\u001b[0m\u001b[1;33m.\u001b[0m\u001b[0mOpError\u001b[0m\u001b[1;33m:\u001b[0m \u001b[0mIf\u001b[0m \u001b[0mthe\u001b[0m \u001b[0moperation\u001b[0m \u001b[0mfails\u001b[0m\u001b[1;33m.\u001b[0m\u001b[1;33m\u001b[0m\u001b[1;33m\u001b[0m\u001b[0m\n\u001b[0;32m    909\u001b[0m   \"\"\"\n\u001b[1;32m--> 910\u001b[1;33m   \u001b[1;32mreturn\u001b[0m \u001b[0mstat_v2\u001b[0m\u001b[1;33m(\u001b[0m\u001b[0mfilename\u001b[0m\u001b[1;33m)\u001b[0m\u001b[1;33m\u001b[0m\u001b[1;33m\u001b[0m\u001b[0m\n\u001b[0m\u001b[0;32m    911\u001b[0m \u001b[1;33m\u001b[0m\u001b[0m\n\u001b[0;32m    912\u001b[0m \u001b[1;33m\u001b[0m\u001b[0m\n",
      "\u001b[1;32m~\\anaconda3\\lib\\site-packages\\tensorflow\\python\\lib\\io\\file_io.py\u001b[0m in \u001b[0;36mstat_v2\u001b[1;34m(path)\u001b[0m\n\u001b[0;32m    924\u001b[0m     \u001b[0merrors\u001b[0m\u001b[1;33m.\u001b[0m\u001b[0mOpError\u001b[0m\u001b[1;33m:\u001b[0m \u001b[0mIf\u001b[0m \u001b[0mthe\u001b[0m \u001b[0moperation\u001b[0m \u001b[0mfails\u001b[0m\u001b[1;33m.\u001b[0m\u001b[1;33m\u001b[0m\u001b[1;33m\u001b[0m\u001b[0m\n\u001b[0;32m    925\u001b[0m   \"\"\"\n\u001b[1;32m--> 926\u001b[1;33m   \u001b[1;32mreturn\u001b[0m \u001b[0m_pywrap_file_io\u001b[0m\u001b[1;33m.\u001b[0m\u001b[0mStat\u001b[0m\u001b[1;33m(\u001b[0m\u001b[0mcompat\u001b[0m\u001b[1;33m.\u001b[0m\u001b[0mpath_to_str\u001b[0m\u001b[1;33m(\u001b[0m\u001b[0mpath\u001b[0m\u001b[1;33m)\u001b[0m\u001b[1;33m)\u001b[0m\u001b[1;33m\u001b[0m\u001b[1;33m\u001b[0m\u001b[0m\n\u001b[0m\u001b[0;32m    927\u001b[0m \u001b[1;33m\u001b[0m\u001b[0m\n\u001b[0;32m    928\u001b[0m \u001b[1;33m\u001b[0m\u001b[0m\n",
      "\u001b[1;31mNotFoundError\u001b[0m: "
     ]
    }
   ],
   "source": [
    "import pickle\n",
    "pickle.dump(model,open('model.pkl','wb'))"
   ]
  },
  {
   "cell_type": "code",
   "execution_count": null,
   "metadata": {},
   "outputs": [],
   "source": []
  }
 ],
 "metadata": {
  "kernelspec": {
   "display_name": "Python 3 (ipykernel)",
   "language": "python",
   "name": "python3"
  },
  "language_info": {
   "codemirror_mode": {
    "name": "ipython",
    "version": 3
   },
   "file_extension": ".py",
   "mimetype": "text/x-python",
   "name": "python",
   "nbconvert_exporter": "python",
   "pygments_lexer": "ipython3",
   "version": "3.9.7"
  }
 },
 "nbformat": 4,
 "nbformat_minor": 2
}
