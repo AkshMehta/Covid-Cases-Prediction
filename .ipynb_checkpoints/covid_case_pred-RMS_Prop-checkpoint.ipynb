{
 "cells": [
  {
   "cell_type": "markdown",
   "metadata": {},
   "source": [
    "### Covid Cases Prediction And Forecasting Using Stacked LSTM"
   ]
  },
  {
   "cell_type": "code",
   "execution_count": 1,
   "metadata": {},
   "outputs": [],
   "source": [
    "import pandas as pd\n",
    "import numpy as np\n",
    "import matplotlib.pyplot as plt"
   ]
  },
  {
   "cell_type": "code",
   "execution_count": 2,
   "metadata": {},
   "outputs": [],
   "source": [
    "df1 = pd.read_csv('Covid Dataset.csv',index_col='Date Announced',parse_dates=True)"
   ]
  },
  {
   "cell_type": "code",
   "execution_count": 3,
   "metadata": {},
   "outputs": [
    {
     "data": {
      "text/html": [
       "<div>\n",
       "<style scoped>\n",
       "    .dataframe tbody tr th:only-of-type {\n",
       "        vertical-align: middle;\n",
       "    }\n",
       "\n",
       "    .dataframe tbody tr th {\n",
       "        vertical-align: top;\n",
       "    }\n",
       "\n",
       "    .dataframe thead th {\n",
       "        text-align: right;\n",
       "    }\n",
       "</style>\n",
       "<table border=\"1\" class=\"dataframe\">\n",
       "  <thead>\n",
       "    <tr style=\"text-align: right;\">\n",
       "      <th></th>\n",
       "      <th>Unnamed: 0</th>\n",
       "      <th>Num Cases</th>\n",
       "      <th>Age Bracket</th>\n",
       "      <th>Gender</th>\n",
       "      <th>Detected State</th>\n",
       "      <th>Current Status</th>\n",
       "      <th>Day</th>\n",
       "      <th>Month</th>\n",
       "      <th>Year</th>\n",
       "    </tr>\n",
       "    <tr>\n",
       "      <th>Date Announced</th>\n",
       "      <th></th>\n",
       "      <th></th>\n",
       "      <th></th>\n",
       "      <th></th>\n",
       "      <th></th>\n",
       "      <th></th>\n",
       "      <th></th>\n",
       "      <th></th>\n",
       "      <th></th>\n",
       "    </tr>\n",
       "  </thead>\n",
       "  <tbody>\n",
       "    <tr>\n",
       "      <th>2021-05-05</th>\n",
       "      <td>0</td>\n",
       "      <td>443.0</td>\n",
       "      <td>NaN</td>\n",
       "      <td>NaN</td>\n",
       "      <td>Odisha</td>\n",
       "      <td>Hospitalized</td>\n",
       "      <td>5</td>\n",
       "      <td>5</td>\n",
       "      <td>2021</td>\n",
       "    </tr>\n",
       "    <tr>\n",
       "      <th>2021-05-05</th>\n",
       "      <td>1</td>\n",
       "      <td>151.0</td>\n",
       "      <td>NaN</td>\n",
       "      <td>NaN</td>\n",
       "      <td>Odisha</td>\n",
       "      <td>Hospitalized</td>\n",
       "      <td>5</td>\n",
       "      <td>5</td>\n",
       "      <td>2021</td>\n",
       "    </tr>\n",
       "    <tr>\n",
       "      <th>2021-05-05</th>\n",
       "      <td>2</td>\n",
       "      <td>483.0</td>\n",
       "      <td>NaN</td>\n",
       "      <td>NaN</td>\n",
       "      <td>Odisha</td>\n",
       "      <td>Hospitalized</td>\n",
       "      <td>5</td>\n",
       "      <td>5</td>\n",
       "      <td>2021</td>\n",
       "    </tr>\n",
       "    <tr>\n",
       "      <th>2021-05-05</th>\n",
       "      <td>3</td>\n",
       "      <td>52.0</td>\n",
       "      <td>NaN</td>\n",
       "      <td>NaN</td>\n",
       "      <td>Odisha</td>\n",
       "      <td>Hospitalized</td>\n",
       "      <td>5</td>\n",
       "      <td>5</td>\n",
       "      <td>2021</td>\n",
       "    </tr>\n",
       "    <tr>\n",
       "      <th>2021-05-05</th>\n",
       "      <td>4</td>\n",
       "      <td>326.0</td>\n",
       "      <td>NaN</td>\n",
       "      <td>NaN</td>\n",
       "      <td>Odisha</td>\n",
       "      <td>Hospitalized</td>\n",
       "      <td>5</td>\n",
       "      <td>5</td>\n",
       "      <td>2021</td>\n",
       "    </tr>\n",
       "  </tbody>\n",
       "</table>\n",
       "</div>"
      ],
      "text/plain": [
       "                Unnamed: 0  Num Cases  Age Bracket Gender Detected State  \\\n",
       "Date Announced                                                             \n",
       "2021-05-05               0      443.0          NaN    NaN         Odisha   \n",
       "2021-05-05               1      151.0          NaN    NaN         Odisha   \n",
       "2021-05-05               2      483.0          NaN    NaN         Odisha   \n",
       "2021-05-05               3       52.0          NaN    NaN         Odisha   \n",
       "2021-05-05               4      326.0          NaN    NaN         Odisha   \n",
       "\n",
       "               Current Status  Day  Month  Year  \n",
       "Date Announced                                   \n",
       "2021-05-05       Hospitalized    5      5  2021  \n",
       "2021-05-05       Hospitalized    5      5  2021  \n",
       "2021-05-05       Hospitalized    5      5  2021  \n",
       "2021-05-05       Hospitalized    5      5  2021  \n",
       "2021-05-05       Hospitalized    5      5  2021  "
      ]
     },
     "execution_count": 3,
     "metadata": {},
     "output_type": "execute_result"
    }
   ],
   "source": [
    "df1.head()"
   ]
  },
  {
   "cell_type": "code",
   "execution_count": 4,
   "metadata": {},
   "outputs": [
    {
     "data": {
      "text/html": [
       "<div>\n",
       "<style scoped>\n",
       "    .dataframe tbody tr th:only-of-type {\n",
       "        vertical-align: middle;\n",
       "    }\n",
       "\n",
       "    .dataframe tbody tr th {\n",
       "        vertical-align: top;\n",
       "    }\n",
       "\n",
       "    .dataframe thead th {\n",
       "        text-align: right;\n",
       "    }\n",
       "</style>\n",
       "<table border=\"1\" class=\"dataframe\">\n",
       "  <thead>\n",
       "    <tr style=\"text-align: right;\">\n",
       "      <th></th>\n",
       "      <th>Unnamed: 0</th>\n",
       "      <th>Num Cases</th>\n",
       "      <th>Age Bracket</th>\n",
       "      <th>Gender</th>\n",
       "      <th>Detected State</th>\n",
       "      <th>Current Status</th>\n",
       "      <th>Day</th>\n",
       "      <th>Month</th>\n",
       "      <th>Year</th>\n",
       "    </tr>\n",
       "    <tr>\n",
       "      <th>Date Announced</th>\n",
       "      <th></th>\n",
       "      <th></th>\n",
       "      <th></th>\n",
       "      <th></th>\n",
       "      <th></th>\n",
       "      <th></th>\n",
       "      <th></th>\n",
       "      <th></th>\n",
       "      <th></th>\n",
       "    </tr>\n",
       "  </thead>\n",
       "  <tbody>\n",
       "    <tr>\n",
       "      <th>2021-08-28</th>\n",
       "      <td>12065</td>\n",
       "      <td>NaN</td>\n",
       "      <td>NaN</td>\n",
       "      <td>NaN</td>\n",
       "      <td>NaN</td>\n",
       "      <td>NaN</td>\n",
       "      <td>28</td>\n",
       "      <td>8</td>\n",
       "      <td>2021</td>\n",
       "    </tr>\n",
       "    <tr>\n",
       "      <th>2021-08-28</th>\n",
       "      <td>12066</td>\n",
       "      <td>NaN</td>\n",
       "      <td>NaN</td>\n",
       "      <td>NaN</td>\n",
       "      <td>NaN</td>\n",
       "      <td>NaN</td>\n",
       "      <td>28</td>\n",
       "      <td>8</td>\n",
       "      <td>2021</td>\n",
       "    </tr>\n",
       "    <tr>\n",
       "      <th>2021-08-28</th>\n",
       "      <td>12067</td>\n",
       "      <td>NaN</td>\n",
       "      <td>NaN</td>\n",
       "      <td>NaN</td>\n",
       "      <td>NaN</td>\n",
       "      <td>NaN</td>\n",
       "      <td>28</td>\n",
       "      <td>8</td>\n",
       "      <td>2021</td>\n",
       "    </tr>\n",
       "    <tr>\n",
       "      <th>2021-08-28</th>\n",
       "      <td>12068</td>\n",
       "      <td>NaN</td>\n",
       "      <td>NaN</td>\n",
       "      <td>NaN</td>\n",
       "      <td>NaN</td>\n",
       "      <td>NaN</td>\n",
       "      <td>28</td>\n",
       "      <td>8</td>\n",
       "      <td>2021</td>\n",
       "    </tr>\n",
       "    <tr>\n",
       "      <th>2021-08-28</th>\n",
       "      <td>12069</td>\n",
       "      <td>NaN</td>\n",
       "      <td>NaN</td>\n",
       "      <td>NaN</td>\n",
       "      <td>NaN</td>\n",
       "      <td>NaN</td>\n",
       "      <td>28</td>\n",
       "      <td>8</td>\n",
       "      <td>2021</td>\n",
       "    </tr>\n",
       "  </tbody>\n",
       "</table>\n",
       "</div>"
      ],
      "text/plain": [
       "                Unnamed: 0  Num Cases  Age Bracket Gender Detected State  \\\n",
       "Date Announced                                                             \n",
       "2021-08-28           12065        NaN          NaN    NaN            NaN   \n",
       "2021-08-28           12066        NaN          NaN    NaN            NaN   \n",
       "2021-08-28           12067        NaN          NaN    NaN            NaN   \n",
       "2021-08-28           12068        NaN          NaN    NaN            NaN   \n",
       "2021-08-28           12069        NaN          NaN    NaN            NaN   \n",
       "\n",
       "               Current Status  Day  Month  Year  \n",
       "Date Announced                                   \n",
       "2021-08-28                NaN   28      8  2021  \n",
       "2021-08-28                NaN   28      8  2021  \n",
       "2021-08-28                NaN   28      8  2021  \n",
       "2021-08-28                NaN   28      8  2021  \n",
       "2021-08-28                NaN   28      8  2021  "
      ]
     },
     "execution_count": 4,
     "metadata": {},
     "output_type": "execute_result"
    }
   ],
   "source": [
    "df1.tail()"
   ]
  },
  {
   "cell_type": "code",
   "execution_count": 5,
   "metadata": {},
   "outputs": [
    {
     "data": {
      "text/html": [
       "<div>\n",
       "<style scoped>\n",
       "    .dataframe tbody tr th:only-of-type {\n",
       "        vertical-align: middle;\n",
       "    }\n",
       "\n",
       "    .dataframe tbody tr th {\n",
       "        vertical-align: top;\n",
       "    }\n",
       "\n",
       "    .dataframe thead th {\n",
       "        text-align: right;\n",
       "    }\n",
       "</style>\n",
       "<table border=\"1\" class=\"dataframe\">\n",
       "  <thead>\n",
       "    <tr style=\"text-align: right;\">\n",
       "      <th></th>\n",
       "      <th>Unnamed: 0</th>\n",
       "      <th>Num Cases</th>\n",
       "      <th>Age Bracket</th>\n",
       "      <th>Gender</th>\n",
       "      <th>Detected State</th>\n",
       "      <th>Current Status</th>\n",
       "      <th>Day</th>\n",
       "      <th>Month</th>\n",
       "      <th>Year</th>\n",
       "    </tr>\n",
       "    <tr>\n",
       "      <th>Date Announced</th>\n",
       "      <th></th>\n",
       "      <th></th>\n",
       "      <th></th>\n",
       "      <th></th>\n",
       "      <th></th>\n",
       "      <th></th>\n",
       "      <th></th>\n",
       "      <th></th>\n",
       "      <th></th>\n",
       "    </tr>\n",
       "  </thead>\n",
       "  <tbody>\n",
       "    <tr>\n",
       "      <th>2021-05-05</th>\n",
       "      <td>0</td>\n",
       "      <td>443.0</td>\n",
       "      <td>NaN</td>\n",
       "      <td>NaN</td>\n",
       "      <td>Odisha</td>\n",
       "      <td>Hospitalized</td>\n",
       "      <td>5</td>\n",
       "      <td>5</td>\n",
       "      <td>2021</td>\n",
       "    </tr>\n",
       "    <tr>\n",
       "      <th>2021-05-05</th>\n",
       "      <td>1</td>\n",
       "      <td>151.0</td>\n",
       "      <td>NaN</td>\n",
       "      <td>NaN</td>\n",
       "      <td>Odisha</td>\n",
       "      <td>Hospitalized</td>\n",
       "      <td>5</td>\n",
       "      <td>5</td>\n",
       "      <td>2021</td>\n",
       "    </tr>\n",
       "    <tr>\n",
       "      <th>2021-05-05</th>\n",
       "      <td>2</td>\n",
       "      <td>483.0</td>\n",
       "      <td>NaN</td>\n",
       "      <td>NaN</td>\n",
       "      <td>Odisha</td>\n",
       "      <td>Hospitalized</td>\n",
       "      <td>5</td>\n",
       "      <td>5</td>\n",
       "      <td>2021</td>\n",
       "    </tr>\n",
       "    <tr>\n",
       "      <th>2021-05-05</th>\n",
       "      <td>3</td>\n",
       "      <td>52.0</td>\n",
       "      <td>NaN</td>\n",
       "      <td>NaN</td>\n",
       "      <td>Odisha</td>\n",
       "      <td>Hospitalized</td>\n",
       "      <td>5</td>\n",
       "      <td>5</td>\n",
       "      <td>2021</td>\n",
       "    </tr>\n",
       "    <tr>\n",
       "      <th>2021-05-05</th>\n",
       "      <td>4</td>\n",
       "      <td>326.0</td>\n",
       "      <td>NaN</td>\n",
       "      <td>NaN</td>\n",
       "      <td>Odisha</td>\n",
       "      <td>Hospitalized</td>\n",
       "      <td>5</td>\n",
       "      <td>5</td>\n",
       "      <td>2021</td>\n",
       "    </tr>\n",
       "    <tr>\n",
       "      <th>...</th>\n",
       "      <td>...</td>\n",
       "      <td>...</td>\n",
       "      <td>...</td>\n",
       "      <td>...</td>\n",
       "      <td>...</td>\n",
       "      <td>...</td>\n",
       "      <td>...</td>\n",
       "      <td>...</td>\n",
       "      <td>...</td>\n",
       "    </tr>\n",
       "    <tr>\n",
       "      <th>2021-08-28</th>\n",
       "      <td>12065</td>\n",
       "      <td>NaN</td>\n",
       "      <td>NaN</td>\n",
       "      <td>NaN</td>\n",
       "      <td>NaN</td>\n",
       "      <td>NaN</td>\n",
       "      <td>28</td>\n",
       "      <td>8</td>\n",
       "      <td>2021</td>\n",
       "    </tr>\n",
       "    <tr>\n",
       "      <th>2021-08-28</th>\n",
       "      <td>12066</td>\n",
       "      <td>NaN</td>\n",
       "      <td>NaN</td>\n",
       "      <td>NaN</td>\n",
       "      <td>NaN</td>\n",
       "      <td>NaN</td>\n",
       "      <td>28</td>\n",
       "      <td>8</td>\n",
       "      <td>2021</td>\n",
       "    </tr>\n",
       "    <tr>\n",
       "      <th>2021-08-28</th>\n",
       "      <td>12067</td>\n",
       "      <td>NaN</td>\n",
       "      <td>NaN</td>\n",
       "      <td>NaN</td>\n",
       "      <td>NaN</td>\n",
       "      <td>NaN</td>\n",
       "      <td>28</td>\n",
       "      <td>8</td>\n",
       "      <td>2021</td>\n",
       "    </tr>\n",
       "    <tr>\n",
       "      <th>2021-08-28</th>\n",
       "      <td>12068</td>\n",
       "      <td>NaN</td>\n",
       "      <td>NaN</td>\n",
       "      <td>NaN</td>\n",
       "      <td>NaN</td>\n",
       "      <td>NaN</td>\n",
       "      <td>28</td>\n",
       "      <td>8</td>\n",
       "      <td>2021</td>\n",
       "    </tr>\n",
       "    <tr>\n",
       "      <th>2021-08-28</th>\n",
       "      <td>12069</td>\n",
       "      <td>NaN</td>\n",
       "      <td>NaN</td>\n",
       "      <td>NaN</td>\n",
       "      <td>NaN</td>\n",
       "      <td>NaN</td>\n",
       "      <td>28</td>\n",
       "      <td>8</td>\n",
       "      <td>2021</td>\n",
       "    </tr>\n",
       "  </tbody>\n",
       "</table>\n",
       "<p>175757 rows × 9 columns</p>\n",
       "</div>"
      ],
      "text/plain": [
       "                Unnamed: 0  Num Cases  Age Bracket Gender Detected State  \\\n",
       "Date Announced                                                             \n",
       "2021-05-05               0      443.0          NaN    NaN         Odisha   \n",
       "2021-05-05               1      151.0          NaN    NaN         Odisha   \n",
       "2021-05-05               2      483.0          NaN    NaN         Odisha   \n",
       "2021-05-05               3       52.0          NaN    NaN         Odisha   \n",
       "2021-05-05               4      326.0          NaN    NaN         Odisha   \n",
       "...                    ...        ...          ...    ...            ...   \n",
       "2021-08-28           12065        NaN          NaN    NaN            NaN   \n",
       "2021-08-28           12066        NaN          NaN    NaN            NaN   \n",
       "2021-08-28           12067        NaN          NaN    NaN            NaN   \n",
       "2021-08-28           12068        NaN          NaN    NaN            NaN   \n",
       "2021-08-28           12069        NaN          NaN    NaN            NaN   \n",
       "\n",
       "               Current Status  Day  Month  Year  \n",
       "Date Announced                                   \n",
       "2021-05-05       Hospitalized    5      5  2021  \n",
       "2021-05-05       Hospitalized    5      5  2021  \n",
       "2021-05-05       Hospitalized    5      5  2021  \n",
       "2021-05-05       Hospitalized    5      5  2021  \n",
       "2021-05-05       Hospitalized    5      5  2021  \n",
       "...                       ...  ...    ...   ...  \n",
       "2021-08-28                NaN   28      8  2021  \n",
       "2021-08-28                NaN   28      8  2021  \n",
       "2021-08-28                NaN   28      8  2021  \n",
       "2021-08-28                NaN   28      8  2021  \n",
       "2021-08-28                NaN   28      8  2021  \n",
       "\n",
       "[175757 rows x 9 columns]"
      ]
     },
     "execution_count": 5,
     "metadata": {},
     "output_type": "execute_result"
    }
   ],
   "source": [
    "df1"
   ]
  },
  {
   "cell_type": "code",
   "execution_count": 6,
   "metadata": {},
   "outputs": [],
   "source": [
    "del df1['Unnamed: 0']\n",
    "del df1['Age Bracket']\n",
    "del df1['Gender']\n",
    "del df1['Detected State']\n",
    "del df1['Current Status']\n",
    "del df1['Day']\n",
    "del df1['Month']\n",
    "del df1['Year']"
   ]
  },
  {
   "cell_type": "code",
   "execution_count": 7,
   "metadata": {},
   "outputs": [
    {
     "data": {
      "text/html": [
       "<div>\n",
       "<style scoped>\n",
       "    .dataframe tbody tr th:only-of-type {\n",
       "        vertical-align: middle;\n",
       "    }\n",
       "\n",
       "    .dataframe tbody tr th {\n",
       "        vertical-align: top;\n",
       "    }\n",
       "\n",
       "    .dataframe thead th {\n",
       "        text-align: right;\n",
       "    }\n",
       "</style>\n",
       "<table border=\"1\" class=\"dataframe\">\n",
       "  <thead>\n",
       "    <tr style=\"text-align: right;\">\n",
       "      <th></th>\n",
       "      <th>Num Cases</th>\n",
       "    </tr>\n",
       "    <tr>\n",
       "      <th>Date Announced</th>\n",
       "      <th></th>\n",
       "    </tr>\n",
       "  </thead>\n",
       "  <tbody>\n",
       "    <tr>\n",
       "      <th>2021-05-05</th>\n",
       "      <td>443.0</td>\n",
       "    </tr>\n",
       "    <tr>\n",
       "      <th>2021-05-05</th>\n",
       "      <td>151.0</td>\n",
       "    </tr>\n",
       "    <tr>\n",
       "      <th>2021-05-05</th>\n",
       "      <td>483.0</td>\n",
       "    </tr>\n",
       "    <tr>\n",
       "      <th>2021-05-05</th>\n",
       "      <td>52.0</td>\n",
       "    </tr>\n",
       "    <tr>\n",
       "      <th>2021-05-05</th>\n",
       "      <td>326.0</td>\n",
       "    </tr>\n",
       "    <tr>\n",
       "      <th>...</th>\n",
       "      <td>...</td>\n",
       "    </tr>\n",
       "    <tr>\n",
       "      <th>2021-08-28</th>\n",
       "      <td>521.0</td>\n",
       "    </tr>\n",
       "    <tr>\n",
       "      <th>2021-08-28</th>\n",
       "      <td>550.0</td>\n",
       "    </tr>\n",
       "    <tr>\n",
       "      <th>2021-08-28</th>\n",
       "      <td>13.0</td>\n",
       "    </tr>\n",
       "    <tr>\n",
       "      <th>2021-08-28</th>\n",
       "      <td>1.0</td>\n",
       "    </tr>\n",
       "    <tr>\n",
       "      <th>2021-08-28</th>\n",
       "      <td>6.0</td>\n",
       "    </tr>\n",
       "  </tbody>\n",
       "</table>\n",
       "<p>175429 rows × 1 columns</p>\n",
       "</div>"
      ],
      "text/plain": [
       "                Num Cases\n",
       "Date Announced           \n",
       "2021-05-05          443.0\n",
       "2021-05-05          151.0\n",
       "2021-05-05          483.0\n",
       "2021-05-05           52.0\n",
       "2021-05-05          326.0\n",
       "...                   ...\n",
       "2021-08-28          521.0\n",
       "2021-08-28          550.0\n",
       "2021-08-28           13.0\n",
       "2021-08-28            1.0\n",
       "2021-08-28            6.0\n",
       "\n",
       "[175429 rows x 1 columns]"
      ]
     },
     "execution_count": 7,
     "metadata": {},
     "output_type": "execute_result"
    }
   ],
   "source": [
    "df1 = df1.dropna()\n",
    "df1"
   ]
  },
  {
   "cell_type": "code",
   "execution_count": 8,
   "metadata": {},
   "outputs": [
    {
     "data": {
      "text/plain": [
       "Num Cases    0\n",
       "dtype: int64"
      ]
     },
     "execution_count": 8,
     "metadata": {},
     "output_type": "execute_result"
    }
   ],
   "source": [
    "df1.isna().sum()"
   ]
  },
  {
   "cell_type": "code",
   "execution_count": 9,
   "metadata": {},
   "outputs": [
    {
     "data": {
      "text/plain": [
       "True"
      ]
     },
     "execution_count": 9,
     "metadata": {},
     "output_type": "execute_result"
    }
   ],
   "source": [
    "(df1['Num Cases'].values < 0).any()"
   ]
  },
  {
   "cell_type": "code",
   "execution_count": 10,
   "metadata": {},
   "outputs": [],
   "source": [
    "df1 = df1[df1['Num Cases'] > 0]"
   ]
  },
  {
   "cell_type": "code",
   "execution_count": 11,
   "metadata": {},
   "outputs": [
    {
     "data": {
      "text/html": [
       "<div>\n",
       "<style scoped>\n",
       "    .dataframe tbody tr th:only-of-type {\n",
       "        vertical-align: middle;\n",
       "    }\n",
       "\n",
       "    .dataframe tbody tr th {\n",
       "        vertical-align: top;\n",
       "    }\n",
       "\n",
       "    .dataframe thead th {\n",
       "        text-align: right;\n",
       "    }\n",
       "</style>\n",
       "<table border=\"1\" class=\"dataframe\">\n",
       "  <thead>\n",
       "    <tr style=\"text-align: right;\">\n",
       "      <th></th>\n",
       "      <th>Num Cases</th>\n",
       "    </tr>\n",
       "    <tr>\n",
       "      <th>Date Announced</th>\n",
       "      <th></th>\n",
       "    </tr>\n",
       "  </thead>\n",
       "  <tbody>\n",
       "    <tr>\n",
       "      <th>2021-05-05</th>\n",
       "      <td>443.0</td>\n",
       "    </tr>\n",
       "    <tr>\n",
       "      <th>2021-05-05</th>\n",
       "      <td>151.0</td>\n",
       "    </tr>\n",
       "    <tr>\n",
       "      <th>2021-05-05</th>\n",
       "      <td>483.0</td>\n",
       "    </tr>\n",
       "    <tr>\n",
       "      <th>2021-05-05</th>\n",
       "      <td>52.0</td>\n",
       "    </tr>\n",
       "    <tr>\n",
       "      <th>2021-05-05</th>\n",
       "      <td>326.0</td>\n",
       "    </tr>\n",
       "    <tr>\n",
       "      <th>...</th>\n",
       "      <td>...</td>\n",
       "    </tr>\n",
       "    <tr>\n",
       "      <th>2021-08-28</th>\n",
       "      <td>521.0</td>\n",
       "    </tr>\n",
       "    <tr>\n",
       "      <th>2021-08-28</th>\n",
       "      <td>550.0</td>\n",
       "    </tr>\n",
       "    <tr>\n",
       "      <th>2021-08-28</th>\n",
       "      <td>13.0</td>\n",
       "    </tr>\n",
       "    <tr>\n",
       "      <th>2021-08-28</th>\n",
       "      <td>1.0</td>\n",
       "    </tr>\n",
       "    <tr>\n",
       "      <th>2021-08-28</th>\n",
       "      <td>6.0</td>\n",
       "    </tr>\n",
       "  </tbody>\n",
       "</table>\n",
       "<p>173963 rows × 1 columns</p>\n",
       "</div>"
      ],
      "text/plain": [
       "                Num Cases\n",
       "Date Announced           \n",
       "2021-05-05          443.0\n",
       "2021-05-05          151.0\n",
       "2021-05-05          483.0\n",
       "2021-05-05           52.0\n",
       "2021-05-05          326.0\n",
       "...                   ...\n",
       "2021-08-28          521.0\n",
       "2021-08-28          550.0\n",
       "2021-08-28           13.0\n",
       "2021-08-28            1.0\n",
       "2021-08-28            6.0\n",
       "\n",
       "[173963 rows x 1 columns]"
      ]
     },
     "execution_count": 11,
     "metadata": {},
     "output_type": "execute_result"
    }
   ],
   "source": [
    "df1"
   ]
  },
  {
   "cell_type": "code",
   "execution_count": 12,
   "metadata": {},
   "outputs": [
    {
     "data": {
      "text/plain": [
       "False"
      ]
     },
     "execution_count": 12,
     "metadata": {},
     "output_type": "execute_result"
    }
   ],
   "source": [
    "(df1['Num Cases'].values < 0).any()"
   ]
  },
  {
   "cell_type": "code",
   "execution_count": 13,
   "metadata": {},
   "outputs": [
    {
     "data": {
      "text/html": [
       "<div>\n",
       "<style scoped>\n",
       "    .dataframe tbody tr th:only-of-type {\n",
       "        vertical-align: middle;\n",
       "    }\n",
       "\n",
       "    .dataframe tbody tr th {\n",
       "        vertical-align: top;\n",
       "    }\n",
       "\n",
       "    .dataframe thead th {\n",
       "        text-align: right;\n",
       "    }\n",
       "</style>\n",
       "<table border=\"1\" class=\"dataframe\">\n",
       "  <thead>\n",
       "    <tr style=\"text-align: right;\">\n",
       "      <th></th>\n",
       "      <th>Num Cases</th>\n",
       "    </tr>\n",
       "  </thead>\n",
       "  <tbody>\n",
       "    <tr>\n",
       "      <th>count</th>\n",
       "      <td>173963.000000</td>\n",
       "    </tr>\n",
       "    <tr>\n",
       "      <th>mean</th>\n",
       "      <td>156.762881</td>\n",
       "    </tr>\n",
       "    <tr>\n",
       "      <th>std</th>\n",
       "      <td>584.433606</td>\n",
       "    </tr>\n",
       "    <tr>\n",
       "      <th>min</th>\n",
       "      <td>1.000000</td>\n",
       "    </tr>\n",
       "    <tr>\n",
       "      <th>25%</th>\n",
       "      <td>2.000000</td>\n",
       "    </tr>\n",
       "    <tr>\n",
       "      <th>50%</th>\n",
       "      <td>12.000000</td>\n",
       "    </tr>\n",
       "    <tr>\n",
       "      <th>75%</th>\n",
       "      <td>89.000000</td>\n",
       "    </tr>\n",
       "    <tr>\n",
       "      <th>max</th>\n",
       "      <td>36030.000000</td>\n",
       "    </tr>\n",
       "  </tbody>\n",
       "</table>\n",
       "</div>"
      ],
      "text/plain": [
       "           Num Cases\n",
       "count  173963.000000\n",
       "mean      156.762881\n",
       "std       584.433606\n",
       "min         1.000000\n",
       "25%         2.000000\n",
       "50%        12.000000\n",
       "75%        89.000000\n",
       "max     36030.000000"
      ]
     },
     "execution_count": 13,
     "metadata": {},
     "output_type": "execute_result"
    }
   ],
   "source": [
    "df1.describe()"
   ]
  },
  {
   "cell_type": "code",
   "execution_count": 14,
   "metadata": {},
   "outputs": [
    {
     "data": {
      "text/plain": [
       "<matplotlib.axes._subplots.AxesSubplot at 0x2d5c14ee910>"
      ]
     },
     "execution_count": 14,
     "metadata": {},
     "output_type": "execute_result"
    },
    {
     "data": {
      "image/png": "[encoded data removed]",
      "text/plain": [
       "<Figure size 864x432 with 1 Axes>"
      ]
     },
     "metadata": {
      "needs_background": "light"
     },
     "output_type": "display_data"
    }
   ],
   "source": [
    "df1.plot(figsize=(12,6))"
   ]
  },
  {
   "cell_type": "code",
   "execution_count": 15,
   "metadata": {},
   "outputs": [
    {
     "data": {
      "text/plain": [
       "[<matplotlib.lines.Line2D at 0x2d5c2b02dc0>]"
      ]
     },
     "execution_count": 15,
     "metadata": {},
     "output_type": "execute_result"
    },
    {
     "data": {
      "image/png": "[encoded data removed]",
      "text/plain": [
       "<Figure size 432x288 with 1 Axes>"
      ]
     },
     "metadata": {
      "needs_background": "light"
     },
     "output_type": "display_data"
    }
   ],
   "source": [
    "import matplotlib.pyplot as plt\n",
    "plt.plot(df1)"
   ]
  },
  {
   "cell_type": "code",
   "execution_count": 16,
   "metadata": {},
   "outputs": [],
   "source": [
    "from statsmodels.tsa.stattools import adfuller\n",
    "def adfuller_test(Num_Cases):\n",
    "    result=adfuller(Num_Cases)\n",
    "    labels = ['ADF Test Statistic','p-value','#Lags Used','Number of Observations Used']\n",
    "    for value,label in zip(result,labels):\n",
    "        print(label+' : '+str(value) )\n",
    "    if result[1] <= 0.05:\n",
    "        print(\"strong evidence against the null hypothesis(Ho), reject the null hypothesis. Data has no unit root and is stationary\")\n",
    "    else:\n",
    "        print(\"weak evidence against null hypothesis, time series has a unit root, indicating it is non-stationary \")"
   ]
  },
  {
   "cell_type": "code",
   "execution_count": 17,
   "metadata": {},
   "outputs": [],
   "source": [
    "### LSTM are sensitive to the scale of the data. so we apply MinMax scaler "
   ]
  },
  {
   "cell_type": "code",
   "execution_count": 18,
   "metadata": {},
   "outputs": [],
   "source": [
    "import numpy as np"
   ]
  },
  {
   "cell_type": "code",
   "execution_count": 19,
   "metadata": {},
   "outputs": [
    {
     "data": {
      "text/html": [
       "<div>\n",
       "<style scoped>\n",
       "    .dataframe tbody tr th:only-of-type {\n",
       "        vertical-align: middle;\n",
       "    }\n",
       "\n",
       "    .dataframe tbody tr th {\n",
       "        vertical-align: top;\n",
       "    }\n",
       "\n",
       "    .dataframe thead th {\n",
       "        text-align: right;\n",
       "    }\n",
       "</style>\n",
       "<table border=\"1\" class=\"dataframe\">\n",
       "  <thead>\n",
       "    <tr style=\"text-align: right;\">\n",
       "      <th></th>\n",
       "      <th>Num Cases</th>\n",
       "    </tr>\n",
       "    <tr>\n",
       "      <th>Date Announced</th>\n",
       "      <th></th>\n",
       "    </tr>\n",
       "  </thead>\n",
       "  <tbody>\n",
       "    <tr>\n",
       "      <th>2021-05-05</th>\n",
       "      <td>443.0</td>\n",
       "    </tr>\n",
       "    <tr>\n",
       "      <th>2021-05-05</th>\n",
       "      <td>151.0</td>\n",
       "    </tr>\n",
       "    <tr>\n",
       "      <th>2021-05-05</th>\n",
       "      <td>483.0</td>\n",
       "    </tr>\n",
       "    <tr>\n",
       "      <th>2021-05-05</th>\n",
       "      <td>52.0</td>\n",
       "    </tr>\n",
       "    <tr>\n",
       "      <th>2021-05-05</th>\n",
       "      <td>326.0</td>\n",
       "    </tr>\n",
       "    <tr>\n",
       "      <th>...</th>\n",
       "      <td>...</td>\n",
       "    </tr>\n",
       "    <tr>\n",
       "      <th>2021-08-28</th>\n",
       "      <td>521.0</td>\n",
       "    </tr>\n",
       "    <tr>\n",
       "      <th>2021-08-28</th>\n",
       "      <td>550.0</td>\n",
       "    </tr>\n",
       "    <tr>\n",
       "      <th>2021-08-28</th>\n",
       "      <td>13.0</td>\n",
       "    </tr>\n",
       "    <tr>\n",
       "      <th>2021-08-28</th>\n",
       "      <td>1.0</td>\n",
       "    </tr>\n",
       "    <tr>\n",
       "      <th>2021-08-28</th>\n",
       "      <td>6.0</td>\n",
       "    </tr>\n",
       "  </tbody>\n",
       "</table>\n",
       "<p>173963 rows × 1 columns</p>\n",
       "</div>"
      ],
      "text/plain": [
       "                Num Cases\n",
       "Date Announced           \n",
       "2021-05-05          443.0\n",
       "2021-05-05          151.0\n",
       "2021-05-05          483.0\n",
       "2021-05-05           52.0\n",
       "2021-05-05          326.0\n",
       "...                   ...\n",
       "2021-08-28          521.0\n",
       "2021-08-28          550.0\n",
       "2021-08-28           13.0\n",
       "2021-08-28            1.0\n",
       "2021-08-28            6.0\n",
       "\n",
       "[173963 rows x 1 columns]"
      ]
     },
     "execution_count": 19,
     "metadata": {},
     "output_type": "execute_result"
    }
   ],
   "source": [
    "df1"
   ]
  },
  {
   "cell_type": "code",
   "execution_count": 20,
   "metadata": {},
   "outputs": [],
   "source": [
    "from sklearn.preprocessing import MinMaxScaler\n",
    "scaler=MinMaxScaler(feature_range=(0,1))\n",
    "df1=scaler.fit_transform(np.array(df1).reshape(-1,1))"
   ]
  },
  {
   "cell_type": "code",
   "execution_count": 21,
   "metadata": {},
   "outputs": [
    {
     "name": "stdout",
     "output_type": "stream",
     "text": [
      "[[0.0122679 ]\n",
      " [0.00416331]\n",
      " [0.01337811]\n",
      " ...\n",
      " [0.00033307]\n",
      " [0.        ]\n",
      " [0.00013878]]\n"
     ]
    }
   ],
   "source": [
    "print(df1)"
   ]
  },
  {
   "cell_type": "code",
   "execution_count": 22,
   "metadata": {},
   "outputs": [],
   "source": [
    "##splitting dataset into train and test split\n",
    "training_size=int(len(df1)*0.75)\n",
    "test_size=len(df1)-training_size\n",
    "train_data,test_data=df1[0:training_size,:],df1[training_size:len(df1),:1]"
   ]
  },
  {
   "cell_type": "code",
   "execution_count": 23,
   "metadata": {},
   "outputs": [
    {
     "data": {
      "text/plain": [
       "(130472, 43491)"
      ]
     },
     "execution_count": 23,
     "metadata": {},
     "output_type": "execute_result"
    }
   ],
   "source": [
    "training_size,test_size"
   ]
  },
  {
   "cell_type": "code",
   "execution_count": 24,
   "metadata": {},
   "outputs": [
    {
     "data": {
      "text/plain": [
       "array([[0.0122679 ],\n",
       "       [0.00416331],\n",
       "       [0.01337811],\n",
       "       ...,\n",
       "       [0.        ],\n",
       "       [0.01276749],\n",
       "       [0.00319187]])"
      ]
     },
     "execution_count": 24,
     "metadata": {},
     "output_type": "execute_result"
    }
   ],
   "source": [
    "train_data"
   ]
  },
  {
   "cell_type": "code",
   "execution_count": 25,
   "metadata": {},
   "outputs": [],
   "source": [
    "import numpy\n",
    "# convert an array of values into a dataset matrix\n",
    "def create_dataset(dataset, time_step=1):\n",
    "\tdataX, dataY = [], []\n",
    "\tfor i in range(len(dataset)-time_step-1):\n",
    "\t\ta = dataset[i:(i+time_step), 0]   ###i=0, 0,1,2,3-----99   100 \n",
    "\t\tdataX.append(a)\n",
    "\t\tdataY.append(dataset[i + time_step, 0])\n",
    "\treturn numpy.array(dataX), numpy.array(dataY)"
   ]
  },
  {
   "cell_type": "code",
   "execution_count": 26,
   "metadata": {},
   "outputs": [],
   "source": [
    "# reshape into X=t,t+1,t+2,t+3 and Y=t+4\n",
    "time_step = 100\n",
    "X_train, y_train = create_dataset(train_data, time_step)\n",
    "X_test, ytest = create_dataset(test_data, time_step)"
   ]
  },
  {
   "cell_type": "code",
   "execution_count": 27,
   "metadata": {},
   "outputs": [
    {
     "name": "stdout",
     "output_type": "stream",
     "text": [
      "(130371, 100)\n",
      "(130371,)\n"
     ]
    },
    {
     "data": {
      "text/plain": [
       "(None, None)"
      ]
     },
     "execution_count": 27,
     "metadata": {},
     "output_type": "execute_result"
    }
   ],
   "source": [
    "print(X_train.shape), print(y_train.shape)"
   ]
  },
  {
   "cell_type": "code",
   "execution_count": 28,
   "metadata": {},
   "outputs": [
    {
     "name": "stdout",
     "output_type": "stream",
     "text": [
      "(43390, 100)\n",
      "(43390,)\n"
     ]
    },
    {
     "data": {
      "text/plain": [
       "(None, None)"
      ]
     },
     "execution_count": 28,
     "metadata": {},
     "output_type": "execute_result"
    }
   ],
   "source": [
    "print(X_test.shape), print(ytest.shape)"
   ]
  },
  {
   "cell_type": "code",
   "execution_count": 29,
   "metadata": {},
   "outputs": [],
   "source": [
    "# reshape input to be [samples, time steps, features] which is required for LSTM\n",
    "X_train =X_train.reshape(X_train.shape[0],X_train.shape[1] , 1)\n",
    "X_test = X_test.reshape(X_test.shape[0],X_test.shape[1] , 1)"
   ]
  },
  {
   "cell_type": "code",
   "execution_count": 30,
   "metadata": {},
   "outputs": [],
   "source": [
    "### Create the Stacked LSTM model\n",
    "from tensorflow.keras.models import Sequential\n",
    "from tensorflow.keras.layers import Dense\n",
    "from tensorflow.keras.layers import LSTM"
   ]
  },
  {
   "cell_type": "code",
   "execution_count": 31,
   "metadata": {},
   "outputs": [],
   "source": [
    "model=Sequential()\n",
    "model.add(LSTM(50,return_sequences=True,input_shape=(100,1)))\n",
    "model.add(LSTM(50,return_sequences=True))\n",
    "model.add(LSTM(50))\n",
    "model.add(Dense(1))\n",
    "model.compile(loss='mean_squared_error',optimizer='RMSProp')\n"
   ]
  },
  {
   "cell_type": "code",
   "execution_count": 32,
   "metadata": {},
   "outputs": [
    {
     "name": "stdout",
     "output_type": "stream",
     "text": [
      "Model: \"sequential\"\n",
      "_________________________________________________________________\n",
      " Layer (type)                Output Shape              Param #   \n",
      "=================================================================\n",
      " lstm (LSTM)                 (None, 100, 50)           10400     \n",
      "                                                                 \n",
      " lstm_1 (LSTM)               (None, 100, 50)           20200     \n",
      "                                                                 \n",
      " lstm_2 (LSTM)               (None, 50)                20200     \n",
      "                                                                 \n",
      " dense (Dense)               (None, 1)                 51        \n",
      "                                                                 \n",
      "=================================================================\n",
      "Total params: 50,851\n",
      "Trainable params: 50,851\n",
      "Non-trainable params: 0\n",
      "_________________________________________________________________\n"
     ]
    }
   ],
   "source": [
    "model.summary()"
   ]
  },
  {
   "cell_type": "code",
   "execution_count": 33,
   "metadata": {},
   "outputs": [
    {
     "name": "stdout",
     "output_type": "stream",
     "text": [
      "Model: \"sequential\"\n",
      "_________________________________________________________________\n",
      " Layer (type)                Output Shape              Param #   \n",
      "=================================================================\n",
      " lstm (LSTM)                 (None, 100, 50)           10400     \n",
      "                                                                 \n",
      " lstm_1 (LSTM)               (None, 100, 50)           20200     \n",
      "                                                                 \n",
      " lstm_2 (LSTM)               (None, 50)                20200     \n",
      "                                                                 \n",
      " dense (Dense)               (None, 1)                 51        \n",
      "                                                                 \n",
      "=================================================================\n",
      "Total params: 50,851\n",
      "Trainable params: 50,851\n",
      "Non-trainable params: 0\n",
      "_________________________________________________________________\n"
     ]
    }
   ],
   "source": [
    "model.summary()"
   ]
  },
  {
   "cell_type": "code",
   "execution_count": 34,
   "metadata": {},
   "outputs": [
    {
     "name": "stdout",
     "output_type": "stream",
     "text": [
      "Epoch 1/100\n",
      "2038/2038 [==============================] - 801s 386ms/step - loss: 2.8582e-04 - val_loss: 3.5443e-05\n",
      "Epoch 2/100\n",
      "2038/2038 [==============================] - 681s 334ms/step - loss: 2.6896e-04 - val_loss: 2.4910e-05\n",
      "Epoch 3/100\n",
      "2038/2038 [==============================] - 660s 324ms/step - loss: 2.6314e-04 - val_loss: 5.0967e-05\n",
      "Epoch 4/100\n",
      "2038/2038 [==============================] - 652s 320ms/step - loss: 2.6235e-04 - val_loss: 3.5131e-05\n",
      "Epoch 5/100\n",
      "2038/2038 [==============================] - 654s 321ms/step - loss: 2.6173e-04 - val_loss: 2.5091e-05\n",
      "Epoch 6/100\n",
      "2038/2038 [==============================] - 653s 320ms/step - loss: 2.6181e-04 - val_loss: 2.5043e-05\n",
      "Epoch 7/100\n",
      "2038/2038 [==============================] - 654s 321ms/step - loss: 2.6185e-04 - val_loss: 2.4981e-05\n",
      "Epoch 8/100\n",
      "2038/2038 [==============================] - 651s 319ms/step - loss: 2.6171e-04 - val_loss: 3.1054e-05\n",
      "Epoch 9/100\n",
      "2038/2038 [==============================] - 686s 337ms/step - loss: 2.6199e-04 - val_loss: 2.4840e-05\n",
      "Epoch 10/100\n",
      "2038/2038 [==============================] - 676s 332ms/step - loss: 2.6124e-04 - val_loss: 3.8632e-05\n",
      "Epoch 11/100\n",
      "2038/2038 [==============================] - 653s 320ms/step - loss: 2.6041e-04 - val_loss: 2.6735e-05\n",
      "Epoch 12/100\n",
      "2038/2038 [==============================] - 676s 332ms/step - loss: 2.6033e-04 - val_loss: 1.1423e-04\n",
      "Epoch 13/100\n",
      "2038/2038 [==============================] - 677s 332ms/step - loss: 2.5990e-04 - val_loss: 2.6154e-05\n",
      "Epoch 14/100\n",
      "2038/2038 [==============================] - 675s 331ms/step - loss: 2.5888e-04 - val_loss: 3.5680e-05\n",
      "Epoch 15/100\n",
      "2038/2038 [==============================] - 656s 322ms/step - loss: 2.5769e-04 - val_loss: 2.8920e-05\n",
      "Epoch 16/100\n",
      "2038/2038 [==============================] - 657s 322ms/step - loss: 2.5514e-04 - val_loss: 9.1610e-05\n",
      "Epoch 17/100\n",
      "2038/2038 [==============================] - 656s 322ms/step - loss: 2.5216e-04 - val_loss: 5.3884e-05\n",
      "Epoch 18/100\n",
      "2038/2038 [==============================] - 659s 324ms/step - loss: 2.5138e-04 - val_loss: 4.5141e-05\n",
      "Epoch 19/100\n",
      "2038/2038 [==============================] - 654s 321ms/step - loss: 2.4914e-04 - val_loss: 2.5407e-05\n",
      "Epoch 20/100\n",
      "2038/2038 [==============================] - 683s 335ms/step - loss: 2.4630e-04 - val_loss: 9.1666e-05\n",
      "Epoch 21/100\n",
      "2038/2038 [==============================] - 657s 322ms/step - loss: 2.4358e-04 - val_loss: 3.6020e-05\n",
      "Epoch 22/100\n",
      "2038/2038 [==============================] - 676s 332ms/step - loss: 2.3984e-04 - val_loss: 2.1667e-05\n",
      "Epoch 23/100\n",
      "2038/2038 [==============================] - 657s 323ms/step - loss: 2.3004e-04 - val_loss: 2.3342e-05\n",
      "Epoch 24/100\n",
      "2038/2038 [==============================] - 657s 322ms/step - loss: 2.2772e-04 - val_loss: 2.0263e-05\n",
      "Epoch 25/100\n",
      "2038/2038 [==============================] - 655s 322ms/step - loss: 2.1880e-04 - val_loss: 6.7003e-05\n",
      "Epoch 26/100\n",
      "2038/2038 [==============================] - 657s 322ms/step - loss: 2.1691e-04 - val_loss: 3.7666e-05\n",
      "Epoch 27/100\n",
      "2038/2038 [==============================] - 657s 322ms/step - loss: 2.1502e-04 - val_loss: 3.8025e-05\n",
      "Epoch 28/100\n",
      "2038/2038 [==============================] - 658s 323ms/step - loss: 2.0780e-04 - val_loss: 7.0403e-05\n",
      "Epoch 29/100\n",
      "2038/2038 [==============================] - 688s 338ms/step - loss: 2.0242e-04 - val_loss: 2.3260e-05\n",
      "Epoch 30/100\n",
      "2038/2038 [==============================] - 676s 332ms/step - loss: 1.9900e-04 - val_loss: 2.8261e-05\n",
      "Epoch 31/100\n",
      "2038/2038 [==============================] - 654s 321ms/step - loss: 1.9521e-04 - val_loss: 2.8954e-05\n",
      "Epoch 32/100\n",
      "2038/2038 [==============================] - 655s 321ms/step - loss: 1.9881e-04 - val_loss: 3.0990e-05\n",
      "Epoch 33/100\n",
      "2038/2038 [==============================] - 657s 322ms/step - loss: 1.9972e-04 - val_loss: 1.9672e-05\n",
      "Epoch 34/100\n",
      "2038/2038 [==============================] - 683s 335ms/step - loss: 1.9399e-04 - val_loss: 2.0845e-05\n",
      "Epoch 35/100\n",
      "2038/2038 [==============================] - 666s 327ms/step - loss: 1.9207e-04 - val_loss: 5.8719e-05\n",
      "Epoch 36/100\n",
      "2038/2038 [==============================] - 683s 335ms/step - loss: 1.9534e-04 - val_loss: 8.4344e-05\n",
      "Epoch 37/100\n",
      "2038/2038 [==============================] - 679s 333ms/step - loss: 1.8909e-04 - val_loss: 2.2079e-05\n",
      "Epoch 38/100\n",
      "2038/2038 [==============================] - 656s 322ms/step - loss: 1.8955e-04 - val_loss: 2.0114e-05\n",
      "Epoch 39/100\n",
      "2038/2038 [==============================] - 681s 334ms/step - loss: 1.9045e-04 - val_loss: 9.5732e-05\n",
      "Epoch 40/100\n",
      "2038/2038 [==============================] - 660s 324ms/step - loss: 1.8443e-04 - val_loss: 2.8167e-05\n",
      "Epoch 41/100\n",
      "2038/2038 [==============================] - 689s 338ms/step - loss: 1.7908e-04 - val_loss: 3.9693e-05\n",
      "Epoch 42/100\n",
      "2038/2038 [==============================] - 672s 330ms/step - loss: 1.8647e-04 - val_loss: 1.6763e-05\n",
      "Epoch 43/100\n",
      "2038/2038 [==============================] - 659s 323ms/step - loss: 1.8049e-04 - val_loss: 1.9212e-05\n",
      "Epoch 44/100\n",
      "2038/2038 [==============================] - 658s 323ms/step - loss: 1.8023e-04 - val_loss: 5.4936e-05\n",
      "Epoch 45/100\n",
      "2038/2038 [==============================] - 664s 326ms/step - loss: 1.7405e-04 - val_loss: 1.9468e-05\n",
      "Epoch 46/100\n",
      "2038/2038 [==============================] - 657s 322ms/step - loss: 1.7229e-04 - val_loss: 1.8593e-04\n",
      "Epoch 47/100\n",
      "2038/2038 [==============================] - 692s 340ms/step - loss: 1.7527e-04 - val_loss: 3.4210e-05\n",
      "Epoch 48/100\n",
      "2038/2038 [==============================] - 681s 334ms/step - loss: 1.7446e-04 - val_loss: 2.2201e-05\n",
      "Epoch 49/100\n",
      "2038/2038 [==============================] - 656s 322ms/step - loss: 1.6412e-04 - val_loss: 2.5617e-05\n",
      "Epoch 50/100\n",
      "2038/2038 [==============================] - 659s 323ms/step - loss: 1.7315e-04 - val_loss: 1.8983e-05\n",
      "Epoch 51/100\n",
      "2038/2038 [==============================] - 682s 335ms/step - loss: 1.6558e-04 - val_loss: 2.3766e-04\n",
      "Epoch 52/100\n",
      "2038/2038 [==============================] - 658s 323ms/step - loss: 1.6847e-04 - val_loss: 6.9986e-05\n",
      "Epoch 53/100\n",
      "2038/2038 [==============================] - 657s 322ms/step - loss: 1.6720e-04 - val_loss: 2.2830e-05\n",
      "Epoch 54/100\n",
      "2038/2038 [==============================] - 659s 324ms/step - loss: 1.6877e-04 - val_loss: 4.6004e-05\n",
      "Epoch 55/100\n",
      "2038/2038 [==============================] - 691s 339ms/step - loss: 1.6820e-04 - val_loss: 2.5892e-05\n",
      "Epoch 56/100\n",
      "2038/2038 [==============================] - 685s 336ms/step - loss: 1.6887e-04 - val_loss: 2.1403e-05\n",
      "Epoch 57/100\n",
      "2038/2038 [==============================] - 684s 336ms/step - loss: 1.6674e-04 - val_loss: 4.7869e-05\n",
      "Epoch 58/100\n",
      "2038/2038 [==============================] - 658s 323ms/step - loss: 1.5807e-04 - val_loss: 3.3081e-05\n",
      "Epoch 59/100\n",
      "2038/2038 [==============================] - 678s 333ms/step - loss: 1.6199e-04 - val_loss: 4.3220e-05\n",
      "Epoch 60/100\n",
      "2038/2038 [==============================] - 682s 335ms/step - loss: 1.5623e-04 - val_loss: 4.0749e-05\n",
      "Epoch 61/100\n",
      "2038/2038 [==============================] - 661s 325ms/step - loss: 1.5287e-04 - val_loss: 1.7666e-05\n",
      "Epoch 62/100\n",
      "2038/2038 [==============================] - 661s 324ms/step - loss: 1.5768e-04 - val_loss: 1.8832e-05\n",
      "Epoch 63/100\n",
      "2038/2038 [==============================] - 659s 323ms/step - loss: 1.5762e-04 - val_loss: 4.5567e-05\n",
      "Epoch 64/100\n",
      "2038/2038 [==============================] - 658s 323ms/step - loss: 1.5424e-04 - val_loss: 4.7425e-05\n",
      "Epoch 65/100\n",
      "2038/2038 [==============================] - 658s 323ms/step - loss: 1.5345e-04 - val_loss: 2.2855e-05\n",
      "Epoch 66/100\n",
      "2038/2038 [==============================] - 659s 323ms/step - loss: 1.5161e-04 - val_loss: 1.1838e-04\n",
      "Epoch 67/100\n",
      "2038/2038 [==============================] - 654s 321ms/step - loss: 1.4742e-04 - val_loss: 2.0612e-05\n",
      "Epoch 68/100\n",
      "2038/2038 [==============================] - 683s 335ms/step - loss: 1.4632e-04 - val_loss: 2.3111e-05\n",
      "Epoch 69/100\n",
      "2038/2038 [==============================] - 658s 323ms/step - loss: 1.5237e-04 - val_loss: 2.1204e-05\n",
      "Epoch 70/100\n",
      "2038/2038 [==============================] - 659s 323ms/step - loss: 1.4757e-04 - val_loss: 3.1952e-05\n",
      "Epoch 71/100\n",
      "2038/2038 [==============================] - 654s 321ms/step - loss: 1.5385e-04 - val_loss: 3.6856e-05\n",
      "Epoch 72/100\n",
      "2038/2038 [==============================] - 677s 332ms/step - loss: 1.4805e-04 - val_loss: 2.7955e-05\n",
      "Epoch 73/100\n",
      "2038/2038 [==============================] - 780s 383ms/step - loss: 1.4192e-04 - val_loss: 9.3852e-05\n",
      "Epoch 74/100\n",
      "2038/2038 [==============================] - 753s 370ms/step - loss: 1.4596e-04 - val_loss: 5.7239e-05\n",
      "Epoch 75/100\n",
      "2038/2038 [==============================] - 769s 377ms/step - loss: 1.4050e-04 - val_loss: 2.5569e-05\n",
      "Epoch 76/100\n",
      "2038/2038 [==============================] - 783s 384ms/step - loss: 1.4572e-04 - val_loss: 1.0875e-04\n",
      "Epoch 77/100\n",
      "2038/2038 [==============================] - 763s 374ms/step - loss: 1.4040e-04 - val_loss: 2.6748e-05\n",
      "Epoch 78/100\n",
      "2038/2038 [==============================] - 793s 389ms/step - loss: 1.4101e-04 - val_loss: 2.8947e-05\n",
      "Epoch 79/100\n",
      "2038/2038 [==============================] - 738s 362ms/step - loss: 1.4149e-04 - val_loss: 7.0374e-05\n",
      "Epoch 80/100\n",
      "2038/2038 [==============================] - 741s 364ms/step - loss: 1.3661e-04 - val_loss: 1.9362e-05\n",
      "Epoch 81/100\n",
      "2038/2038 [==============================] - 731s 359ms/step - loss: 1.4407e-04 - val_loss: 1.5937e-04\n",
      "Epoch 82/100\n",
      "2038/2038 [==============================] - 767s 376ms/step - loss: 1.3346e-04 - val_loss: 2.0903e-05\n",
      "Epoch 83/100\n",
      "2038/2038 [==============================] - 687s 337ms/step - loss: 1.4471e-04 - val_loss: 1.9510e-05\n",
      "Epoch 84/100\n",
      "2038/2038 [==============================] - 702s 345ms/step - loss: 1.3735e-04 - val_loss: 4.3165e-05\n",
      "Epoch 85/100\n",
      "2038/2038 [==============================] - 654s 321ms/step - loss: 1.3641e-04 - val_loss: 2.0082e-05\n",
      "Epoch 86/100\n",
      "2038/2038 [==============================] - 653s 320ms/step - loss: 1.4343e-04 - val_loss: 2.2195e-05\n",
      "Epoch 87/100\n",
      "2038/2038 [==============================] - 688s 337ms/step - loss: 1.3297e-04 - val_loss: 2.3844e-05\n",
      "Epoch 88/100\n",
      "2038/2038 [==============================] - 686s 337ms/step - loss: 1.3034e-04 - val_loss: 2.2556e-05\n",
      "Epoch 89/100\n",
      "2038/2038 [==============================] - 655s 321ms/step - loss: 1.3393e-04 - val_loss: 1.8839e-05\n",
      "Epoch 90/100\n",
      "2038/2038 [==============================] - 653s 321ms/step - loss: 1.2737e-04 - val_loss: 2.4121e-05\n",
      "Epoch 91/100\n",
      "2038/2038 [==============================] - 653s 320ms/step - loss: 1.3250e-04 - val_loss: 8.1112e-05\n",
      "Epoch 92/100\n",
      "2038/2038 [==============================] - 655s 321ms/step - loss: 1.3026e-04 - val_loss: 2.6131e-05\n",
      "Epoch 93/100\n",
      "2038/2038 [==============================] - 656s 322ms/step - loss: 1.2613e-04 - val_loss: 3.6263e-05\n",
      "Epoch 94/100\n",
      "2038/2038 [==============================] - 676s 332ms/step - loss: 1.2841e-04 - val_loss: 5.7716e-05\n",
      "Epoch 95/100\n",
      "2038/2038 [==============================] - 671s 329ms/step - loss: 1.2572e-04 - val_loss: 2.2712e-05\n",
      "Epoch 96/100\n",
      "2038/2038 [==============================] - 764s 375ms/step - loss: 1.2312e-04 - val_loss: 2.1573e-05\n",
      "Epoch 97/100\n",
      "2038/2038 [==============================] - 754s 370ms/step - loss: 1.2230e-04 - val_loss: 8.1203e-05\n",
      "Epoch 98/100\n",
      "2038/2038 [==============================] - 749s 368ms/step - loss: 1.2416e-04 - val_loss: 2.8328e-05\n",
      "Epoch 99/100\n",
      "2038/2038 [==============================] - 774s 380ms/step - loss: 1.2138e-04 - val_loss: 2.2282e-05\n",
      "Epoch 100/100\n",
      "2038/2038 [==============================] - 748s 367ms/step - loss: 1.1990e-04 - val_loss: 2.3167e-05\n"
     ]
    },
    {
     "data": {
      "text/plain": [
       "<keras.callbacks.History at 0x2d5dc006700>"
      ]
     },
     "execution_count": 34,
     "metadata": {},
     "output_type": "execute_result"
    }
   ],
   "source": [
    "model.fit(X_train,y_train,validation_data=(X_test,ytest),epochs=100,batch_size=64,verbose=1)"
   ]
  },
  {
   "cell_type": "code",
   "execution_count": 35,
   "metadata": {},
   "outputs": [
    {
     "data": {
      "text/plain": [
       "[<matplotlib.lines.Line2D at 0x2d5e3c557f0>]"
      ]
     },
     "execution_count": 35,
     "metadata": {},
     "output_type": "execute_result"
    },
    {
     "data": {
      "image/png": "[encoded data removed]",
      "text/plain": [
       "<Figure size 432x288 with 1 Axes>"
      ]
     },
     "metadata": {
      "needs_background": "light"
     },
     "output_type": "display_data"
    }
   ],
   "source": [
    "loss_per_epoch = model.history.history['loss']\n",
    "plt.plot(range(len(loss_per_epoch)),loss_per_epoch)"
   ]
  },
  {
   "cell_type": "code",
   "execution_count": 36,
   "metadata": {},
   "outputs": [],
   "source": [
    "import tensorflow as tf"
   ]
  },
  {
   "cell_type": "code",
   "execution_count": 37,
   "metadata": {},
   "outputs": [
    {
     "data": {
      "text/plain": [
       "'2.7.0'"
      ]
     },
     "execution_count": 37,
     "metadata": {},
     "output_type": "execute_result"
    }
   ],
   "source": [
    "tf.__version__"
   ]
  },
  {
   "cell_type": "code",
   "execution_count": 38,
   "metadata": {},
   "outputs": [],
   "source": [
    "### Lets Do the prediction and check performance metrics\n",
    "train_predict=model.predict(X_train)\n",
    "test_predict=model.predict(X_test)"
   ]
  },
  {
   "cell_type": "code",
   "execution_count": 39,
   "metadata": {},
   "outputs": [],
   "source": [
    "##Transformback to original form\n",
    "train_predict=scaler.inverse_transform(train_predict)\n",
    "test_predict=scaler.inverse_transform(test_predict)"
   ]
  },
  {
   "cell_type": "code",
   "execution_count": 40,
   "metadata": {},
   "outputs": [
    {
     "data": {
      "text/plain": [
       "570.4079883702174"
      ]
     },
     "execution_count": 40,
     "metadata": {},
     "output_type": "execute_result"
    }
   ],
   "source": [
    "### Calculate RMSE performance metrics\n",
    "import math\n",
    "from sklearn.metrics import mean_squared_error\n",
    "math.sqrt(mean_squared_error(y_train,train_predict))"
   ]
  },
  {
   "cell_type": "code",
   "execution_count": 41,
   "metadata": {},
   "outputs": [
    {
     "data": {
      "text/plain": [
       "236.15759835537528"
      ]
     },
     "execution_count": 41,
     "metadata": {},
     "output_type": "execute_result"
    }
   ],
   "source": [
    "### Test Data RMSE\n",
    "math.sqrt(mean_squared_error(ytest,test_predict))"
   ]
  },
  {
   "cell_type": "code",
   "execution_count": 42,
   "metadata": {},
   "outputs": [
    {
     "data": {
      "image/png": "[encoded data removed]",
      "text/plain": [
       "<Figure size 432x288 with 1 Axes>"
      ]
     },
     "metadata": {
      "needs_background": "light"
     },
     "output_type": "display_data"
    }
   ],
   "source": [
    "### Plotting \n",
    "# shift train predictions for plotting\n",
    "look_back=100\n",
    "trainPredictPlot = numpy.empty_like(df1)\n",
    "trainPredictPlot[:, :] = np.nan\n",
    "trainPredictPlot[look_back:len(train_predict)+look_back, :] = train_predict\n",
    "# shift test predictions for plotting\n",
    "testPredictPlot = numpy.empty_like(df1)\n",
    "testPredictPlot[:, :] = numpy.nan\n",
    "testPredictPlot[len(train_predict)+(look_back*2)+1:len(df1)-1, :] = test_predict\n",
    "# plot baseline and predictions\n",
    "plt.plot(scaler.inverse_transform(df1))\n",
    "plt.plot(trainPredictPlot)\n",
    "plt.plot(testPredictPlot)\n",
    "plt.show()"
   ]
  },
  {
   "cell_type": "code",
   "execution_count": 43,
   "metadata": {},
   "outputs": [
    {
     "data": {
      "text/plain": [
       "43491"
      ]
     },
     "execution_count": 43,
     "metadata": {},
     "output_type": "execute_result"
    }
   ],
   "source": [
    "len(test_data)"
   ]
  },
  {
   "cell_type": "code",
   "execution_count": 44,
   "metadata": {},
   "outputs": [
    {
     "data": {
      "text/plain": [
       "(1, 100)"
      ]
     },
     "execution_count": 44,
     "metadata": {},
     "output_type": "execute_result"
    }
   ],
   "source": [
    "x_input=test_data[43391:].reshape(1,-1)\n",
    "x_input.shape\n"
   ]
  },
  {
   "cell_type": "code",
   "execution_count": null,
   "metadata": {},
   "outputs": [],
   "source": []
  },
  {
   "cell_type": "code",
   "execution_count": null,
   "metadata": {},
   "outputs": [],
   "source": []
  },
  {
   "cell_type": "code",
   "execution_count": 45,
   "metadata": {},
   "outputs": [],
   "source": [
    "temp_input=list(x_input)\n",
    "temp_input=temp_input[0].tolist()"
   ]
  },
  {
   "cell_type": "code",
   "execution_count": 46,
   "metadata": {},
   "outputs": [
    {
     "data": {
      "text/plain": [
       "[0.0,\n",
       " 0.0,\n",
       " 0.0,\n",
       " 0.0,\n",
       " 0.0,\n",
       " 0.0,\n",
       " 0.0,\n",
       " 0.0,\n",
       " 0.0,\n",
       " 0.0,\n",
       " 0.0,\n",
       " 0.0,\n",
       " 0.0,\n",
       " 0.0,\n",
       " 0.0,\n",
       " 0.0,\n",
       " 0.0,\n",
       " 0.0,\n",
       " 0.0,\n",
       " 0.0,\n",
       " 0.0,\n",
       " 0.0,\n",
       " 0.0,\n",
       " 0.0,\n",
       " 0.0,\n",
       " 0.0,\n",
       " 0.0,\n",
       " 0.0,\n",
       " 0.0,\n",
       " 0.0,\n",
       " 0.0,\n",
       " 0.0,\n",
       " 0.0,\n",
       " 0.0,\n",
       " 0.0,\n",
       " 0.0,\n",
       " 0.0,\n",
       " 0.0,\n",
       " 0.0,\n",
       " 0.0,\n",
       " 0.0,\n",
       " 0.0,\n",
       " 0.0,\n",
       " 0.0,\n",
       " 0.0,\n",
       " 0.0,\n",
       " 0.0,\n",
       " 0.0,\n",
       " 0.0,\n",
       " 0.0,\n",
       " 0.0,\n",
       " 0.0,\n",
       " 0.0,\n",
       " 0.0,\n",
       " 0.0,\n",
       " 0.0,\n",
       " 0.0,\n",
       " 0.0,\n",
       " 0.0,\n",
       " 0.0,\n",
       " 0.0,\n",
       " 0.0,\n",
       " 0.0,\n",
       " 0.0,\n",
       " 0.0,\n",
       " 0.0,\n",
       " 0.0,\n",
       " 0.0,\n",
       " 0.0,\n",
       " 0.06547503400038858,\n",
       " 0.043576008215604096,\n",
       " 0.07632740292542119,\n",
       " 0.06702933747814262,\n",
       " 0.03408365483360626,\n",
       " 0.022315357073468593,\n",
       " 0.05390102417497016,\n",
       " 0.034499986122290376,\n",
       " 0.046601348913375334,\n",
       " 0.013183824141663658,\n",
       " 0.03247384051736101,\n",
       " 0.0205390102417497,\n",
       " 0.10563712564878293,\n",
       " 0.05045935218851481,\n",
       " 0.10980043853562409,\n",
       " 0.06994365649893142,\n",
       " 0.06902772766382637,\n",
       " 0.06200560659468761,\n",
       " 0.08876183074745345,\n",
       " 0.08329401315606873,\n",
       " 0.09134308473729495,\n",
       " 0.06383746426489773,\n",
       " 0.03394487773737822,\n",
       " 0.01798551167115379,\n",
       " 0.04557439840128785,\n",
       " 0.03155791168225596,\n",
       " 0.014432818007716005,\n",
       " 0.01523772516583863,\n",
       " 0.00033306503094729243,\n",
       " 0.0,\n",
       " 0.0001387770962280385]"
      ]
     },
     "execution_count": 46,
     "metadata": {},
     "output_type": "execute_result"
    }
   ],
   "source": [
    "temp_input"
   ]
  },
  {
   "cell_type": "code",
   "execution_count": 47,
   "metadata": {},
   "outputs": [
    {
     "name": "stdout",
     "output_type": "stream",
     "text": [
      "[0.00174814]\n",
      "101\n",
      "1 day input [0.         0.         0.         0.         0.         0.\n",
      " 0.         0.         0.         0.         0.         0.\n",
      " 0.         0.         0.         0.         0.         0.\n",
      " 0.         0.         0.         0.         0.         0.\n",
      " 0.         0.         0.         0.         0.         0.\n",
      " 0.         0.         0.         0.         0.         0.\n",
      " 0.         0.         0.         0.         0.         0.\n",
      " 0.         0.         0.         0.         0.         0.\n",
      " 0.         0.         0.         0.         0.         0.\n",
      " 0.         0.         0.         0.         0.         0.\n",
      " 0.         0.         0.         0.         0.         0.\n",
      " 0.         0.         0.06547503 0.04357601 0.0763274  0.06702934\n",
      " 0.03408365 0.02231536 0.05390102 0.03449999 0.04660135 0.01318382\n",
      " 0.03247384 0.02053901 0.10563713 0.05045935 0.10980044 0.06994366\n",
      " 0.06902773 0.06200561 0.08876183 0.08329401 0.09134308 0.06383746\n",
      " 0.03394488 0.01798551 0.0455744  0.03155791 0.01443282 0.01523773\n",
      " 0.00033307 0.         0.00013878 0.00174814]\n",
      "1 day output [[8.714199e-05]]\n",
      "2 day input [0.00000000e+00 0.00000000e+00 0.00000000e+00 0.00000000e+00\n",
      " 0.00000000e+00 0.00000000e+00 0.00000000e+00 0.00000000e+00\n",
      " 0.00000000e+00 0.00000000e+00 0.00000000e+00 0.00000000e+00\n",
      " 0.00000000e+00 0.00000000e+00 0.00000000e+00 0.00000000e+00\n",
      " 0.00000000e+00 0.00000000e+00 0.00000000e+00 0.00000000e+00\n",
      " 0.00000000e+00 0.00000000e+00 0.00000000e+00 0.00000000e+00\n",
      " 0.00000000e+00 0.00000000e+00 0.00000000e+00 0.00000000e+00\n",
      " 0.00000000e+00 0.00000000e+00 0.00000000e+00 0.00000000e+00\n",
      " 0.00000000e+00 0.00000000e+00 0.00000000e+00 0.00000000e+00\n",
      " 0.00000000e+00 0.00000000e+00 0.00000000e+00 0.00000000e+00\n",
      " 0.00000000e+00 0.00000000e+00 0.00000000e+00 0.00000000e+00\n",
      " 0.00000000e+00 0.00000000e+00 0.00000000e+00 0.00000000e+00\n",
      " 0.00000000e+00 0.00000000e+00 0.00000000e+00 0.00000000e+00\n",
      " 0.00000000e+00 0.00000000e+00 0.00000000e+00 0.00000000e+00\n",
      " 0.00000000e+00 0.00000000e+00 0.00000000e+00 0.00000000e+00\n",
      " 0.00000000e+00 0.00000000e+00 0.00000000e+00 0.00000000e+00\n",
      " 0.00000000e+00 0.00000000e+00 0.00000000e+00 6.54750340e-02\n",
      " 4.35760082e-02 7.63274029e-02 6.70293375e-02 3.40836548e-02\n",
      " 2.23153571e-02 5.39010242e-02 3.44999861e-02 4.66013489e-02\n",
      " 1.31838241e-02 3.24738405e-02 2.05390102e-02 1.05637126e-01\n",
      " 5.04593522e-02 1.09800439e-01 6.99436565e-02 6.90277277e-02\n",
      " 6.20056066e-02 8.87618307e-02 8.32940132e-02 9.13430847e-02\n",
      " 6.38374643e-02 3.39448777e-02 1.79855117e-02 4.55743984e-02\n",
      " 3.15579117e-02 1.44328180e-02 1.52377252e-02 3.33065031e-04\n",
      " 0.00000000e+00 1.38777096e-04 1.74814463e-03 8.71419907e-05]\n",
      "2 day output [[-0.00243425]]\n",
      "3 day input [ 0.00000000e+00  0.00000000e+00  0.00000000e+00  0.00000000e+00\n",
      "  0.00000000e+00  0.00000000e+00  0.00000000e+00  0.00000000e+00\n",
      "  0.00000000e+00  0.00000000e+00  0.00000000e+00  0.00000000e+00\n",
      "  0.00000000e+00  0.00000000e+00  0.00000000e+00  0.00000000e+00\n",
      "  0.00000000e+00  0.00000000e+00  0.00000000e+00  0.00000000e+00\n",
      "  0.00000000e+00  0.00000000e+00  0.00000000e+00  0.00000000e+00\n",
      "  0.00000000e+00  0.00000000e+00  0.00000000e+00  0.00000000e+00\n",
      "  0.00000000e+00  0.00000000e+00  0.00000000e+00  0.00000000e+00\n",
      "  0.00000000e+00  0.00000000e+00  0.00000000e+00  0.00000000e+00\n",
      "  0.00000000e+00  0.00000000e+00  0.00000000e+00  0.00000000e+00\n",
      "  0.00000000e+00  0.00000000e+00  0.00000000e+00  0.00000000e+00\n",
      "  0.00000000e+00  0.00000000e+00  0.00000000e+00  0.00000000e+00\n",
      "  0.00000000e+00  0.00000000e+00  0.00000000e+00  0.00000000e+00\n",
      "  0.00000000e+00  0.00000000e+00  0.00000000e+00  0.00000000e+00\n",
      "  0.00000000e+00  0.00000000e+00  0.00000000e+00  0.00000000e+00\n",
      "  0.00000000e+00  0.00000000e+00  0.00000000e+00  0.00000000e+00\n",
      "  0.00000000e+00  0.00000000e+00  6.54750340e-02  4.35760082e-02\n",
      "  7.63274029e-02  6.70293375e-02  3.40836548e-02  2.23153571e-02\n",
      "  5.39010242e-02  3.44999861e-02  4.66013489e-02  1.31838241e-02\n",
      "  3.24738405e-02  2.05390102e-02  1.05637126e-01  5.04593522e-02\n",
      "  1.09800439e-01  6.99436565e-02  6.90277277e-02  6.20056066e-02\n",
      "  8.87618307e-02  8.32940132e-02  9.13430847e-02  6.38374643e-02\n",
      "  3.39448777e-02  1.79855117e-02  4.55743984e-02  3.15579117e-02\n",
      "  1.44328180e-02  1.52377252e-02  3.33065031e-04  0.00000000e+00\n",
      "  1.38777096e-04  1.74814463e-03  8.71419907e-05 -2.43425369e-03]\n",
      "3 day output [[-0.00318033]]\n",
      "4 day input [ 0.00000000e+00  0.00000000e+00  0.00000000e+00  0.00000000e+00\n",
      "  0.00000000e+00  0.00000000e+00  0.00000000e+00  0.00000000e+00\n",
      "  0.00000000e+00  0.00000000e+00  0.00000000e+00  0.00000000e+00\n",
      "  0.00000000e+00  0.00000000e+00  0.00000000e+00  0.00000000e+00\n",
      "  0.00000000e+00  0.00000000e+00  0.00000000e+00  0.00000000e+00\n",
      "  0.00000000e+00  0.00000000e+00  0.00000000e+00  0.00000000e+00\n",
      "  0.00000000e+00  0.00000000e+00  0.00000000e+00  0.00000000e+00\n",
      "  0.00000000e+00  0.00000000e+00  0.00000000e+00  0.00000000e+00\n",
      "  0.00000000e+00  0.00000000e+00  0.00000000e+00  0.00000000e+00\n",
      "  0.00000000e+00  0.00000000e+00  0.00000000e+00  0.00000000e+00\n",
      "  0.00000000e+00  0.00000000e+00  0.00000000e+00  0.00000000e+00\n",
      "  0.00000000e+00  0.00000000e+00  0.00000000e+00  0.00000000e+00\n",
      "  0.00000000e+00  0.00000000e+00  0.00000000e+00  0.00000000e+00\n",
      "  0.00000000e+00  0.00000000e+00  0.00000000e+00  0.00000000e+00\n",
      "  0.00000000e+00  0.00000000e+00  0.00000000e+00  0.00000000e+00\n",
      "  0.00000000e+00  0.00000000e+00  0.00000000e+00  0.00000000e+00\n",
      "  0.00000000e+00  6.54750340e-02  4.35760082e-02  7.63274029e-02\n",
      "  6.70293375e-02  3.40836548e-02  2.23153571e-02  5.39010242e-02\n",
      "  3.44999861e-02  4.66013489e-02  1.31838241e-02  3.24738405e-02\n",
      "  2.05390102e-02  1.05637126e-01  5.04593522e-02  1.09800439e-01\n",
      "  6.99436565e-02  6.90277277e-02  6.20056066e-02  8.87618307e-02\n",
      "  8.32940132e-02  9.13430847e-02  6.38374643e-02  3.39448777e-02\n",
      "  1.79855117e-02  4.55743984e-02  3.15579117e-02  1.44328180e-02\n",
      "  1.52377252e-02  3.33065031e-04  0.00000000e+00  1.38777096e-04\n",
      "  1.74814463e-03  8.71419907e-05 -2.43425369e-03 -3.18032503e-03]\n",
      "4 day output [[-0.00351208]]\n",
      "5 day input [ 0.00000000e+00  0.00000000e+00  0.00000000e+00  0.00000000e+00\n",
      "  0.00000000e+00  0.00000000e+00  0.00000000e+00  0.00000000e+00\n",
      "  0.00000000e+00  0.00000000e+00  0.00000000e+00  0.00000000e+00\n",
      "  0.00000000e+00  0.00000000e+00  0.00000000e+00  0.00000000e+00\n",
      "  0.00000000e+00  0.00000000e+00  0.00000000e+00  0.00000000e+00\n",
      "  0.00000000e+00  0.00000000e+00  0.00000000e+00  0.00000000e+00\n",
      "  0.00000000e+00  0.00000000e+00  0.00000000e+00  0.00000000e+00\n",
      "  0.00000000e+00  0.00000000e+00  0.00000000e+00  0.00000000e+00\n",
      "  0.00000000e+00  0.00000000e+00  0.00000000e+00  0.00000000e+00\n",
      "  0.00000000e+00  0.00000000e+00  0.00000000e+00  0.00000000e+00\n",
      "  0.00000000e+00  0.00000000e+00  0.00000000e+00  0.00000000e+00\n",
      "  0.00000000e+00  0.00000000e+00  0.00000000e+00  0.00000000e+00\n",
      "  0.00000000e+00  0.00000000e+00  0.00000000e+00  0.00000000e+00\n",
      "  0.00000000e+00  0.00000000e+00  0.00000000e+00  0.00000000e+00\n",
      "  0.00000000e+00  0.00000000e+00  0.00000000e+00  0.00000000e+00\n",
      "  0.00000000e+00  0.00000000e+00  0.00000000e+00  0.00000000e+00\n",
      "  6.54750340e-02  4.35760082e-02  7.63274029e-02  6.70293375e-02\n",
      "  3.40836548e-02  2.23153571e-02  5.39010242e-02  3.44999861e-02\n",
      "  4.66013489e-02  1.31838241e-02  3.24738405e-02  2.05390102e-02\n",
      "  1.05637126e-01  5.04593522e-02  1.09800439e-01  6.99436565e-02\n",
      "  6.90277277e-02  6.20056066e-02  8.87618307e-02  8.32940132e-02\n",
      "  9.13430847e-02  6.38374643e-02  3.39448777e-02  1.79855117e-02\n",
      "  4.55743984e-02  3.15579117e-02  1.44328180e-02  1.52377252e-02\n",
      "  3.33065031e-04  0.00000000e+00  1.38777096e-04  1.74814463e-03\n",
      "  8.71419907e-05 -2.43425369e-03 -3.18032503e-03 -3.51208448e-03]\n",
      "5 day output [[-0.00370562]]\n",
      "6 day input [ 0.00000000e+00  0.00000000e+00  0.00000000e+00  0.00000000e+00\n",
      "  0.00000000e+00  0.00000000e+00  0.00000000e+00  0.00000000e+00\n",
      "  0.00000000e+00  0.00000000e+00  0.00000000e+00  0.00000000e+00\n",
      "  0.00000000e+00  0.00000000e+00  0.00000000e+00  0.00000000e+00\n",
      "  0.00000000e+00  0.00000000e+00  0.00000000e+00  0.00000000e+00\n",
      "  0.00000000e+00  0.00000000e+00  0.00000000e+00  0.00000000e+00\n",
      "  0.00000000e+00  0.00000000e+00  0.00000000e+00  0.00000000e+00\n",
      "  0.00000000e+00  0.00000000e+00  0.00000000e+00  0.00000000e+00\n",
      "  0.00000000e+00  0.00000000e+00  0.00000000e+00  0.00000000e+00\n",
      "  0.00000000e+00  0.00000000e+00  0.00000000e+00  0.00000000e+00\n",
      "  0.00000000e+00  0.00000000e+00  0.00000000e+00  0.00000000e+00\n",
      "  0.00000000e+00  0.00000000e+00  0.00000000e+00  0.00000000e+00\n",
      "  0.00000000e+00  0.00000000e+00  0.00000000e+00  0.00000000e+00\n",
      "  0.00000000e+00  0.00000000e+00  0.00000000e+00  0.00000000e+00\n",
      "  0.00000000e+00  0.00000000e+00  0.00000000e+00  0.00000000e+00\n",
      "  0.00000000e+00  0.00000000e+00  0.00000000e+00  6.54750340e-02\n",
      "  4.35760082e-02  7.63274029e-02  6.70293375e-02  3.40836548e-02\n",
      "  2.23153571e-02  5.39010242e-02  3.44999861e-02  4.66013489e-02\n",
      "  1.31838241e-02  3.24738405e-02  2.05390102e-02  1.05637126e-01\n",
      "  5.04593522e-02  1.09800439e-01  6.99436565e-02  6.90277277e-02\n",
      "  6.20056066e-02  8.87618307e-02  8.32940132e-02  9.13430847e-02\n",
      "  6.38374643e-02  3.39448777e-02  1.79855117e-02  4.55743984e-02\n",
      "  3.15579117e-02  1.44328180e-02  1.52377252e-02  3.33065031e-04\n",
      "  0.00000000e+00  1.38777096e-04  1.74814463e-03  8.71419907e-05\n",
      " -2.43425369e-03 -3.18032503e-03 -3.51208448e-03 -3.70562077e-03]\n"
     ]
    },
    {
     "name": "stdout",
     "output_type": "stream",
     "text": [
      "6 day output [[-0.00296575]]\n",
      "7 day input [ 0.00000000e+00  0.00000000e+00  0.00000000e+00  0.00000000e+00\n",
      "  0.00000000e+00  0.00000000e+00  0.00000000e+00  0.00000000e+00\n",
      "  0.00000000e+00  0.00000000e+00  0.00000000e+00  0.00000000e+00\n",
      "  0.00000000e+00  0.00000000e+00  0.00000000e+00  0.00000000e+00\n",
      "  0.00000000e+00  0.00000000e+00  0.00000000e+00  0.00000000e+00\n",
      "  0.00000000e+00  0.00000000e+00  0.00000000e+00  0.00000000e+00\n",
      "  0.00000000e+00  0.00000000e+00  0.00000000e+00  0.00000000e+00\n",
      "  0.00000000e+00  0.00000000e+00  0.00000000e+00  0.00000000e+00\n",
      "  0.00000000e+00  0.00000000e+00  0.00000000e+00  0.00000000e+00\n",
      "  0.00000000e+00  0.00000000e+00  0.00000000e+00  0.00000000e+00\n",
      "  0.00000000e+00  0.00000000e+00  0.00000000e+00  0.00000000e+00\n",
      "  0.00000000e+00  0.00000000e+00  0.00000000e+00  0.00000000e+00\n",
      "  0.00000000e+00  0.00000000e+00  0.00000000e+00  0.00000000e+00\n",
      "  0.00000000e+00  0.00000000e+00  0.00000000e+00  0.00000000e+00\n",
      "  0.00000000e+00  0.00000000e+00  0.00000000e+00  0.00000000e+00\n",
      "  0.00000000e+00  0.00000000e+00  6.54750340e-02  4.35760082e-02\n",
      "  7.63274029e-02  6.70293375e-02  3.40836548e-02  2.23153571e-02\n",
      "  5.39010242e-02  3.44999861e-02  4.66013489e-02  1.31838241e-02\n",
      "  3.24738405e-02  2.05390102e-02  1.05637126e-01  5.04593522e-02\n",
      "  1.09800439e-01  6.99436565e-02  6.90277277e-02  6.20056066e-02\n",
      "  8.87618307e-02  8.32940132e-02  9.13430847e-02  6.38374643e-02\n",
      "  3.39448777e-02  1.79855117e-02  4.55743984e-02  3.15579117e-02\n",
      "  1.44328180e-02  1.52377252e-02  3.33065031e-04  0.00000000e+00\n",
      "  1.38777096e-04  1.74814463e-03  8.71419907e-05 -2.43425369e-03\n",
      " -3.18032503e-03 -3.51208448e-03 -3.70562077e-03 -2.96574831e-03]\n",
      "7 day output [[-0.00269437]]\n",
      "8 day input [ 0.00000000e+00  0.00000000e+00  0.00000000e+00  0.00000000e+00\n",
      "  0.00000000e+00  0.00000000e+00  0.00000000e+00  0.00000000e+00\n",
      "  0.00000000e+00  0.00000000e+00  0.00000000e+00  0.00000000e+00\n",
      "  0.00000000e+00  0.00000000e+00  0.00000000e+00  0.00000000e+00\n",
      "  0.00000000e+00  0.00000000e+00  0.00000000e+00  0.00000000e+00\n",
      "  0.00000000e+00  0.00000000e+00  0.00000000e+00  0.00000000e+00\n",
      "  0.00000000e+00  0.00000000e+00  0.00000000e+00  0.00000000e+00\n",
      "  0.00000000e+00  0.00000000e+00  0.00000000e+00  0.00000000e+00\n",
      "  0.00000000e+00  0.00000000e+00  0.00000000e+00  0.00000000e+00\n",
      "  0.00000000e+00  0.00000000e+00  0.00000000e+00  0.00000000e+00\n",
      "  0.00000000e+00  0.00000000e+00  0.00000000e+00  0.00000000e+00\n",
      "  0.00000000e+00  0.00000000e+00  0.00000000e+00  0.00000000e+00\n",
      "  0.00000000e+00  0.00000000e+00  0.00000000e+00  0.00000000e+00\n",
      "  0.00000000e+00  0.00000000e+00  0.00000000e+00  0.00000000e+00\n",
      "  0.00000000e+00  0.00000000e+00  0.00000000e+00  0.00000000e+00\n",
      "  0.00000000e+00  6.54750340e-02  4.35760082e-02  7.63274029e-02\n",
      "  6.70293375e-02  3.40836548e-02  2.23153571e-02  5.39010242e-02\n",
      "  3.44999861e-02  4.66013489e-02  1.31838241e-02  3.24738405e-02\n",
      "  2.05390102e-02  1.05637126e-01  5.04593522e-02  1.09800439e-01\n",
      "  6.99436565e-02  6.90277277e-02  6.20056066e-02  8.87618307e-02\n",
      "  8.32940132e-02  9.13430847e-02  6.38374643e-02  3.39448777e-02\n",
      "  1.79855117e-02  4.55743984e-02  3.15579117e-02  1.44328180e-02\n",
      "  1.52377252e-02  3.33065031e-04  0.00000000e+00  1.38777096e-04\n",
      "  1.74814463e-03  8.71419907e-05 -2.43425369e-03 -3.18032503e-03\n",
      " -3.51208448e-03 -3.70562077e-03 -2.96574831e-03 -2.69436836e-03]\n",
      "8 day output [[-0.00200742]]\n",
      "9 day input [ 0.00000000e+00  0.00000000e+00  0.00000000e+00  0.00000000e+00\n",
      "  0.00000000e+00  0.00000000e+00  0.00000000e+00  0.00000000e+00\n",
      "  0.00000000e+00  0.00000000e+00  0.00000000e+00  0.00000000e+00\n",
      "  0.00000000e+00  0.00000000e+00  0.00000000e+00  0.00000000e+00\n",
      "  0.00000000e+00  0.00000000e+00  0.00000000e+00  0.00000000e+00\n",
      "  0.00000000e+00  0.00000000e+00  0.00000000e+00  0.00000000e+00\n",
      "  0.00000000e+00  0.00000000e+00  0.00000000e+00  0.00000000e+00\n",
      "  0.00000000e+00  0.00000000e+00  0.00000000e+00  0.00000000e+00\n",
      "  0.00000000e+00  0.00000000e+00  0.00000000e+00  0.00000000e+00\n",
      "  0.00000000e+00  0.00000000e+00  0.00000000e+00  0.00000000e+00\n",
      "  0.00000000e+00  0.00000000e+00  0.00000000e+00  0.00000000e+00\n",
      "  0.00000000e+00  0.00000000e+00  0.00000000e+00  0.00000000e+00\n",
      "  0.00000000e+00  0.00000000e+00  0.00000000e+00  0.00000000e+00\n",
      "  0.00000000e+00  0.00000000e+00  0.00000000e+00  0.00000000e+00\n",
      "  0.00000000e+00  0.00000000e+00  0.00000000e+00  0.00000000e+00\n",
      "  6.54750340e-02  4.35760082e-02  7.63274029e-02  6.70293375e-02\n",
      "  3.40836548e-02  2.23153571e-02  5.39010242e-02  3.44999861e-02\n",
      "  4.66013489e-02  1.31838241e-02  3.24738405e-02  2.05390102e-02\n",
      "  1.05637126e-01  5.04593522e-02  1.09800439e-01  6.99436565e-02\n",
      "  6.90277277e-02  6.20056066e-02  8.87618307e-02  8.32940132e-02\n",
      "  9.13430847e-02  6.38374643e-02  3.39448777e-02  1.79855117e-02\n",
      "  4.55743984e-02  3.15579117e-02  1.44328180e-02  1.52377252e-02\n",
      "  3.33065031e-04  0.00000000e+00  1.38777096e-04  1.74814463e-03\n",
      "  8.71419907e-05 -2.43425369e-03 -3.18032503e-03 -3.51208448e-03\n",
      " -3.70562077e-03 -2.96574831e-03 -2.69436836e-03 -2.00742483e-03]\n",
      "9 day output [[-0.00176781]]\n",
      "10 day input [ 0.00000000e+00  0.00000000e+00  0.00000000e+00  0.00000000e+00\n",
      "  0.00000000e+00  0.00000000e+00  0.00000000e+00  0.00000000e+00\n",
      "  0.00000000e+00  0.00000000e+00  0.00000000e+00  0.00000000e+00\n",
      "  0.00000000e+00  0.00000000e+00  0.00000000e+00  0.00000000e+00\n",
      "  0.00000000e+00  0.00000000e+00  0.00000000e+00  0.00000000e+00\n",
      "  0.00000000e+00  0.00000000e+00  0.00000000e+00  0.00000000e+00\n",
      "  0.00000000e+00  0.00000000e+00  0.00000000e+00  0.00000000e+00\n",
      "  0.00000000e+00  0.00000000e+00  0.00000000e+00  0.00000000e+00\n",
      "  0.00000000e+00  0.00000000e+00  0.00000000e+00  0.00000000e+00\n",
      "  0.00000000e+00  0.00000000e+00  0.00000000e+00  0.00000000e+00\n",
      "  0.00000000e+00  0.00000000e+00  0.00000000e+00  0.00000000e+00\n",
      "  0.00000000e+00  0.00000000e+00  0.00000000e+00  0.00000000e+00\n",
      "  0.00000000e+00  0.00000000e+00  0.00000000e+00  0.00000000e+00\n",
      "  0.00000000e+00  0.00000000e+00  0.00000000e+00  0.00000000e+00\n",
      "  0.00000000e+00  0.00000000e+00  0.00000000e+00  6.54750340e-02\n",
      "  4.35760082e-02  7.63274029e-02  6.70293375e-02  3.40836548e-02\n",
      "  2.23153571e-02  5.39010242e-02  3.44999861e-02  4.66013489e-02\n",
      "  1.31838241e-02  3.24738405e-02  2.05390102e-02  1.05637126e-01\n",
      "  5.04593522e-02  1.09800439e-01  6.99436565e-02  6.90277277e-02\n",
      "  6.20056066e-02  8.87618307e-02  8.32940132e-02  9.13430847e-02\n",
      "  6.38374643e-02  3.39448777e-02  1.79855117e-02  4.55743984e-02\n",
      "  3.15579117e-02  1.44328180e-02  1.52377252e-02  3.33065031e-04\n",
      "  0.00000000e+00  1.38777096e-04  1.74814463e-03  8.71419907e-05\n",
      " -2.43425369e-03 -3.18032503e-03 -3.51208448e-03 -3.70562077e-03\n",
      " -2.96574831e-03 -2.69436836e-03 -2.00742483e-03 -1.76781416e-03]\n",
      "10 day output [[-0.00195605]]\n",
      "11 day input [ 0.00000000e+00  0.00000000e+00  0.00000000e+00  0.00000000e+00\n",
      "  0.00000000e+00  0.00000000e+00  0.00000000e+00  0.00000000e+00\n",
      "  0.00000000e+00  0.00000000e+00  0.00000000e+00  0.00000000e+00\n",
      "  0.00000000e+00  0.00000000e+00  0.00000000e+00  0.00000000e+00\n",
      "  0.00000000e+00  0.00000000e+00  0.00000000e+00  0.00000000e+00\n",
      "  0.00000000e+00  0.00000000e+00  0.00000000e+00  0.00000000e+00\n",
      "  0.00000000e+00  0.00000000e+00  0.00000000e+00  0.00000000e+00\n",
      "  0.00000000e+00  0.00000000e+00  0.00000000e+00  0.00000000e+00\n",
      "  0.00000000e+00  0.00000000e+00  0.00000000e+00  0.00000000e+00\n",
      "  0.00000000e+00  0.00000000e+00  0.00000000e+00  0.00000000e+00\n",
      "  0.00000000e+00  0.00000000e+00  0.00000000e+00  0.00000000e+00\n",
      "  0.00000000e+00  0.00000000e+00  0.00000000e+00  0.00000000e+00\n",
      "  0.00000000e+00  0.00000000e+00  0.00000000e+00  0.00000000e+00\n",
      "  0.00000000e+00  0.00000000e+00  0.00000000e+00  0.00000000e+00\n",
      "  0.00000000e+00  0.00000000e+00  6.54750340e-02  4.35760082e-02\n",
      "  7.63274029e-02  6.70293375e-02  3.40836548e-02  2.23153571e-02\n",
      "  5.39010242e-02  3.44999861e-02  4.66013489e-02  1.31838241e-02\n",
      "  3.24738405e-02  2.05390102e-02  1.05637126e-01  5.04593522e-02\n",
      "  1.09800439e-01  6.99436565e-02  6.90277277e-02  6.20056066e-02\n",
      "  8.87618307e-02  8.32940132e-02  9.13430847e-02  6.38374643e-02\n",
      "  3.39448777e-02  1.79855117e-02  4.55743984e-02  3.15579117e-02\n",
      "  1.44328180e-02  1.52377252e-02  3.33065031e-04  0.00000000e+00\n",
      "  1.38777096e-04  1.74814463e-03  8.71419907e-05 -2.43425369e-03\n",
      " -3.18032503e-03 -3.51208448e-03 -3.70562077e-03 -2.96574831e-03\n",
      " -2.69436836e-03 -2.00742483e-03 -1.76781416e-03 -1.95604563e-03]\n"
     ]
    },
    {
     "name": "stdout",
     "output_type": "stream",
     "text": [
      "11 day output [[-0.00039452]]\n",
      "12 day input [ 0.00000000e+00  0.00000000e+00  0.00000000e+00  0.00000000e+00\n",
      "  0.00000000e+00  0.00000000e+00  0.00000000e+00  0.00000000e+00\n",
      "  0.00000000e+00  0.00000000e+00  0.00000000e+00  0.00000000e+00\n",
      "  0.00000000e+00  0.00000000e+00  0.00000000e+00  0.00000000e+00\n",
      "  0.00000000e+00  0.00000000e+00  0.00000000e+00  0.00000000e+00\n",
      "  0.00000000e+00  0.00000000e+00  0.00000000e+00  0.00000000e+00\n",
      "  0.00000000e+00  0.00000000e+00  0.00000000e+00  0.00000000e+00\n",
      "  0.00000000e+00  0.00000000e+00  0.00000000e+00  0.00000000e+00\n",
      "  0.00000000e+00  0.00000000e+00  0.00000000e+00  0.00000000e+00\n",
      "  0.00000000e+00  0.00000000e+00  0.00000000e+00  0.00000000e+00\n",
      "  0.00000000e+00  0.00000000e+00  0.00000000e+00  0.00000000e+00\n",
      "  0.00000000e+00  0.00000000e+00  0.00000000e+00  0.00000000e+00\n",
      "  0.00000000e+00  0.00000000e+00  0.00000000e+00  0.00000000e+00\n",
      "  0.00000000e+00  0.00000000e+00  0.00000000e+00  0.00000000e+00\n",
      "  0.00000000e+00  6.54750340e-02  4.35760082e-02  7.63274029e-02\n",
      "  6.70293375e-02  3.40836548e-02  2.23153571e-02  5.39010242e-02\n",
      "  3.44999861e-02  4.66013489e-02  1.31838241e-02  3.24738405e-02\n",
      "  2.05390102e-02  1.05637126e-01  5.04593522e-02  1.09800439e-01\n",
      "  6.99436565e-02  6.90277277e-02  6.20056066e-02  8.87618307e-02\n",
      "  8.32940132e-02  9.13430847e-02  6.38374643e-02  3.39448777e-02\n",
      "  1.79855117e-02  4.55743984e-02  3.15579117e-02  1.44328180e-02\n",
      "  1.52377252e-02  3.33065031e-04  0.00000000e+00  1.38777096e-04\n",
      "  1.74814463e-03  8.71419907e-05 -2.43425369e-03 -3.18032503e-03\n",
      " -3.51208448e-03 -3.70562077e-03 -2.96574831e-03 -2.69436836e-03\n",
      " -2.00742483e-03 -1.76781416e-03 -1.95604563e-03 -3.94523144e-04]\n",
      "12 day output [[0.00138515]]\n",
      "13 day input [ 0.00000000e+00  0.00000000e+00  0.00000000e+00  0.00000000e+00\n",
      "  0.00000000e+00  0.00000000e+00  0.00000000e+00  0.00000000e+00\n",
      "  0.00000000e+00  0.00000000e+00  0.00000000e+00  0.00000000e+00\n",
      "  0.00000000e+00  0.00000000e+00  0.00000000e+00  0.00000000e+00\n",
      "  0.00000000e+00  0.00000000e+00  0.00000000e+00  0.00000000e+00\n",
      "  0.00000000e+00  0.00000000e+00  0.00000000e+00  0.00000000e+00\n",
      "  0.00000000e+00  0.00000000e+00  0.00000000e+00  0.00000000e+00\n",
      "  0.00000000e+00  0.00000000e+00  0.00000000e+00  0.00000000e+00\n",
      "  0.00000000e+00  0.00000000e+00  0.00000000e+00  0.00000000e+00\n",
      "  0.00000000e+00  0.00000000e+00  0.00000000e+00  0.00000000e+00\n",
      "  0.00000000e+00  0.00000000e+00  0.00000000e+00  0.00000000e+00\n",
      "  0.00000000e+00  0.00000000e+00  0.00000000e+00  0.00000000e+00\n",
      "  0.00000000e+00  0.00000000e+00  0.00000000e+00  0.00000000e+00\n",
      "  0.00000000e+00  0.00000000e+00  0.00000000e+00  0.00000000e+00\n",
      "  6.54750340e-02  4.35760082e-02  7.63274029e-02  6.70293375e-02\n",
      "  3.40836548e-02  2.23153571e-02  5.39010242e-02  3.44999861e-02\n",
      "  4.66013489e-02  1.31838241e-02  3.24738405e-02  2.05390102e-02\n",
      "  1.05637126e-01  5.04593522e-02  1.09800439e-01  6.99436565e-02\n",
      "  6.90277277e-02  6.20056066e-02  8.87618307e-02  8.32940132e-02\n",
      "  9.13430847e-02  6.38374643e-02  3.39448777e-02  1.79855117e-02\n",
      "  4.55743984e-02  3.15579117e-02  1.44328180e-02  1.52377252e-02\n",
      "  3.33065031e-04  0.00000000e+00  1.38777096e-04  1.74814463e-03\n",
      "  8.71419907e-05 -2.43425369e-03 -3.18032503e-03 -3.51208448e-03\n",
      " -3.70562077e-03 -2.96574831e-03 -2.69436836e-03 -2.00742483e-03\n",
      " -1.76781416e-03 -1.95604563e-03 -3.94523144e-04  1.38515234e-03]\n",
      "13 day output [[0.0032028]]\n",
      "14 day input [ 0.00000000e+00  0.00000000e+00  0.00000000e+00  0.00000000e+00\n",
      "  0.00000000e+00  0.00000000e+00  0.00000000e+00  0.00000000e+00\n",
      "  0.00000000e+00  0.00000000e+00  0.00000000e+00  0.00000000e+00\n",
      "  0.00000000e+00  0.00000000e+00  0.00000000e+00  0.00000000e+00\n",
      "  0.00000000e+00  0.00000000e+00  0.00000000e+00  0.00000000e+00\n",
      "  0.00000000e+00  0.00000000e+00  0.00000000e+00  0.00000000e+00\n",
      "  0.00000000e+00  0.00000000e+00  0.00000000e+00  0.00000000e+00\n",
      "  0.00000000e+00  0.00000000e+00  0.00000000e+00  0.00000000e+00\n",
      "  0.00000000e+00  0.00000000e+00  0.00000000e+00  0.00000000e+00\n",
      "  0.00000000e+00  0.00000000e+00  0.00000000e+00  0.00000000e+00\n",
      "  0.00000000e+00  0.00000000e+00  0.00000000e+00  0.00000000e+00\n",
      "  0.00000000e+00  0.00000000e+00  0.00000000e+00  0.00000000e+00\n",
      "  0.00000000e+00  0.00000000e+00  0.00000000e+00  0.00000000e+00\n",
      "  0.00000000e+00  0.00000000e+00  0.00000000e+00  6.54750340e-02\n",
      "  4.35760082e-02  7.63274029e-02  6.70293375e-02  3.40836548e-02\n",
      "  2.23153571e-02  5.39010242e-02  3.44999861e-02  4.66013489e-02\n",
      "  1.31838241e-02  3.24738405e-02  2.05390102e-02  1.05637126e-01\n",
      "  5.04593522e-02  1.09800439e-01  6.99436565e-02  6.90277277e-02\n",
      "  6.20056066e-02  8.87618307e-02  8.32940132e-02  9.13430847e-02\n",
      "  6.38374643e-02  3.39448777e-02  1.79855117e-02  4.55743984e-02\n",
      "  3.15579117e-02  1.44328180e-02  1.52377252e-02  3.33065031e-04\n",
      "  0.00000000e+00  1.38777096e-04  1.74814463e-03  8.71419907e-05\n",
      " -2.43425369e-03 -3.18032503e-03 -3.51208448e-03 -3.70562077e-03\n",
      " -2.96574831e-03 -2.69436836e-03 -2.00742483e-03 -1.76781416e-03\n",
      " -1.95604563e-03 -3.94523144e-04  1.38515234e-03  3.20279598e-03]\n",
      "14 day output [[0.00129747]]\n",
      "15 day input [ 0.00000000e+00  0.00000000e+00  0.00000000e+00  0.00000000e+00\n",
      "  0.00000000e+00  0.00000000e+00  0.00000000e+00  0.00000000e+00\n",
      "  0.00000000e+00  0.00000000e+00  0.00000000e+00  0.00000000e+00\n",
      "  0.00000000e+00  0.00000000e+00  0.00000000e+00  0.00000000e+00\n",
      "  0.00000000e+00  0.00000000e+00  0.00000000e+00  0.00000000e+00\n",
      "  0.00000000e+00  0.00000000e+00  0.00000000e+00  0.00000000e+00\n",
      "  0.00000000e+00  0.00000000e+00  0.00000000e+00  0.00000000e+00\n",
      "  0.00000000e+00  0.00000000e+00  0.00000000e+00  0.00000000e+00\n",
      "  0.00000000e+00  0.00000000e+00  0.00000000e+00  0.00000000e+00\n",
      "  0.00000000e+00  0.00000000e+00  0.00000000e+00  0.00000000e+00\n",
      "  0.00000000e+00  0.00000000e+00  0.00000000e+00  0.00000000e+00\n",
      "  0.00000000e+00  0.00000000e+00  0.00000000e+00  0.00000000e+00\n",
      "  0.00000000e+00  0.00000000e+00  0.00000000e+00  0.00000000e+00\n",
      "  0.00000000e+00  0.00000000e+00  6.54750340e-02  4.35760082e-02\n",
      "  7.63274029e-02  6.70293375e-02  3.40836548e-02  2.23153571e-02\n",
      "  5.39010242e-02  3.44999861e-02  4.66013489e-02  1.31838241e-02\n",
      "  3.24738405e-02  2.05390102e-02  1.05637126e-01  5.04593522e-02\n",
      "  1.09800439e-01  6.99436565e-02  6.90277277e-02  6.20056066e-02\n",
      "  8.87618307e-02  8.32940132e-02  9.13430847e-02  6.38374643e-02\n",
      "  3.39448777e-02  1.79855117e-02  4.55743984e-02  3.15579117e-02\n",
      "  1.44328180e-02  1.52377252e-02  3.33065031e-04  0.00000000e+00\n",
      "  1.38777096e-04  1.74814463e-03  8.71419907e-05 -2.43425369e-03\n",
      " -3.18032503e-03 -3.51208448e-03 -3.70562077e-03 -2.96574831e-03\n",
      " -2.69436836e-03 -2.00742483e-03 -1.76781416e-03 -1.95604563e-03\n",
      " -3.94523144e-04  1.38515234e-03  3.20279598e-03  1.29747391e-03]\n",
      "15 day output [[-0.00150782]]\n",
      "16 day input [ 0.00000000e+00  0.00000000e+00  0.00000000e+00  0.00000000e+00\n",
      "  0.00000000e+00  0.00000000e+00  0.00000000e+00  0.00000000e+00\n",
      "  0.00000000e+00  0.00000000e+00  0.00000000e+00  0.00000000e+00\n",
      "  0.00000000e+00  0.00000000e+00  0.00000000e+00  0.00000000e+00\n",
      "  0.00000000e+00  0.00000000e+00  0.00000000e+00  0.00000000e+00\n",
      "  0.00000000e+00  0.00000000e+00  0.00000000e+00  0.00000000e+00\n",
      "  0.00000000e+00  0.00000000e+00  0.00000000e+00  0.00000000e+00\n",
      "  0.00000000e+00  0.00000000e+00  0.00000000e+00  0.00000000e+00\n",
      "  0.00000000e+00  0.00000000e+00  0.00000000e+00  0.00000000e+00\n",
      "  0.00000000e+00  0.00000000e+00  0.00000000e+00  0.00000000e+00\n",
      "  0.00000000e+00  0.00000000e+00  0.00000000e+00  0.00000000e+00\n",
      "  0.00000000e+00  0.00000000e+00  0.00000000e+00  0.00000000e+00\n",
      "  0.00000000e+00  0.00000000e+00  0.00000000e+00  0.00000000e+00\n",
      "  0.00000000e+00  6.54750340e-02  4.35760082e-02  7.63274029e-02\n",
      "  6.70293375e-02  3.40836548e-02  2.23153571e-02  5.39010242e-02\n",
      "  3.44999861e-02  4.66013489e-02  1.31838241e-02  3.24738405e-02\n",
      "  2.05390102e-02  1.05637126e-01  5.04593522e-02  1.09800439e-01\n",
      "  6.99436565e-02  6.90277277e-02  6.20056066e-02  8.87618307e-02\n",
      "  8.32940132e-02  9.13430847e-02  6.38374643e-02  3.39448777e-02\n",
      "  1.79855117e-02  4.55743984e-02  3.15579117e-02  1.44328180e-02\n",
      "  1.52377252e-02  3.33065031e-04  0.00000000e+00  1.38777096e-04\n",
      "  1.74814463e-03  8.71419907e-05 -2.43425369e-03 -3.18032503e-03\n",
      " -3.51208448e-03 -3.70562077e-03 -2.96574831e-03 -2.69436836e-03\n",
      " -2.00742483e-03 -1.76781416e-03 -1.95604563e-03 -3.94523144e-04\n",
      "  1.38515234e-03  3.20279598e-03  1.29747391e-03 -1.50781870e-03]\n"
     ]
    },
    {
     "name": "stdout",
     "output_type": "stream",
     "text": [
      "16 day output [[-0.00047266]]\n",
      "17 day input [ 0.00000000e+00  0.00000000e+00  0.00000000e+00  0.00000000e+00\n",
      "  0.00000000e+00  0.00000000e+00  0.00000000e+00  0.00000000e+00\n",
      "  0.00000000e+00  0.00000000e+00  0.00000000e+00  0.00000000e+00\n",
      "  0.00000000e+00  0.00000000e+00  0.00000000e+00  0.00000000e+00\n",
      "  0.00000000e+00  0.00000000e+00  0.00000000e+00  0.00000000e+00\n",
      "  0.00000000e+00  0.00000000e+00  0.00000000e+00  0.00000000e+00\n",
      "  0.00000000e+00  0.00000000e+00  0.00000000e+00  0.00000000e+00\n",
      "  0.00000000e+00  0.00000000e+00  0.00000000e+00  0.00000000e+00\n",
      "  0.00000000e+00  0.00000000e+00  0.00000000e+00  0.00000000e+00\n",
      "  0.00000000e+00  0.00000000e+00  0.00000000e+00  0.00000000e+00\n",
      "  0.00000000e+00  0.00000000e+00  0.00000000e+00  0.00000000e+00\n",
      "  0.00000000e+00  0.00000000e+00  0.00000000e+00  0.00000000e+00\n",
      "  0.00000000e+00  0.00000000e+00  0.00000000e+00  0.00000000e+00\n",
      "  6.54750340e-02  4.35760082e-02  7.63274029e-02  6.70293375e-02\n",
      "  3.40836548e-02  2.23153571e-02  5.39010242e-02  3.44999861e-02\n",
      "  4.66013489e-02  1.31838241e-02  3.24738405e-02  2.05390102e-02\n",
      "  1.05637126e-01  5.04593522e-02  1.09800439e-01  6.99436565e-02\n",
      "  6.90277277e-02  6.20056066e-02  8.87618307e-02  8.32940132e-02\n",
      "  9.13430847e-02  6.38374643e-02  3.39448777e-02  1.79855117e-02\n",
      "  4.55743984e-02  3.15579117e-02  1.44328180e-02  1.52377252e-02\n",
      "  3.33065031e-04  0.00000000e+00  1.38777096e-04  1.74814463e-03\n",
      "  8.71419907e-05 -2.43425369e-03 -3.18032503e-03 -3.51208448e-03\n",
      " -3.70562077e-03 -2.96574831e-03 -2.69436836e-03 -2.00742483e-03\n",
      " -1.76781416e-03 -1.95604563e-03 -3.94523144e-04  1.38515234e-03\n",
      "  3.20279598e-03  1.29747391e-03 -1.50781870e-03 -4.72664833e-04]\n",
      "17 day output [[-0.00185841]]\n",
      "18 day input [ 0.00000000e+00  0.00000000e+00  0.00000000e+00  0.00000000e+00\n",
      "  0.00000000e+00  0.00000000e+00  0.00000000e+00  0.00000000e+00\n",
      "  0.00000000e+00  0.00000000e+00  0.00000000e+00  0.00000000e+00\n",
      "  0.00000000e+00  0.00000000e+00  0.00000000e+00  0.00000000e+00\n",
      "  0.00000000e+00  0.00000000e+00  0.00000000e+00  0.00000000e+00\n",
      "  0.00000000e+00  0.00000000e+00  0.00000000e+00  0.00000000e+00\n",
      "  0.00000000e+00  0.00000000e+00  0.00000000e+00  0.00000000e+00\n",
      "  0.00000000e+00  0.00000000e+00  0.00000000e+00  0.00000000e+00\n",
      "  0.00000000e+00  0.00000000e+00  0.00000000e+00  0.00000000e+00\n",
      "  0.00000000e+00  0.00000000e+00  0.00000000e+00  0.00000000e+00\n",
      "  0.00000000e+00  0.00000000e+00  0.00000000e+00  0.00000000e+00\n",
      "  0.00000000e+00  0.00000000e+00  0.00000000e+00  0.00000000e+00\n",
      "  0.00000000e+00  0.00000000e+00  0.00000000e+00  6.54750340e-02\n",
      "  4.35760082e-02  7.63274029e-02  6.70293375e-02  3.40836548e-02\n",
      "  2.23153571e-02  5.39010242e-02  3.44999861e-02  4.66013489e-02\n",
      "  1.31838241e-02  3.24738405e-02  2.05390102e-02  1.05637126e-01\n",
      "  5.04593522e-02  1.09800439e-01  6.99436565e-02  6.90277277e-02\n",
      "  6.20056066e-02  8.87618307e-02  8.32940132e-02  9.13430847e-02\n",
      "  6.38374643e-02  3.39448777e-02  1.79855117e-02  4.55743984e-02\n",
      "  3.15579117e-02  1.44328180e-02  1.52377252e-02  3.33065031e-04\n",
      "  0.00000000e+00  1.38777096e-04  1.74814463e-03  8.71419907e-05\n",
      " -2.43425369e-03 -3.18032503e-03 -3.51208448e-03 -3.70562077e-03\n",
      " -2.96574831e-03 -2.69436836e-03 -2.00742483e-03 -1.76781416e-03\n",
      " -1.95604563e-03 -3.94523144e-04  1.38515234e-03  3.20279598e-03\n",
      "  1.29747391e-03 -1.50781870e-03 -4.72664833e-04 -1.85841322e-03]\n",
      "18 day output [[-0.00302804]]\n",
      "19 day input [ 0.00000000e+00  0.00000000e+00  0.00000000e+00  0.00000000e+00\n",
      "  0.00000000e+00  0.00000000e+00  0.00000000e+00  0.00000000e+00\n",
      "  0.00000000e+00  0.00000000e+00  0.00000000e+00  0.00000000e+00\n",
      "  0.00000000e+00  0.00000000e+00  0.00000000e+00  0.00000000e+00\n",
      "  0.00000000e+00  0.00000000e+00  0.00000000e+00  0.00000000e+00\n",
      "  0.00000000e+00  0.00000000e+00  0.00000000e+00  0.00000000e+00\n",
      "  0.00000000e+00  0.00000000e+00  0.00000000e+00  0.00000000e+00\n",
      "  0.00000000e+00  0.00000000e+00  0.00000000e+00  0.00000000e+00\n",
      "  0.00000000e+00  0.00000000e+00  0.00000000e+00  0.00000000e+00\n",
      "  0.00000000e+00  0.00000000e+00  0.00000000e+00  0.00000000e+00\n",
      "  0.00000000e+00  0.00000000e+00  0.00000000e+00  0.00000000e+00\n",
      "  0.00000000e+00  0.00000000e+00  0.00000000e+00  0.00000000e+00\n",
      "  0.00000000e+00  0.00000000e+00  6.54750340e-02  4.35760082e-02\n",
      "  7.63274029e-02  6.70293375e-02  3.40836548e-02  2.23153571e-02\n",
      "  5.39010242e-02  3.44999861e-02  4.66013489e-02  1.31838241e-02\n",
      "  3.24738405e-02  2.05390102e-02  1.05637126e-01  5.04593522e-02\n",
      "  1.09800439e-01  6.99436565e-02  6.90277277e-02  6.20056066e-02\n",
      "  8.87618307e-02  8.32940132e-02  9.13430847e-02  6.38374643e-02\n",
      "  3.39448777e-02  1.79855117e-02  4.55743984e-02  3.15579117e-02\n",
      "  1.44328180e-02  1.52377252e-02  3.33065031e-04  0.00000000e+00\n",
      "  1.38777096e-04  1.74814463e-03  8.71419907e-05 -2.43425369e-03\n",
      " -3.18032503e-03 -3.51208448e-03 -3.70562077e-03 -2.96574831e-03\n",
      " -2.69436836e-03 -2.00742483e-03 -1.76781416e-03 -1.95604563e-03\n",
      " -3.94523144e-04  1.38515234e-03  3.20279598e-03  1.29747391e-03\n",
      " -1.50781870e-03 -4.72664833e-04 -1.85841322e-03 -3.02803516e-03]\n",
      "19 day output [[-0.00367624]]\n",
      "20 day input [ 0.00000000e+00  0.00000000e+00  0.00000000e+00  0.00000000e+00\n",
      "  0.00000000e+00  0.00000000e+00  0.00000000e+00  0.00000000e+00\n",
      "  0.00000000e+00  0.00000000e+00  0.00000000e+00  0.00000000e+00\n",
      "  0.00000000e+00  0.00000000e+00  0.00000000e+00  0.00000000e+00\n",
      "  0.00000000e+00  0.00000000e+00  0.00000000e+00  0.00000000e+00\n",
      "  0.00000000e+00  0.00000000e+00  0.00000000e+00  0.00000000e+00\n",
      "  0.00000000e+00  0.00000000e+00  0.00000000e+00  0.00000000e+00\n",
      "  0.00000000e+00  0.00000000e+00  0.00000000e+00  0.00000000e+00\n",
      "  0.00000000e+00  0.00000000e+00  0.00000000e+00  0.00000000e+00\n",
      "  0.00000000e+00  0.00000000e+00  0.00000000e+00  0.00000000e+00\n",
      "  0.00000000e+00  0.00000000e+00  0.00000000e+00  0.00000000e+00\n",
      "  0.00000000e+00  0.00000000e+00  0.00000000e+00  0.00000000e+00\n",
      "  0.00000000e+00  6.54750340e-02  4.35760082e-02  7.63274029e-02\n",
      "  6.70293375e-02  3.40836548e-02  2.23153571e-02  5.39010242e-02\n",
      "  3.44999861e-02  4.66013489e-02  1.31838241e-02  3.24738405e-02\n",
      "  2.05390102e-02  1.05637126e-01  5.04593522e-02  1.09800439e-01\n",
      "  6.99436565e-02  6.90277277e-02  6.20056066e-02  8.87618307e-02\n",
      "  8.32940132e-02  9.13430847e-02  6.38374643e-02  3.39448777e-02\n",
      "  1.79855117e-02  4.55743984e-02  3.15579117e-02  1.44328180e-02\n",
      "  1.52377252e-02  3.33065031e-04  0.00000000e+00  1.38777096e-04\n",
      "  1.74814463e-03  8.71419907e-05 -2.43425369e-03 -3.18032503e-03\n",
      " -3.51208448e-03 -3.70562077e-03 -2.96574831e-03 -2.69436836e-03\n",
      " -2.00742483e-03 -1.76781416e-03 -1.95604563e-03 -3.94523144e-04\n",
      "  1.38515234e-03  3.20279598e-03  1.29747391e-03 -1.50781870e-03\n",
      " -4.72664833e-04 -1.85841322e-03 -3.02803516e-03 -3.67623568e-03]\n",
      "20 day output [[-0.00412422]]\n",
      "21 day input [ 0.00000000e+00  0.00000000e+00  0.00000000e+00  0.00000000e+00\n",
      "  0.00000000e+00  0.00000000e+00  0.00000000e+00  0.00000000e+00\n",
      "  0.00000000e+00  0.00000000e+00  0.00000000e+00  0.00000000e+00\n",
      "  0.00000000e+00  0.00000000e+00  0.00000000e+00  0.00000000e+00\n",
      "  0.00000000e+00  0.00000000e+00  0.00000000e+00  0.00000000e+00\n",
      "  0.00000000e+00  0.00000000e+00  0.00000000e+00  0.00000000e+00\n",
      "  0.00000000e+00  0.00000000e+00  0.00000000e+00  0.00000000e+00\n",
      "  0.00000000e+00  0.00000000e+00  0.00000000e+00  0.00000000e+00\n",
      "  0.00000000e+00  0.00000000e+00  0.00000000e+00  0.00000000e+00\n",
      "  0.00000000e+00  0.00000000e+00  0.00000000e+00  0.00000000e+00\n",
      "  0.00000000e+00  0.00000000e+00  0.00000000e+00  0.00000000e+00\n",
      "  0.00000000e+00  0.00000000e+00  0.00000000e+00  0.00000000e+00\n",
      "  6.54750340e-02  4.35760082e-02  7.63274029e-02  6.70293375e-02\n",
      "  3.40836548e-02  2.23153571e-02  5.39010242e-02  3.44999861e-02\n",
      "  4.66013489e-02  1.31838241e-02  3.24738405e-02  2.05390102e-02\n",
      "  1.05637126e-01  5.04593522e-02  1.09800439e-01  6.99436565e-02\n",
      "  6.90277277e-02  6.20056066e-02  8.87618307e-02  8.32940132e-02\n",
      "  9.13430847e-02  6.38374643e-02  3.39448777e-02  1.79855117e-02\n",
      "  4.55743984e-02  3.15579117e-02  1.44328180e-02  1.52377252e-02\n",
      "  3.33065031e-04  0.00000000e+00  1.38777096e-04  1.74814463e-03\n",
      "  8.71419907e-05 -2.43425369e-03 -3.18032503e-03 -3.51208448e-03\n",
      " -3.70562077e-03 -2.96574831e-03 -2.69436836e-03 -2.00742483e-03\n",
      " -1.76781416e-03 -1.95604563e-03 -3.94523144e-04  1.38515234e-03\n",
      "  3.20279598e-03  1.29747391e-03 -1.50781870e-03 -4.72664833e-04\n",
      " -1.85841322e-03 -3.02803516e-03 -3.67623568e-03 -4.12422419e-03]\n"
     ]
    },
    {
     "name": "stdout",
     "output_type": "stream",
     "text": [
      "21 day output [[-0.00420678]]\n",
      "22 day input [ 0.00000000e+00  0.00000000e+00  0.00000000e+00  0.00000000e+00\n",
      "  0.00000000e+00  0.00000000e+00  0.00000000e+00  0.00000000e+00\n",
      "  0.00000000e+00  0.00000000e+00  0.00000000e+00  0.00000000e+00\n",
      "  0.00000000e+00  0.00000000e+00  0.00000000e+00  0.00000000e+00\n",
      "  0.00000000e+00  0.00000000e+00  0.00000000e+00  0.00000000e+00\n",
      "  0.00000000e+00  0.00000000e+00  0.00000000e+00  0.00000000e+00\n",
      "  0.00000000e+00  0.00000000e+00  0.00000000e+00  0.00000000e+00\n",
      "  0.00000000e+00  0.00000000e+00  0.00000000e+00  0.00000000e+00\n",
      "  0.00000000e+00  0.00000000e+00  0.00000000e+00  0.00000000e+00\n",
      "  0.00000000e+00  0.00000000e+00  0.00000000e+00  0.00000000e+00\n",
      "  0.00000000e+00  0.00000000e+00  0.00000000e+00  0.00000000e+00\n",
      "  0.00000000e+00  0.00000000e+00  0.00000000e+00  6.54750340e-02\n",
      "  4.35760082e-02  7.63274029e-02  6.70293375e-02  3.40836548e-02\n",
      "  2.23153571e-02  5.39010242e-02  3.44999861e-02  4.66013489e-02\n",
      "  1.31838241e-02  3.24738405e-02  2.05390102e-02  1.05637126e-01\n",
      "  5.04593522e-02  1.09800439e-01  6.99436565e-02  6.90277277e-02\n",
      "  6.20056066e-02  8.87618307e-02  8.32940132e-02  9.13430847e-02\n",
      "  6.38374643e-02  3.39448777e-02  1.79855117e-02  4.55743984e-02\n",
      "  3.15579117e-02  1.44328180e-02  1.52377252e-02  3.33065031e-04\n",
      "  0.00000000e+00  1.38777096e-04  1.74814463e-03  8.71419907e-05\n",
      " -2.43425369e-03 -3.18032503e-03 -3.51208448e-03 -3.70562077e-03\n",
      " -2.96574831e-03 -2.69436836e-03 -2.00742483e-03 -1.76781416e-03\n",
      " -1.95604563e-03 -3.94523144e-04  1.38515234e-03  3.20279598e-03\n",
      "  1.29747391e-03 -1.50781870e-03 -4.72664833e-04 -1.85841322e-03\n",
      " -3.02803516e-03 -3.67623568e-03 -4.12422419e-03 -4.20677662e-03]\n",
      "22 day output [[-0.00346631]]\n",
      "23 day input [ 0.00000000e+00  0.00000000e+00  0.00000000e+00  0.00000000e+00\n",
      "  0.00000000e+00  0.00000000e+00  0.00000000e+00  0.00000000e+00\n",
      "  0.00000000e+00  0.00000000e+00  0.00000000e+00  0.00000000e+00\n",
      "  0.00000000e+00  0.00000000e+00  0.00000000e+00  0.00000000e+00\n",
      "  0.00000000e+00  0.00000000e+00  0.00000000e+00  0.00000000e+00\n",
      "  0.00000000e+00  0.00000000e+00  0.00000000e+00  0.00000000e+00\n",
      "  0.00000000e+00  0.00000000e+00  0.00000000e+00  0.00000000e+00\n",
      "  0.00000000e+00  0.00000000e+00  0.00000000e+00  0.00000000e+00\n",
      "  0.00000000e+00  0.00000000e+00  0.00000000e+00  0.00000000e+00\n",
      "  0.00000000e+00  0.00000000e+00  0.00000000e+00  0.00000000e+00\n",
      "  0.00000000e+00  0.00000000e+00  0.00000000e+00  0.00000000e+00\n",
      "  0.00000000e+00  0.00000000e+00  6.54750340e-02  4.35760082e-02\n",
      "  7.63274029e-02  6.70293375e-02  3.40836548e-02  2.23153571e-02\n",
      "  5.39010242e-02  3.44999861e-02  4.66013489e-02  1.31838241e-02\n",
      "  3.24738405e-02  2.05390102e-02  1.05637126e-01  5.04593522e-02\n",
      "  1.09800439e-01  6.99436565e-02  6.90277277e-02  6.20056066e-02\n",
      "  8.87618307e-02  8.32940132e-02  9.13430847e-02  6.38374643e-02\n",
      "  3.39448777e-02  1.79855117e-02  4.55743984e-02  3.15579117e-02\n",
      "  1.44328180e-02  1.52377252e-02  3.33065031e-04  0.00000000e+00\n",
      "  1.38777096e-04  1.74814463e-03  8.71419907e-05 -2.43425369e-03\n",
      " -3.18032503e-03 -3.51208448e-03 -3.70562077e-03 -2.96574831e-03\n",
      " -2.69436836e-03 -2.00742483e-03 -1.76781416e-03 -1.95604563e-03\n",
      " -3.94523144e-04  1.38515234e-03  3.20279598e-03  1.29747391e-03\n",
      " -1.50781870e-03 -4.72664833e-04 -1.85841322e-03 -3.02803516e-03\n",
      " -3.67623568e-03 -4.12422419e-03 -4.20677662e-03 -3.46630812e-03]\n",
      "23 day output [[-0.00280666]]\n",
      "24 day input [ 0.00000000e+00  0.00000000e+00  0.00000000e+00  0.00000000e+00\n",
      "  0.00000000e+00  0.00000000e+00  0.00000000e+00  0.00000000e+00\n",
      "  0.00000000e+00  0.00000000e+00  0.00000000e+00  0.00000000e+00\n",
      "  0.00000000e+00  0.00000000e+00  0.00000000e+00  0.00000000e+00\n",
      "  0.00000000e+00  0.00000000e+00  0.00000000e+00  0.00000000e+00\n",
      "  0.00000000e+00  0.00000000e+00  0.00000000e+00  0.00000000e+00\n",
      "  0.00000000e+00  0.00000000e+00  0.00000000e+00  0.00000000e+00\n",
      "  0.00000000e+00  0.00000000e+00  0.00000000e+00  0.00000000e+00\n",
      "  0.00000000e+00  0.00000000e+00  0.00000000e+00  0.00000000e+00\n",
      "  0.00000000e+00  0.00000000e+00  0.00000000e+00  0.00000000e+00\n",
      "  0.00000000e+00  0.00000000e+00  0.00000000e+00  0.00000000e+00\n",
      "  0.00000000e+00  6.54750340e-02  4.35760082e-02  7.63274029e-02\n",
      "  6.70293375e-02  3.40836548e-02  2.23153571e-02  5.39010242e-02\n",
      "  3.44999861e-02  4.66013489e-02  1.31838241e-02  3.24738405e-02\n",
      "  2.05390102e-02  1.05637126e-01  5.04593522e-02  1.09800439e-01\n",
      "  6.99436565e-02  6.90277277e-02  6.20056066e-02  8.87618307e-02\n",
      "  8.32940132e-02  9.13430847e-02  6.38374643e-02  3.39448777e-02\n",
      "  1.79855117e-02  4.55743984e-02  3.15579117e-02  1.44328180e-02\n",
      "  1.52377252e-02  3.33065031e-04  0.00000000e+00  1.38777096e-04\n",
      "  1.74814463e-03  8.71419907e-05 -2.43425369e-03 -3.18032503e-03\n",
      " -3.51208448e-03 -3.70562077e-03 -2.96574831e-03 -2.69436836e-03\n",
      " -2.00742483e-03 -1.76781416e-03 -1.95604563e-03 -3.94523144e-04\n",
      "  1.38515234e-03  3.20279598e-03  1.29747391e-03 -1.50781870e-03\n",
      " -4.72664833e-04 -1.85841322e-03 -3.02803516e-03 -3.67623568e-03\n",
      " -4.12422419e-03 -4.20677662e-03 -3.46630812e-03 -2.80666351e-03]\n",
      "24 day output [[-0.0021503]]\n",
      "25 day input [ 0.00000000e+00  0.00000000e+00  0.00000000e+00  0.00000000e+00\n",
      "  0.00000000e+00  0.00000000e+00  0.00000000e+00  0.00000000e+00\n",
      "  0.00000000e+00  0.00000000e+00  0.00000000e+00  0.00000000e+00\n",
      "  0.00000000e+00  0.00000000e+00  0.00000000e+00  0.00000000e+00\n",
      "  0.00000000e+00  0.00000000e+00  0.00000000e+00  0.00000000e+00\n",
      "  0.00000000e+00  0.00000000e+00  0.00000000e+00  0.00000000e+00\n",
      "  0.00000000e+00  0.00000000e+00  0.00000000e+00  0.00000000e+00\n",
      "  0.00000000e+00  0.00000000e+00  0.00000000e+00  0.00000000e+00\n",
      "  0.00000000e+00  0.00000000e+00  0.00000000e+00  0.00000000e+00\n",
      "  0.00000000e+00  0.00000000e+00  0.00000000e+00  0.00000000e+00\n",
      "  0.00000000e+00  0.00000000e+00  0.00000000e+00  0.00000000e+00\n",
      "  6.54750340e-02  4.35760082e-02  7.63274029e-02  6.70293375e-02\n",
      "  3.40836548e-02  2.23153571e-02  5.39010242e-02  3.44999861e-02\n",
      "  4.66013489e-02  1.31838241e-02  3.24738405e-02  2.05390102e-02\n",
      "  1.05637126e-01  5.04593522e-02  1.09800439e-01  6.99436565e-02\n",
      "  6.90277277e-02  6.20056066e-02  8.87618307e-02  8.32940132e-02\n",
      "  9.13430847e-02  6.38374643e-02  3.39448777e-02  1.79855117e-02\n",
      "  4.55743984e-02  3.15579117e-02  1.44328180e-02  1.52377252e-02\n",
      "  3.33065031e-04  0.00000000e+00  1.38777096e-04  1.74814463e-03\n",
      "  8.71419907e-05 -2.43425369e-03 -3.18032503e-03 -3.51208448e-03\n",
      " -3.70562077e-03 -2.96574831e-03 -2.69436836e-03 -2.00742483e-03\n",
      " -1.76781416e-03 -1.95604563e-03 -3.94523144e-04  1.38515234e-03\n",
      "  3.20279598e-03  1.29747391e-03 -1.50781870e-03 -4.72664833e-04\n",
      " -1.85841322e-03 -3.02803516e-03 -3.67623568e-03 -4.12422419e-03\n",
      " -4.20677662e-03 -3.46630812e-03 -2.80666351e-03 -2.15029716e-03]\n",
      "25 day output [[-0.00142199]]\n",
      "26 day input [ 0.00000000e+00  0.00000000e+00  0.00000000e+00  0.00000000e+00\n",
      "  0.00000000e+00  0.00000000e+00  0.00000000e+00  0.00000000e+00\n",
      "  0.00000000e+00  0.00000000e+00  0.00000000e+00  0.00000000e+00\n",
      "  0.00000000e+00  0.00000000e+00  0.00000000e+00  0.00000000e+00\n",
      "  0.00000000e+00  0.00000000e+00  0.00000000e+00  0.00000000e+00\n",
      "  0.00000000e+00  0.00000000e+00  0.00000000e+00  0.00000000e+00\n",
      "  0.00000000e+00  0.00000000e+00  0.00000000e+00  0.00000000e+00\n",
      "  0.00000000e+00  0.00000000e+00  0.00000000e+00  0.00000000e+00\n",
      "  0.00000000e+00  0.00000000e+00  0.00000000e+00  0.00000000e+00\n",
      "  0.00000000e+00  0.00000000e+00  0.00000000e+00  0.00000000e+00\n",
      "  0.00000000e+00  0.00000000e+00  0.00000000e+00  6.54750340e-02\n",
      "  4.35760082e-02  7.63274029e-02  6.70293375e-02  3.40836548e-02\n",
      "  2.23153571e-02  5.39010242e-02  3.44999861e-02  4.66013489e-02\n",
      "  1.31838241e-02  3.24738405e-02  2.05390102e-02  1.05637126e-01\n",
      "  5.04593522e-02  1.09800439e-01  6.99436565e-02  6.90277277e-02\n",
      "  6.20056066e-02  8.87618307e-02  8.32940132e-02  9.13430847e-02\n",
      "  6.38374643e-02  3.39448777e-02  1.79855117e-02  4.55743984e-02\n",
      "  3.15579117e-02  1.44328180e-02  1.52377252e-02  3.33065031e-04\n",
      "  0.00000000e+00  1.38777096e-04  1.74814463e-03  8.71419907e-05\n",
      " -2.43425369e-03 -3.18032503e-03 -3.51208448e-03 -3.70562077e-03\n",
      " -2.96574831e-03 -2.69436836e-03 -2.00742483e-03 -1.76781416e-03\n",
      " -1.95604563e-03 -3.94523144e-04  1.38515234e-03  3.20279598e-03\n",
      "  1.29747391e-03 -1.50781870e-03 -4.72664833e-04 -1.85841322e-03\n",
      " -3.02803516e-03 -3.67623568e-03 -4.12422419e-03 -4.20677662e-03\n",
      " -3.46630812e-03 -2.80666351e-03 -2.15029716e-03 -1.42198801e-03]\n"
     ]
    },
    {
     "name": "stdout",
     "output_type": "stream",
     "text": [
      "26 day output [[-0.00133896]]\n",
      "27 day input [ 0.00000000e+00  0.00000000e+00  0.00000000e+00  0.00000000e+00\n",
      "  0.00000000e+00  0.00000000e+00  0.00000000e+00  0.00000000e+00\n",
      "  0.00000000e+00  0.00000000e+00  0.00000000e+00  0.00000000e+00\n",
      "  0.00000000e+00  0.00000000e+00  0.00000000e+00  0.00000000e+00\n",
      "  0.00000000e+00  0.00000000e+00  0.00000000e+00  0.00000000e+00\n",
      "  0.00000000e+00  0.00000000e+00  0.00000000e+00  0.00000000e+00\n",
      "  0.00000000e+00  0.00000000e+00  0.00000000e+00  0.00000000e+00\n",
      "  0.00000000e+00  0.00000000e+00  0.00000000e+00  0.00000000e+00\n",
      "  0.00000000e+00  0.00000000e+00  0.00000000e+00  0.00000000e+00\n",
      "  0.00000000e+00  0.00000000e+00  0.00000000e+00  0.00000000e+00\n",
      "  0.00000000e+00  0.00000000e+00  6.54750340e-02  4.35760082e-02\n",
      "  7.63274029e-02  6.70293375e-02  3.40836548e-02  2.23153571e-02\n",
      "  5.39010242e-02  3.44999861e-02  4.66013489e-02  1.31838241e-02\n",
      "  3.24738405e-02  2.05390102e-02  1.05637126e-01  5.04593522e-02\n",
      "  1.09800439e-01  6.99436565e-02  6.90277277e-02  6.20056066e-02\n",
      "  8.87618307e-02  8.32940132e-02  9.13430847e-02  6.38374643e-02\n",
      "  3.39448777e-02  1.79855117e-02  4.55743984e-02  3.15579117e-02\n",
      "  1.44328180e-02  1.52377252e-02  3.33065031e-04  0.00000000e+00\n",
      "  1.38777096e-04  1.74814463e-03  8.71419907e-05 -2.43425369e-03\n",
      " -3.18032503e-03 -3.51208448e-03 -3.70562077e-03 -2.96574831e-03\n",
      " -2.69436836e-03 -2.00742483e-03 -1.76781416e-03 -1.95604563e-03\n",
      " -3.94523144e-04  1.38515234e-03  3.20279598e-03  1.29747391e-03\n",
      " -1.50781870e-03 -4.72664833e-04 -1.85841322e-03 -3.02803516e-03\n",
      " -3.67623568e-03 -4.12422419e-03 -4.20677662e-03 -3.46630812e-03\n",
      " -2.80666351e-03 -2.15029716e-03 -1.42198801e-03 -1.33895874e-03]\n",
      "27 day output [[-0.00109822]]\n",
      "28 day input [ 0.00000000e+00  0.00000000e+00  0.00000000e+00  0.00000000e+00\n",
      "  0.00000000e+00  0.00000000e+00  0.00000000e+00  0.00000000e+00\n",
      "  0.00000000e+00  0.00000000e+00  0.00000000e+00  0.00000000e+00\n",
      "  0.00000000e+00  0.00000000e+00  0.00000000e+00  0.00000000e+00\n",
      "  0.00000000e+00  0.00000000e+00  0.00000000e+00  0.00000000e+00\n",
      "  0.00000000e+00  0.00000000e+00  0.00000000e+00  0.00000000e+00\n",
      "  0.00000000e+00  0.00000000e+00  0.00000000e+00  0.00000000e+00\n",
      "  0.00000000e+00  0.00000000e+00  0.00000000e+00  0.00000000e+00\n",
      "  0.00000000e+00  0.00000000e+00  0.00000000e+00  0.00000000e+00\n",
      "  0.00000000e+00  0.00000000e+00  0.00000000e+00  0.00000000e+00\n",
      "  0.00000000e+00  6.54750340e-02  4.35760082e-02  7.63274029e-02\n",
      "  6.70293375e-02  3.40836548e-02  2.23153571e-02  5.39010242e-02\n",
      "  3.44999861e-02  4.66013489e-02  1.31838241e-02  3.24738405e-02\n",
      "  2.05390102e-02  1.05637126e-01  5.04593522e-02  1.09800439e-01\n",
      "  6.99436565e-02  6.90277277e-02  6.20056066e-02  8.87618307e-02\n",
      "  8.32940132e-02  9.13430847e-02  6.38374643e-02  3.39448777e-02\n",
      "  1.79855117e-02  4.55743984e-02  3.15579117e-02  1.44328180e-02\n",
      "  1.52377252e-02  3.33065031e-04  0.00000000e+00  1.38777096e-04\n",
      "  1.74814463e-03  8.71419907e-05 -2.43425369e-03 -3.18032503e-03\n",
      " -3.51208448e-03 -3.70562077e-03 -2.96574831e-03 -2.69436836e-03\n",
      " -2.00742483e-03 -1.76781416e-03 -1.95604563e-03 -3.94523144e-04\n",
      "  1.38515234e-03  3.20279598e-03  1.29747391e-03 -1.50781870e-03\n",
      " -4.72664833e-04 -1.85841322e-03 -3.02803516e-03 -3.67623568e-03\n",
      " -4.12422419e-03 -4.20677662e-03 -3.46630812e-03 -2.80666351e-03\n",
      " -2.15029716e-03 -1.42198801e-03 -1.33895874e-03 -1.09821558e-03]\n",
      "28 day output [[-0.00088501]]\n",
      "29 day input [ 0.00000000e+00  0.00000000e+00  0.00000000e+00  0.00000000e+00\n",
      "  0.00000000e+00  0.00000000e+00  0.00000000e+00  0.00000000e+00\n",
      "  0.00000000e+00  0.00000000e+00  0.00000000e+00  0.00000000e+00\n",
      "  0.00000000e+00  0.00000000e+00  0.00000000e+00  0.00000000e+00\n",
      "  0.00000000e+00  0.00000000e+00  0.00000000e+00  0.00000000e+00\n",
      "  0.00000000e+00  0.00000000e+00  0.00000000e+00  0.00000000e+00\n",
      "  0.00000000e+00  0.00000000e+00  0.00000000e+00  0.00000000e+00\n",
      "  0.00000000e+00  0.00000000e+00  0.00000000e+00  0.00000000e+00\n",
      "  0.00000000e+00  0.00000000e+00  0.00000000e+00  0.00000000e+00\n",
      "  0.00000000e+00  0.00000000e+00  0.00000000e+00  0.00000000e+00\n",
      "  6.54750340e-02  4.35760082e-02  7.63274029e-02  6.70293375e-02\n",
      "  3.40836548e-02  2.23153571e-02  5.39010242e-02  3.44999861e-02\n",
      "  4.66013489e-02  1.31838241e-02  3.24738405e-02  2.05390102e-02\n",
      "  1.05637126e-01  5.04593522e-02  1.09800439e-01  6.99436565e-02\n",
      "  6.90277277e-02  6.20056066e-02  8.87618307e-02  8.32940132e-02\n",
      "  9.13430847e-02  6.38374643e-02  3.39448777e-02  1.79855117e-02\n",
      "  4.55743984e-02  3.15579117e-02  1.44328180e-02  1.52377252e-02\n",
      "  3.33065031e-04  0.00000000e+00  1.38777096e-04  1.74814463e-03\n",
      "  8.71419907e-05 -2.43425369e-03 -3.18032503e-03 -3.51208448e-03\n",
      " -3.70562077e-03 -2.96574831e-03 -2.69436836e-03 -2.00742483e-03\n",
      " -1.76781416e-03 -1.95604563e-03 -3.94523144e-04  1.38515234e-03\n",
      "  3.20279598e-03  1.29747391e-03 -1.50781870e-03 -4.72664833e-04\n",
      " -1.85841322e-03 -3.02803516e-03 -3.67623568e-03 -4.12422419e-03\n",
      " -4.20677662e-03 -3.46630812e-03 -2.80666351e-03 -2.15029716e-03\n",
      " -1.42198801e-03 -1.33895874e-03 -1.09821558e-03 -8.85009766e-04]\n",
      "29 day output [[-0.00074899]]\n",
      "[[0.0017481446266174316], [8.71419906616211e-05], [-0.002434253692626953], [-0.0031803250312805176], [-0.003512084484100342], [-0.003705620765686035], [-0.0029657483100891113], [-0.002694368362426758], [-0.002007424831390381], [-0.0017678141593933105], [-0.001956045627593994], [-0.00039452314376831055], [0.0013851523399353027], [0.00320279598236084], [0.0012974739074707031], [-0.0015078186988830566], [-0.00047266483306884766], [-0.0018584132194519043], [-0.0030280351638793945], [-0.0036762356758117676], [-0.0041242241859436035], [-0.0042067766189575195], [-0.003466308116912842], [-0.0028066635131835938], [-0.002150297164916992], [-0.0014219880104064941], [-0.001338958740234375], [-0.0010982155799865723], [-0.000885009765625], [-0.0007489919662475586]]\n"
     ]
    }
   ],
   "source": [
    "# demonstrate prediction for next 30 days\n",
    "from numpy import array\n",
    "\n",
    "lst_output=[]\n",
    "n_steps=100\n",
    "i=0\n",
    "while(i<30):\n",
    "    \n",
    "    if(len(temp_input)>100):\n",
    "        #print(temp_input)\n",
    "        x_input=np.array(temp_input[1:])\n",
    "        print(\"{} day input {}\".format(i,x_input))\n",
    "        x_input=x_input.reshape(1,-1)\n",
    "        x_input = x_input.reshape((1, n_steps, 1))\n",
    "        #print(x_input)\n",
    "        yhat = model.predict(x_input, verbose=0)\n",
    "        print(\"{} day output {}\".format(i,yhat))\n",
    "        temp_input.extend(yhat[0].tolist())\n",
    "        temp_input=temp_input[1:]\n",
    "        #print(temp_input)\n",
    "        lst_output.extend(yhat.tolist())\n",
    "        i=i+1\n",
    "    else:\n",
    "        x_input = x_input.reshape((1, n_steps,1))\n",
    "        yhat = model.predict(x_input, verbose=0)\n",
    "        print(yhat[0])\n",
    "        temp_input.extend(yhat[0].tolist())\n",
    "        print(len(temp_input))\n",
    "        lst_output.extend(yhat.tolist())\n",
    "        i=i+1\n",
    "    \n",
    "\n",
    "print(lst_output)"
   ]
  },
  {
   "cell_type": "code",
   "execution_count": 48,
   "metadata": {},
   "outputs": [],
   "source": [
    "day_new=np.arange(1,101)\n",
    "day_pred=np.arange(101,131)"
   ]
  },
  {
   "cell_type": "code",
   "execution_count": 49,
   "metadata": {},
   "outputs": [],
   "source": [
    "import matplotlib.pyplot as plt"
   ]
  },
  {
   "cell_type": "code",
   "execution_count": 50,
   "metadata": {},
   "outputs": [
    {
     "data": {
      "text/plain": [
       "173963"
      ]
     },
     "execution_count": 50,
     "metadata": {},
     "output_type": "execute_result"
    }
   ],
   "source": [
    "len(df1)"
   ]
  },
  {
   "cell_type": "code",
   "execution_count": null,
   "metadata": {},
   "outputs": [],
   "source": []
  },
  {
   "cell_type": "code",
   "execution_count": 51,
   "metadata": {},
   "outputs": [
    {
     "data": {
      "text/plain": [
       "[<matplotlib.lines.Line2D at 0x2d5e4fb87c0>]"
      ]
     },
     "execution_count": 51,
     "metadata": {},
     "output_type": "execute_result"
    },
    {
     "data": {
      "image/png": "[encoded data removed]",
      "text/plain": [
       "<Figure size 432x288 with 1 Axes>"
      ]
     },
     "metadata": {
      "needs_background": "light"
     },
     "output_type": "display_data"
    }
   ],
   "source": [
    "plt.plot(day_new,scaler.inverse_transform(df1[173863:]))\n",
    "plt.plot(day_pred,scaler.inverse_transform(lst_output))"
   ]
  },
  {
   "cell_type": "code",
   "execution_count": 52,
   "metadata": {},
   "outputs": [
    {
     "data": {
      "text/plain": [
       "[<matplotlib.lines.Line2D at 0x2d5e39e1e80>]"
      ]
     },
     "execution_count": 52,
     "metadata": {},
     "output_type": "execute_result"
    },
    {
     "data": {
      "image/png": "[encoded data removed]",
      "text/plain": [
       "<Figure size 432x288 with 1 Axes>"
      ]
     },
     "metadata": {
      "needs_background": "light"
     },
     "output_type": "display_data"
    }
   ],
   "source": [
    "df3=df1.tolist()\n",
    "df3.extend(lst_output)\n",
    "plt.plot(df3[173900:])"
   ]
  },
  {
   "cell_type": "code",
   "execution_count": 53,
   "metadata": {},
   "outputs": [],
   "source": [
    "df3=scaler.inverse_transform(df3).tolist()"
   ]
  },
  {
   "cell_type": "code",
   "execution_count": 54,
   "metadata": {},
   "outputs": [
    {
     "data": {
      "text/plain": [
       "[<matplotlib.lines.Line2D at 0x2d5e4f38b50>]"
      ]
     },
     "execution_count": 54,
     "metadata": {},
     "output_type": "execute_result"
    },
    {
     "data": {
      "image/png": "[encoded data removed]",
      "text/plain": [
       "<Figure size 432x288 with 1 Axes>"
      ]
     },
     "metadata": {
      "needs_background": "light"
     },
     "output_type": "display_data"
    }
   ],
   "source": [
    "plt.plot(df3)"
   ]
  },
  {
   "cell_type": "code",
   "execution_count": 55,
   "metadata": {},
   "outputs": [
    {
     "name": "stderr",
     "output_type": "stream",
     "text": [
      "WARNING:absl:Found untraced functions such as lstm_cell_layer_call_fn, lstm_cell_layer_call_and_return_conditional_losses, lstm_cell_1_layer_call_fn, lstm_cell_1_layer_call_and_return_conditional_losses, lstm_cell_2_layer_call_fn while saving (showing 5 of 15). These functions will not be directly callable after loading.\n"
     ]
    },
    {
     "name": "stdout",
     "output_type": "stream",
     "text": [
      "INFO:tensorflow:Assets written to: ram://9c8b7494-90ab-4bee-8312-da08e7130820/assets\n"
     ]
    },
    {
     "name": "stderr",
     "output_type": "stream",
     "text": [
      "INFO:tensorflow:Assets written to: ram://9c8b7494-90ab-4bee-8312-da08e7130820/assets\n",
      "WARNING:absl:<keras.layers.recurrent.LSTMCell object at 0x000002D5D7B4DEB0> has the same name 'LSTMCell' as a built-in Keras object. Consider renaming <class 'keras.layers.recurrent.LSTMCell'> to avoid naming conflicts when loading with `tf.keras.models.load_model`. If renaming is not possible, pass the object in the `custom_objects` parameter of the load function.\n",
      "WARNING:absl:<keras.layers.recurrent.LSTMCell object at 0x000002D5D7C483A0> has the same name 'LSTMCell' as a built-in Keras object. Consider renaming <class 'keras.layers.recurrent.LSTMCell'> to avoid naming conflicts when loading with `tf.keras.models.load_model`. If renaming is not possible, pass the object in the `custom_objects` parameter of the load function.\n",
      "WARNING:absl:<keras.layers.recurrent.LSTMCell object at 0x000002D5D8D25DF0> has the same name 'LSTMCell' as a built-in Keras object. Consider renaming <class 'keras.layers.recurrent.LSTMCell'> to avoid naming conflicts when loading with `tf.keras.models.load_model`. If renaming is not possible, pass the object in the `custom_objects` parameter of the load function.\n"
     ]
    },
    {
     "ename": "NotFoundError",
     "evalue": "",
     "output_type": "error",
     "traceback": [
      "\u001b[1;31m---------------------------------------------------------------------------\u001b[0m",
      "\u001b[1;31mNotFoundError\u001b[0m                             Traceback (most recent call last)",
      "\u001b[1;32m<ipython-input-55-36e2be473ba5>\u001b[0m in \u001b[0;36m<module>\u001b[1;34m\u001b[0m\n\u001b[0;32m      1\u001b[0m \u001b[1;32mimport\u001b[0m \u001b[0mpickle\u001b[0m\u001b[1;33m\u001b[0m\u001b[1;33m\u001b[0m\u001b[0m\n\u001b[1;32m----> 2\u001b[1;33m \u001b[0mpickle\u001b[0m\u001b[1;33m.\u001b[0m\u001b[0mdump\u001b[0m\u001b[1;33m(\u001b[0m\u001b[0mmodel\u001b[0m\u001b[1;33m,\u001b[0m\u001b[0mopen\u001b[0m\u001b[1;33m(\u001b[0m\u001b[1;34m'model.pkl'\u001b[0m\u001b[1;33m,\u001b[0m\u001b[1;34m'wb'\u001b[0m\u001b[1;33m)\u001b[0m\u001b[1;33m)\u001b[0m\u001b[1;33m\u001b[0m\u001b[1;33m\u001b[0m\u001b[0m\n\u001b[0m",
      "\u001b[1;32m~\\anaconda3\\lib\\site-packages\\keras\\engine\\training.py\u001b[0m in \u001b[0;36m__reduce__\u001b[1;34m(self)\u001b[0m\n\u001b[0;32m    313\u001b[0m     \u001b[1;32mif\u001b[0m \u001b[0mself\u001b[0m\u001b[1;33m.\u001b[0m\u001b[0mbuilt\u001b[0m\u001b[1;33m:\u001b[0m\u001b[1;33m\u001b[0m\u001b[1;33m\u001b[0m\u001b[0m\n\u001b[0;32m    314\u001b[0m       return (pickle_utils.deserialize_model_from_bytecode,\n\u001b[1;32m--> 315\u001b[1;33m               pickle_utils.serialize_model_as_bytecode(self))\n\u001b[0m\u001b[0;32m    316\u001b[0m     \u001b[1;32melse\u001b[0m\u001b[1;33m:\u001b[0m\u001b[1;33m\u001b[0m\u001b[1;33m\u001b[0m\u001b[0m\n\u001b[0;32m    317\u001b[0m       \u001b[1;31m# SavedModel (and hence serialize_model_as_bytecode) only support\u001b[0m\u001b[1;33m\u001b[0m\u001b[1;33m\u001b[0m\u001b[1;33m\u001b[0m\u001b[0m\n",
      "\u001b[1;32m~\\anaconda3\\lib\\site-packages\\keras\\saving\\pickle_utils.py\u001b[0m in \u001b[0;36mserialize_model_as_bytecode\u001b[1;34m(model)\u001b[0m\n\u001b[0;32m     75\u001b[0m         \u001b[1;32mwith\u001b[0m \u001b[0mtf\u001b[0m\u001b[1;33m.\u001b[0m\u001b[0mio\u001b[0m\u001b[1;33m.\u001b[0m\u001b[0mgfile\u001b[0m\u001b[1;33m.\u001b[0m\u001b[0mGFile\u001b[0m\u001b[1;33m(\u001b[0m\u001b[0mdest_path\u001b[0m\u001b[1;33m,\u001b[0m \u001b[1;34m\"rb\"\u001b[0m\u001b[1;33m)\u001b[0m \u001b[1;32mas\u001b[0m \u001b[0mf\u001b[0m\u001b[1;33m:\u001b[0m\u001b[1;33m\u001b[0m\u001b[1;33m\u001b[0m\u001b[0m\n\u001b[0;32m     76\u001b[0m           \u001b[0minfo\u001b[0m \u001b[1;33m=\u001b[0m \u001b[0mtarfile\u001b[0m\u001b[1;33m.\u001b[0m\u001b[0mTarInfo\u001b[0m\u001b[1;33m(\u001b[0m\u001b[0mname\u001b[0m\u001b[1;33m=\u001b[0m\u001b[0mos\u001b[0m\u001b[1;33m.\u001b[0m\u001b[0mpath\u001b[0m\u001b[1;33m.\u001b[0m\u001b[0mrelpath\u001b[0m\u001b[1;33m(\u001b[0m\u001b[0mdest_path\u001b[0m\u001b[1;33m,\u001b[0m \u001b[0mtemp_dir\u001b[0m\u001b[1;33m)\u001b[0m\u001b[1;33m)\u001b[0m\u001b[1;33m\u001b[0m\u001b[1;33m\u001b[0m\u001b[0m\n\u001b[1;32m---> 77\u001b[1;33m           \u001b[0minfo\u001b[0m\u001b[1;33m.\u001b[0m\u001b[0msize\u001b[0m \u001b[1;33m=\u001b[0m \u001b[0mf\u001b[0m\u001b[1;33m.\u001b[0m\u001b[0msize\u001b[0m\u001b[1;33m(\u001b[0m\u001b[1;33m)\u001b[0m\u001b[1;33m\u001b[0m\u001b[1;33m\u001b[0m\u001b[0m\n\u001b[0m\u001b[0;32m     78\u001b[0m           \u001b[0marchive\u001b[0m\u001b[1;33m.\u001b[0m\u001b[0maddfile\u001b[0m\u001b[1;33m(\u001b[0m\u001b[0mtarinfo\u001b[0m\u001b[1;33m=\u001b[0m\u001b[0minfo\u001b[0m\u001b[1;33m,\u001b[0m \u001b[0mfileobj\u001b[0m\u001b[1;33m=\u001b[0m\u001b[0mf\u001b[0m\u001b[1;33m)\u001b[0m\u001b[1;33m\u001b[0m\u001b[1;33m\u001b[0m\u001b[0m\n\u001b[0;32m     79\u001b[0m   \u001b[0mtf\u001b[0m\u001b[1;33m.\u001b[0m\u001b[0mio\u001b[0m\u001b[1;33m.\u001b[0m\u001b[0mgfile\u001b[0m\u001b[1;33m.\u001b[0m\u001b[0mrmtree\u001b[0m\u001b[1;33m(\u001b[0m\u001b[0mtemp_dir\u001b[0m\u001b[1;33m)\u001b[0m\u001b[1;33m\u001b[0m\u001b[1;33m\u001b[0m\u001b[0m\n",
      "\u001b[1;32m~\\anaconda3\\lib\\site-packages\\tensorflow\\python\\lib\\io\\file_io.py\u001b[0m in \u001b[0;36msize\u001b[1;34m(self)\u001b[0m\n\u001b[0;32m     97\u001b[0m   \u001b[1;32mdef\u001b[0m \u001b[0msize\u001b[0m\u001b[1;33m(\u001b[0m\u001b[0mself\u001b[0m\u001b[1;33m)\u001b[0m\u001b[1;33m:\u001b[0m\u001b[1;33m\u001b[0m\u001b[1;33m\u001b[0m\u001b[0m\n\u001b[0;32m     98\u001b[0m     \u001b[1;34m\"\"\"Returns the size of the file.\"\"\"\u001b[0m\u001b[1;33m\u001b[0m\u001b[1;33m\u001b[0m\u001b[0m\n\u001b[1;32m---> 99\u001b[1;33m     \u001b[1;32mreturn\u001b[0m \u001b[0mstat\u001b[0m\u001b[1;33m(\u001b[0m\u001b[0mself\u001b[0m\u001b[1;33m.\u001b[0m\u001b[0m__name\u001b[0m\u001b[1;33m)\u001b[0m\u001b[1;33m.\u001b[0m\u001b[0mlength\u001b[0m\u001b[1;33m\u001b[0m\u001b[1;33m\u001b[0m\u001b[0m\n\u001b[0m\u001b[0;32m    100\u001b[0m \u001b[1;33m\u001b[0m\u001b[0m\n\u001b[0;32m    101\u001b[0m   \u001b[1;32mdef\u001b[0m \u001b[0mwrite\u001b[0m\u001b[1;33m(\u001b[0m\u001b[0mself\u001b[0m\u001b[1;33m,\u001b[0m \u001b[0mfile_content\u001b[0m\u001b[1;33m)\u001b[0m\u001b[1;33m:\u001b[0m\u001b[1;33m\u001b[0m\u001b[1;33m\u001b[0m\u001b[0m\n",
      "\u001b[1;32m~\\anaconda3\\lib\\site-packages\\tensorflow\\python\\lib\\io\\file_io.py\u001b[0m in \u001b[0;36mstat\u001b[1;34m(filename)\u001b[0m\n\u001b[0;32m    908\u001b[0m     \u001b[0merrors\u001b[0m\u001b[1;33m.\u001b[0m\u001b[0mOpError\u001b[0m\u001b[1;33m:\u001b[0m \u001b[0mIf\u001b[0m \u001b[0mthe\u001b[0m \u001b[0moperation\u001b[0m \u001b[0mfails\u001b[0m\u001b[1;33m.\u001b[0m\u001b[1;33m\u001b[0m\u001b[1;33m\u001b[0m\u001b[0m\n\u001b[0;32m    909\u001b[0m   \"\"\"\n\u001b[1;32m--> 910\u001b[1;33m   \u001b[1;32mreturn\u001b[0m \u001b[0mstat_v2\u001b[0m\u001b[1;33m(\u001b[0m\u001b[0mfilename\u001b[0m\u001b[1;33m)\u001b[0m\u001b[1;33m\u001b[0m\u001b[1;33m\u001b[0m\u001b[0m\n\u001b[0m\u001b[0;32m    911\u001b[0m \u001b[1;33m\u001b[0m\u001b[0m\n\u001b[0;32m    912\u001b[0m \u001b[1;33m\u001b[0m\u001b[0m\n",
      "\u001b[1;32m~\\anaconda3\\lib\\site-packages\\tensorflow\\python\\lib\\io\\file_io.py\u001b[0m in \u001b[0;36mstat_v2\u001b[1;34m(path)\u001b[0m\n\u001b[0;32m    924\u001b[0m     \u001b[0merrors\u001b[0m\u001b[1;33m.\u001b[0m\u001b[0mOpError\u001b[0m\u001b[1;33m:\u001b[0m \u001b[0mIf\u001b[0m \u001b[0mthe\u001b[0m \u001b[0moperation\u001b[0m \u001b[0mfails\u001b[0m\u001b[1;33m.\u001b[0m\u001b[1;33m\u001b[0m\u001b[1;33m\u001b[0m\u001b[0m\n\u001b[0;32m    925\u001b[0m   \"\"\"\n\u001b[1;32m--> 926\u001b[1;33m   \u001b[1;32mreturn\u001b[0m \u001b[0m_pywrap_file_io\u001b[0m\u001b[1;33m.\u001b[0m\u001b[0mStat\u001b[0m\u001b[1;33m(\u001b[0m\u001b[0mcompat\u001b[0m\u001b[1;33m.\u001b[0m\u001b[0mpath_to_str\u001b[0m\u001b[1;33m(\u001b[0m\u001b[0mpath\u001b[0m\u001b[1;33m)\u001b[0m\u001b[1;33m)\u001b[0m\u001b[1;33m\u001b[0m\u001b[1;33m\u001b[0m\u001b[0m\n\u001b[0m\u001b[0;32m    927\u001b[0m \u001b[1;33m\u001b[0m\u001b[0m\n\u001b[0;32m    928\u001b[0m \u001b[1;33m\u001b[0m\u001b[0m\n",
      "\u001b[1;31mNotFoundError\u001b[0m: "
     ]
    }
   ],
   "source": [
    "import pickle\n",
    "pickle.dump(model,open('model.pkl','wb'))"
   ]
  },
  {
   "cell_type": "code",
   "execution_count": 56,
   "metadata": {},
   "outputs": [
    {
     "name": "stderr",
     "output_type": "stream",
     "text": [
      "WARNING:absl:Found untraced functions such as lstm_cell_layer_call_fn, lstm_cell_layer_call_and_return_conditional_losses, lstm_cell_1_layer_call_fn, lstm_cell_1_layer_call_and_return_conditional_losses, lstm_cell_2_layer_call_fn while saving (showing 5 of 15). These functions will not be directly callable after loading.\n"
     ]
    },
    {
     "name": "stdout",
     "output_type": "stream",
     "text": [
      "INFO:tensorflow:Assets written to: my_model\\assets\n"
     ]
    },
    {
     "name": "stderr",
     "output_type": "stream",
     "text": [
      "INFO:tensorflow:Assets written to: my_model\\assets\n",
      "WARNING:absl:<keras.layers.recurrent.LSTMCell object at 0x000002D5D7B4DEB0> has the same name 'LSTMCell' as a built-in Keras object. Consider renaming <class 'keras.layers.recurrent.LSTMCell'> to avoid naming conflicts when loading with `tf.keras.models.load_model`. If renaming is not possible, pass the object in the `custom_objects` parameter of the load function.\n",
      "WARNING:absl:<keras.layers.recurrent.LSTMCell object at 0x000002D5D7C483A0> has the same name 'LSTMCell' as a built-in Keras object. Consider renaming <class 'keras.layers.recurrent.LSTMCell'> to avoid naming conflicts when loading with `tf.keras.models.load_model`. If renaming is not possible, pass the object in the `custom_objects` parameter of the load function.\n",
      "WARNING:absl:<keras.layers.recurrent.LSTMCell object at 0x000002D5D8D25DF0> has the same name 'LSTMCell' as a built-in Keras object. Consider renaming <class 'keras.layers.recurrent.LSTMCell'> to avoid naming conflicts when loading with `tf.keras.models.load_model`. If renaming is not possible, pass the object in the `custom_objects` parameter of the load function.\n"
     ]
    }
   ],
   "source": [
    "model.save(\"my_model\")"
   ]
  },
  {
   "cell_type": "code",
   "execution_count": null,
   "metadata": {},
   "outputs": [],
   "source": [
    "-"
   ]
  }
 ],
 "metadata": {
  "kernelspec": {
   "display_name": "Python 3 (ipykernel)",
   "language": "python",
   "name": "python3"
  },
  "language_info": {
   "codemirror_mode": {
    "name": "ipython",
    "version": 3
   },
   "file_extension": ".py",
   "mimetype": "text/x-python",
   "name": "python",
   "nbconvert_exporter": "python",
   "pygments_lexer": "ipython3",
   "version": "3.9.7"
  }
 },
 "nbformat": 4,
 "nbformat_minor": 2
}
