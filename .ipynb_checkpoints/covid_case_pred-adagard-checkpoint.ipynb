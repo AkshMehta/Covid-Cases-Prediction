{
 "cells": [
  {
   "cell_type": "markdown",
   "metadata": {},
   "source": [
    "### Covid Cases Prediction And Forecasting Using Stacked LSTM"
   ]
  },
  {
   "cell_type": "code",
   "execution_count": 1,
   "metadata": {},
   "outputs": [],
   "source": [
    "import pandas as pd\n",
    "import numpy as np\n",
    "import matplotlib.pyplot as plt"
   ]
  },
  {
   "cell_type": "code",
   "execution_count": 2,
   "metadata": {},
   "outputs": [],
   "source": [
    "df1 = pd.read_csv('Covid Dataset.csv',index_col='Date Announced',parse_dates=True)"
   ]
  },
  {
   "cell_type": "code",
   "execution_count": 3,
   "metadata": {},
   "outputs": [
    {
     "data": {
      "text/html": [
       "<div>\n",
       "<style scoped>\n",
       "    .dataframe tbody tr th:only-of-type {\n",
       "        vertical-align: middle;\n",
       "    }\n",
       "\n",
       "    .dataframe tbody tr th {\n",
       "        vertical-align: top;\n",
       "    }\n",
       "\n",
       "    .dataframe thead th {\n",
       "        text-align: right;\n",
       "    }\n",
       "</style>\n",
       "<table border=\"1\" class=\"dataframe\">\n",
       "  <thead>\n",
       "    <tr style=\"text-align: right;\">\n",
       "      <th></th>\n",
       "      <th>Unnamed: 0</th>\n",
       "      <th>Num Cases</th>\n",
       "      <th>Age Bracket</th>\n",
       "      <th>Gender</th>\n",
       "      <th>Detected State</th>\n",
       "      <th>Current Status</th>\n",
       "      <th>Day</th>\n",
       "      <th>Month</th>\n",
       "      <th>Year</th>\n",
       "    </tr>\n",
       "    <tr>\n",
       "      <th>Date Announced</th>\n",
       "      <th></th>\n",
       "      <th></th>\n",
       "      <th></th>\n",
       "      <th></th>\n",
       "      <th></th>\n",
       "      <th></th>\n",
       "      <th></th>\n",
       "      <th></th>\n",
       "      <th></th>\n",
       "    </tr>\n",
       "  </thead>\n",
       "  <tbody>\n",
       "    <tr>\n",
       "      <th>2021-05-05</th>\n",
       "      <td>0</td>\n",
       "      <td>443.0</td>\n",
       "      <td>NaN</td>\n",
       "      <td>NaN</td>\n",
       "      <td>Odisha</td>\n",
       "      <td>Hospitalized</td>\n",
       "      <td>5</td>\n",
       "      <td>5</td>\n",
       "      <td>2021</td>\n",
       "    </tr>\n",
       "    <tr>\n",
       "      <th>2021-05-05</th>\n",
       "      <td>1</td>\n",
       "      <td>151.0</td>\n",
       "      <td>NaN</td>\n",
       "      <td>NaN</td>\n",
       "      <td>Odisha</td>\n",
       "      <td>Hospitalized</td>\n",
       "      <td>5</td>\n",
       "      <td>5</td>\n",
       "      <td>2021</td>\n",
       "    </tr>\n",
       "    <tr>\n",
       "      <th>2021-05-05</th>\n",
       "      <td>2</td>\n",
       "      <td>483.0</td>\n",
       "      <td>NaN</td>\n",
       "      <td>NaN</td>\n",
       "      <td>Odisha</td>\n",
       "      <td>Hospitalized</td>\n",
       "      <td>5</td>\n",
       "      <td>5</td>\n",
       "      <td>2021</td>\n",
       "    </tr>\n",
       "    <tr>\n",
       "      <th>2021-05-05</th>\n",
       "      <td>3</td>\n",
       "      <td>52.0</td>\n",
       "      <td>NaN</td>\n",
       "      <td>NaN</td>\n",
       "      <td>Odisha</td>\n",
       "      <td>Hospitalized</td>\n",
       "      <td>5</td>\n",
       "      <td>5</td>\n",
       "      <td>2021</td>\n",
       "    </tr>\n",
       "    <tr>\n",
       "      <th>2021-05-05</th>\n",
       "      <td>4</td>\n",
       "      <td>326.0</td>\n",
       "      <td>NaN</td>\n",
       "      <td>NaN</td>\n",
       "      <td>Odisha</td>\n",
       "      <td>Hospitalized</td>\n",
       "      <td>5</td>\n",
       "      <td>5</td>\n",
       "      <td>2021</td>\n",
       "    </tr>\n",
       "  </tbody>\n",
       "</table>\n",
       "</div>"
      ],
      "text/plain": [
       "                Unnamed: 0  Num Cases  Age Bracket Gender Detected State  \\\n",
       "Date Announced                                                             \n",
       "2021-05-05               0      443.0          NaN    NaN         Odisha   \n",
       "2021-05-05               1      151.0          NaN    NaN         Odisha   \n",
       "2021-05-05               2      483.0          NaN    NaN         Odisha   \n",
       "2021-05-05               3       52.0          NaN    NaN         Odisha   \n",
       "2021-05-05               4      326.0          NaN    NaN         Odisha   \n",
       "\n",
       "               Current Status  Day  Month  Year  \n",
       "Date Announced                                   \n",
       "2021-05-05       Hospitalized    5      5  2021  \n",
       "2021-05-05       Hospitalized    5      5  2021  \n",
       "2021-05-05       Hospitalized    5      5  2021  \n",
       "2021-05-05       Hospitalized    5      5  2021  \n",
       "2021-05-05       Hospitalized    5      5  2021  "
      ]
     },
     "execution_count": 3,
     "metadata": {},
     "output_type": "execute_result"
    }
   ],
   "source": [
    "df1.head()"
   ]
  },
  {
   "cell_type": "code",
   "execution_count": 4,
   "metadata": {},
   "outputs": [
    {
     "data": {
      "text/html": [
       "<div>\n",
       "<style scoped>\n",
       "    .dataframe tbody tr th:only-of-type {\n",
       "        vertical-align: middle;\n",
       "    }\n",
       "\n",
       "    .dataframe tbody tr th {\n",
       "        vertical-align: top;\n",
       "    }\n",
       "\n",
       "    .dataframe thead th {\n",
       "        text-align: right;\n",
       "    }\n",
       "</style>\n",
       "<table border=\"1\" class=\"dataframe\">\n",
       "  <thead>\n",
       "    <tr style=\"text-align: right;\">\n",
       "      <th></th>\n",
       "      <th>Unnamed: 0</th>\n",
       "      <th>Num Cases</th>\n",
       "      <th>Age Bracket</th>\n",
       "      <th>Gender</th>\n",
       "      <th>Detected State</th>\n",
       "      <th>Current Status</th>\n",
       "      <th>Day</th>\n",
       "      <th>Month</th>\n",
       "      <th>Year</th>\n",
       "    </tr>\n",
       "    <tr>\n",
       "      <th>Date Announced</th>\n",
       "      <th></th>\n",
       "      <th></th>\n",
       "      <th></th>\n",
       "      <th></th>\n",
       "      <th></th>\n",
       "      <th></th>\n",
       "      <th></th>\n",
       "      <th></th>\n",
       "      <th></th>\n",
       "    </tr>\n",
       "  </thead>\n",
       "  <tbody>\n",
       "    <tr>\n",
       "      <th>2021-08-28</th>\n",
       "      <td>12065</td>\n",
       "      <td>NaN</td>\n",
       "      <td>NaN</td>\n",
       "      <td>NaN</td>\n",
       "      <td>NaN</td>\n",
       "      <td>NaN</td>\n",
       "      <td>28</td>\n",
       "      <td>8</td>\n",
       "      <td>2021</td>\n",
       "    </tr>\n",
       "    <tr>\n",
       "      <th>2021-08-28</th>\n",
       "      <td>12066</td>\n",
       "      <td>NaN</td>\n",
       "      <td>NaN</td>\n",
       "      <td>NaN</td>\n",
       "      <td>NaN</td>\n",
       "      <td>NaN</td>\n",
       "      <td>28</td>\n",
       "      <td>8</td>\n",
       "      <td>2021</td>\n",
       "    </tr>\n",
       "    <tr>\n",
       "      <th>2021-08-28</th>\n",
       "      <td>12067</td>\n",
       "      <td>NaN</td>\n",
       "      <td>NaN</td>\n",
       "      <td>NaN</td>\n",
       "      <td>NaN</td>\n",
       "      <td>NaN</td>\n",
       "      <td>28</td>\n",
       "      <td>8</td>\n",
       "      <td>2021</td>\n",
       "    </tr>\n",
       "    <tr>\n",
       "      <th>2021-08-28</th>\n",
       "      <td>12068</td>\n",
       "      <td>NaN</td>\n",
       "      <td>NaN</td>\n",
       "      <td>NaN</td>\n",
       "      <td>NaN</td>\n",
       "      <td>NaN</td>\n",
       "      <td>28</td>\n",
       "      <td>8</td>\n",
       "      <td>2021</td>\n",
       "    </tr>\n",
       "    <tr>\n",
       "      <th>2021-08-28</th>\n",
       "      <td>12069</td>\n",
       "      <td>NaN</td>\n",
       "      <td>NaN</td>\n",
       "      <td>NaN</td>\n",
       "      <td>NaN</td>\n",
       "      <td>NaN</td>\n",
       "      <td>28</td>\n",
       "      <td>8</td>\n",
       "      <td>2021</td>\n",
       "    </tr>\n",
       "  </tbody>\n",
       "</table>\n",
       "</div>"
      ],
      "text/plain": [
       "                Unnamed: 0  Num Cases  Age Bracket Gender Detected State  \\\n",
       "Date Announced                                                             \n",
       "2021-08-28           12065        NaN          NaN    NaN            NaN   \n",
       "2021-08-28           12066        NaN          NaN    NaN            NaN   \n",
       "2021-08-28           12067        NaN          NaN    NaN            NaN   \n",
       "2021-08-28           12068        NaN          NaN    NaN            NaN   \n",
       "2021-08-28           12069        NaN          NaN    NaN            NaN   \n",
       "\n",
       "               Current Status  Day  Month  Year  \n",
       "Date Announced                                   \n",
       "2021-08-28                NaN   28      8  2021  \n",
       "2021-08-28                NaN   28      8  2021  \n",
       "2021-08-28                NaN   28      8  2021  \n",
       "2021-08-28                NaN   28      8  2021  \n",
       "2021-08-28                NaN   28      8  2021  "
      ]
     },
     "execution_count": 4,
     "metadata": {},
     "output_type": "execute_result"
    }
   ],
   "source": [
    "df1.tail()"
   ]
  },
  {
   "cell_type": "code",
   "execution_count": 5,
   "metadata": {},
   "outputs": [
    {
     "data": {
      "text/html": [
       "<div>\n",
       "<style scoped>\n",
       "    .dataframe tbody tr th:only-of-type {\n",
       "        vertical-align: middle;\n",
       "    }\n",
       "\n",
       "    .dataframe tbody tr th {\n",
       "        vertical-align: top;\n",
       "    }\n",
       "\n",
       "    .dataframe thead th {\n",
       "        text-align: right;\n",
       "    }\n",
       "</style>\n",
       "<table border=\"1\" class=\"dataframe\">\n",
       "  <thead>\n",
       "    <tr style=\"text-align: right;\">\n",
       "      <th></th>\n",
       "      <th>Unnamed: 0</th>\n",
       "      <th>Num Cases</th>\n",
       "      <th>Age Bracket</th>\n",
       "      <th>Gender</th>\n",
       "      <th>Detected State</th>\n",
       "      <th>Current Status</th>\n",
       "      <th>Day</th>\n",
       "      <th>Month</th>\n",
       "      <th>Year</th>\n",
       "    </tr>\n",
       "    <tr>\n",
       "      <th>Date Announced</th>\n",
       "      <th></th>\n",
       "      <th></th>\n",
       "      <th></th>\n",
       "      <th></th>\n",
       "      <th></th>\n",
       "      <th></th>\n",
       "      <th></th>\n",
       "      <th></th>\n",
       "      <th></th>\n",
       "    </tr>\n",
       "  </thead>\n",
       "  <tbody>\n",
       "    <tr>\n",
       "      <th>2021-05-05</th>\n",
       "      <td>0</td>\n",
       "      <td>443.0</td>\n",
       "      <td>NaN</td>\n",
       "      <td>NaN</td>\n",
       "      <td>Odisha</td>\n",
       "      <td>Hospitalized</td>\n",
       "      <td>5</td>\n",
       "      <td>5</td>\n",
       "      <td>2021</td>\n",
       "    </tr>\n",
       "    <tr>\n",
       "      <th>2021-05-05</th>\n",
       "      <td>1</td>\n",
       "      <td>151.0</td>\n",
       "      <td>NaN</td>\n",
       "      <td>NaN</td>\n",
       "      <td>Odisha</td>\n",
       "      <td>Hospitalized</td>\n",
       "      <td>5</td>\n",
       "      <td>5</td>\n",
       "      <td>2021</td>\n",
       "    </tr>\n",
       "    <tr>\n",
       "      <th>2021-05-05</th>\n",
       "      <td>2</td>\n",
       "      <td>483.0</td>\n",
       "      <td>NaN</td>\n",
       "      <td>NaN</td>\n",
       "      <td>Odisha</td>\n",
       "      <td>Hospitalized</td>\n",
       "      <td>5</td>\n",
       "      <td>5</td>\n",
       "      <td>2021</td>\n",
       "    </tr>\n",
       "    <tr>\n",
       "      <th>2021-05-05</th>\n",
       "      <td>3</td>\n",
       "      <td>52.0</td>\n",
       "      <td>NaN</td>\n",
       "      <td>NaN</td>\n",
       "      <td>Odisha</td>\n",
       "      <td>Hospitalized</td>\n",
       "      <td>5</td>\n",
       "      <td>5</td>\n",
       "      <td>2021</td>\n",
       "    </tr>\n",
       "    <tr>\n",
       "      <th>2021-05-05</th>\n",
       "      <td>4</td>\n",
       "      <td>326.0</td>\n",
       "      <td>NaN</td>\n",
       "      <td>NaN</td>\n",
       "      <td>Odisha</td>\n",
       "      <td>Hospitalized</td>\n",
       "      <td>5</td>\n",
       "      <td>5</td>\n",
       "      <td>2021</td>\n",
       "    </tr>\n",
       "    <tr>\n",
       "      <th>...</th>\n",
       "      <td>...</td>\n",
       "      <td>...</td>\n",
       "      <td>...</td>\n",
       "      <td>...</td>\n",
       "      <td>...</td>\n",
       "      <td>...</td>\n",
       "      <td>...</td>\n",
       "      <td>...</td>\n",
       "      <td>...</td>\n",
       "    </tr>\n",
       "    <tr>\n",
       "      <th>2021-08-28</th>\n",
       "      <td>12065</td>\n",
       "      <td>NaN</td>\n",
       "      <td>NaN</td>\n",
       "      <td>NaN</td>\n",
       "      <td>NaN</td>\n",
       "      <td>NaN</td>\n",
       "      <td>28</td>\n",
       "      <td>8</td>\n",
       "      <td>2021</td>\n",
       "    </tr>\n",
       "    <tr>\n",
       "      <th>2021-08-28</th>\n",
       "      <td>12066</td>\n",
       "      <td>NaN</td>\n",
       "      <td>NaN</td>\n",
       "      <td>NaN</td>\n",
       "      <td>NaN</td>\n",
       "      <td>NaN</td>\n",
       "      <td>28</td>\n",
       "      <td>8</td>\n",
       "      <td>2021</td>\n",
       "    </tr>\n",
       "    <tr>\n",
       "      <th>2021-08-28</th>\n",
       "      <td>12067</td>\n",
       "      <td>NaN</td>\n",
       "      <td>NaN</td>\n",
       "      <td>NaN</td>\n",
       "      <td>NaN</td>\n",
       "      <td>NaN</td>\n",
       "      <td>28</td>\n",
       "      <td>8</td>\n",
       "      <td>2021</td>\n",
       "    </tr>\n",
       "    <tr>\n",
       "      <th>2021-08-28</th>\n",
       "      <td>12068</td>\n",
       "      <td>NaN</td>\n",
       "      <td>NaN</td>\n",
       "      <td>NaN</td>\n",
       "      <td>NaN</td>\n",
       "      <td>NaN</td>\n",
       "      <td>28</td>\n",
       "      <td>8</td>\n",
       "      <td>2021</td>\n",
       "    </tr>\n",
       "    <tr>\n",
       "      <th>2021-08-28</th>\n",
       "      <td>12069</td>\n",
       "      <td>NaN</td>\n",
       "      <td>NaN</td>\n",
       "      <td>NaN</td>\n",
       "      <td>NaN</td>\n",
       "      <td>NaN</td>\n",
       "      <td>28</td>\n",
       "      <td>8</td>\n",
       "      <td>2021</td>\n",
       "    </tr>\n",
       "  </tbody>\n",
       "</table>\n",
       "<p>175757 rows × 9 columns</p>\n",
       "</div>"
      ],
      "text/plain": [
       "                Unnamed: 0  Num Cases  Age Bracket Gender Detected State  \\\n",
       "Date Announced                                                             \n",
       "2021-05-05               0      443.0          NaN    NaN         Odisha   \n",
       "2021-05-05               1      151.0          NaN    NaN         Odisha   \n",
       "2021-05-05               2      483.0          NaN    NaN         Odisha   \n",
       "2021-05-05               3       52.0          NaN    NaN         Odisha   \n",
       "2021-05-05               4      326.0          NaN    NaN         Odisha   \n",
       "...                    ...        ...          ...    ...            ...   \n",
       "2021-08-28           12065        NaN          NaN    NaN            NaN   \n",
       "2021-08-28           12066        NaN          NaN    NaN            NaN   \n",
       "2021-08-28           12067        NaN          NaN    NaN            NaN   \n",
       "2021-08-28           12068        NaN          NaN    NaN            NaN   \n",
       "2021-08-28           12069        NaN          NaN    NaN            NaN   \n",
       "\n",
       "               Current Status  Day  Month  Year  \n",
       "Date Announced                                   \n",
       "2021-05-05       Hospitalized    5      5  2021  \n",
       "2021-05-05       Hospitalized    5      5  2021  \n",
       "2021-05-05       Hospitalized    5      5  2021  \n",
       "2021-05-05       Hospitalized    5      5  2021  \n",
       "2021-05-05       Hospitalized    5      5  2021  \n",
       "...                       ...  ...    ...   ...  \n",
       "2021-08-28                NaN   28      8  2021  \n",
       "2021-08-28                NaN   28      8  2021  \n",
       "2021-08-28                NaN   28      8  2021  \n",
       "2021-08-28                NaN   28      8  2021  \n",
       "2021-08-28                NaN   28      8  2021  \n",
       "\n",
       "[175757 rows x 9 columns]"
      ]
     },
     "execution_count": 5,
     "metadata": {},
     "output_type": "execute_result"
    }
   ],
   "source": [
    "df1"
   ]
  },
  {
   "cell_type": "code",
   "execution_count": 6,
   "metadata": {},
   "outputs": [],
   "source": [
    "del df1['Unnamed: 0']\n",
    "del df1['Age Bracket']\n",
    "del df1['Gender']\n",
    "del df1['Detected State']\n",
    "del df1['Current Status']\n",
    "del df1['Day']\n",
    "del df1['Month']\n",
    "del df1['Year']"
   ]
  },
  {
   "cell_type": "code",
   "execution_count": 7,
   "metadata": {},
   "outputs": [
    {
     "data": {
      "text/html": [
       "<div>\n",
       "<style scoped>\n",
       "    .dataframe tbody tr th:only-of-type {\n",
       "        vertical-align: middle;\n",
       "    }\n",
       "\n",
       "    .dataframe tbody tr th {\n",
       "        vertical-align: top;\n",
       "    }\n",
       "\n",
       "    .dataframe thead th {\n",
       "        text-align: right;\n",
       "    }\n",
       "</style>\n",
       "<table border=\"1\" class=\"dataframe\">\n",
       "  <thead>\n",
       "    <tr style=\"text-align: right;\">\n",
       "      <th></th>\n",
       "      <th>Num Cases</th>\n",
       "    </tr>\n",
       "    <tr>\n",
       "      <th>Date Announced</th>\n",
       "      <th></th>\n",
       "    </tr>\n",
       "  </thead>\n",
       "  <tbody>\n",
       "    <tr>\n",
       "      <th>2021-05-05</th>\n",
       "      <td>443.0</td>\n",
       "    </tr>\n",
       "    <tr>\n",
       "      <th>2021-05-05</th>\n",
       "      <td>151.0</td>\n",
       "    </tr>\n",
       "    <tr>\n",
       "      <th>2021-05-05</th>\n",
       "      <td>483.0</td>\n",
       "    </tr>\n",
       "    <tr>\n",
       "      <th>2021-05-05</th>\n",
       "      <td>52.0</td>\n",
       "    </tr>\n",
       "    <tr>\n",
       "      <th>2021-05-05</th>\n",
       "      <td>326.0</td>\n",
       "    </tr>\n",
       "    <tr>\n",
       "      <th>...</th>\n",
       "      <td>...</td>\n",
       "    </tr>\n",
       "    <tr>\n",
       "      <th>2021-08-28</th>\n",
       "      <td>521.0</td>\n",
       "    </tr>\n",
       "    <tr>\n",
       "      <th>2021-08-28</th>\n",
       "      <td>550.0</td>\n",
       "    </tr>\n",
       "    <tr>\n",
       "      <th>2021-08-28</th>\n",
       "      <td>13.0</td>\n",
       "    </tr>\n",
       "    <tr>\n",
       "      <th>2021-08-28</th>\n",
       "      <td>1.0</td>\n",
       "    </tr>\n",
       "    <tr>\n",
       "      <th>2021-08-28</th>\n",
       "      <td>6.0</td>\n",
       "    </tr>\n",
       "  </tbody>\n",
       "</table>\n",
       "<p>175429 rows × 1 columns</p>\n",
       "</div>"
      ],
      "text/plain": [
       "                Num Cases\n",
       "Date Announced           \n",
       "2021-05-05          443.0\n",
       "2021-05-05          151.0\n",
       "2021-05-05          483.0\n",
       "2021-05-05           52.0\n",
       "2021-05-05          326.0\n",
       "...                   ...\n",
       "2021-08-28          521.0\n",
       "2021-08-28          550.0\n",
       "2021-08-28           13.0\n",
       "2021-08-28            1.0\n",
       "2021-08-28            6.0\n",
       "\n",
       "[175429 rows x 1 columns]"
      ]
     },
     "execution_count": 7,
     "metadata": {},
     "output_type": "execute_result"
    }
   ],
   "source": [
    "df1 = df1.dropna()\n",
    "df1"
   ]
  },
  {
   "cell_type": "code",
   "execution_count": 8,
   "metadata": {},
   "outputs": [
    {
     "data": {
      "text/plain": [
       "Num Cases    0\n",
       "dtype: int64"
      ]
     },
     "execution_count": 8,
     "metadata": {},
     "output_type": "execute_result"
    }
   ],
   "source": [
    "df1.isna().sum()"
   ]
  },
  {
   "cell_type": "code",
   "execution_count": 9,
   "metadata": {},
   "outputs": [
    {
     "data": {
      "text/plain": [
       "True"
      ]
     },
     "execution_count": 9,
     "metadata": {},
     "output_type": "execute_result"
    }
   ],
   "source": [
    "(df1['Num Cases'].values < 0).any()"
   ]
  },
  {
   "cell_type": "code",
   "execution_count": 10,
   "metadata": {},
   "outputs": [],
   "source": [
    "df1 = df1[df1['Num Cases'] > 0]"
   ]
  },
  {
   "cell_type": "code",
   "execution_count": 11,
   "metadata": {},
   "outputs": [
    {
     "data": {
      "text/html": [
       "<div>\n",
       "<style scoped>\n",
       "    .dataframe tbody tr th:only-of-type {\n",
       "        vertical-align: middle;\n",
       "    }\n",
       "\n",
       "    .dataframe tbody tr th {\n",
       "        vertical-align: top;\n",
       "    }\n",
       "\n",
       "    .dataframe thead th {\n",
       "        text-align: right;\n",
       "    }\n",
       "</style>\n",
       "<table border=\"1\" class=\"dataframe\">\n",
       "  <thead>\n",
       "    <tr style=\"text-align: right;\">\n",
       "      <th></th>\n",
       "      <th>Num Cases</th>\n",
       "    </tr>\n",
       "    <tr>\n",
       "      <th>Date Announced</th>\n",
       "      <th></th>\n",
       "    </tr>\n",
       "  </thead>\n",
       "  <tbody>\n",
       "    <tr>\n",
       "      <th>2021-05-05</th>\n",
       "      <td>443.0</td>\n",
       "    </tr>\n",
       "    <tr>\n",
       "      <th>2021-05-05</th>\n",
       "      <td>151.0</td>\n",
       "    </tr>\n",
       "    <tr>\n",
       "      <th>2021-05-05</th>\n",
       "      <td>483.0</td>\n",
       "    </tr>\n",
       "    <tr>\n",
       "      <th>2021-05-05</th>\n",
       "      <td>52.0</td>\n",
       "    </tr>\n",
       "    <tr>\n",
       "      <th>2021-05-05</th>\n",
       "      <td>326.0</td>\n",
       "    </tr>\n",
       "    <tr>\n",
       "      <th>...</th>\n",
       "      <td>...</td>\n",
       "    </tr>\n",
       "    <tr>\n",
       "      <th>2021-08-28</th>\n",
       "      <td>521.0</td>\n",
       "    </tr>\n",
       "    <tr>\n",
       "      <th>2021-08-28</th>\n",
       "      <td>550.0</td>\n",
       "    </tr>\n",
       "    <tr>\n",
       "      <th>2021-08-28</th>\n",
       "      <td>13.0</td>\n",
       "    </tr>\n",
       "    <tr>\n",
       "      <th>2021-08-28</th>\n",
       "      <td>1.0</td>\n",
       "    </tr>\n",
       "    <tr>\n",
       "      <th>2021-08-28</th>\n",
       "      <td>6.0</td>\n",
       "    </tr>\n",
       "  </tbody>\n",
       "</table>\n",
       "<p>173963 rows × 1 columns</p>\n",
       "</div>"
      ],
      "text/plain": [
       "                Num Cases\n",
       "Date Announced           \n",
       "2021-05-05          443.0\n",
       "2021-05-05          151.0\n",
       "2021-05-05          483.0\n",
       "2021-05-05           52.0\n",
       "2021-05-05          326.0\n",
       "...                   ...\n",
       "2021-08-28          521.0\n",
       "2021-08-28          550.0\n",
       "2021-08-28           13.0\n",
       "2021-08-28            1.0\n",
       "2021-08-28            6.0\n",
       "\n",
       "[173963 rows x 1 columns]"
      ]
     },
     "execution_count": 11,
     "metadata": {},
     "output_type": "execute_result"
    }
   ],
   "source": [
    "df1"
   ]
  },
  {
   "cell_type": "code",
   "execution_count": 12,
   "metadata": {},
   "outputs": [
    {
     "data": {
      "text/plain": [
       "False"
      ]
     },
     "execution_count": 12,
     "metadata": {},
     "output_type": "execute_result"
    }
   ],
   "source": [
    "(df1['Num Cases'].values < 0).any()"
   ]
  },
  {
   "cell_type": "code",
   "execution_count": 13,
   "metadata": {},
   "outputs": [
    {
     "data": {
      "text/html": [
       "<div>\n",
       "<style scoped>\n",
       "    .dataframe tbody tr th:only-of-type {\n",
       "        vertical-align: middle;\n",
       "    }\n",
       "\n",
       "    .dataframe tbody tr th {\n",
       "        vertical-align: top;\n",
       "    }\n",
       "\n",
       "    .dataframe thead th {\n",
       "        text-align: right;\n",
       "    }\n",
       "</style>\n",
       "<table border=\"1\" class=\"dataframe\">\n",
       "  <thead>\n",
       "    <tr style=\"text-align: right;\">\n",
       "      <th></th>\n",
       "      <th>Num Cases</th>\n",
       "    </tr>\n",
       "  </thead>\n",
       "  <tbody>\n",
       "    <tr>\n",
       "      <th>count</th>\n",
       "      <td>173963.000000</td>\n",
       "    </tr>\n",
       "    <tr>\n",
       "      <th>mean</th>\n",
       "      <td>156.762881</td>\n",
       "    </tr>\n",
       "    <tr>\n",
       "      <th>std</th>\n",
       "      <td>584.433606</td>\n",
       "    </tr>\n",
       "    <tr>\n",
       "      <th>min</th>\n",
       "      <td>1.000000</td>\n",
       "    </tr>\n",
       "    <tr>\n",
       "      <th>25%</th>\n",
       "      <td>2.000000</td>\n",
       "    </tr>\n",
       "    <tr>\n",
       "      <th>50%</th>\n",
       "      <td>12.000000</td>\n",
       "    </tr>\n",
       "    <tr>\n",
       "      <th>75%</th>\n",
       "      <td>89.000000</td>\n",
       "    </tr>\n",
       "    <tr>\n",
       "      <th>max</th>\n",
       "      <td>36030.000000</td>\n",
       "    </tr>\n",
       "  </tbody>\n",
       "</table>\n",
       "</div>"
      ],
      "text/plain": [
       "           Num Cases\n",
       "count  173963.000000\n",
       "mean      156.762881\n",
       "std       584.433606\n",
       "min         1.000000\n",
       "25%         2.000000\n",
       "50%        12.000000\n",
       "75%        89.000000\n",
       "max     36030.000000"
      ]
     },
     "execution_count": 13,
     "metadata": {},
     "output_type": "execute_result"
    }
   ],
   "source": [
    "df1.describe()"
   ]
  },
  {
   "cell_type": "code",
   "execution_count": 14,
   "metadata": {},
   "outputs": [
    {
     "data": {
      "text/plain": [
       "<matplotlib.axes._subplots.AxesSubplot at 0x172a0552910>"
      ]
     },
     "execution_count": 14,
     "metadata": {},
     "output_type": "execute_result"
    },
    {
     "data": {
      "image/png": "[encoded data removed]",
      "text/plain": [
       "<Figure size 864x432 with 1 Axes>"
      ]
     },
     "metadata": {
      "needs_background": "light"
     },
     "output_type": "display_data"
    }
   ],
   "source": [
    "df1.plot(figsize=(12,6))"
   ]
  },
  {
   "cell_type": "code",
   "execution_count": 15,
   "metadata": {},
   "outputs": [
    {
     "data": {
      "text/plain": [
       "[<matplotlib.lines.Line2D at 0x172a1b85e50>]"
      ]
     },
     "execution_count": 15,
     "metadata": {},
     "output_type": "execute_result"
    },
    {
     "data": {
      "image/png": "[encoded data removed]",
      "text/plain": [
       "<Figure size 432x288 with 1 Axes>"
      ]
     },
     "metadata": {
      "needs_background": "light"
     },
     "output_type": "display_data"
    }
   ],
   "source": [
    "import matplotlib.pyplot as plt\n",
    "plt.plot(df1)"
   ]
  },
  {
   "cell_type": "code",
   "execution_count": 16,
   "metadata": {},
   "outputs": [],
   "source": [
    "from statsmodels.tsa.stattools import adfuller\n",
    "def adfuller_test(Num_Cases):\n",
    "    result=adfuller(Num_Cases)\n",
    "    labels = ['ADF Test Statistic','p-value','#Lags Used','Number of Observations Used']\n",
    "    for value,label in zip(result,labels):\n",
    "        print(label+' : '+str(value) )\n",
    "    if result[1] <= 0.05:\n",
    "        print(\"strong evidence against the null hypothesis(Ho), reject the null hypothesis. Data has no unit root and is stationary\")\n",
    "    else:\n",
    "        print(\"weak evidence against null hypothesis, time series has a unit root, indicating it is non-stationary \")"
   ]
  },
  {
   "cell_type": "code",
   "execution_count": 17,
   "metadata": {},
   "outputs": [],
   "source": [
    "### LSTM are sensitive to the scale of the data. so we apply MinMax scaler "
   ]
  },
  {
   "cell_type": "code",
   "execution_count": 18,
   "metadata": {},
   "outputs": [],
   "source": [
    "import numpy as np"
   ]
  },
  {
   "cell_type": "code",
   "execution_count": 19,
   "metadata": {},
   "outputs": [
    {
     "data": {
      "text/html": [
       "<div>\n",
       "<style scoped>\n",
       "    .dataframe tbody tr th:only-of-type {\n",
       "        vertical-align: middle;\n",
       "    }\n",
       "\n",
       "    .dataframe tbody tr th {\n",
       "        vertical-align: top;\n",
       "    }\n",
       "\n",
       "    .dataframe thead th {\n",
       "        text-align: right;\n",
       "    }\n",
       "</style>\n",
       "<table border=\"1\" class=\"dataframe\">\n",
       "  <thead>\n",
       "    <tr style=\"text-align: right;\">\n",
       "      <th></th>\n",
       "      <th>Num Cases</th>\n",
       "    </tr>\n",
       "    <tr>\n",
       "      <th>Date Announced</th>\n",
       "      <th></th>\n",
       "    </tr>\n",
       "  </thead>\n",
       "  <tbody>\n",
       "    <tr>\n",
       "      <th>2021-05-05</th>\n",
       "      <td>443.0</td>\n",
       "    </tr>\n",
       "    <tr>\n",
       "      <th>2021-05-05</th>\n",
       "      <td>151.0</td>\n",
       "    </tr>\n",
       "    <tr>\n",
       "      <th>2021-05-05</th>\n",
       "      <td>483.0</td>\n",
       "    </tr>\n",
       "    <tr>\n",
       "      <th>2021-05-05</th>\n",
       "      <td>52.0</td>\n",
       "    </tr>\n",
       "    <tr>\n",
       "      <th>2021-05-05</th>\n",
       "      <td>326.0</td>\n",
       "    </tr>\n",
       "    <tr>\n",
       "      <th>...</th>\n",
       "      <td>...</td>\n",
       "    </tr>\n",
       "    <tr>\n",
       "      <th>2021-08-28</th>\n",
       "      <td>521.0</td>\n",
       "    </tr>\n",
       "    <tr>\n",
       "      <th>2021-08-28</th>\n",
       "      <td>550.0</td>\n",
       "    </tr>\n",
       "    <tr>\n",
       "      <th>2021-08-28</th>\n",
       "      <td>13.0</td>\n",
       "    </tr>\n",
       "    <tr>\n",
       "      <th>2021-08-28</th>\n",
       "      <td>1.0</td>\n",
       "    </tr>\n",
       "    <tr>\n",
       "      <th>2021-08-28</th>\n",
       "      <td>6.0</td>\n",
       "    </tr>\n",
       "  </tbody>\n",
       "</table>\n",
       "<p>173963 rows × 1 columns</p>\n",
       "</div>"
      ],
      "text/plain": [
       "                Num Cases\n",
       "Date Announced           \n",
       "2021-05-05          443.0\n",
       "2021-05-05          151.0\n",
       "2021-05-05          483.0\n",
       "2021-05-05           52.0\n",
       "2021-05-05          326.0\n",
       "...                   ...\n",
       "2021-08-28          521.0\n",
       "2021-08-28          550.0\n",
       "2021-08-28           13.0\n",
       "2021-08-28            1.0\n",
       "2021-08-28            6.0\n",
       "\n",
       "[173963 rows x 1 columns]"
      ]
     },
     "execution_count": 19,
     "metadata": {},
     "output_type": "execute_result"
    }
   ],
   "source": [
    "df1"
   ]
  },
  {
   "cell_type": "code",
   "execution_count": 20,
   "metadata": {},
   "outputs": [],
   "source": [
    "from sklearn.preprocessing import MinMaxScaler\n",
    "scaler=MinMaxScaler(feature_range=(0,1))\n",
    "df1=scaler.fit_transform(np.array(df1).reshape(-1,1))"
   ]
  },
  {
   "cell_type": "code",
   "execution_count": 21,
   "metadata": {},
   "outputs": [
    {
     "name": "stdout",
     "output_type": "stream",
     "text": [
      "[[0.0122679 ]\n",
      " [0.00416331]\n",
      " [0.01337811]\n",
      " ...\n",
      " [0.00033307]\n",
      " [0.        ]\n",
      " [0.00013878]]\n"
     ]
    }
   ],
   "source": [
    "print(df1)"
   ]
  },
  {
   "cell_type": "code",
   "execution_count": 22,
   "metadata": {},
   "outputs": [],
   "source": [
    "##splitting dataset into train and test split\n",
    "training_size=int(len(df1)*0.75)\n",
    "test_size=len(df1)-training_size\n",
    "train_data,test_data=df1[0:training_size,:],df1[training_size:len(df1),:1]"
   ]
  },
  {
   "cell_type": "code",
   "execution_count": 23,
   "metadata": {},
   "outputs": [
    {
     "data": {
      "text/plain": [
       "(130472, 43491)"
      ]
     },
     "execution_count": 23,
     "metadata": {},
     "output_type": "execute_result"
    }
   ],
   "source": [
    "training_size,test_size"
   ]
  },
  {
   "cell_type": "code",
   "execution_count": 24,
   "metadata": {},
   "outputs": [
    {
     "data": {
      "text/plain": [
       "array([[0.0122679 ],\n",
       "       [0.00416331],\n",
       "       [0.01337811],\n",
       "       ...,\n",
       "       [0.        ],\n",
       "       [0.01276749],\n",
       "       [0.00319187]])"
      ]
     },
     "execution_count": 24,
     "metadata": {},
     "output_type": "execute_result"
    }
   ],
   "source": [
    "train_data"
   ]
  },
  {
   "cell_type": "code",
   "execution_count": 25,
   "metadata": {},
   "outputs": [],
   "source": [
    "import numpy\n",
    "# convert an array of values into a dataset matrix\n",
    "def create_dataset(dataset, time_step=1):\n",
    "\tdataX, dataY = [], []\n",
    "\tfor i in range(len(dataset)-time_step-1):\n",
    "\t\ta = dataset[i:(i+time_step), 0]   ###i=0, 0,1,2,3-----99   100 \n",
    "\t\tdataX.append(a)\n",
    "\t\tdataY.append(dataset[i + time_step, 0])\n",
    "\treturn numpy.array(dataX), numpy.array(dataY)"
   ]
  },
  {
   "cell_type": "code",
   "execution_count": 26,
   "metadata": {},
   "outputs": [],
   "source": [
    "# reshape into X=t,t+1,t+2,t+3 and Y=t+4\n",
    "time_step = 100\n",
    "X_train, y_train = create_dataset(train_data, time_step)\n",
    "X_test, ytest = create_dataset(test_data, time_step)"
   ]
  },
  {
   "cell_type": "code",
   "execution_count": 27,
   "metadata": {},
   "outputs": [
    {
     "name": "stdout",
     "output_type": "stream",
     "text": [
      "(130371, 100)\n",
      "(130371,)\n"
     ]
    },
    {
     "data": {
      "text/plain": [
       "(None, None)"
      ]
     },
     "execution_count": 27,
     "metadata": {},
     "output_type": "execute_result"
    }
   ],
   "source": [
    "print(X_train.shape), print(y_train.shape)"
   ]
  },
  {
   "cell_type": "code",
   "execution_count": 28,
   "metadata": {},
   "outputs": [
    {
     "name": "stdout",
     "output_type": "stream",
     "text": [
      "(43390, 100)\n",
      "(43390,)\n"
     ]
    },
    {
     "data": {
      "text/plain": [
       "(None, None)"
      ]
     },
     "execution_count": 28,
     "metadata": {},
     "output_type": "execute_result"
    }
   ],
   "source": [
    "print(X_test.shape), print(ytest.shape)"
   ]
  },
  {
   "cell_type": "code",
   "execution_count": 29,
   "metadata": {},
   "outputs": [],
   "source": [
    "# reshape input to be [samples, time steps, features] which is required for LSTM\n",
    "X_train =X_train.reshape(X_train.shape[0],X_train.shape[1] , 1)\n",
    "X_test = X_test.reshape(X_test.shape[0],X_test.shape[1] , 1)"
   ]
  },
  {
   "cell_type": "code",
   "execution_count": 30,
   "metadata": {},
   "outputs": [],
   "source": [
    "### Create the Stacked LSTM model\n",
    "from tensorflow.keras.models import Sequential\n",
    "from tensorflow.keras.layers import Dense\n",
    "from tensorflow.keras.layers import LSTM"
   ]
  },
  {
   "cell_type": "code",
   "execution_count": 31,
   "metadata": {},
   "outputs": [],
   "source": [
    "model=Sequential()\n",
    "model.add(LSTM(50,return_sequences=True,input_shape=(100,1)))\n",
    "model.add(LSTM(50,return_sequences=True))\n",
    "model.add(LSTM(50))\n",
    "model.add(Dense(1))\n",
    "model.compile(loss='mean_squared_error',optimizer='adagrad')\n"
   ]
  },
  {
   "cell_type": "code",
   "execution_count": 32,
   "metadata": {},
   "outputs": [
    {
     "name": "stdout",
     "output_type": "stream",
     "text": [
      "Model: \"sequential\"\n",
      "_________________________________________________________________\n",
      " Layer (type)                Output Shape              Param #   \n",
      "=================================================================\n",
      " lstm (LSTM)                 (None, 100, 50)           10400     \n",
      "                                                                 \n",
      " lstm_1 (LSTM)               (None, 100, 50)           20200     \n",
      "                                                                 \n",
      " lstm_2 (LSTM)               (None, 50)                20200     \n",
      "                                                                 \n",
      " dense (Dense)               (None, 1)                 51        \n",
      "                                                                 \n",
      "=================================================================\n",
      "Total params: 50,851\n",
      "Trainable params: 50,851\n",
      "Non-trainable params: 0\n",
      "_________________________________________________________________\n"
     ]
    }
   ],
   "source": [
    "model.summary()"
   ]
  },
  {
   "cell_type": "code",
   "execution_count": 33,
   "metadata": {},
   "outputs": [
    {
     "name": "stdout",
     "output_type": "stream",
     "text": [
      "Model: \"sequential\"\n",
      "_________________________________________________________________\n",
      " Layer (type)                Output Shape              Param #   \n",
      "=================================================================\n",
      " lstm (LSTM)                 (None, 100, 50)           10400     \n",
      "                                                                 \n",
      " lstm_1 (LSTM)               (None, 100, 50)           20200     \n",
      "                                                                 \n",
      " lstm_2 (LSTM)               (None, 50)                20200     \n",
      "                                                                 \n",
      " dense (Dense)               (None, 1)                 51        \n",
      "                                                                 \n",
      "=================================================================\n",
      "Total params: 50,851\n",
      "Trainable params: 50,851\n",
      "Non-trainable params: 0\n",
      "_________________________________________________________________\n"
     ]
    }
   ],
   "source": [
    "model.summary()"
   ]
  },
  {
   "cell_type": "code",
   "execution_count": 34,
   "metadata": {},
   "outputs": [
    {
     "name": "stdout",
     "output_type": "stream",
     "text": [
      "Epoch 1/100\n",
      "2038/2038 [==============================] - 656s 317ms/step - loss: 3.2945e-04 - val_loss: 7.5122e-05\n",
      "Epoch 2/100\n",
      "2038/2038 [==============================] - 632s 310ms/step - loss: 3.2913e-04 - val_loss: 6.9044e-05\n",
      "Epoch 3/100\n",
      "2038/2038 [==============================] - 631s 310ms/step - loss: 3.2900e-04 - val_loss: 6.9702e-05\n",
      "Epoch 4/100\n",
      "2038/2038 [==============================] - 626s 307ms/step - loss: 3.2891e-04 - val_loss: 6.7139e-05\n",
      "Epoch 5/100\n",
      "2038/2038 [==============================] - 630s 309ms/step - loss: 3.2879e-04 - val_loss: 7.1434e-05\n",
      "Epoch 6/100\n",
      "2038/2038 [==============================] - 626s 307ms/step - loss: 3.2870e-04 - val_loss: 6.8409e-05\n",
      "Epoch 7/100\n",
      "2038/2038 [==============================] - 643s 316ms/step - loss: 3.2859e-04 - val_loss: 6.8711e-05\n",
      "Epoch 8/100\n",
      "2038/2038 [==============================] - 628s 308ms/step - loss: 3.2846e-04 - val_loss: 6.9893e-05\n",
      "Epoch 9/100\n",
      "2038/2038 [==============================] - 648s 318ms/step - loss: 3.2835e-04 - val_loss: 7.2862e-05\n",
      "Epoch 10/100\n",
      "2038/2038 [==============================] - 625s 307ms/step - loss: 3.2827e-04 - val_loss: 7.1743e-05\n",
      "Epoch 11/100\n",
      "2038/2038 [==============================] - 660s 324ms/step - loss: 3.2817e-04 - val_loss: 7.0045e-05\n",
      "Epoch 12/100\n",
      "2038/2038 [==============================] - 740s 363ms/step - loss: 3.2805e-04 - val_loss: 6.7446e-05\n",
      "Epoch 13/100\n",
      "2038/2038 [==============================] - 676s 332ms/step - loss: 3.2793e-04 - val_loss: 7.0186e-05\n",
      "Epoch 14/100\n",
      "2038/2038 [==============================] - 668s 328ms/step - loss: 3.2784e-04 - val_loss: 7.1986e-05\n",
      "Epoch 15/100\n",
      "2038/2038 [==============================] - 672s 330ms/step - loss: 3.2773e-04 - val_loss: 6.8812e-05\n",
      "Epoch 16/100\n",
      "2038/2038 [==============================] - 667s 327ms/step - loss: 3.2760e-04 - val_loss: 6.8311e-05\n",
      "Epoch 17/100\n",
      "2038/2038 [==============================] - 702s 345ms/step - loss: 3.2751e-04 - val_loss: 6.7779e-05\n",
      "Epoch 18/100\n",
      "2038/2038 [==============================] - 708s 347ms/step - loss: 3.2740e-04 - val_loss: 6.6471e-05\n",
      "Epoch 19/100\n",
      "2038/2038 [==============================] - 784s 385ms/step - loss: 3.2731e-04 - val_loss: 6.7760e-05\n",
      "Epoch 20/100\n",
      "2038/2038 [==============================] - 664s 326ms/step - loss: 3.2720e-04 - val_loss: 6.6275e-05\n",
      "Epoch 21/100\n",
      "2038/2038 [==============================] - 673s 330ms/step - loss: 3.2710e-04 - val_loss: 7.3489e-05\n",
      "Epoch 22/100\n",
      "2038/2038 [==============================] - 707s 347ms/step - loss: 3.2697e-04 - val_loss: 6.6529e-05\n",
      "Epoch 23/100\n",
      "2038/2038 [==============================] - 744s 365ms/step - loss: 3.2689e-04 - val_loss: 6.9392e-05\n",
      "Epoch 24/100\n",
      "2038/2038 [==============================] - 704s 346ms/step - loss: 3.2676e-04 - val_loss: 6.7659e-05\n",
      "Epoch 25/100\n",
      "2038/2038 [==============================] - 682s 335ms/step - loss: 3.2667e-04 - val_loss: 7.4286e-05\n",
      "Epoch 26/100\n",
      "2038/2038 [==============================] - 722s 354ms/step - loss: 3.2657e-04 - val_loss: 7.0139e-05\n",
      "Epoch 27/100\n",
      "2038/2038 [==============================] - 670s 329ms/step - loss: 3.2647e-04 - val_loss: 6.8620e-05\n",
      "Epoch 28/100\n",
      "2038/2038 [==============================] - 709s 348ms/step - loss: 3.2639e-04 - val_loss: 6.7704e-05\n",
      "Epoch 29/100\n",
      "2038/2038 [==============================] - 773s 379ms/step - loss: 3.2627e-04 - val_loss: 6.9113e-05\n",
      "Epoch 30/100\n",
      "2038/2038 [==============================] - 755s 370ms/step - loss: 3.2617e-04 - val_loss: 6.7760e-05\n",
      "Epoch 31/100\n",
      "2038/2038 [==============================] - 764s 375ms/step - loss: 3.2607e-04 - val_loss: 6.8068e-05\n",
      "Epoch 32/100\n",
      "2038/2038 [==============================] - 790s 388ms/step - loss: 3.2597e-04 - val_loss: 6.9718e-05\n",
      "Epoch 33/100\n",
      "2038/2038 [==============================] - 773s 380ms/step - loss: 3.2586e-04 - val_loss: 6.7075e-05\n",
      "Epoch 34/100\n",
      "2038/2038 [==============================] - 743s 365ms/step - loss: 3.2575e-04 - val_loss: 6.5381e-05\n",
      "Epoch 35/100\n",
      "2038/2038 [==============================] - 624s 306ms/step - loss: 3.2567e-04 - val_loss: 6.8390e-05\n",
      "Epoch 36/100\n",
      "2038/2038 [==============================] - 618s 303ms/step - loss: 3.2556e-04 - val_loss: 6.6280e-05\n",
      "Epoch 37/100\n",
      "2038/2038 [==============================] - 619s 304ms/step - loss: 3.2547e-04 - val_loss: 6.7258e-05\n",
      "Epoch 38/100\n",
      "2038/2038 [==============================] - 618s 303ms/step - loss: 3.2536e-04 - val_loss: 6.5439e-05\n",
      "Epoch 39/100\n",
      "2038/2038 [==============================] - 618s 303ms/step - loss: 3.2525e-04 - val_loss: 6.5926e-05\n",
      "Epoch 40/100\n",
      "2038/2038 [==============================] - 620s 304ms/step - loss: 3.2516e-04 - val_loss: 6.7065e-05\n",
      "Epoch 41/100\n",
      "2038/2038 [==============================] - 620s 304ms/step - loss: 3.2507e-04 - val_loss: 6.6569e-05\n",
      "Epoch 42/100\n",
      "2038/2038 [==============================] - 620s 304ms/step - loss: 3.2497e-04 - val_loss: 6.7654e-05\n",
      "Epoch 43/100\n",
      "2038/2038 [==============================] - 645s 316ms/step - loss: 3.2484e-04 - val_loss: 6.7411e-05\n",
      "Epoch 44/100\n",
      "2038/2038 [==============================] - 621s 305ms/step - loss: 3.2475e-04 - val_loss: 6.8318e-05\n",
      "Epoch 45/100\n",
      "2038/2038 [==============================] - 627s 307ms/step - loss: 3.2468e-04 - val_loss: 6.5741e-05\n",
      "Epoch 46/100\n",
      "2038/2038 [==============================] - 644s 316ms/step - loss: 3.2458e-04 - val_loss: 6.7070e-05\n",
      "Epoch 47/100\n",
      "2038/2038 [==============================] - 614s 301ms/step - loss: 3.2448e-04 - val_loss: 6.7127e-05\n",
      "Epoch 48/100\n",
      "2038/2038 [==============================] - 615s 302ms/step - loss: 3.2435e-04 - val_loss: 6.3078e-05\n",
      "Epoch 49/100\n",
      "2038/2038 [==============================] - 612s 300ms/step - loss: 3.2426e-04 - val_loss: 6.4990e-05\n",
      "Epoch 50/100\n",
      "2038/2038 [==============================] - 612s 300ms/step - loss: 3.2417e-04 - val_loss: 6.5648e-05\n",
      "Epoch 51/100\n",
      "2038/2038 [==============================] - 613s 301ms/step - loss: 3.2408e-04 - val_loss: 6.5433e-05\n",
      "Epoch 52/100\n",
      "2038/2038 [==============================] - 613s 301ms/step - loss: 3.2398e-04 - val_loss: 6.7667e-05\n",
      "Epoch 53/100\n",
      "2038/2038 [==============================] - 617s 303ms/step - loss: 3.2389e-04 - val_loss: 6.5494e-05\n",
      "Epoch 54/100\n",
      "2038/2038 [==============================] - 614s 301ms/step - loss: 3.2378e-04 - val_loss: 9.3390e-05\n",
      "Epoch 55/100\n",
      "2038/2038 [==============================] - 621s 305ms/step - loss: 3.2380e-04 - val_loss: 6.4587e-05\n",
      "Epoch 56/100\n",
      "2038/2038 [==============================] - 616s 302ms/step - loss: 3.2359e-04 - val_loss: 6.5315e-05\n",
      "Epoch 57/100\n",
      "2038/2038 [==============================] - 615s 302ms/step - loss: 3.2348e-04 - val_loss: 6.6072e-05\n",
      "Epoch 58/100\n",
      "2038/2038 [==============================] - 615s 302ms/step - loss: 3.2338e-04 - val_loss: 6.7774e-05\n",
      "Epoch 59/100\n",
      "2038/2038 [==============================] - 617s 303ms/step - loss: 3.2330e-04 - val_loss: 6.5422e-05\n",
      "Epoch 60/100\n",
      "2038/2038 [==============================] - 615s 302ms/step - loss: 3.2320e-04 - val_loss: 6.4365e-05\n",
      "Epoch 61/100\n",
      "2038/2038 [==============================] - 639s 314ms/step - loss: 3.2309e-04 - val_loss: 6.7632e-05\n",
      "Epoch 62/100\n",
      "2038/2038 [==============================] - 614s 302ms/step - loss: 3.2303e-04 - val_loss: 6.6045e-05\n",
      "Epoch 63/100\n",
      "2038/2038 [==============================] - 615s 302ms/step - loss: 3.2293e-04 - val_loss: 6.4679e-05\n",
      "Epoch 64/100\n",
      "2038/2038 [==============================] - 616s 302ms/step - loss: 3.2281e-04 - val_loss: 6.5252e-05\n",
      "Epoch 65/100\n",
      "2038/2038 [==============================] - 618s 303ms/step - loss: 3.2271e-04 - val_loss: 6.6049e-05\n",
      "Epoch 66/100\n",
      "2038/2038 [==============================] - 631s 309ms/step - loss: 3.2264e-04 - val_loss: 6.6154e-05\n",
      "Epoch 67/100\n",
      "2038/2038 [==============================] - 628s 308ms/step - loss: 3.2254e-04 - val_loss: 6.6132e-05\n",
      "Epoch 68/100\n",
      "2038/2038 [==============================] - 621s 305ms/step - loss: 3.2246e-04 - val_loss: 6.5201e-05\n",
      "Epoch 69/100\n",
      "2038/2038 [==============================] - 616s 302ms/step - loss: 3.2237e-04 - val_loss: 6.4951e-05\n",
      "Epoch 70/100\n",
      "2038/2038 [==============================] - 616s 302ms/step - loss: 3.2227e-04 - val_loss: 6.7323e-05\n",
      "Epoch 71/100\n",
      "2038/2038 [==============================] - 613s 301ms/step - loss: 3.2217e-04 - val_loss: 6.5568e-05\n",
      "Epoch 72/100\n",
      "2038/2038 [==============================] - 611s 300ms/step - loss: 3.2207e-04 - val_loss: 6.4174e-05\n",
      "Epoch 73/100\n",
      "2038/2038 [==============================] - 610s 299ms/step - loss: 3.2200e-04 - val_loss: 6.4148e-05\n",
      "Epoch 74/100\n",
      "2038/2038 [==============================] - 609s 299ms/step - loss: 3.2190e-04 - val_loss: 6.5937e-05\n",
      "Epoch 75/100\n",
      "2038/2038 [==============================] - 613s 301ms/step - loss: 3.2180e-04 - val_loss: 6.4223e-05\n",
      "Epoch 76/100\n",
      "2038/2038 [==============================] - 609s 299ms/step - loss: 3.2170e-04 - val_loss: 6.8177e-05\n",
      "Epoch 77/100\n",
      "2038/2038 [==============================] - 610s 300ms/step - loss: 3.2160e-04 - val_loss: 6.4600e-05\n",
      "Epoch 78/100\n",
      "2038/2038 [==============================] - 629s 309ms/step - loss: 3.2153e-04 - val_loss: 6.3181e-05\n",
      "Epoch 79/100\n",
      "2038/2038 [==============================] - 611s 300ms/step - loss: 3.2141e-04 - val_loss: 6.3121e-05\n",
      "Epoch 80/100\n",
      "2038/2038 [==============================] - 611s 300ms/step - loss: 3.2132e-04 - val_loss: 6.5784e-05\n",
      "Epoch 81/100\n",
      "2038/2038 [==============================] - 624s 306ms/step - loss: 3.2125e-04 - val_loss: 6.4602e-05\n",
      "Epoch 82/100\n",
      "2038/2038 [==============================] - 615s 302ms/step - loss: 3.2115e-04 - val_loss: 6.3772e-05\n",
      "Epoch 83/100\n",
      "2038/2038 [==============================] - 611s 300ms/step - loss: 3.2106e-04 - val_loss: 6.3107e-05\n",
      "Epoch 84/100\n",
      "2038/2038 [==============================] - 623s 306ms/step - loss: 3.2097e-04 - val_loss: 6.4960e-05\n",
      "Epoch 85/100\n",
      "2038/2038 [==============================] - 611s 300ms/step - loss: 3.2087e-04 - val_loss: 6.5206e-05\n",
      "Epoch 86/100\n",
      "2038/2038 [==============================] - 609s 299ms/step - loss: 3.2078e-04 - val_loss: 6.3995e-05\n",
      "Epoch 87/100\n",
      "2038/2038 [==============================] - 625s 307ms/step - loss: 3.2068e-04 - val_loss: 6.4242e-05\n",
      "Epoch 88/100\n",
      "2038/2038 [==============================] - 613s 301ms/step - loss: 3.2060e-04 - val_loss: 6.4662e-05\n",
      "Epoch 89/100\n",
      "2038/2038 [==============================] - 613s 301ms/step - loss: 3.2052e-04 - val_loss: 6.5156e-05\n",
      "Epoch 90/100\n",
      "2038/2038 [==============================] - 623s 306ms/step - loss: 3.2039e-04 - val_loss: 6.5066e-05\n",
      "Epoch 91/100\n",
      "2038/2038 [==============================] - 638s 313ms/step - loss: 3.2034e-04 - val_loss: 6.4951e-05\n",
      "Epoch 92/100\n",
      "2038/2038 [==============================] - 658s 323ms/step - loss: 3.2026e-04 - val_loss: 6.4026e-05\n",
      "Epoch 93/100\n",
      "2038/2038 [==============================] - 611s 300ms/step - loss: 3.2014e-04 - val_loss: 6.3123e-05\n",
      "Epoch 94/100\n",
      "2038/2038 [==============================] - 616s 302ms/step - loss: 3.2006e-04 - val_loss: 6.6154e-05\n",
      "Epoch 95/100\n",
      "2038/2038 [==============================] - 618s 303ms/step - loss: 3.1996e-04 - val_loss: 6.2784e-05\n",
      "Epoch 96/100\n",
      "2038/2038 [==============================] - 611s 300ms/step - loss: 3.1989e-04 - val_loss: 6.4251e-05\n",
      "Epoch 97/100\n",
      "2038/2038 [==============================] - 614s 301ms/step - loss: 3.1980e-04 - val_loss: 6.3335e-05\n",
      "Epoch 98/100\n",
      "2038/2038 [==============================] - 614s 301ms/step - loss: 3.1971e-04 - val_loss: 6.6371e-05\n",
      "Epoch 99/100\n",
      "2038/2038 [==============================] - 621s 305ms/step - loss: 3.1963e-04 - val_loss: 8.9979e-05\n",
      "Epoch 100/100\n",
      "2038/2038 [==============================] - 612s 300ms/step - loss: 3.1968e-04 - val_loss: 6.2036e-05\n"
     ]
    },
    {
     "data": {
      "text/plain": [
       "<keras.callbacks.History at 0x172bb0aa700>"
      ]
     },
     "execution_count": 34,
     "metadata": {},
     "output_type": "execute_result"
    }
   ],
   "source": [
    "model.fit(X_train,y_train,validation_data=(X_test,ytest),epochs=100,batch_size=64,verbose=1)"
   ]
  },
  {
   "cell_type": "code",
   "execution_count": 35,
   "metadata": {},
   "outputs": [
    {
     "data": {
      "text/plain": [
       "[<matplotlib.lines.Line2D at 0x172c2c68bb0>]"
      ]
     },
     "execution_count": 35,
     "metadata": {},
     "output_type": "execute_result"
    },
    {
     "data": {
      "image/png": "[encoded data removed]",
      "text/plain": [
       "<Figure size 432x288 with 1 Axes>"
      ]
     },
     "metadata": {
      "needs_background": "light"
     },
     "output_type": "display_data"
    }
   ],
   "source": [
    "loss_per_epoch = model.history.history['loss']\n",
    "plt.plot(range(len(loss_per_epoch)),loss_per_epoch)"
   ]
  },
  {
   "cell_type": "code",
   "execution_count": 36,
   "metadata": {},
   "outputs": [],
   "source": [
    "import tensorflow as tf"
   ]
  },
  {
   "cell_type": "code",
   "execution_count": 37,
   "metadata": {},
   "outputs": [
    {
     "data": {
      "text/plain": [
       "'2.7.0'"
      ]
     },
     "execution_count": 37,
     "metadata": {},
     "output_type": "execute_result"
    }
   ],
   "source": [
    "tf.__version__"
   ]
  },
  {
   "cell_type": "code",
   "execution_count": 38,
   "metadata": {},
   "outputs": [],
   "source": [
    "### Lets Do the prediction and check performance metrics\n",
    "train_predict=model.predict(X_train)\n",
    "test_predict=model.predict(X_test)"
   ]
  },
  {
   "cell_type": "code",
   "execution_count": 39,
   "metadata": {},
   "outputs": [],
   "source": [
    "##Transformback to original form\n",
    "train_predict=scaler.inverse_transform(train_predict)\n",
    "test_predict=scaler.inverse_transform(test_predict)"
   ]
  },
  {
   "cell_type": "code",
   "execution_count": 40,
   "metadata": {},
   "outputs": [
    {
     "data": {
      "text/plain": [
       "178.47188889493566"
      ]
     },
     "execution_count": 40,
     "metadata": {},
     "output_type": "execute_result"
    }
   ],
   "source": [
    "### Calculate RMSE performance metrics\n",
    "import math\n",
    "from sklearn.metrics import mean_squared_error\n",
    "math.sqrt(mean_squared_error(y_train,train_predict))"
   ]
  },
  {
   "cell_type": "code",
   "execution_count": 41,
   "metadata": {},
   "outputs": [
    {
     "data": {
      "text/plain": [
       "163.70438493637945"
      ]
     },
     "execution_count": 41,
     "metadata": {},
     "output_type": "execute_result"
    }
   ],
   "source": [
    "### Test Data RMSE\n",
    "math.sqrt(mean_squared_error(ytest,test_predict))"
   ]
  },
  {
   "cell_type": "code",
   "execution_count": 42,
   "metadata": {},
   "outputs": [
    {
     "data": {
      "image/png": "[encoded data removed]",
      "text/plain": [
       "<Figure size 432x288 with 1 Axes>"
      ]
     },
     "metadata": {
      "needs_background": "light"
     },
     "output_type": "display_data"
    }
   ],
   "source": [
    "### Plotting \n",
    "# shift train predictions for plotting\n",
    "look_back=100\n",
    "trainPredictPlot = numpy.empty_like(df1)\n",
    "trainPredictPlot[:, :] = np.nan\n",
    "trainPredictPlot[look_back:len(train_predict)+look_back, :] = train_predict\n",
    "# shift test predictions for plotting\n",
    "testPredictPlot = numpy.empty_like(df1)\n",
    "testPredictPlot[:, :] = numpy.nan\n",
    "testPredictPlot[len(train_predict)+(look_back*2)+1:len(df1)-1, :] = test_predict\n",
    "# plot baseline and predictions\n",
    "plt.plot(scaler.inverse_transform(df1))\n",
    "plt.plot(trainPredictPlot)\n",
    "plt.plot(testPredictPlot)\n",
    "plt.show()"
   ]
  },
  {
   "cell_type": "code",
   "execution_count": 43,
   "metadata": {},
   "outputs": [
    {
     "data": {
      "text/plain": [
       "43491"
      ]
     },
     "execution_count": 43,
     "metadata": {},
     "output_type": "execute_result"
    }
   ],
   "source": [
    "len(test_data)"
   ]
  },
  {
   "cell_type": "code",
   "execution_count": 44,
   "metadata": {},
   "outputs": [
    {
     "data": {
      "text/plain": [
       "(1, 100)"
      ]
     },
     "execution_count": 44,
     "metadata": {},
     "output_type": "execute_result"
    }
   ],
   "source": [
    "x_input=test_data[43391:].reshape(1,-1)\n",
    "x_input.shape\n"
   ]
  },
  {
   "cell_type": "code",
   "execution_count": null,
   "metadata": {},
   "outputs": [],
   "source": []
  },
  {
   "cell_type": "code",
   "execution_count": null,
   "metadata": {},
   "outputs": [],
   "source": []
  },
  {
   "cell_type": "code",
   "execution_count": 45,
   "metadata": {},
   "outputs": [],
   "source": [
    "temp_input=list(x_input)\n",
    "temp_input=temp_input[0].tolist()"
   ]
  },
  {
   "cell_type": "code",
   "execution_count": 46,
   "metadata": {},
   "outputs": [
    {
     "data": {
      "text/plain": [
       "[0.0,\n",
       " 0.0,\n",
       " 0.0,\n",
       " 0.0,\n",
       " 0.0,\n",
       " 0.0,\n",
       " 0.0,\n",
       " 0.0,\n",
       " 0.0,\n",
       " 0.0,\n",
       " 0.0,\n",
       " 0.0,\n",
       " 0.0,\n",
       " 0.0,\n",
       " 0.0,\n",
       " 0.0,\n",
       " 0.0,\n",
       " 0.0,\n",
       " 0.0,\n",
       " 0.0,\n",
       " 0.0,\n",
       " 0.0,\n",
       " 0.0,\n",
       " 0.0,\n",
       " 0.0,\n",
       " 0.0,\n",
       " 0.0,\n",
       " 0.0,\n",
       " 0.0,\n",
       " 0.0,\n",
       " 0.0,\n",
       " 0.0,\n",
       " 0.0,\n",
       " 0.0,\n",
       " 0.0,\n",
       " 0.0,\n",
       " 0.0,\n",
       " 0.0,\n",
       " 0.0,\n",
       " 0.0,\n",
       " 0.0,\n",
       " 0.0,\n",
       " 0.0,\n",
       " 0.0,\n",
       " 0.0,\n",
       " 0.0,\n",
       " 0.0,\n",
       " 0.0,\n",
       " 0.0,\n",
       " 0.0,\n",
       " 0.0,\n",
       " 0.0,\n",
       " 0.0,\n",
       " 0.0,\n",
       " 0.0,\n",
       " 0.0,\n",
       " 0.0,\n",
       " 0.0,\n",
       " 0.0,\n",
       " 0.0,\n",
       " 0.0,\n",
       " 0.0,\n",
       " 0.0,\n",
       " 0.0,\n",
       " 0.0,\n",
       " 0.0,\n",
       " 0.0,\n",
       " 0.0,\n",
       " 0.0,\n",
       " 0.06547503400038858,\n",
       " 0.043576008215604096,\n",
       " 0.07632740292542119,\n",
       " 0.06702933747814262,\n",
       " 0.03408365483360626,\n",
       " 0.022315357073468593,\n",
       " 0.05390102417497016,\n",
       " 0.034499986122290376,\n",
       " 0.046601348913375334,\n",
       " 0.013183824141663658,\n",
       " 0.03247384051736101,\n",
       " 0.0205390102417497,\n",
       " 0.10563712564878293,\n",
       " 0.05045935218851481,\n",
       " 0.10980043853562409,\n",
       " 0.06994365649893142,\n",
       " 0.06902772766382637,\n",
       " 0.06200560659468761,\n",
       " 0.08876183074745345,\n",
       " 0.08329401315606873,\n",
       " 0.09134308473729495,\n",
       " 0.06383746426489773,\n",
       " 0.03394487773737822,\n",
       " 0.01798551167115379,\n",
       " 0.04557439840128785,\n",
       " 0.03155791168225596,\n",
       " 0.014432818007716005,\n",
       " 0.01523772516583863,\n",
       " 0.00033306503094729243,\n",
       " 0.0,\n",
       " 0.0001387770962280385]"
      ]
     },
     "execution_count": 46,
     "metadata": {},
     "output_type": "execute_result"
    }
   ],
   "source": [
    "temp_input"
   ]
  },
  {
   "cell_type": "code",
   "execution_count": 47,
   "metadata": {},
   "outputs": [
    {
     "name": "stdout",
     "output_type": "stream",
     "text": [
      "[0.01002113]\n",
      "101\n",
      "1 day input [0.         0.         0.         0.         0.         0.\n",
      " 0.         0.         0.         0.         0.         0.\n",
      " 0.         0.         0.         0.         0.         0.\n",
      " 0.         0.         0.         0.         0.         0.\n",
      " 0.         0.         0.         0.         0.         0.\n",
      " 0.         0.         0.         0.         0.         0.\n",
      " 0.         0.         0.         0.         0.         0.\n",
      " 0.         0.         0.         0.         0.         0.\n",
      " 0.         0.         0.         0.         0.         0.\n",
      " 0.         0.         0.         0.         0.         0.\n",
      " 0.         0.         0.         0.         0.         0.\n",
      " 0.         0.         0.06547503 0.04357601 0.0763274  0.06702934\n",
      " 0.03408365 0.02231536 0.05390102 0.03449999 0.04660135 0.01318382\n",
      " 0.03247384 0.02053901 0.10563713 0.05045935 0.10980044 0.06994366\n",
      " 0.06902773 0.06200561 0.08876183 0.08329401 0.09134308 0.06383746\n",
      " 0.03394488 0.01798551 0.0455744  0.03155791 0.01443282 0.01523773\n",
      " 0.00033307 0.         0.00013878 0.01002113]\n",
      "1 day output [[0.00972673]]\n",
      "2 day input [0.         0.         0.         0.         0.         0.\n",
      " 0.         0.         0.         0.         0.         0.\n",
      " 0.         0.         0.         0.         0.         0.\n",
      " 0.         0.         0.         0.         0.         0.\n",
      " 0.         0.         0.         0.         0.         0.\n",
      " 0.         0.         0.         0.         0.         0.\n",
      " 0.         0.         0.         0.         0.         0.\n",
      " 0.         0.         0.         0.         0.         0.\n",
      " 0.         0.         0.         0.         0.         0.\n",
      " 0.         0.         0.         0.         0.         0.\n",
      " 0.         0.         0.         0.         0.         0.\n",
      " 0.         0.06547503 0.04357601 0.0763274  0.06702934 0.03408365\n",
      " 0.02231536 0.05390102 0.03449999 0.04660135 0.01318382 0.03247384\n",
      " 0.02053901 0.10563713 0.05045935 0.10980044 0.06994366 0.06902773\n",
      " 0.06200561 0.08876183 0.08329401 0.09134308 0.06383746 0.03394488\n",
      " 0.01798551 0.0455744  0.03155791 0.01443282 0.01523773 0.00033307\n",
      " 0.         0.00013878 0.01002113 0.00972673]\n",
      "2 day output [[0.00939254]]\n",
      "3 day input [0.         0.         0.         0.         0.         0.\n",
      " 0.         0.         0.         0.         0.         0.\n",
      " 0.         0.         0.         0.         0.         0.\n",
      " 0.         0.         0.         0.         0.         0.\n",
      " 0.         0.         0.         0.         0.         0.\n",
      " 0.         0.         0.         0.         0.         0.\n",
      " 0.         0.         0.         0.         0.         0.\n",
      " 0.         0.         0.         0.         0.         0.\n",
      " 0.         0.         0.         0.         0.         0.\n",
      " 0.         0.         0.         0.         0.         0.\n",
      " 0.         0.         0.         0.         0.         0.\n",
      " 0.06547503 0.04357601 0.0763274  0.06702934 0.03408365 0.02231536\n",
      " 0.05390102 0.03449999 0.04660135 0.01318382 0.03247384 0.02053901\n",
      " 0.10563713 0.05045935 0.10980044 0.06994366 0.06902773 0.06200561\n",
      " 0.08876183 0.08329401 0.09134308 0.06383746 0.03394488 0.01798551\n",
      " 0.0455744  0.03155791 0.01443282 0.01523773 0.00033307 0.\n",
      " 0.00013878 0.01002113 0.00972673 0.00939254]\n",
      "3 day output [[0.00903652]]\n",
      "4 day input [0.         0.         0.         0.         0.         0.\n",
      " 0.         0.         0.         0.         0.         0.\n",
      " 0.         0.         0.         0.         0.         0.\n",
      " 0.         0.         0.         0.         0.         0.\n",
      " 0.         0.         0.         0.         0.         0.\n",
      " 0.         0.         0.         0.         0.         0.\n",
      " 0.         0.         0.         0.         0.         0.\n",
      " 0.         0.         0.         0.         0.         0.\n",
      " 0.         0.         0.         0.         0.         0.\n",
      " 0.         0.         0.         0.         0.         0.\n",
      " 0.         0.         0.         0.         0.         0.06547503\n",
      " 0.04357601 0.0763274  0.06702934 0.03408365 0.02231536 0.05390102\n",
      " 0.03449999 0.04660135 0.01318382 0.03247384 0.02053901 0.10563713\n",
      " 0.05045935 0.10980044 0.06994366 0.06902773 0.06200561 0.08876183\n",
      " 0.08329401 0.09134308 0.06383746 0.03394488 0.01798551 0.0455744\n",
      " 0.03155791 0.01443282 0.01523773 0.00033307 0.         0.00013878\n",
      " 0.01002113 0.00972673 0.00939254 0.00903652]\n",
      "4 day output [[0.00867462]]\n",
      "5 day input [0.         0.         0.         0.         0.         0.\n",
      " 0.         0.         0.         0.         0.         0.\n",
      " 0.         0.         0.         0.         0.         0.\n",
      " 0.         0.         0.         0.         0.         0.\n",
      " 0.         0.         0.         0.         0.         0.\n",
      " 0.         0.         0.         0.         0.         0.\n",
      " 0.         0.         0.         0.         0.         0.\n",
      " 0.         0.         0.         0.         0.         0.\n",
      " 0.         0.         0.         0.         0.         0.\n",
      " 0.         0.         0.         0.         0.         0.\n",
      " 0.         0.         0.         0.         0.06547503 0.04357601\n",
      " 0.0763274  0.06702934 0.03408365 0.02231536 0.05390102 0.03449999\n",
      " 0.04660135 0.01318382 0.03247384 0.02053901 0.10563713 0.05045935\n",
      " 0.10980044 0.06994366 0.06902773 0.06200561 0.08876183 0.08329401\n",
      " 0.09134308 0.06383746 0.03394488 0.01798551 0.0455744  0.03155791\n",
      " 0.01443282 0.01523773 0.00033307 0.         0.00013878 0.01002113\n",
      " 0.00972673 0.00939254 0.00903652 0.00867462]\n",
      "5 day output [[0.00831952]]\n",
      "6 day input [0.         0.         0.         0.         0.         0.\n",
      " 0.         0.         0.         0.         0.         0.\n",
      " 0.         0.         0.         0.         0.         0.\n",
      " 0.         0.         0.         0.         0.         0.\n",
      " 0.         0.         0.         0.         0.         0.\n",
      " 0.         0.         0.         0.         0.         0.\n",
      " 0.         0.         0.         0.         0.         0.\n",
      " 0.         0.         0.         0.         0.         0.\n",
      " 0.         0.         0.         0.         0.         0.\n",
      " 0.         0.         0.         0.         0.         0.\n",
      " 0.         0.         0.         0.06547503 0.04357601 0.0763274\n",
      " 0.06702934 0.03408365 0.02231536 0.05390102 0.03449999 0.04660135\n",
      " 0.01318382 0.03247384 0.02053901 0.10563713 0.05045935 0.10980044\n",
      " 0.06994366 0.06902773 0.06200561 0.08876183 0.08329401 0.09134308\n",
      " 0.06383746 0.03394488 0.01798551 0.0455744  0.03155791 0.01443282\n",
      " 0.01523773 0.00033307 0.         0.00013878 0.01002113 0.00972673\n",
      " 0.00939254 0.00903652 0.00867462 0.00831952]\n",
      "6 day output [[0.00798034]]\n",
      "7 day input [0.         0.         0.         0.         0.         0.\n",
      " 0.         0.         0.         0.         0.         0.\n",
      " 0.         0.         0.         0.         0.         0.\n",
      " 0.         0.         0.         0.         0.         0.\n",
      " 0.         0.         0.         0.         0.         0.\n",
      " 0.         0.         0.         0.         0.         0.\n",
      " 0.         0.         0.         0.         0.         0.\n",
      " 0.         0.         0.         0.         0.         0.\n",
      " 0.         0.         0.         0.         0.         0.\n",
      " 0.         0.         0.         0.         0.         0.\n",
      " 0.         0.         0.06547503 0.04357601 0.0763274  0.06702934\n",
      " 0.03408365 0.02231536 0.05390102 0.03449999 0.04660135 0.01318382\n",
      " 0.03247384 0.02053901 0.10563713 0.05045935 0.10980044 0.06994366\n",
      " 0.06902773 0.06200561 0.08876183 0.08329401 0.09134308 0.06383746\n",
      " 0.03394488 0.01798551 0.0455744  0.03155791 0.01443282 0.01523773\n",
      " 0.00033307 0.         0.00013878 0.01002113 0.00972673 0.00939254\n",
      " 0.00903652 0.00867462 0.00831952 0.00798034]\n",
      "7 day output [[0.00766291]]\n",
      "8 day input [0.         0.         0.         0.         0.         0.\n",
      " 0.         0.         0.         0.         0.         0.\n",
      " 0.         0.         0.         0.         0.         0.\n",
      " 0.         0.         0.         0.         0.         0.\n",
      " 0.         0.         0.         0.         0.         0.\n",
      " 0.         0.         0.         0.         0.         0.\n",
      " 0.         0.         0.         0.         0.         0.\n",
      " 0.         0.         0.         0.         0.         0.\n",
      " 0.         0.         0.         0.         0.         0.\n",
      " 0.         0.         0.         0.         0.         0.\n",
      " 0.         0.06547503 0.04357601 0.0763274  0.06702934 0.03408365\n",
      " 0.02231536 0.05390102 0.03449999 0.04660135 0.01318382 0.03247384\n",
      " 0.02053901 0.10563713 0.05045935 0.10980044 0.06994366 0.06902773\n",
      " 0.06200561 0.08876183 0.08329401 0.09134308 0.06383746 0.03394488\n",
      " 0.01798551 0.0455744  0.03155791 0.01443282 0.01523773 0.00033307\n",
      " 0.         0.00013878 0.01002113 0.00972673 0.00939254 0.00903652\n",
      " 0.00867462 0.00831952 0.00798034 0.00766291]\n",
      "8 day output [[0.00737039]]\n",
      "9 day input [0.         0.         0.         0.         0.         0.\n",
      " 0.         0.         0.         0.         0.         0.\n",
      " 0.         0.         0.         0.         0.         0.\n",
      " 0.         0.         0.         0.         0.         0.\n",
      " 0.         0.         0.         0.         0.         0.\n",
      " 0.         0.         0.         0.         0.         0.\n",
      " 0.         0.         0.         0.         0.         0.\n",
      " 0.         0.         0.         0.         0.         0.\n",
      " 0.         0.         0.         0.         0.         0.\n",
      " 0.         0.         0.         0.         0.         0.\n",
      " 0.06547503 0.04357601 0.0763274  0.06702934 0.03408365 0.02231536\n",
      " 0.05390102 0.03449999 0.04660135 0.01318382 0.03247384 0.02053901\n",
      " 0.10563713 0.05045935 0.10980044 0.06994366 0.06902773 0.06200561\n",
      " 0.08876183 0.08329401 0.09134308 0.06383746 0.03394488 0.01798551\n",
      " 0.0455744  0.03155791 0.01443282 0.01523773 0.00033307 0.\n",
      " 0.00013878 0.01002113 0.00972673 0.00939254 0.00903652 0.00867462\n",
      " 0.00831952 0.00798034 0.00766291 0.00737039]\n"
     ]
    },
    {
     "name": "stdout",
     "output_type": "stream",
     "text": [
      "9 day output [[0.00710384]]\n",
      "10 day input [0.         0.         0.         0.         0.         0.\n",
      " 0.         0.         0.         0.         0.         0.\n",
      " 0.         0.         0.         0.         0.         0.\n",
      " 0.         0.         0.         0.         0.         0.\n",
      " 0.         0.         0.         0.         0.         0.\n",
      " 0.         0.         0.         0.         0.         0.\n",
      " 0.         0.         0.         0.         0.         0.\n",
      " 0.         0.         0.         0.         0.         0.\n",
      " 0.         0.         0.         0.         0.         0.\n",
      " 0.         0.         0.         0.         0.         0.06547503\n",
      " 0.04357601 0.0763274  0.06702934 0.03408365 0.02231536 0.05390102\n",
      " 0.03449999 0.04660135 0.01318382 0.03247384 0.02053901 0.10563713\n",
      " 0.05045935 0.10980044 0.06994366 0.06902773 0.06200561 0.08876183\n",
      " 0.08329401 0.09134308 0.06383746 0.03394488 0.01798551 0.0455744\n",
      " 0.03155791 0.01443282 0.01523773 0.00033307 0.         0.00013878\n",
      " 0.01002113 0.00972673 0.00939254 0.00903652 0.00867462 0.00831952\n",
      " 0.00798034 0.00766291 0.00737039 0.00710384]\n",
      "10 day output [[0.00686289]]\n",
      "11 day input [0.         0.         0.         0.         0.         0.\n",
      " 0.         0.         0.         0.         0.         0.\n",
      " 0.         0.         0.         0.         0.         0.\n",
      " 0.         0.         0.         0.         0.         0.\n",
      " 0.         0.         0.         0.         0.         0.\n",
      " 0.         0.         0.         0.         0.         0.\n",
      " 0.         0.         0.         0.         0.         0.\n",
      " 0.         0.         0.         0.         0.         0.\n",
      " 0.         0.         0.         0.         0.         0.\n",
      " 0.         0.         0.         0.         0.06547503 0.04357601\n",
      " 0.0763274  0.06702934 0.03408365 0.02231536 0.05390102 0.03449999\n",
      " 0.04660135 0.01318382 0.03247384 0.02053901 0.10563713 0.05045935\n",
      " 0.10980044 0.06994366 0.06902773 0.06200561 0.08876183 0.08329401\n",
      " 0.09134308 0.06383746 0.03394488 0.01798551 0.0455744  0.03155791\n",
      " 0.01443282 0.01523773 0.00033307 0.         0.00013878 0.01002113\n",
      " 0.00972673 0.00939254 0.00903652 0.00867462 0.00831952 0.00798034\n",
      " 0.00766291 0.00737039 0.00710384 0.00686289]\n",
      "11 day output [[0.00664623]]\n",
      "12 day input [0.         0.         0.         0.         0.         0.\n",
      " 0.         0.         0.         0.         0.         0.\n",
      " 0.         0.         0.         0.         0.         0.\n",
      " 0.         0.         0.         0.         0.         0.\n",
      " 0.         0.         0.         0.         0.         0.\n",
      " 0.         0.         0.         0.         0.         0.\n",
      " 0.         0.         0.         0.         0.         0.\n",
      " 0.         0.         0.         0.         0.         0.\n",
      " 0.         0.         0.         0.         0.         0.\n",
      " 0.         0.         0.         0.06547503 0.04357601 0.0763274\n",
      " 0.06702934 0.03408365 0.02231536 0.05390102 0.03449999 0.04660135\n",
      " 0.01318382 0.03247384 0.02053901 0.10563713 0.05045935 0.10980044\n",
      " 0.06994366 0.06902773 0.06200561 0.08876183 0.08329401 0.09134308\n",
      " 0.06383746 0.03394488 0.01798551 0.0455744  0.03155791 0.01443282\n",
      " 0.01523773 0.00033307 0.         0.00013878 0.01002113 0.00972673\n",
      " 0.00939254 0.00903652 0.00867462 0.00831952 0.00798034 0.00766291\n",
      " 0.00737039 0.00710384 0.00686289 0.00664623]\n",
      "12 day output [[0.00645203]]\n",
      "13 day input [0.         0.         0.         0.         0.         0.\n",
      " 0.         0.         0.         0.         0.         0.\n",
      " 0.         0.         0.         0.         0.         0.\n",
      " 0.         0.         0.         0.         0.         0.\n",
      " 0.         0.         0.         0.         0.         0.\n",
      " 0.         0.         0.         0.         0.         0.\n",
      " 0.         0.         0.         0.         0.         0.\n",
      " 0.         0.         0.         0.         0.         0.\n",
      " 0.         0.         0.         0.         0.         0.\n",
      " 0.         0.         0.06547503 0.04357601 0.0763274  0.06702934\n",
      " 0.03408365 0.02231536 0.05390102 0.03449999 0.04660135 0.01318382\n",
      " 0.03247384 0.02053901 0.10563713 0.05045935 0.10980044 0.06994366\n",
      " 0.06902773 0.06200561 0.08876183 0.08329401 0.09134308 0.06383746\n",
      " 0.03394488 0.01798551 0.0455744  0.03155791 0.01443282 0.01523773\n",
      " 0.00033307 0.         0.00013878 0.01002113 0.00972673 0.00939254\n",
      " 0.00903652 0.00867462 0.00831952 0.00798034 0.00766291 0.00737039\n",
      " 0.00710384 0.00686289 0.00664623 0.00645203]\n",
      "13 day output [[0.00627823]]\n",
      "14 day input [0.         0.         0.         0.         0.         0.\n",
      " 0.         0.         0.         0.         0.         0.\n",
      " 0.         0.         0.         0.         0.         0.\n",
      " 0.         0.         0.         0.         0.         0.\n",
      " 0.         0.         0.         0.         0.         0.\n",
      " 0.         0.         0.         0.         0.         0.\n",
      " 0.         0.         0.         0.         0.         0.\n",
      " 0.         0.         0.         0.         0.         0.\n",
      " 0.         0.         0.         0.         0.         0.\n",
      " 0.         0.06547503 0.04357601 0.0763274  0.06702934 0.03408365\n",
      " 0.02231536 0.05390102 0.03449999 0.04660135 0.01318382 0.03247384\n",
      " 0.02053901 0.10563713 0.05045935 0.10980044 0.06994366 0.06902773\n",
      " 0.06200561 0.08876183 0.08329401 0.09134308 0.06383746 0.03394488\n",
      " 0.01798551 0.0455744  0.03155791 0.01443282 0.01523773 0.00033307\n",
      " 0.         0.00013878 0.01002113 0.00972673 0.00939254 0.00903652\n",
      " 0.00867462 0.00831952 0.00798034 0.00766291 0.00737039 0.00710384\n",
      " 0.00686289 0.00664623 0.00645203 0.00627823]\n",
      "14 day output [[0.00612275]]\n",
      "15 day input [0.         0.         0.         0.         0.         0.\n",
      " 0.         0.         0.         0.         0.         0.\n",
      " 0.         0.         0.         0.         0.         0.\n",
      " 0.         0.         0.         0.         0.         0.\n",
      " 0.         0.         0.         0.         0.         0.\n",
      " 0.         0.         0.         0.         0.         0.\n",
      " 0.         0.         0.         0.         0.         0.\n",
      " 0.         0.         0.         0.         0.         0.\n",
      " 0.         0.         0.         0.         0.         0.\n",
      " 0.06547503 0.04357601 0.0763274  0.06702934 0.03408365 0.02231536\n",
      " 0.05390102 0.03449999 0.04660135 0.01318382 0.03247384 0.02053901\n",
      " 0.10563713 0.05045935 0.10980044 0.06994366 0.06902773 0.06200561\n",
      " 0.08876183 0.08329401 0.09134308 0.06383746 0.03394488 0.01798551\n",
      " 0.0455744  0.03155791 0.01443282 0.01523773 0.00033307 0.\n",
      " 0.00013878 0.01002113 0.00972673 0.00939254 0.00903652 0.00867462\n",
      " 0.00831952 0.00798034 0.00766291 0.00737039 0.00710384 0.00686289\n",
      " 0.00664623 0.00645203 0.00627823 0.00612275]\n",
      "15 day output [[0.00598361]]\n",
      "16 day input [0.         0.         0.         0.         0.         0.\n",
      " 0.         0.         0.         0.         0.         0.\n",
      " 0.         0.         0.         0.         0.         0.\n",
      " 0.         0.         0.         0.         0.         0.\n",
      " 0.         0.         0.         0.         0.         0.\n",
      " 0.         0.         0.         0.         0.         0.\n",
      " 0.         0.         0.         0.         0.         0.\n",
      " 0.         0.         0.         0.         0.         0.\n",
      " 0.         0.         0.         0.         0.         0.06547503\n",
      " 0.04357601 0.0763274  0.06702934 0.03408365 0.02231536 0.05390102\n",
      " 0.03449999 0.04660135 0.01318382 0.03247384 0.02053901 0.10563713\n",
      " 0.05045935 0.10980044 0.06994366 0.06902773 0.06200561 0.08876183\n",
      " 0.08329401 0.09134308 0.06383746 0.03394488 0.01798551 0.0455744\n",
      " 0.03155791 0.01443282 0.01523773 0.00033307 0.         0.00013878\n",
      " 0.01002113 0.00972673 0.00939254 0.00903652 0.00867462 0.00831952\n",
      " 0.00798034 0.00766291 0.00737039 0.00710384 0.00686289 0.00664623\n",
      " 0.00645203 0.00627823 0.00612275 0.00598361]\n",
      "16 day output [[0.00585898]]\n",
      "17 day input [0.         0.         0.         0.         0.         0.\n",
      " 0.         0.         0.         0.         0.         0.\n",
      " 0.         0.         0.         0.         0.         0.\n",
      " 0.         0.         0.         0.         0.         0.\n",
      " 0.         0.         0.         0.         0.         0.\n",
      " 0.         0.         0.         0.         0.         0.\n",
      " 0.         0.         0.         0.         0.         0.\n",
      " 0.         0.         0.         0.         0.         0.\n",
      " 0.         0.         0.         0.         0.06547503 0.04357601\n",
      " 0.0763274  0.06702934 0.03408365 0.02231536 0.05390102 0.03449999\n",
      " 0.04660135 0.01318382 0.03247384 0.02053901 0.10563713 0.05045935\n",
      " 0.10980044 0.06994366 0.06902773 0.06200561 0.08876183 0.08329401\n",
      " 0.09134308 0.06383746 0.03394488 0.01798551 0.0455744  0.03155791\n",
      " 0.01443282 0.01523773 0.00033307 0.         0.00013878 0.01002113\n",
      " 0.00972673 0.00939254 0.00903652 0.00867462 0.00831952 0.00798034\n",
      " 0.00766291 0.00737039 0.00710384 0.00686289 0.00664623 0.00645203\n",
      " 0.00627823 0.00612275 0.00598361 0.00585898]\n"
     ]
    },
    {
     "name": "stdout",
     "output_type": "stream",
     "text": [
      "17 day output [[0.00574726]]\n",
      "18 day input [0.         0.         0.         0.         0.         0.\n",
      " 0.         0.         0.         0.         0.         0.\n",
      " 0.         0.         0.         0.         0.         0.\n",
      " 0.         0.         0.         0.         0.         0.\n",
      " 0.         0.         0.         0.         0.         0.\n",
      " 0.         0.         0.         0.         0.         0.\n",
      " 0.         0.         0.         0.         0.         0.\n",
      " 0.         0.         0.         0.         0.         0.\n",
      " 0.         0.         0.         0.06547503 0.04357601 0.0763274\n",
      " 0.06702934 0.03408365 0.02231536 0.05390102 0.03449999 0.04660135\n",
      " 0.01318382 0.03247384 0.02053901 0.10563713 0.05045935 0.10980044\n",
      " 0.06994366 0.06902773 0.06200561 0.08876183 0.08329401 0.09134308\n",
      " 0.06383746 0.03394488 0.01798551 0.0455744  0.03155791 0.01443282\n",
      " 0.01523773 0.00033307 0.         0.00013878 0.01002113 0.00972673\n",
      " 0.00939254 0.00903652 0.00867462 0.00831952 0.00798034 0.00766291\n",
      " 0.00737039 0.00710384 0.00686289 0.00664623 0.00645203 0.00627823\n",
      " 0.00612275 0.00598361 0.00585898 0.00574726]\n",
      "18 day output [[0.00564702]]\n",
      "19 day input [0.         0.         0.         0.         0.         0.\n",
      " 0.         0.         0.         0.         0.         0.\n",
      " 0.         0.         0.         0.         0.         0.\n",
      " 0.         0.         0.         0.         0.         0.\n",
      " 0.         0.         0.         0.         0.         0.\n",
      " 0.         0.         0.         0.         0.         0.\n",
      " 0.         0.         0.         0.         0.         0.\n",
      " 0.         0.         0.         0.         0.         0.\n",
      " 0.         0.         0.06547503 0.04357601 0.0763274  0.06702934\n",
      " 0.03408365 0.02231536 0.05390102 0.03449999 0.04660135 0.01318382\n",
      " 0.03247384 0.02053901 0.10563713 0.05045935 0.10980044 0.06994366\n",
      " 0.06902773 0.06200561 0.08876183 0.08329401 0.09134308 0.06383746\n",
      " 0.03394488 0.01798551 0.0455744  0.03155791 0.01443282 0.01523773\n",
      " 0.00033307 0.         0.00013878 0.01002113 0.00972673 0.00939254\n",
      " 0.00903652 0.00867462 0.00831952 0.00798034 0.00766291 0.00737039\n",
      " 0.00710384 0.00686289 0.00664623 0.00645203 0.00627823 0.00612275\n",
      " 0.00598361 0.00585898 0.00574726 0.00564702]\n",
      "19 day output [[0.00555703]]\n",
      "20 day input [0.         0.         0.         0.         0.         0.\n",
      " 0.         0.         0.         0.         0.         0.\n",
      " 0.         0.         0.         0.         0.         0.\n",
      " 0.         0.         0.         0.         0.         0.\n",
      " 0.         0.         0.         0.         0.         0.\n",
      " 0.         0.         0.         0.         0.         0.\n",
      " 0.         0.         0.         0.         0.         0.\n",
      " 0.         0.         0.         0.         0.         0.\n",
      " 0.         0.06547503 0.04357601 0.0763274  0.06702934 0.03408365\n",
      " 0.02231536 0.05390102 0.03449999 0.04660135 0.01318382 0.03247384\n",
      " 0.02053901 0.10563713 0.05045935 0.10980044 0.06994366 0.06902773\n",
      " 0.06200561 0.08876183 0.08329401 0.09134308 0.06383746 0.03394488\n",
      " 0.01798551 0.0455744  0.03155791 0.01443282 0.01523773 0.00033307\n",
      " 0.         0.00013878 0.01002113 0.00972673 0.00939254 0.00903652\n",
      " 0.00867462 0.00831952 0.00798034 0.00766291 0.00737039 0.00710384\n",
      " 0.00686289 0.00664623 0.00645203 0.00627823 0.00612275 0.00598361\n",
      " 0.00585898 0.00574726 0.00564702 0.00555703]\n",
      "20 day output [[0.00547621]]\n",
      "21 day input [0.         0.         0.         0.         0.         0.\n",
      " 0.         0.         0.         0.         0.         0.\n",
      " 0.         0.         0.         0.         0.         0.\n",
      " 0.         0.         0.         0.         0.         0.\n",
      " 0.         0.         0.         0.         0.         0.\n",
      " 0.         0.         0.         0.         0.         0.\n",
      " 0.         0.         0.         0.         0.         0.\n",
      " 0.         0.         0.         0.         0.         0.\n",
      " 0.06547503 0.04357601 0.0763274  0.06702934 0.03408365 0.02231536\n",
      " 0.05390102 0.03449999 0.04660135 0.01318382 0.03247384 0.02053901\n",
      " 0.10563713 0.05045935 0.10980044 0.06994366 0.06902773 0.06200561\n",
      " 0.08876183 0.08329401 0.09134308 0.06383746 0.03394488 0.01798551\n",
      " 0.0455744  0.03155791 0.01443282 0.01523773 0.00033307 0.\n",
      " 0.00013878 0.01002113 0.00972673 0.00939254 0.00903652 0.00867462\n",
      " 0.00831952 0.00798034 0.00766291 0.00737039 0.00710384 0.00686289\n",
      " 0.00664623 0.00645203 0.00627823 0.00612275 0.00598361 0.00585898\n",
      " 0.00574726 0.00564702 0.00555703 0.00547621]\n",
      "21 day output [[0.00540362]]\n",
      "22 day input [0.         0.         0.         0.         0.         0.\n",
      " 0.         0.         0.         0.         0.         0.\n",
      " 0.         0.         0.         0.         0.         0.\n",
      " 0.         0.         0.         0.         0.         0.\n",
      " 0.         0.         0.         0.         0.         0.\n",
      " 0.         0.         0.         0.         0.         0.\n",
      " 0.         0.         0.         0.         0.         0.\n",
      " 0.         0.         0.         0.         0.         0.06547503\n",
      " 0.04357601 0.0763274  0.06702934 0.03408365 0.02231536 0.05390102\n",
      " 0.03449999 0.04660135 0.01318382 0.03247384 0.02053901 0.10563713\n",
      " 0.05045935 0.10980044 0.06994366 0.06902773 0.06200561 0.08876183\n",
      " 0.08329401 0.09134308 0.06383746 0.03394488 0.01798551 0.0455744\n",
      " 0.03155791 0.01443282 0.01523773 0.00033307 0.         0.00013878\n",
      " 0.01002113 0.00972673 0.00939254 0.00903652 0.00867462 0.00831952\n",
      " 0.00798034 0.00766291 0.00737039 0.00710384 0.00686289 0.00664623\n",
      " 0.00645203 0.00627823 0.00612275 0.00598361 0.00585898 0.00574726\n",
      " 0.00564702 0.00555703 0.00547621 0.00540362]\n",
      "22 day output [[0.00533845]]\n",
      "23 day input [0.         0.         0.         0.         0.         0.\n",
      " 0.         0.         0.         0.         0.         0.\n",
      " 0.         0.         0.         0.         0.         0.\n",
      " 0.         0.         0.         0.         0.         0.\n",
      " 0.         0.         0.         0.         0.         0.\n",
      " 0.         0.         0.         0.         0.         0.\n",
      " 0.         0.         0.         0.         0.         0.\n",
      " 0.         0.         0.         0.         0.06547503 0.04357601\n",
      " 0.0763274  0.06702934 0.03408365 0.02231536 0.05390102 0.03449999\n",
      " 0.04660135 0.01318382 0.03247384 0.02053901 0.10563713 0.05045935\n",
      " 0.10980044 0.06994366 0.06902773 0.06200561 0.08876183 0.08329401\n",
      " 0.09134308 0.06383746 0.03394488 0.01798551 0.0455744  0.03155791\n",
      " 0.01443282 0.01523773 0.00033307 0.         0.00013878 0.01002113\n",
      " 0.00972673 0.00939254 0.00903652 0.00867462 0.00831952 0.00798034\n",
      " 0.00766291 0.00737039 0.00710384 0.00686289 0.00664623 0.00645203\n",
      " 0.00627823 0.00612275 0.00598361 0.00585898 0.00574726 0.00564702\n",
      " 0.00555703 0.00547621 0.00540362 0.00533845]\n",
      "23 day output [[0.00527997]]\n",
      "24 day input [0.         0.         0.         0.         0.         0.\n",
      " 0.         0.         0.         0.         0.         0.\n",
      " 0.         0.         0.         0.         0.         0.\n",
      " 0.         0.         0.         0.         0.         0.\n",
      " 0.         0.         0.         0.         0.         0.\n",
      " 0.         0.         0.         0.         0.         0.\n",
      " 0.         0.         0.         0.         0.         0.\n",
      " 0.         0.         0.         0.06547503 0.04357601 0.0763274\n",
      " 0.06702934 0.03408365 0.02231536 0.05390102 0.03449999 0.04660135\n",
      " 0.01318382 0.03247384 0.02053901 0.10563713 0.05045935 0.10980044\n",
      " 0.06994366 0.06902773 0.06200561 0.08876183 0.08329401 0.09134308\n",
      " 0.06383746 0.03394488 0.01798551 0.0455744  0.03155791 0.01443282\n",
      " 0.01523773 0.00033307 0.         0.00013878 0.01002113 0.00972673\n",
      " 0.00939254 0.00903652 0.00867462 0.00831952 0.00798034 0.00766291\n",
      " 0.00737039 0.00710384 0.00686289 0.00664623 0.00645203 0.00627823\n",
      " 0.00612275 0.00598361 0.00585898 0.00574726 0.00564702 0.00555703\n",
      " 0.00547621 0.00540362 0.00533845 0.00527997]\n",
      "24 day output [[0.00522752]]\n",
      "25 day input [0.         0.         0.         0.         0.         0.\n",
      " 0.         0.         0.         0.         0.         0.\n",
      " 0.         0.         0.         0.         0.         0.\n",
      " 0.         0.         0.         0.         0.         0.\n",
      " 0.         0.         0.         0.         0.         0.\n",
      " 0.         0.         0.         0.         0.         0.\n",
      " 0.         0.         0.         0.         0.         0.\n",
      " 0.         0.         0.06547503 0.04357601 0.0763274  0.06702934\n",
      " 0.03408365 0.02231536 0.05390102 0.03449999 0.04660135 0.01318382\n",
      " 0.03247384 0.02053901 0.10563713 0.05045935 0.10980044 0.06994366\n",
      " 0.06902773 0.06200561 0.08876183 0.08329401 0.09134308 0.06383746\n",
      " 0.03394488 0.01798551 0.0455744  0.03155791 0.01443282 0.01523773\n",
      " 0.00033307 0.         0.00013878 0.01002113 0.00972673 0.00939254\n",
      " 0.00903652 0.00867462 0.00831952 0.00798034 0.00766291 0.00737039\n",
      " 0.00710384 0.00686289 0.00664623 0.00645203 0.00627823 0.00612275\n",
      " 0.00598361 0.00585898 0.00574726 0.00564702 0.00555703 0.00547621\n",
      " 0.00540362 0.00533845 0.00527997 0.00522752]\n"
     ]
    },
    {
     "name": "stdout",
     "output_type": "stream",
     "text": [
      "25 day output [[0.00518054]]\n",
      "26 day input [0.         0.         0.         0.         0.         0.\n",
      " 0.         0.         0.         0.         0.         0.\n",
      " 0.         0.         0.         0.         0.         0.\n",
      " 0.         0.         0.         0.         0.         0.\n",
      " 0.         0.         0.         0.         0.         0.\n",
      " 0.         0.         0.         0.         0.         0.\n",
      " 0.         0.         0.         0.         0.         0.\n",
      " 0.         0.06547503 0.04357601 0.0763274  0.06702934 0.03408365\n",
      " 0.02231536 0.05390102 0.03449999 0.04660135 0.01318382 0.03247384\n",
      " 0.02053901 0.10563713 0.05045935 0.10980044 0.06994366 0.06902773\n",
      " 0.06200561 0.08876183 0.08329401 0.09134308 0.06383746 0.03394488\n",
      " 0.01798551 0.0455744  0.03155791 0.01443282 0.01523773 0.00033307\n",
      " 0.         0.00013878 0.01002113 0.00972673 0.00939254 0.00903652\n",
      " 0.00867462 0.00831952 0.00798034 0.00766291 0.00737039 0.00710384\n",
      " 0.00686289 0.00664623 0.00645203 0.00627823 0.00612275 0.00598361\n",
      " 0.00585898 0.00574726 0.00564702 0.00555703 0.00547621 0.00540362\n",
      " 0.00533845 0.00527997 0.00522752 0.00518054]\n",
      "26 day output [[0.0051385]]\n",
      "27 day input [0.         0.         0.         0.         0.         0.\n",
      " 0.         0.         0.         0.         0.         0.\n",
      " 0.         0.         0.         0.         0.         0.\n",
      " 0.         0.         0.         0.         0.         0.\n",
      " 0.         0.         0.         0.         0.         0.\n",
      " 0.         0.         0.         0.         0.         0.\n",
      " 0.         0.         0.         0.         0.         0.\n",
      " 0.06547503 0.04357601 0.0763274  0.06702934 0.03408365 0.02231536\n",
      " 0.05390102 0.03449999 0.04660135 0.01318382 0.03247384 0.02053901\n",
      " 0.10563713 0.05045935 0.10980044 0.06994366 0.06902773 0.06200561\n",
      " 0.08876183 0.08329401 0.09134308 0.06383746 0.03394488 0.01798551\n",
      " 0.0455744  0.03155791 0.01443282 0.01523773 0.00033307 0.\n",
      " 0.00013878 0.01002113 0.00972673 0.00939254 0.00903652 0.00867462\n",
      " 0.00831952 0.00798034 0.00766291 0.00737039 0.00710384 0.00686289\n",
      " 0.00664623 0.00645203 0.00627823 0.00612275 0.00598361 0.00585898\n",
      " 0.00574726 0.00564702 0.00555703 0.00547621 0.00540362 0.00533845\n",
      " 0.00527997 0.00522752 0.00518054 0.0051385 ]\n",
      "27 day output [[0.00510092]]\n",
      "28 day input [0.         0.         0.         0.         0.         0.\n",
      " 0.         0.         0.         0.         0.         0.\n",
      " 0.         0.         0.         0.         0.         0.\n",
      " 0.         0.         0.         0.         0.         0.\n",
      " 0.         0.         0.         0.         0.         0.\n",
      " 0.         0.         0.         0.         0.         0.\n",
      " 0.         0.         0.         0.         0.         0.06547503\n",
      " 0.04357601 0.0763274  0.06702934 0.03408365 0.02231536 0.05390102\n",
      " 0.03449999 0.04660135 0.01318382 0.03247384 0.02053901 0.10563713\n",
      " 0.05045935 0.10980044 0.06994366 0.06902773 0.06200561 0.08876183\n",
      " 0.08329401 0.09134308 0.06383746 0.03394488 0.01798551 0.0455744\n",
      " 0.03155791 0.01443282 0.01523773 0.00033307 0.         0.00013878\n",
      " 0.01002113 0.00972673 0.00939254 0.00903652 0.00867462 0.00831952\n",
      " 0.00798034 0.00766291 0.00737039 0.00710384 0.00686289 0.00664623\n",
      " 0.00645203 0.00627823 0.00612275 0.00598361 0.00585898 0.00574726\n",
      " 0.00564702 0.00555703 0.00547621 0.00540362 0.00533845 0.00527997\n",
      " 0.00522752 0.00518054 0.0051385  0.00510092]\n",
      "28 day output [[0.00506735]]\n",
      "29 day input [0.         0.         0.         0.         0.         0.\n",
      " 0.         0.         0.         0.         0.         0.\n",
      " 0.         0.         0.         0.         0.         0.\n",
      " 0.         0.         0.         0.         0.         0.\n",
      " 0.         0.         0.         0.         0.         0.\n",
      " 0.         0.         0.         0.         0.         0.\n",
      " 0.         0.         0.         0.         0.06547503 0.04357601\n",
      " 0.0763274  0.06702934 0.03408365 0.02231536 0.05390102 0.03449999\n",
      " 0.04660135 0.01318382 0.03247384 0.02053901 0.10563713 0.05045935\n",
      " 0.10980044 0.06994366 0.06902773 0.06200561 0.08876183 0.08329401\n",
      " 0.09134308 0.06383746 0.03394488 0.01798551 0.0455744  0.03155791\n",
      " 0.01443282 0.01523773 0.00033307 0.         0.00013878 0.01002113\n",
      " 0.00972673 0.00939254 0.00903652 0.00867462 0.00831952 0.00798034\n",
      " 0.00766291 0.00737039 0.00710384 0.00686289 0.00664623 0.00645203\n",
      " 0.00627823 0.00612275 0.00598361 0.00585898 0.00574726 0.00564702\n",
      " 0.00555703 0.00547621 0.00540362 0.00533845 0.00527997 0.00522752\n",
      " 0.00518054 0.0051385  0.00510092 0.00506735]\n",
      "29 day output [[0.00503741]]\n",
      "[[0.010021131485700607], [0.009726728312671185], [0.009392539039254189], [0.009036519564688206], [0.00867462158203125], [0.008319523185491562], [0.007980338297784328], [0.00766291469335556], [0.007370391860604286], [0.007103840820491314], [0.006862891372293234], [0.006646232679486275], [0.00645203422755003], [0.006278234999626875], [0.006122753955423832], [0.005983607843518257], [0.005858982913196087], [0.005747261457145214], [0.005647022742778063], [0.005557029973715544], [0.005476208403706551], [0.005403622053563595], [0.005338449031114578], [0.005279965233057737], [0.005227524787187576], [0.005180544685572386], [0.005138501990586519], [0.005100916139781475], [0.00506735360249877], [0.005037412047386169]]\n"
     ]
    }
   ],
   "source": [
    "# demonstrate prediction for next 30 days\n",
    "from numpy import array\n",
    "\n",
    "lst_output=[]\n",
    "n_steps=100\n",
    "i=0\n",
    "while(i<30):\n",
    "    \n",
    "    if(len(temp_input)>100):\n",
    "        #print(temp_input)\n",
    "        x_input=np.array(temp_input[1:])\n",
    "        print(\"{} day input {}\".format(i,x_input))\n",
    "        x_input=x_input.reshape(1,-1)\n",
    "        x_input = x_input.reshape((1, n_steps, 1))\n",
    "        #print(x_input)\n",
    "        yhat = model.predict(x_input, verbose=0)\n",
    "        print(\"{} day output {}\".format(i,yhat))\n",
    "        temp_input.extend(yhat[0].tolist())\n",
    "        temp_input=temp_input[1:]\n",
    "        #print(temp_input)\n",
    "        lst_output.extend(yhat.tolist())\n",
    "        i=i+1\n",
    "    else:\n",
    "        x_input = x_input.reshape((1, n_steps,1))\n",
    "        yhat = model.predict(x_input, verbose=0)\n",
    "        print(yhat[0])\n",
    "        temp_input.extend(yhat[0].tolist())\n",
    "        print(len(temp_input))\n",
    "        lst_output.extend(yhat.tolist())\n",
    "        i=i+1\n",
    "    \n",
    "\n",
    "print(lst_output)"
   ]
  },
  {
   "cell_type": "code",
   "execution_count": 48,
   "metadata": {},
   "outputs": [],
   "source": [
    "day_new=np.arange(1,101)\n",
    "day_pred=np.arange(101,131)"
   ]
  },
  {
   "cell_type": "code",
   "execution_count": 49,
   "metadata": {},
   "outputs": [],
   "source": [
    "import matplotlib.pyplot as plt"
   ]
  },
  {
   "cell_type": "code",
   "execution_count": 50,
   "metadata": {},
   "outputs": [
    {
     "data": {
      "text/plain": [
       "173963"
      ]
     },
     "execution_count": 50,
     "metadata": {},
     "output_type": "execute_result"
    }
   ],
   "source": [
    "len(df1)"
   ]
  },
  {
   "cell_type": "code",
   "execution_count": null,
   "metadata": {},
   "outputs": [],
   "source": []
  },
  {
   "cell_type": "code",
   "execution_count": 51,
   "metadata": {},
   "outputs": [
    {
     "data": {
      "text/plain": [
       "[<matplotlib.lines.Line2D at 0x172c554ad00>]"
      ]
     },
     "execution_count": 51,
     "metadata": {},
     "output_type": "execute_result"
    },
    {
     "data": {
      "image/png": "[encoded data removed]",
      "text/plain": [
       "<Figure size 432x288 with 1 Axes>"
      ]
     },
     "metadata": {
      "needs_background": "light"
     },
     "output_type": "display_data"
    }
   ],
   "source": [
    "plt.plot(day_new,scaler.inverse_transform(df1[173863:]))\n",
    "plt.plot(day_pred,scaler.inverse_transform(lst_output))"
   ]
  },
  {
   "cell_type": "code",
   "execution_count": 52,
   "metadata": {},
   "outputs": [
    {
     "data": {
      "text/plain": [
       "[<matplotlib.lines.Line2D at 0x172c095ec40>]"
      ]
     },
     "execution_count": 52,
     "metadata": {},
     "output_type": "execute_result"
    },
    {
     "data": {
      "image/png": "[encoded data removed]",
      "text/plain": [
       "<Figure size 432x288 with 1 Axes>"
      ]
     },
     "metadata": {
      "needs_background": "light"
     },
     "output_type": "display_data"
    }
   ],
   "source": [
    "df3=df1.tolist()\n",
    "df3.extend(lst_output)\n",
    "plt.plot(df3[173900:])"
   ]
  },
  {
   "cell_type": "code",
   "execution_count": 53,
   "metadata": {},
   "outputs": [],
   "source": [
    "df3=scaler.inverse_transform(df3).tolist()"
   ]
  },
  {
   "cell_type": "code",
   "execution_count": 54,
   "metadata": {},
   "outputs": [
    {
     "data": {
      "text/plain": [
       "[<matplotlib.lines.Line2D at 0x172c2c9e070>]"
      ]
     },
     "execution_count": 54,
     "metadata": {},
     "output_type": "execute_result"
    },
    {
     "data": {
      "image/png": "[encoded data removed]",
      "text/plain": [
       "<Figure size 432x288 with 1 Axes>"
      ]
     },
     "metadata": {
      "needs_background": "light"
     },
     "output_type": "display_data"
    }
   ],
   "source": [
    "plt.plot(df3)"
   ]
  },
  {
   "cell_type": "code",
   "execution_count": 55,
   "metadata": {},
   "outputs": [
    {
     "name": "stderr",
     "output_type": "stream",
     "text": [
      "WARNING:absl:Found untraced functions such as lstm_cell_layer_call_fn, lstm_cell_layer_call_and_return_conditional_losses, lstm_cell_1_layer_call_fn, lstm_cell_1_layer_call_and_return_conditional_losses, lstm_cell_2_layer_call_fn while saving (showing 5 of 15). These functions will not be directly callable after loading.\n"
     ]
    },
    {
     "name": "stdout",
     "output_type": "stream",
     "text": [
      "INFO:tensorflow:Assets written to: ram://4addb33a-d43c-44d4-aacf-e1ce98e5668f/assets\n"
     ]
    },
    {
     "name": "stderr",
     "output_type": "stream",
     "text": [
      "INFO:tensorflow:Assets written to: ram://4addb33a-d43c-44d4-aacf-e1ce98e5668f/assets\n",
      "WARNING:absl:<keras.layers.recurrent.LSTMCell object at 0x00000172B6BC0700> has the same name 'LSTMCell' as a built-in Keras object. Consider renaming <class 'keras.layers.recurrent.LSTMCell'> to avoid naming conflicts when loading with `tf.keras.models.load_model`. If renaming is not possible, pass the object in the `custom_objects` parameter of the load function.\n",
      "WARNING:absl:<keras.layers.recurrent.LSTMCell object at 0x00000172B7CB83A0> has the same name 'LSTMCell' as a built-in Keras object. Consider renaming <class 'keras.layers.recurrent.LSTMCell'> to avoid naming conflicts when loading with `tf.keras.models.load_model`. If renaming is not possible, pass the object in the `custom_objects` parameter of the load function.\n",
      "WARNING:absl:<keras.layers.recurrent.LSTMCell object at 0x00000172B7DC6DF0> has the same name 'LSTMCell' as a built-in Keras object. Consider renaming <class 'keras.layers.recurrent.LSTMCell'> to avoid naming conflicts when loading with `tf.keras.models.load_model`. If renaming is not possible, pass the object in the `custom_objects` parameter of the load function.\n"
     ]
    },
    {
     "ename": "NotFoundError",
     "evalue": "",
     "output_type": "error",
     "traceback": [
      "\u001b[1;31m---------------------------------------------------------------------------\u001b[0m",
      "\u001b[1;31mNotFoundError\u001b[0m                             Traceback (most recent call last)",
      "\u001b[1;32m<ipython-input-55-36e2be473ba5>\u001b[0m in \u001b[0;36m<module>\u001b[1;34m\u001b[0m\n\u001b[0;32m      1\u001b[0m \u001b[1;32mimport\u001b[0m \u001b[0mpickle\u001b[0m\u001b[1;33m\u001b[0m\u001b[1;33m\u001b[0m\u001b[0m\n\u001b[1;32m----> 2\u001b[1;33m \u001b[0mpickle\u001b[0m\u001b[1;33m.\u001b[0m\u001b[0mdump\u001b[0m\u001b[1;33m(\u001b[0m\u001b[0mmodel\u001b[0m\u001b[1;33m,\u001b[0m\u001b[0mopen\u001b[0m\u001b[1;33m(\u001b[0m\u001b[1;34m'model.pkl'\u001b[0m\u001b[1;33m,\u001b[0m\u001b[1;34m'wb'\u001b[0m\u001b[1;33m)\u001b[0m\u001b[1;33m)\u001b[0m\u001b[1;33m\u001b[0m\u001b[1;33m\u001b[0m\u001b[0m\n\u001b[0m",
      "\u001b[1;32m~\\anaconda3\\lib\\site-packages\\keras\\engine\\training.py\u001b[0m in \u001b[0;36m__reduce__\u001b[1;34m(self)\u001b[0m\n\u001b[0;32m    313\u001b[0m     \u001b[1;32mif\u001b[0m \u001b[0mself\u001b[0m\u001b[1;33m.\u001b[0m\u001b[0mbuilt\u001b[0m\u001b[1;33m:\u001b[0m\u001b[1;33m\u001b[0m\u001b[1;33m\u001b[0m\u001b[0m\n\u001b[0;32m    314\u001b[0m       return (pickle_utils.deserialize_model_from_bytecode,\n\u001b[1;32m--> 315\u001b[1;33m               pickle_utils.serialize_model_as_bytecode(self))\n\u001b[0m\u001b[0;32m    316\u001b[0m     \u001b[1;32melse\u001b[0m\u001b[1;33m:\u001b[0m\u001b[1;33m\u001b[0m\u001b[1;33m\u001b[0m\u001b[0m\n\u001b[0;32m    317\u001b[0m       \u001b[1;31m# SavedModel (and hence serialize_model_as_bytecode) only support\u001b[0m\u001b[1;33m\u001b[0m\u001b[1;33m\u001b[0m\u001b[1;33m\u001b[0m\u001b[0m\n",
      "\u001b[1;32m~\\anaconda3\\lib\\site-packages\\keras\\saving\\pickle_utils.py\u001b[0m in \u001b[0;36mserialize_model_as_bytecode\u001b[1;34m(model)\u001b[0m\n\u001b[0;32m     75\u001b[0m         \u001b[1;32mwith\u001b[0m \u001b[0mtf\u001b[0m\u001b[1;33m.\u001b[0m\u001b[0mio\u001b[0m\u001b[1;33m.\u001b[0m\u001b[0mgfile\u001b[0m\u001b[1;33m.\u001b[0m\u001b[0mGFile\u001b[0m\u001b[1;33m(\u001b[0m\u001b[0mdest_path\u001b[0m\u001b[1;33m,\u001b[0m \u001b[1;34m\"rb\"\u001b[0m\u001b[1;33m)\u001b[0m \u001b[1;32mas\u001b[0m \u001b[0mf\u001b[0m\u001b[1;33m:\u001b[0m\u001b[1;33m\u001b[0m\u001b[1;33m\u001b[0m\u001b[0m\n\u001b[0;32m     76\u001b[0m           \u001b[0minfo\u001b[0m \u001b[1;33m=\u001b[0m \u001b[0mtarfile\u001b[0m\u001b[1;33m.\u001b[0m\u001b[0mTarInfo\u001b[0m\u001b[1;33m(\u001b[0m\u001b[0mname\u001b[0m\u001b[1;33m=\u001b[0m\u001b[0mos\u001b[0m\u001b[1;33m.\u001b[0m\u001b[0mpath\u001b[0m\u001b[1;33m.\u001b[0m\u001b[0mrelpath\u001b[0m\u001b[1;33m(\u001b[0m\u001b[0mdest_path\u001b[0m\u001b[1;33m,\u001b[0m \u001b[0mtemp_dir\u001b[0m\u001b[1;33m)\u001b[0m\u001b[1;33m)\u001b[0m\u001b[1;33m\u001b[0m\u001b[1;33m\u001b[0m\u001b[0m\n\u001b[1;32m---> 77\u001b[1;33m           \u001b[0minfo\u001b[0m\u001b[1;33m.\u001b[0m\u001b[0msize\u001b[0m \u001b[1;33m=\u001b[0m \u001b[0mf\u001b[0m\u001b[1;33m.\u001b[0m\u001b[0msize\u001b[0m\u001b[1;33m(\u001b[0m\u001b[1;33m)\u001b[0m\u001b[1;33m\u001b[0m\u001b[1;33m\u001b[0m\u001b[0m\n\u001b[0m\u001b[0;32m     78\u001b[0m           \u001b[0marchive\u001b[0m\u001b[1;33m.\u001b[0m\u001b[0maddfile\u001b[0m\u001b[1;33m(\u001b[0m\u001b[0mtarinfo\u001b[0m\u001b[1;33m=\u001b[0m\u001b[0minfo\u001b[0m\u001b[1;33m,\u001b[0m \u001b[0mfileobj\u001b[0m\u001b[1;33m=\u001b[0m\u001b[0mf\u001b[0m\u001b[1;33m)\u001b[0m\u001b[1;33m\u001b[0m\u001b[1;33m\u001b[0m\u001b[0m\n\u001b[0;32m     79\u001b[0m   \u001b[0mtf\u001b[0m\u001b[1;33m.\u001b[0m\u001b[0mio\u001b[0m\u001b[1;33m.\u001b[0m\u001b[0mgfile\u001b[0m\u001b[1;33m.\u001b[0m\u001b[0mrmtree\u001b[0m\u001b[1;33m(\u001b[0m\u001b[0mtemp_dir\u001b[0m\u001b[1;33m)\u001b[0m\u001b[1;33m\u001b[0m\u001b[1;33m\u001b[0m\u001b[0m\n",
      "\u001b[1;32m~\\anaconda3\\lib\\site-packages\\tensorflow\\python\\lib\\io\\file_io.py\u001b[0m in \u001b[0;36msize\u001b[1;34m(self)\u001b[0m\n\u001b[0;32m     97\u001b[0m   \u001b[1;32mdef\u001b[0m \u001b[0msize\u001b[0m\u001b[1;33m(\u001b[0m\u001b[0mself\u001b[0m\u001b[1;33m)\u001b[0m\u001b[1;33m:\u001b[0m\u001b[1;33m\u001b[0m\u001b[1;33m\u001b[0m\u001b[0m\n\u001b[0;32m     98\u001b[0m     \u001b[1;34m\"\"\"Returns the size of the file.\"\"\"\u001b[0m\u001b[1;33m\u001b[0m\u001b[1;33m\u001b[0m\u001b[0m\n\u001b[1;32m---> 99\u001b[1;33m     \u001b[1;32mreturn\u001b[0m \u001b[0mstat\u001b[0m\u001b[1;33m(\u001b[0m\u001b[0mself\u001b[0m\u001b[1;33m.\u001b[0m\u001b[0m__name\u001b[0m\u001b[1;33m)\u001b[0m\u001b[1;33m.\u001b[0m\u001b[0mlength\u001b[0m\u001b[1;33m\u001b[0m\u001b[1;33m\u001b[0m\u001b[0m\n\u001b[0m\u001b[0;32m    100\u001b[0m \u001b[1;33m\u001b[0m\u001b[0m\n\u001b[0;32m    101\u001b[0m   \u001b[1;32mdef\u001b[0m \u001b[0mwrite\u001b[0m\u001b[1;33m(\u001b[0m\u001b[0mself\u001b[0m\u001b[1;33m,\u001b[0m \u001b[0mfile_content\u001b[0m\u001b[1;33m)\u001b[0m\u001b[1;33m:\u001b[0m\u001b[1;33m\u001b[0m\u001b[1;33m\u001b[0m\u001b[0m\n",
      "\u001b[1;32m~\\anaconda3\\lib\\site-packages\\tensorflow\\python\\lib\\io\\file_io.py\u001b[0m in \u001b[0;36mstat\u001b[1;34m(filename)\u001b[0m\n\u001b[0;32m    908\u001b[0m     \u001b[0merrors\u001b[0m\u001b[1;33m.\u001b[0m\u001b[0mOpError\u001b[0m\u001b[1;33m:\u001b[0m \u001b[0mIf\u001b[0m \u001b[0mthe\u001b[0m \u001b[0moperation\u001b[0m \u001b[0mfails\u001b[0m\u001b[1;33m.\u001b[0m\u001b[1;33m\u001b[0m\u001b[1;33m\u001b[0m\u001b[0m\n\u001b[0;32m    909\u001b[0m   \"\"\"\n\u001b[1;32m--> 910\u001b[1;33m   \u001b[1;32mreturn\u001b[0m \u001b[0mstat_v2\u001b[0m\u001b[1;33m(\u001b[0m\u001b[0mfilename\u001b[0m\u001b[1;33m)\u001b[0m\u001b[1;33m\u001b[0m\u001b[1;33m\u001b[0m\u001b[0m\n\u001b[0m\u001b[0;32m    911\u001b[0m \u001b[1;33m\u001b[0m\u001b[0m\n\u001b[0;32m    912\u001b[0m \u001b[1;33m\u001b[0m\u001b[0m\n",
      "\u001b[1;32m~\\anaconda3\\lib\\site-packages\\tensorflow\\python\\lib\\io\\file_io.py\u001b[0m in \u001b[0;36mstat_v2\u001b[1;34m(path)\u001b[0m\n\u001b[0;32m    924\u001b[0m     \u001b[0merrors\u001b[0m\u001b[1;33m.\u001b[0m\u001b[0mOpError\u001b[0m\u001b[1;33m:\u001b[0m \u001b[0mIf\u001b[0m \u001b[0mthe\u001b[0m \u001b[0moperation\u001b[0m \u001b[0mfails\u001b[0m\u001b[1;33m.\u001b[0m\u001b[1;33m\u001b[0m\u001b[1;33m\u001b[0m\u001b[0m\n\u001b[0;32m    925\u001b[0m   \"\"\"\n\u001b[1;32m--> 926\u001b[1;33m   \u001b[1;32mreturn\u001b[0m \u001b[0m_pywrap_file_io\u001b[0m\u001b[1;33m.\u001b[0m\u001b[0mStat\u001b[0m\u001b[1;33m(\u001b[0m\u001b[0mcompat\u001b[0m\u001b[1;33m.\u001b[0m\u001b[0mpath_to_str\u001b[0m\u001b[1;33m(\u001b[0m\u001b[0mpath\u001b[0m\u001b[1;33m)\u001b[0m\u001b[1;33m)\u001b[0m\u001b[1;33m\u001b[0m\u001b[1;33m\u001b[0m\u001b[0m\n\u001b[0m\u001b[0;32m    927\u001b[0m \u001b[1;33m\u001b[0m\u001b[0m\n\u001b[0;32m    928\u001b[0m \u001b[1;33m\u001b[0m\u001b[0m\n",
      "\u001b[1;31mNotFoundError\u001b[0m: "
     ]
    }
   ],
   "source": [
    "import pickle\n",
    "pickle.dump(model,open('model.pkl','wb'))"
   ]
  },
  {
   "cell_type": "code",
   "execution_count": 56,
   "metadata": {},
   "outputs": [
    {
     "name": "stderr",
     "output_type": "stream",
     "text": [
      "WARNING:absl:Found untraced functions such as lstm_cell_layer_call_fn, lstm_cell_layer_call_and_return_conditional_losses, lstm_cell_1_layer_call_fn, lstm_cell_1_layer_call_and_return_conditional_losses, lstm_cell_2_layer_call_fn while saving (showing 5 of 15). These functions will not be directly callable after loading.\n"
     ]
    },
    {
     "name": "stdout",
     "output_type": "stream",
     "text": [
      "INFO:tensorflow:Assets written to: my_model\\assets\n"
     ]
    },
    {
     "name": "stderr",
     "output_type": "stream",
     "text": [
      "INFO:tensorflow:Assets written to: my_model\\assets\n",
      "WARNING:absl:<keras.layers.recurrent.LSTMCell object at 0x00000172B6BC0700> has the same name 'LSTMCell' as a built-in Keras object. Consider renaming <class 'keras.layers.recurrent.LSTMCell'> to avoid naming conflicts when loading with `tf.keras.models.load_model`. If renaming is not possible, pass the object in the `custom_objects` parameter of the load function.\n",
      "WARNING:absl:<keras.layers.recurrent.LSTMCell object at 0x00000172B7CB83A0> has the same name 'LSTMCell' as a built-in Keras object. Consider renaming <class 'keras.layers.recurrent.LSTMCell'> to avoid naming conflicts when loading with `tf.keras.models.load_model`. If renaming is not possible, pass the object in the `custom_objects` parameter of the load function.\n",
      "WARNING:absl:<keras.layers.recurrent.LSTMCell object at 0x00000172B7DC6DF0> has the same name 'LSTMCell' as a built-in Keras object. Consider renaming <class 'keras.layers.recurrent.LSTMCell'> to avoid naming conflicts when loading with `tf.keras.models.load_model`. If renaming is not possible, pass the object in the `custom_objects` parameter of the load function.\n"
     ]
    }
   ],
   "source": [
    "model.save(\"my_model\")"
   ]
  },
  {
   "cell_type": "markdown",
   "metadata": {},
   "source": [
    "###### -"
   ]
  }
 ],
 "metadata": {
  "kernelspec": {
   "display_name": "Python 3 (ipykernel)",
   "language": "python",
   "name": "python3"
  },
  "language_info": {
   "codemirror_mode": {
    "name": "ipython",
    "version": 3
   },
   "file_extension": ".py",
   "mimetype": "text/x-python",
   "name": "python",
   "nbconvert_exporter": "python",
   "pygments_lexer": "ipython3",
   "version": "3.9.7"
  }
 },
 "nbformat": 4,
 "nbformat_minor": 2
}
