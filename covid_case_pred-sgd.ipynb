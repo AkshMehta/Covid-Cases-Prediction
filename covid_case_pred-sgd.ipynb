{
 "cells": [
  {
   "cell_type": "markdown",
   "metadata": {},
   "source": [
    "### Covid Cases Prediction And Forecasting Using Stacked LSTM"
   ]
  },
  {
   "cell_type": "code",
   "execution_count": 1,
   "metadata": {},
   "outputs": [],
   "source": [
    "import pandas as pd\n",
    "import numpy as np\n",
    "import matplotlib.pyplot as plt"
   ]
  },
  {
   "cell_type": "code",
   "execution_count": 2,
   "metadata": {},
   "outputs": [],
   "source": [
    "df1 = pd.read_csv('Covid Dataset.csv',index_col='Date Announced',parse_dates=True)"
   ]
  },
  {
   "cell_type": "code",
   "execution_count": 3,
   "metadata": {},
   "outputs": [
    {
     "data": {
      "text/html": [
       "<div>\n",
       "<style scoped>\n",
       "    .dataframe tbody tr th:only-of-type {\n",
       "        vertical-align: middle;\n",
       "    }\n",
       "\n",
       "    .dataframe tbody tr th {\n",
       "        vertical-align: top;\n",
       "    }\n",
       "\n",
       "    .dataframe thead th {\n",
       "        text-align: right;\n",
       "    }\n",
       "</style>\n",
       "<table border=\"1\" class=\"dataframe\">\n",
       "  <thead>\n",
       "    <tr style=\"text-align: right;\">\n",
       "      <th></th>\n",
       "      <th>Unnamed: 0</th>\n",
       "      <th>Num Cases</th>\n",
       "      <th>Age Bracket</th>\n",
       "      <th>Gender</th>\n",
       "      <th>Detected State</th>\n",
       "      <th>Current Status</th>\n",
       "      <th>Day</th>\n",
       "      <th>Month</th>\n",
       "      <th>Year</th>\n",
       "    </tr>\n",
       "    <tr>\n",
       "      <th>Date Announced</th>\n",
       "      <th></th>\n",
       "      <th></th>\n",
       "      <th></th>\n",
       "      <th></th>\n",
       "      <th></th>\n",
       "      <th></th>\n",
       "      <th></th>\n",
       "      <th></th>\n",
       "      <th></th>\n",
       "    </tr>\n",
       "  </thead>\n",
       "  <tbody>\n",
       "    <tr>\n",
       "      <th>2021-05-05</th>\n",
       "      <td>0</td>\n",
       "      <td>443.0</td>\n",
       "      <td>NaN</td>\n",
       "      <td>NaN</td>\n",
       "      <td>Odisha</td>\n",
       "      <td>Hospitalized</td>\n",
       "      <td>5</td>\n",
       "      <td>5</td>\n",
       "      <td>2021</td>\n",
       "    </tr>\n",
       "    <tr>\n",
       "      <th>2021-05-05</th>\n",
       "      <td>1</td>\n",
       "      <td>151.0</td>\n",
       "      <td>NaN</td>\n",
       "      <td>NaN</td>\n",
       "      <td>Odisha</td>\n",
       "      <td>Hospitalized</td>\n",
       "      <td>5</td>\n",
       "      <td>5</td>\n",
       "      <td>2021</td>\n",
       "    </tr>\n",
       "    <tr>\n",
       "      <th>2021-05-05</th>\n",
       "      <td>2</td>\n",
       "      <td>483.0</td>\n",
       "      <td>NaN</td>\n",
       "      <td>NaN</td>\n",
       "      <td>Odisha</td>\n",
       "      <td>Hospitalized</td>\n",
       "      <td>5</td>\n",
       "      <td>5</td>\n",
       "      <td>2021</td>\n",
       "    </tr>\n",
       "    <tr>\n",
       "      <th>2021-05-05</th>\n",
       "      <td>3</td>\n",
       "      <td>52.0</td>\n",
       "      <td>NaN</td>\n",
       "      <td>NaN</td>\n",
       "      <td>Odisha</td>\n",
       "      <td>Hospitalized</td>\n",
       "      <td>5</td>\n",
       "      <td>5</td>\n",
       "      <td>2021</td>\n",
       "    </tr>\n",
       "    <tr>\n",
       "      <th>2021-05-05</th>\n",
       "      <td>4</td>\n",
       "      <td>326.0</td>\n",
       "      <td>NaN</td>\n",
       "      <td>NaN</td>\n",
       "      <td>Odisha</td>\n",
       "      <td>Hospitalized</td>\n",
       "      <td>5</td>\n",
       "      <td>5</td>\n",
       "      <td>2021</td>\n",
       "    </tr>\n",
       "  </tbody>\n",
       "</table>\n",
       "</div>"
      ],
      "text/plain": [
       "                Unnamed: 0  Num Cases  Age Bracket Gender Detected State  \\\n",
       "Date Announced                                                             \n",
       "2021-05-05               0      443.0          NaN    NaN         Odisha   \n",
       "2021-05-05               1      151.0          NaN    NaN         Odisha   \n",
       "2021-05-05               2      483.0          NaN    NaN         Odisha   \n",
       "2021-05-05               3       52.0          NaN    NaN         Odisha   \n",
       "2021-05-05               4      326.0          NaN    NaN         Odisha   \n",
       "\n",
       "               Current Status  Day  Month  Year  \n",
       "Date Announced                                   \n",
       "2021-05-05       Hospitalized    5      5  2021  \n",
       "2021-05-05       Hospitalized    5      5  2021  \n",
       "2021-05-05       Hospitalized    5      5  2021  \n",
       "2021-05-05       Hospitalized    5      5  2021  \n",
       "2021-05-05       Hospitalized    5      5  2021  "
      ]
     },
     "execution_count": 3,
     "metadata": {},
     "output_type": "execute_result"
    }
   ],
   "source": [
    "df1.head()"
   ]
  },
  {
   "cell_type": "code",
   "execution_count": 4,
   "metadata": {},
   "outputs": [
    {
     "data": {
      "text/html": [
       "<div>\n",
       "<style scoped>\n",
       "    .dataframe tbody tr th:only-of-type {\n",
       "        vertical-align: middle;\n",
       "    }\n",
       "\n",
       "    .dataframe tbody tr th {\n",
       "        vertical-align: top;\n",
       "    }\n",
       "\n",
       "    .dataframe thead th {\n",
       "        text-align: right;\n",
       "    }\n",
       "</style>\n",
       "<table border=\"1\" class=\"dataframe\">\n",
       "  <thead>\n",
       "    <tr style=\"text-align: right;\">\n",
       "      <th></th>\n",
       "      <th>Unnamed: 0</th>\n",
       "      <th>Num Cases</th>\n",
       "      <th>Age Bracket</th>\n",
       "      <th>Gender</th>\n",
       "      <th>Detected State</th>\n",
       "      <th>Current Status</th>\n",
       "      <th>Day</th>\n",
       "      <th>Month</th>\n",
       "      <th>Year</th>\n",
       "    </tr>\n",
       "    <tr>\n",
       "      <th>Date Announced</th>\n",
       "      <th></th>\n",
       "      <th></th>\n",
       "      <th></th>\n",
       "      <th></th>\n",
       "      <th></th>\n",
       "      <th></th>\n",
       "      <th></th>\n",
       "      <th></th>\n",
       "      <th></th>\n",
       "    </tr>\n",
       "  </thead>\n",
       "  <tbody>\n",
       "    <tr>\n",
       "      <th>2021-08-28</th>\n",
       "      <td>12065</td>\n",
       "      <td>NaN</td>\n",
       "      <td>NaN</td>\n",
       "      <td>NaN</td>\n",
       "      <td>NaN</td>\n",
       "      <td>NaN</td>\n",
       "      <td>28</td>\n",
       "      <td>8</td>\n",
       "      <td>2021</td>\n",
       "    </tr>\n",
       "    <tr>\n",
       "      <th>2021-08-28</th>\n",
       "      <td>12066</td>\n",
       "      <td>NaN</td>\n",
       "      <td>NaN</td>\n",
       "      <td>NaN</td>\n",
       "      <td>NaN</td>\n",
       "      <td>NaN</td>\n",
       "      <td>28</td>\n",
       "      <td>8</td>\n",
       "      <td>2021</td>\n",
       "    </tr>\n",
       "    <tr>\n",
       "      <th>2021-08-28</th>\n",
       "      <td>12067</td>\n",
       "      <td>NaN</td>\n",
       "      <td>NaN</td>\n",
       "      <td>NaN</td>\n",
       "      <td>NaN</td>\n",
       "      <td>NaN</td>\n",
       "      <td>28</td>\n",
       "      <td>8</td>\n",
       "      <td>2021</td>\n",
       "    </tr>\n",
       "    <tr>\n",
       "      <th>2021-08-28</th>\n",
       "      <td>12068</td>\n",
       "      <td>NaN</td>\n",
       "      <td>NaN</td>\n",
       "      <td>NaN</td>\n",
       "      <td>NaN</td>\n",
       "      <td>NaN</td>\n",
       "      <td>28</td>\n",
       "      <td>8</td>\n",
       "      <td>2021</td>\n",
       "    </tr>\n",
       "    <tr>\n",
       "      <th>2021-08-28</th>\n",
       "      <td>12069</td>\n",
       "      <td>NaN</td>\n",
       "      <td>NaN</td>\n",
       "      <td>NaN</td>\n",
       "      <td>NaN</td>\n",
       "      <td>NaN</td>\n",
       "      <td>28</td>\n",
       "      <td>8</td>\n",
       "      <td>2021</td>\n",
       "    </tr>\n",
       "  </tbody>\n",
       "</table>\n",
       "</div>"
      ],
      "text/plain": [
       "                Unnamed: 0  Num Cases  Age Bracket Gender Detected State  \\\n",
       "Date Announced                                                             \n",
       "2021-08-28           12065        NaN          NaN    NaN            NaN   \n",
       "2021-08-28           12066        NaN          NaN    NaN            NaN   \n",
       "2021-08-28           12067        NaN          NaN    NaN            NaN   \n",
       "2021-08-28           12068        NaN          NaN    NaN            NaN   \n",
       "2021-08-28           12069        NaN          NaN    NaN            NaN   \n",
       "\n",
       "               Current Status  Day  Month  Year  \n",
       "Date Announced                                   \n",
       "2021-08-28                NaN   28      8  2021  \n",
       "2021-08-28                NaN   28      8  2021  \n",
       "2021-08-28                NaN   28      8  2021  \n",
       "2021-08-28                NaN   28      8  2021  \n",
       "2021-08-28                NaN   28      8  2021  "
      ]
     },
     "execution_count": 4,
     "metadata": {},
     "output_type": "execute_result"
    }
   ],
   "source": [
    "df1.tail()"
   ]
  },
  {
   "cell_type": "code",
   "execution_count": 5,
   "metadata": {},
   "outputs": [
    {
     "data": {
      "text/html": [
       "<div>\n",
       "<style scoped>\n",
       "    .dataframe tbody tr th:only-of-type {\n",
       "        vertical-align: middle;\n",
       "    }\n",
       "\n",
       "    .dataframe tbody tr th {\n",
       "        vertical-align: top;\n",
       "    }\n",
       "\n",
       "    .dataframe thead th {\n",
       "        text-align: right;\n",
       "    }\n",
       "</style>\n",
       "<table border=\"1\" class=\"dataframe\">\n",
       "  <thead>\n",
       "    <tr style=\"text-align: right;\">\n",
       "      <th></th>\n",
       "      <th>Unnamed: 0</th>\n",
       "      <th>Num Cases</th>\n",
       "      <th>Age Bracket</th>\n",
       "      <th>Gender</th>\n",
       "      <th>Detected State</th>\n",
       "      <th>Current Status</th>\n",
       "      <th>Day</th>\n",
       "      <th>Month</th>\n",
       "      <th>Year</th>\n",
       "    </tr>\n",
       "    <tr>\n",
       "      <th>Date Announced</th>\n",
       "      <th></th>\n",
       "      <th></th>\n",
       "      <th></th>\n",
       "      <th></th>\n",
       "      <th></th>\n",
       "      <th></th>\n",
       "      <th></th>\n",
       "      <th></th>\n",
       "      <th></th>\n",
       "    </tr>\n",
       "  </thead>\n",
       "  <tbody>\n",
       "    <tr>\n",
       "      <th>2021-05-05</th>\n",
       "      <td>0</td>\n",
       "      <td>443.0</td>\n",
       "      <td>NaN</td>\n",
       "      <td>NaN</td>\n",
       "      <td>Odisha</td>\n",
       "      <td>Hospitalized</td>\n",
       "      <td>5</td>\n",
       "      <td>5</td>\n",
       "      <td>2021</td>\n",
       "    </tr>\n",
       "    <tr>\n",
       "      <th>2021-05-05</th>\n",
       "      <td>1</td>\n",
       "      <td>151.0</td>\n",
       "      <td>NaN</td>\n",
       "      <td>NaN</td>\n",
       "      <td>Odisha</td>\n",
       "      <td>Hospitalized</td>\n",
       "      <td>5</td>\n",
       "      <td>5</td>\n",
       "      <td>2021</td>\n",
       "    </tr>\n",
       "    <tr>\n",
       "      <th>2021-05-05</th>\n",
       "      <td>2</td>\n",
       "      <td>483.0</td>\n",
       "      <td>NaN</td>\n",
       "      <td>NaN</td>\n",
       "      <td>Odisha</td>\n",
       "      <td>Hospitalized</td>\n",
       "      <td>5</td>\n",
       "      <td>5</td>\n",
       "      <td>2021</td>\n",
       "    </tr>\n",
       "    <tr>\n",
       "      <th>2021-05-05</th>\n",
       "      <td>3</td>\n",
       "      <td>52.0</td>\n",
       "      <td>NaN</td>\n",
       "      <td>NaN</td>\n",
       "      <td>Odisha</td>\n",
       "      <td>Hospitalized</td>\n",
       "      <td>5</td>\n",
       "      <td>5</td>\n",
       "      <td>2021</td>\n",
       "    </tr>\n",
       "    <tr>\n",
       "      <th>2021-05-05</th>\n",
       "      <td>4</td>\n",
       "      <td>326.0</td>\n",
       "      <td>NaN</td>\n",
       "      <td>NaN</td>\n",
       "      <td>Odisha</td>\n",
       "      <td>Hospitalized</td>\n",
       "      <td>5</td>\n",
       "      <td>5</td>\n",
       "      <td>2021</td>\n",
       "    </tr>\n",
       "    <tr>\n",
       "      <th>...</th>\n",
       "      <td>...</td>\n",
       "      <td>...</td>\n",
       "      <td>...</td>\n",
       "      <td>...</td>\n",
       "      <td>...</td>\n",
       "      <td>...</td>\n",
       "      <td>...</td>\n",
       "      <td>...</td>\n",
       "      <td>...</td>\n",
       "    </tr>\n",
       "    <tr>\n",
       "      <th>2021-08-28</th>\n",
       "      <td>12065</td>\n",
       "      <td>NaN</td>\n",
       "      <td>NaN</td>\n",
       "      <td>NaN</td>\n",
       "      <td>NaN</td>\n",
       "      <td>NaN</td>\n",
       "      <td>28</td>\n",
       "      <td>8</td>\n",
       "      <td>2021</td>\n",
       "    </tr>\n",
       "    <tr>\n",
       "      <th>2021-08-28</th>\n",
       "      <td>12066</td>\n",
       "      <td>NaN</td>\n",
       "      <td>NaN</td>\n",
       "      <td>NaN</td>\n",
       "      <td>NaN</td>\n",
       "      <td>NaN</td>\n",
       "      <td>28</td>\n",
       "      <td>8</td>\n",
       "      <td>2021</td>\n",
       "    </tr>\n",
       "    <tr>\n",
       "      <th>2021-08-28</th>\n",
       "      <td>12067</td>\n",
       "      <td>NaN</td>\n",
       "      <td>NaN</td>\n",
       "      <td>NaN</td>\n",
       "      <td>NaN</td>\n",
       "      <td>NaN</td>\n",
       "      <td>28</td>\n",
       "      <td>8</td>\n",
       "      <td>2021</td>\n",
       "    </tr>\n",
       "    <tr>\n",
       "      <th>2021-08-28</th>\n",
       "      <td>12068</td>\n",
       "      <td>NaN</td>\n",
       "      <td>NaN</td>\n",
       "      <td>NaN</td>\n",
       "      <td>NaN</td>\n",
       "      <td>NaN</td>\n",
       "      <td>28</td>\n",
       "      <td>8</td>\n",
       "      <td>2021</td>\n",
       "    </tr>\n",
       "    <tr>\n",
       "      <th>2021-08-28</th>\n",
       "      <td>12069</td>\n",
       "      <td>NaN</td>\n",
       "      <td>NaN</td>\n",
       "      <td>NaN</td>\n",
       "      <td>NaN</td>\n",
       "      <td>NaN</td>\n",
       "      <td>28</td>\n",
       "      <td>8</td>\n",
       "      <td>2021</td>\n",
       "    </tr>\n",
       "  </tbody>\n",
       "</table>\n",
       "<p>175757 rows × 9 columns</p>\n",
       "</div>"
      ],
      "text/plain": [
       "                Unnamed: 0  Num Cases  Age Bracket Gender Detected State  \\\n",
       "Date Announced                                                             \n",
       "2021-05-05               0      443.0          NaN    NaN         Odisha   \n",
       "2021-05-05               1      151.0          NaN    NaN         Odisha   \n",
       "2021-05-05               2      483.0          NaN    NaN         Odisha   \n",
       "2021-05-05               3       52.0          NaN    NaN         Odisha   \n",
       "2021-05-05               4      326.0          NaN    NaN         Odisha   \n",
       "...                    ...        ...          ...    ...            ...   \n",
       "2021-08-28           12065        NaN          NaN    NaN            NaN   \n",
       "2021-08-28           12066        NaN          NaN    NaN            NaN   \n",
       "2021-08-28           12067        NaN          NaN    NaN            NaN   \n",
       "2021-08-28           12068        NaN          NaN    NaN            NaN   \n",
       "2021-08-28           12069        NaN          NaN    NaN            NaN   \n",
       "\n",
       "               Current Status  Day  Month  Year  \n",
       "Date Announced                                   \n",
       "2021-05-05       Hospitalized    5      5  2021  \n",
       "2021-05-05       Hospitalized    5      5  2021  \n",
       "2021-05-05       Hospitalized    5      5  2021  \n",
       "2021-05-05       Hospitalized    5      5  2021  \n",
       "2021-05-05       Hospitalized    5      5  2021  \n",
       "...                       ...  ...    ...   ...  \n",
       "2021-08-28                NaN   28      8  2021  \n",
       "2021-08-28                NaN   28      8  2021  \n",
       "2021-08-28                NaN   28      8  2021  \n",
       "2021-08-28                NaN   28      8  2021  \n",
       "2021-08-28                NaN   28      8  2021  \n",
       "\n",
       "[175757 rows x 9 columns]"
      ]
     },
     "execution_count": 5,
     "metadata": {},
     "output_type": "execute_result"
    }
   ],
   "source": [
    "df1"
   ]
  },
  {
   "cell_type": "code",
   "execution_count": 6,
   "metadata": {},
   "outputs": [],
   "source": [
    "del df1['Unnamed: 0']\n",
    "del df1['Age Bracket']\n",
    "del df1['Gender']\n",
    "del df1['Detected State']\n",
    "del df1['Current Status']\n",
    "del df1['Day']\n",
    "del df1['Month']\n",
    "del df1['Year']"
   ]
  },
  {
   "cell_type": "code",
   "execution_count": 7,
   "metadata": {},
   "outputs": [
    {
     "data": {
      "text/html": [
       "<div>\n",
       "<style scoped>\n",
       "    .dataframe tbody tr th:only-of-type {\n",
       "        vertical-align: middle;\n",
       "    }\n",
       "\n",
       "    .dataframe tbody tr th {\n",
       "        vertical-align: top;\n",
       "    }\n",
       "\n",
       "    .dataframe thead th {\n",
       "        text-align: right;\n",
       "    }\n",
       "</style>\n",
       "<table border=\"1\" class=\"dataframe\">\n",
       "  <thead>\n",
       "    <tr style=\"text-align: right;\">\n",
       "      <th></th>\n",
       "      <th>Num Cases</th>\n",
       "    </tr>\n",
       "    <tr>\n",
       "      <th>Date Announced</th>\n",
       "      <th></th>\n",
       "    </tr>\n",
       "  </thead>\n",
       "  <tbody>\n",
       "    <tr>\n",
       "      <th>2021-05-05</th>\n",
       "      <td>443.0</td>\n",
       "    </tr>\n",
       "    <tr>\n",
       "      <th>2021-05-05</th>\n",
       "      <td>151.0</td>\n",
       "    </tr>\n",
       "    <tr>\n",
       "      <th>2021-05-05</th>\n",
       "      <td>483.0</td>\n",
       "    </tr>\n",
       "    <tr>\n",
       "      <th>2021-05-05</th>\n",
       "      <td>52.0</td>\n",
       "    </tr>\n",
       "    <tr>\n",
       "      <th>2021-05-05</th>\n",
       "      <td>326.0</td>\n",
       "    </tr>\n",
       "    <tr>\n",
       "      <th>...</th>\n",
       "      <td>...</td>\n",
       "    </tr>\n",
       "    <tr>\n",
       "      <th>2021-08-28</th>\n",
       "      <td>521.0</td>\n",
       "    </tr>\n",
       "    <tr>\n",
       "      <th>2021-08-28</th>\n",
       "      <td>550.0</td>\n",
       "    </tr>\n",
       "    <tr>\n",
       "      <th>2021-08-28</th>\n",
       "      <td>13.0</td>\n",
       "    </tr>\n",
       "    <tr>\n",
       "      <th>2021-08-28</th>\n",
       "      <td>1.0</td>\n",
       "    </tr>\n",
       "    <tr>\n",
       "      <th>2021-08-28</th>\n",
       "      <td>6.0</td>\n",
       "    </tr>\n",
       "  </tbody>\n",
       "</table>\n",
       "<p>175429 rows × 1 columns</p>\n",
       "</div>"
      ],
      "text/plain": [
       "                Num Cases\n",
       "Date Announced           \n",
       "2021-05-05          443.0\n",
       "2021-05-05          151.0\n",
       "2021-05-05          483.0\n",
       "2021-05-05           52.0\n",
       "2021-05-05          326.0\n",
       "...                   ...\n",
       "2021-08-28          521.0\n",
       "2021-08-28          550.0\n",
       "2021-08-28           13.0\n",
       "2021-08-28            1.0\n",
       "2021-08-28            6.0\n",
       "\n",
       "[175429 rows x 1 columns]"
      ]
     },
     "execution_count": 7,
     "metadata": {},
     "output_type": "execute_result"
    }
   ],
   "source": [
    "df1 = df1.dropna()\n",
    "df1"
   ]
  },
  {
   "cell_type": "code",
   "execution_count": 8,
   "metadata": {},
   "outputs": [
    {
     "data": {
      "text/plain": [
       "Num Cases    0\n",
       "dtype: int64"
      ]
     },
     "execution_count": 8,
     "metadata": {},
     "output_type": "execute_result"
    }
   ],
   "source": [
    "df1.isna().sum()"
   ]
  },
  {
   "cell_type": "code",
   "execution_count": 9,
   "metadata": {},
   "outputs": [
    {
     "data": {
      "text/plain": [
       "True"
      ]
     },
     "execution_count": 9,
     "metadata": {},
     "output_type": "execute_result"
    }
   ],
   "source": [
    "(df1['Num Cases'].values < 0).any()"
   ]
  },
  {
   "cell_type": "code",
   "execution_count": 10,
   "metadata": {},
   "outputs": [],
   "source": [
    "df1 = df1[df1['Num Cases'] > 0]"
   ]
  },
  {
   "cell_type": "code",
   "execution_count": 11,
   "metadata": {},
   "outputs": [
    {
     "data": {
      "text/html": [
       "<div>\n",
       "<style scoped>\n",
       "    .dataframe tbody tr th:only-of-type {\n",
       "        vertical-align: middle;\n",
       "    }\n",
       "\n",
       "    .dataframe tbody tr th {\n",
       "        vertical-align: top;\n",
       "    }\n",
       "\n",
       "    .dataframe thead th {\n",
       "        text-align: right;\n",
       "    }\n",
       "</style>\n",
       "<table border=\"1\" class=\"dataframe\">\n",
       "  <thead>\n",
       "    <tr style=\"text-align: right;\">\n",
       "      <th></th>\n",
       "      <th>Num Cases</th>\n",
       "    </tr>\n",
       "    <tr>\n",
       "      <th>Date Announced</th>\n",
       "      <th></th>\n",
       "    </tr>\n",
       "  </thead>\n",
       "  <tbody>\n",
       "    <tr>\n",
       "      <th>2021-05-05</th>\n",
       "      <td>443.0</td>\n",
       "    </tr>\n",
       "    <tr>\n",
       "      <th>2021-05-05</th>\n",
       "      <td>151.0</td>\n",
       "    </tr>\n",
       "    <tr>\n",
       "      <th>2021-05-05</th>\n",
       "      <td>483.0</td>\n",
       "    </tr>\n",
       "    <tr>\n",
       "      <th>2021-05-05</th>\n",
       "      <td>52.0</td>\n",
       "    </tr>\n",
       "    <tr>\n",
       "      <th>2021-05-05</th>\n",
       "      <td>326.0</td>\n",
       "    </tr>\n",
       "    <tr>\n",
       "      <th>...</th>\n",
       "      <td>...</td>\n",
       "    </tr>\n",
       "    <tr>\n",
       "      <th>2021-08-28</th>\n",
       "      <td>521.0</td>\n",
       "    </tr>\n",
       "    <tr>\n",
       "      <th>2021-08-28</th>\n",
       "      <td>550.0</td>\n",
       "    </tr>\n",
       "    <tr>\n",
       "      <th>2021-08-28</th>\n",
       "      <td>13.0</td>\n",
       "    </tr>\n",
       "    <tr>\n",
       "      <th>2021-08-28</th>\n",
       "      <td>1.0</td>\n",
       "    </tr>\n",
       "    <tr>\n",
       "      <th>2021-08-28</th>\n",
       "      <td>6.0</td>\n",
       "    </tr>\n",
       "  </tbody>\n",
       "</table>\n",
       "<p>173963 rows × 1 columns</p>\n",
       "</div>"
      ],
      "text/plain": [
       "                Num Cases\n",
       "Date Announced           \n",
       "2021-05-05          443.0\n",
       "2021-05-05          151.0\n",
       "2021-05-05          483.0\n",
       "2021-05-05           52.0\n",
       "2021-05-05          326.0\n",
       "...                   ...\n",
       "2021-08-28          521.0\n",
       "2021-08-28          550.0\n",
       "2021-08-28           13.0\n",
       "2021-08-28            1.0\n",
       "2021-08-28            6.0\n",
       "\n",
       "[173963 rows x 1 columns]"
      ]
     },
     "execution_count": 11,
     "metadata": {},
     "output_type": "execute_result"
    }
   ],
   "source": [
    "df1"
   ]
  },
  {
   "cell_type": "code",
   "execution_count": 12,
   "metadata": {},
   "outputs": [
    {
     "data": {
      "text/plain": [
       "False"
      ]
     },
     "execution_count": 12,
     "metadata": {},
     "output_type": "execute_result"
    }
   ],
   "source": [
    "(df1['Num Cases'].values < 0).any()"
   ]
  },
  {
   "cell_type": "code",
   "execution_count": 13,
   "metadata": {},
   "outputs": [
    {
     "data": {
      "text/html": [
       "<div>\n",
       "<style scoped>\n",
       "    .dataframe tbody tr th:only-of-type {\n",
       "        vertical-align: middle;\n",
       "    }\n",
       "\n",
       "    .dataframe tbody tr th {\n",
       "        vertical-align: top;\n",
       "    }\n",
       "\n",
       "    .dataframe thead th {\n",
       "        text-align: right;\n",
       "    }\n",
       "</style>\n",
       "<table border=\"1\" class=\"dataframe\">\n",
       "  <thead>\n",
       "    <tr style=\"text-align: right;\">\n",
       "      <th></th>\n",
       "      <th>Num Cases</th>\n",
       "    </tr>\n",
       "  </thead>\n",
       "  <tbody>\n",
       "    <tr>\n",
       "      <th>count</th>\n",
       "      <td>173963.000000</td>\n",
       "    </tr>\n",
       "    <tr>\n",
       "      <th>mean</th>\n",
       "      <td>156.762881</td>\n",
       "    </tr>\n",
       "    <tr>\n",
       "      <th>std</th>\n",
       "      <td>584.433606</td>\n",
       "    </tr>\n",
       "    <tr>\n",
       "      <th>min</th>\n",
       "      <td>1.000000</td>\n",
       "    </tr>\n",
       "    <tr>\n",
       "      <th>25%</th>\n",
       "      <td>2.000000</td>\n",
       "    </tr>\n",
       "    <tr>\n",
       "      <th>50%</th>\n",
       "      <td>12.000000</td>\n",
       "    </tr>\n",
       "    <tr>\n",
       "      <th>75%</th>\n",
       "      <td>89.000000</td>\n",
       "    </tr>\n",
       "    <tr>\n",
       "      <th>max</th>\n",
       "      <td>36030.000000</td>\n",
       "    </tr>\n",
       "  </tbody>\n",
       "</table>\n",
       "</div>"
      ],
      "text/plain": [
       "           Num Cases\n",
       "count  173963.000000\n",
       "mean      156.762881\n",
       "std       584.433606\n",
       "min         1.000000\n",
       "25%         2.000000\n",
       "50%        12.000000\n",
       "75%        89.000000\n",
       "max     36030.000000"
      ]
     },
     "execution_count": 13,
     "metadata": {},
     "output_type": "execute_result"
    }
   ],
   "source": [
    "df1.describe()"
   ]
  },
  {
   "cell_type": "code",
   "execution_count": 14,
   "metadata": {},
   "outputs": [
    {
     "data": {
      "text/plain": [
       "<matplotlib.axes._subplots.AxesSubplot at 0x21e1fc95040>"
      ]
     },
     "execution_count": 14,
     "metadata": {},
     "output_type": "execute_result"
    },
    {
     "data": {
      "image/png": "[encoded data removed]",
      "text/plain": [
       "<Figure size 864x432 with 1 Axes>"
      ]
     },
     "metadata": {
      "needs_background": "light"
     },
     "output_type": "display_data"
    }
   ],
   "source": [
    "df1.plot(figsize=(12,6))"
   ]
  },
  {
   "cell_type": "code",
   "execution_count": 15,
   "metadata": {},
   "outputs": [
    {
     "data": {
      "text/plain": [
       "[<matplotlib.lines.Line2D at 0x21e20795a60>]"
      ]
     },
     "execution_count": 15,
     "metadata": {},
     "output_type": "execute_result"
    },
    {
     "data": {
      "image/png": "[encoded data removed]",
      "text/plain": [
       "<Figure size 432x288 with 1 Axes>"
      ]
     },
     "metadata": {
      "needs_background": "light"
     },
     "output_type": "display_data"
    }
   ],
   "source": [
    "import matplotlib.pyplot as plt\n",
    "plt.plot(df1)"
   ]
  },
  {
   "cell_type": "code",
   "execution_count": 16,
   "metadata": {},
   "outputs": [],
   "source": [
    "from statsmodels.tsa.stattools import adfuller\n",
    "def adfuller_test(Num_Cases):\n",
    "    result=adfuller(Num_Cases)\n",
    "    labels = ['ADF Test Statistic','p-value','#Lags Used','Number of Observations Used']\n",
    "    for value,label in zip(result,labels):\n",
    "        print(label+' : '+str(value) )\n",
    "    if result[1] <= 0.05:\n",
    "        print(\"strong evidence against the null hypothesis(Ho), reject the null hypothesis. Data has no unit root and is stationary\")\n",
    "    else:\n",
    "        print(\"weak evidence against null hypothesis, time series has a unit root, indicating it is non-stationary \")"
   ]
  },
  {
   "cell_type": "code",
   "execution_count": 17,
   "metadata": {},
   "outputs": [],
   "source": [
    "### LSTM are sensitive to the scale of the data. so we apply MinMax scaler "
   ]
  },
  {
   "cell_type": "code",
   "execution_count": 18,
   "metadata": {},
   "outputs": [],
   "source": [
    "import numpy as np"
   ]
  },
  {
   "cell_type": "code",
   "execution_count": 19,
   "metadata": {},
   "outputs": [
    {
     "data": {
      "text/html": [
       "<div>\n",
       "<style scoped>\n",
       "    .dataframe tbody tr th:only-of-type {\n",
       "        vertical-align: middle;\n",
       "    }\n",
       "\n",
       "    .dataframe tbody tr th {\n",
       "        vertical-align: top;\n",
       "    }\n",
       "\n",
       "    .dataframe thead th {\n",
       "        text-align: right;\n",
       "    }\n",
       "</style>\n",
       "<table border=\"1\" class=\"dataframe\">\n",
       "  <thead>\n",
       "    <tr style=\"text-align: right;\">\n",
       "      <th></th>\n",
       "      <th>Num Cases</th>\n",
       "    </tr>\n",
       "    <tr>\n",
       "      <th>Date Announced</th>\n",
       "      <th></th>\n",
       "    </tr>\n",
       "  </thead>\n",
       "  <tbody>\n",
       "    <tr>\n",
       "      <th>2021-05-05</th>\n",
       "      <td>443.0</td>\n",
       "    </tr>\n",
       "    <tr>\n",
       "      <th>2021-05-05</th>\n",
       "      <td>151.0</td>\n",
       "    </tr>\n",
       "    <tr>\n",
       "      <th>2021-05-05</th>\n",
       "      <td>483.0</td>\n",
       "    </tr>\n",
       "    <tr>\n",
       "      <th>2021-05-05</th>\n",
       "      <td>52.0</td>\n",
       "    </tr>\n",
       "    <tr>\n",
       "      <th>2021-05-05</th>\n",
       "      <td>326.0</td>\n",
       "    </tr>\n",
       "    <tr>\n",
       "      <th>...</th>\n",
       "      <td>...</td>\n",
       "    </tr>\n",
       "    <tr>\n",
       "      <th>2021-08-28</th>\n",
       "      <td>521.0</td>\n",
       "    </tr>\n",
       "    <tr>\n",
       "      <th>2021-08-28</th>\n",
       "      <td>550.0</td>\n",
       "    </tr>\n",
       "    <tr>\n",
       "      <th>2021-08-28</th>\n",
       "      <td>13.0</td>\n",
       "    </tr>\n",
       "    <tr>\n",
       "      <th>2021-08-28</th>\n",
       "      <td>1.0</td>\n",
       "    </tr>\n",
       "    <tr>\n",
       "      <th>2021-08-28</th>\n",
       "      <td>6.0</td>\n",
       "    </tr>\n",
       "  </tbody>\n",
       "</table>\n",
       "<p>173963 rows × 1 columns</p>\n",
       "</div>"
      ],
      "text/plain": [
       "                Num Cases\n",
       "Date Announced           \n",
       "2021-05-05          443.0\n",
       "2021-05-05          151.0\n",
       "2021-05-05          483.0\n",
       "2021-05-05           52.0\n",
       "2021-05-05          326.0\n",
       "...                   ...\n",
       "2021-08-28          521.0\n",
       "2021-08-28          550.0\n",
       "2021-08-28           13.0\n",
       "2021-08-28            1.0\n",
       "2021-08-28            6.0\n",
       "\n",
       "[173963 rows x 1 columns]"
      ]
     },
     "execution_count": 19,
     "metadata": {},
     "output_type": "execute_result"
    }
   ],
   "source": [
    "df1"
   ]
  },
  {
   "cell_type": "code",
   "execution_count": 20,
   "metadata": {},
   "outputs": [],
   "source": [
    "from sklearn.preprocessing import MinMaxScaler\n",
    "scaler=MinMaxScaler(feature_range=(0,1))\n",
    "df1=scaler.fit_transform(np.array(df1).reshape(-1,1))"
   ]
  },
  {
   "cell_type": "code",
   "execution_count": 21,
   "metadata": {},
   "outputs": [
    {
     "name": "stdout",
     "output_type": "stream",
     "text": [
      "[[0.0122679 ]\n",
      " [0.00416331]\n",
      " [0.01337811]\n",
      " ...\n",
      " [0.00033307]\n",
      " [0.        ]\n",
      " [0.00013878]]\n"
     ]
    }
   ],
   "source": [
    "print(df1)"
   ]
  },
  {
   "cell_type": "code",
   "execution_count": 22,
   "metadata": {},
   "outputs": [],
   "source": [
    "##splitting dataset into train and test split\n",
    "training_size=int(len(df1)*0.75)\n",
    "test_size=len(df1)-training_size\n",
    "train_data,test_data=df1[0:training_size,:],df1[training_size:len(df1),:1]"
   ]
  },
  {
   "cell_type": "code",
   "execution_count": 23,
   "metadata": {},
   "outputs": [
    {
     "data": {
      "text/plain": [
       "(130472, 43491)"
      ]
     },
     "execution_count": 23,
     "metadata": {},
     "output_type": "execute_result"
    }
   ],
   "source": [
    "training_size,test_size"
   ]
  },
  {
   "cell_type": "code",
   "execution_count": 24,
   "metadata": {},
   "outputs": [
    {
     "data": {
      "text/plain": [
       "array([[0.0122679 ],\n",
       "       [0.00416331],\n",
       "       [0.01337811],\n",
       "       ...,\n",
       "       [0.        ],\n",
       "       [0.01276749],\n",
       "       [0.00319187]])"
      ]
     },
     "execution_count": 24,
     "metadata": {},
     "output_type": "execute_result"
    }
   ],
   "source": [
    "train_data"
   ]
  },
  {
   "cell_type": "code",
   "execution_count": 25,
   "metadata": {},
   "outputs": [],
   "source": [
    "import numpy\n",
    "# convert an array of values into a dataset matrix\n",
    "def create_dataset(dataset, time_step=1):\n",
    "\tdataX, dataY = [], []\n",
    "\tfor i in range(len(dataset)-time_step-1):\n",
    "\t\ta = dataset[i:(i+time_step), 0]   ###i=0, 0,1,2,3-----99   100 \n",
    "\t\tdataX.append(a)\n",
    "\t\tdataY.append(dataset[i + time_step, 0])\n",
    "\treturn numpy.array(dataX), numpy.array(dataY)"
   ]
  },
  {
   "cell_type": "code",
   "execution_count": 26,
   "metadata": {},
   "outputs": [],
   "source": [
    "# reshape into X=t,t+1,t+2,t+3 and Y=t+4\n",
    "time_step = 100\n",
    "X_train, y_train = create_dataset(train_data, time_step)\n",
    "X_test, ytest = create_dataset(test_data, time_step)"
   ]
  },
  {
   "cell_type": "code",
   "execution_count": 27,
   "metadata": {},
   "outputs": [
    {
     "name": "stdout",
     "output_type": "stream",
     "text": [
      "(130371, 100)\n",
      "(130371,)\n"
     ]
    },
    {
     "data": {
      "text/plain": [
       "(None, None)"
      ]
     },
     "execution_count": 27,
     "metadata": {},
     "output_type": "execute_result"
    }
   ],
   "source": [
    "print(X_train.shape), print(y_train.shape)"
   ]
  },
  {
   "cell_type": "code",
   "execution_count": 28,
   "metadata": {},
   "outputs": [
    {
     "name": "stdout",
     "output_type": "stream",
     "text": [
      "(43390, 100)\n",
      "(43390,)\n"
     ]
    },
    {
     "data": {
      "text/plain": [
       "(None, None)"
      ]
     },
     "execution_count": 28,
     "metadata": {},
     "output_type": "execute_result"
    }
   ],
   "source": [
    "print(X_test.shape), print(ytest.shape)"
   ]
  },
  {
   "cell_type": "code",
   "execution_count": 29,
   "metadata": {},
   "outputs": [],
   "source": [
    "# reshape input to be [samples, time steps, features] which is required for LSTM\n",
    "X_train =X_train.reshape(X_train.shape[0],X_train.shape[1] , 1)\n",
    "X_test = X_test.reshape(X_test.shape[0],X_test.shape[1] , 1)"
   ]
  },
  {
   "cell_type": "code",
   "execution_count": 30,
   "metadata": {},
   "outputs": [],
   "source": [
    "### Create the Stacked LSTM model\n",
    "from tensorflow.keras.models import Sequential\n",
    "from tensorflow.keras.layers import Dense\n",
    "from tensorflow.keras.layers import LSTM"
   ]
  },
  {
   "cell_type": "code",
   "execution_count": 31,
   "metadata": {},
   "outputs": [],
   "source": [
    "model=Sequential()\n",
    "model.add(LSTM(50,return_sequences=True,input_shape=(100,1)))\n",
    "model.add(LSTM(50,return_sequences=True))\n",
    "model.add(LSTM(50))\n",
    "model.add(Dense(1))\n",
    "model.compile(loss='mean_squared_error',optimizer='sgd',metrics=['acc'])\n"
   ]
  },
  {
   "cell_type": "code",
   "execution_count": 32,
   "metadata": {},
   "outputs": [
    {
     "name": "stdout",
     "output_type": "stream",
     "text": [
      "Model: \"sequential\"\n",
      "_________________________________________________________________\n",
      " Layer (type)                Output Shape              Param #   \n",
      "=================================================================\n",
      " lstm (LSTM)                 (None, 100, 50)           10400     \n",
      "                                                                 \n",
      " lstm_1 (LSTM)               (None, 100, 50)           20200     \n",
      "                                                                 \n",
      " lstm_2 (LSTM)               (None, 50)                20200     \n",
      "                                                                 \n",
      " dense (Dense)               (None, 1)                 51        \n",
      "                                                                 \n",
      "=================================================================\n",
      "Total params: 50,851\n",
      "Trainable params: 50,851\n",
      "Non-trainable params: 0\n",
      "_________________________________________________________________\n"
     ]
    }
   ],
   "source": [
    "model.summary()"
   ]
  },
  {
   "cell_type": "code",
   "execution_count": 33,
   "metadata": {},
   "outputs": [
    {
     "name": "stdout",
     "output_type": "stream",
     "text": [
      "Epoch 1/100\n",
      "2038/2038 [==============================] - 1184s 563ms/step - loss: 3.3001e-04 - acc: 0.1785 - val_loss: 6.4139e-05 - val_acc: 0.2861\n",
      "Epoch 2/100\n",
      "2038/2038 [==============================] - 1202s 590ms/step - loss: 3.2940e-04 - acc: 0.1785 - val_loss: 6.9652e-05 - val_acc: 0.2861\n",
      "Epoch 3/100\n",
      "2038/2038 [==============================] - 1153s 566ms/step - loss: 3.2891e-04 - acc: 0.1785 - val_loss: 6.9307e-05 - val_acc: 0.2861\n",
      "Epoch 4/100\n",
      "2038/2038 [==============================] - 926s 454ms/step - loss: 3.2839e-04 - acc: 0.1785 - val_loss: 7.3193e-05 - val_acc: 0.2861\n",
      "Epoch 5/100\n",
      "2038/2038 [==============================] - 671s 329ms/step - loss: 3.2790e-04 - acc: 0.1785 - val_loss: 7.3755e-05 - val_acc: 0.2861\n",
      "Epoch 6/100\n",
      "2038/2038 [==============================] - 677s 332ms/step - loss: 3.2743e-04 - acc: 0.1785 - val_loss: 6.8657e-05 - val_acc: 0.2861\n",
      "Epoch 7/100\n",
      "2038/2038 [==============================] - 664s 326ms/step - loss: 3.2691e-04 - acc: 0.1785 - val_loss: 6.6598e-05 - val_acc: 0.2861\n",
      "Epoch 8/100\n",
      "2038/2038 [==============================] - 631s 309ms/step - loss: 3.2638e-04 - acc: 0.1785 - val_loss: 6.5895e-05 - val_acc: 0.2861\n",
      "Epoch 9/100\n",
      "2038/2038 [==============================] - 627s 308ms/step - loss: 3.2592e-04 - acc: 0.1785 - val_loss: 6.2724e-05 - val_acc: 0.2861\n",
      "Epoch 10/100\n",
      "2038/2038 [==============================] - 622s 305ms/step - loss: 3.2540e-04 - acc: 0.1785 - val_loss: 6.7536e-05 - val_acc: 0.2861\n",
      "Epoch 11/100\n",
      "2038/2038 [==============================] - 733s 360ms/step - loss: 3.2499e-04 - acc: 0.1785 - val_loss: 6.6550e-05 - val_acc: 0.2861\n",
      "Epoch 12/100\n",
      "2038/2038 [==============================] - 861s 422ms/step - loss: 3.2451e-04 - acc: 0.1785 - val_loss: 6.3643e-05 - val_acc: 0.2861\n",
      "Epoch 13/100\n",
      "2038/2038 [==============================] - 814s 399ms/step - loss: 3.2403e-04 - acc: 0.1785 - val_loss: 6.9504e-05 - val_acc: 0.2861\n",
      "Epoch 14/100\n",
      "2038/2038 [==============================] - 815s 400ms/step - loss: 3.2357e-04 - acc: 0.1785 - val_loss: 6.1879e-05 - val_acc: 0.2861\n",
      "Epoch 15/100\n",
      "2038/2038 [==============================] - 924s 454ms/step - loss: 3.2315e-04 - acc: 0.1785 - val_loss: 6.0793e-05 - val_acc: 0.2861\n",
      "Epoch 16/100\n",
      "2038/2038 [==============================] - 754s 370ms/step - loss: 3.2273e-04 - acc: 0.1785 - val_loss: 6.3459e-05 - val_acc: 0.2861\n",
      "Epoch 17/100\n",
      "2038/2038 [==============================] - 624s 306ms/step - loss: 3.2231e-04 - acc: 0.1785 - val_loss: 6.4945e-05 - val_acc: 0.2861\n",
      "Epoch 18/100\n",
      "2038/2038 [==============================] - 622s 305ms/step - loss: 3.2183e-04 - acc: 0.1785 - val_loss: 6.4371e-05 - val_acc: 0.2861\n",
      "Epoch 19/100\n",
      "2038/2038 [==============================] - 652s 320ms/step - loss: 3.2142e-04 - acc: 0.1785 - val_loss: 6.6786e-05 - val_acc: 0.2861\n",
      "Epoch 20/100\n",
      "2038/2038 [==============================] - 667s 327ms/step - loss: 3.2103e-04 - acc: 0.1785 - val_loss: 6.0245e-05 - val_acc: 0.2861\n",
      "Epoch 21/100\n",
      "2038/2038 [==============================] - 634s 311ms/step - loss: 3.2062e-04 - acc: 0.1785 - val_loss: 6.0613e-05 - val_acc: 0.2861\n",
      "Epoch 22/100\n",
      "2038/2038 [==============================] - 641s 314ms/step - loss: 3.2022e-04 - acc: 0.1785 - val_loss: 6.6464e-05 - val_acc: 0.2861\n",
      "Epoch 23/100\n",
      "2038/2038 [==============================] - 652s 320ms/step - loss: 3.1982e-04 - acc: 0.1785 - val_loss: 6.3945e-05 - val_acc: 0.2861\n",
      "Epoch 24/100\n",
      "2038/2038 [==============================] - 638s 313ms/step - loss: 3.1944e-04 - acc: 0.1785 - val_loss: 6.0433e-05 - val_acc: 0.2861\n",
      "Epoch 25/100\n",
      "2038/2038 [==============================] - 681s 334ms/step - loss: 3.1902e-04 - acc: 0.1785 - val_loss: 6.2352e-05 - val_acc: 0.2861\n",
      "Epoch 26/100\n",
      "2038/2038 [==============================] - 806s 396ms/step - loss: 3.1865e-04 - acc: 0.1785 - val_loss: 6.1933e-05 - val_acc: 0.2861\n",
      "Epoch 27/100\n",
      "2038/2038 [==============================] - 751s 368ms/step - loss: 3.1826e-04 - acc: 0.1785 - val_loss: 6.1835e-05 - val_acc: 0.2861\n",
      "Epoch 28/100\n",
      "2038/2038 [==============================] - 698s 342ms/step - loss: 3.1783e-04 - acc: 0.1785 - val_loss: 5.9938e-05 - val_acc: 0.2861\n",
      "Epoch 29/100\n",
      "2038/2038 [==============================] - 670s 329ms/step - loss: 3.1749e-04 - acc: 0.1785 - val_loss: 6.1823e-05 - val_acc: 0.2861\n",
      "Epoch 30/100\n",
      "2038/2038 [==============================] - 667s 327ms/step - loss: 3.1710e-04 - acc: 0.1785 - val_loss: 5.9104e-05 - val_acc: 0.2861\n",
      "Epoch 31/100\n",
      "2038/2038 [==============================] - 675s 331ms/step - loss: 3.1675e-04 - acc: 0.1785 - val_loss: 6.5623e-05 - val_acc: 0.2861\n",
      "Epoch 32/100\n",
      "2038/2038 [==============================] - 663s 325ms/step - loss: 3.1639e-04 - acc: 0.1785 - val_loss: 5.9340e-05 - val_acc: 0.2861\n",
      "Epoch 33/100\n",
      "2038/2038 [==============================] - 885s 434ms/step - loss: 3.1602e-04 - acc: 0.1785 - val_loss: 6.5685e-05 - val_acc: 0.2861\n",
      "Epoch 34/100\n",
      "2038/2038 [==============================] - 986s 484ms/step - loss: 3.1567e-04 - acc: 0.1785 - val_loss: 6.5484e-05 - val_acc: 0.2861\n",
      "Epoch 35/100\n",
      "2038/2038 [==============================] - 955s 469ms/step - loss: 3.1534e-04 - acc: 0.1785 - val_loss: 5.8153e-05 - val_acc: 0.2861\n",
      "Epoch 36/100\n",
      "2038/2038 [==============================] - 665s 326ms/step - loss: 3.1498e-04 - acc: 0.1785 - val_loss: 5.8976e-05 - val_acc: 0.2861\n",
      "Epoch 37/100\n",
      "2038/2038 [==============================] - 689s 338ms/step - loss: 3.1468e-04 - acc: 0.1785 - val_loss: 8.5511e-05 - val_acc: 0.2861\n",
      "Epoch 38/100\n",
      "2038/2038 [==============================] - 632s 310ms/step - loss: 3.1431e-04 - acc: 0.1785 - val_loss: 6.0599e-05 - val_acc: 0.2861\n",
      "Epoch 39/100\n",
      "2038/2038 [==============================] - 663s 325ms/step - loss: 3.1399e-04 - acc: 0.1785 - val_loss: 5.5897e-05 - val_acc: 0.2861\n",
      "Epoch 40/100\n",
      "2038/2038 [==============================] - 637s 313ms/step - loss: 3.1366e-04 - acc: 0.1785 - val_loss: 5.5732e-05 - val_acc: 0.2861\n",
      "Epoch 41/100\n",
      "2038/2038 [==============================] - 625s 307ms/step - loss: 3.1333e-04 - acc: 0.1785 - val_loss: 5.8950e-05 - val_acc: 0.2861\n",
      "Epoch 42/100\n",
      "2038/2038 [==============================] - 638s 313ms/step - loss: 3.1301e-04 - acc: 0.1785 - val_loss: 5.7927e-05 - val_acc: 0.2861\n",
      "Epoch 43/100\n",
      "2038/2038 [==============================] - 632s 310ms/step - loss: 3.1266e-04 - acc: 0.1785 - val_loss: 5.5856e-05 - val_acc: 0.2861\n",
      "Epoch 44/100\n",
      "2038/2038 [==============================] - 650s 319ms/step - loss: 3.1242e-04 - acc: 0.1785 - val_loss: 6.1106e-05 - val_acc: 0.2861\n",
      "Epoch 45/100\n",
      "2038/2038 [==============================] - 642s 315ms/step - loss: 3.1209e-04 - acc: 0.1785 - val_loss: 6.9979e-05 - val_acc: 0.2861\n",
      "Epoch 46/100\n",
      "2038/2038 [==============================] - 650s 319ms/step - loss: 3.1179e-04 - acc: 0.1785 - val_loss: 6.2532e-05 - val_acc: 0.2861\n",
      "Epoch 47/100\n",
      "2038/2038 [==============================] - 657s 323ms/step - loss: 3.1150e-04 - acc: 0.1785 - val_loss: 5.7366e-05 - val_acc: 0.2861\n",
      "Epoch 48/100\n",
      "2038/2038 [==============================] - 652s 320ms/step - loss: 3.1119e-04 - acc: 0.1785 - val_loss: 1.0884e-04 - val_acc: 0.2861\n",
      "Epoch 49/100\n",
      "2038/2038 [==============================] - 650s 319ms/step - loss: 3.1094e-04 - acc: 0.1785 - val_loss: 6.2694e-05 - val_acc: 0.2861\n",
      "Epoch 50/100\n",
      "2038/2038 [==============================] - 645s 316ms/step - loss: 3.1060e-04 - acc: 0.1785 - val_loss: 5.9305e-05 - val_acc: 0.2861\n",
      "Epoch 51/100\n",
      "2038/2038 [==============================] - 621s 305ms/step - loss: 3.1032e-04 - acc: 0.1785 - val_loss: 6.1164e-05 - val_acc: 0.2861\n",
      "Epoch 52/100\n",
      "2038/2038 [==============================] - 644s 316ms/step - loss: 3.1010e-04 - acc: 0.1785 - val_loss: 5.4513e-05 - val_acc: 0.2861\n",
      "Epoch 53/100\n",
      "2038/2038 [==============================] - 718s 352ms/step - loss: 3.0979e-04 - acc: 0.1785 - val_loss: 5.7101e-05 - val_acc: 0.2861\n",
      "Epoch 54/100\n",
      "2038/2038 [==============================] - 633s 311ms/step - loss: 3.0953e-04 - acc: 0.1785 - val_loss: 5.4118e-05 - val_acc: 0.2861\n",
      "Epoch 55/100\n",
      "2038/2038 [==============================] - 623s 306ms/step - loss: 3.0928e-04 - acc: 0.1785 - val_loss: 5.4991e-05 - val_acc: 0.2861\n",
      "Epoch 56/100\n",
      "2038/2038 [==============================] - 623s 306ms/step - loss: 3.0902e-04 - acc: 0.1785 - val_loss: 5.7658e-05 - val_acc: 0.2861\n",
      "Epoch 57/100\n",
      "2038/2038 [==============================] - 622s 305ms/step - loss: 3.0879e-04 - acc: 0.1785 - val_loss: 6.0827e-05 - val_acc: 0.2861\n",
      "Epoch 58/100\n",
      "2038/2038 [==============================] - 629s 309ms/step - loss: 3.0851e-04 - acc: 0.1785 - val_loss: 5.6946e-05 - val_acc: 0.2861\n",
      "Epoch 59/100\n",
      "2038/2038 [==============================] - 763s 374ms/step - loss: 3.0829e-04 - acc: 0.1785 - val_loss: 5.3089e-05 - val_acc: 0.2861\n",
      "Epoch 60/100\n",
      "2038/2038 [==============================] - 652s 320ms/step - loss: 3.0804e-04 - acc: 0.1785 - val_loss: 5.7524e-05 - val_acc: 0.2861\n",
      "Epoch 61/100\n",
      "2038/2038 [==============================] - 626s 307ms/step - loss: 3.0780e-04 - acc: 0.1785 - val_loss: 5.8121e-05 - val_acc: 0.2861\n",
      "Epoch 62/100\n",
      "2038/2038 [==============================] - 639s 313ms/step - loss: 3.0761e-04 - acc: 0.1785 - val_loss: 5.8913e-05 - val_acc: 0.2861\n",
      "Epoch 63/100\n",
      "2038/2038 [==============================] - 641s 314ms/step - loss: 3.0732e-04 - acc: 0.1785 - val_loss: 5.4388e-05 - val_acc: 0.2861\n",
      "Epoch 64/100\n",
      "2038/2038 [==============================] - 625s 307ms/step - loss: 3.0718e-04 - acc: 0.1785 - val_loss: 5.6554e-05 - val_acc: 0.2861\n",
      "Epoch 65/100\n",
      "2038/2038 [==============================] - 650s 319ms/step - loss: 3.0693e-04 - acc: 0.1785 - val_loss: 5.6537e-05 - val_acc: 0.2861\n",
      "Epoch 66/100\n",
      "2038/2038 [==============================] - 623s 306ms/step - loss: 3.0671e-04 - acc: 0.1785 - val_loss: 5.4990e-05 - val_acc: 0.2861\n",
      "Epoch 67/100\n",
      "2038/2038 [==============================] - 624s 306ms/step - loss: 3.0645e-04 - acc: 0.1785 - val_loss: 5.4993e-05 - val_acc: 0.2861\n",
      "Epoch 68/100\n",
      "2038/2038 [==============================] - 640s 314ms/step - loss: 3.0630e-04 - acc: 0.1785 - val_loss: 5.2099e-05 - val_acc: 0.2861\n",
      "Epoch 69/100\n",
      "2038/2038 [==============================] - 648s 318ms/step - loss: 3.0608e-04 - acc: 0.1785 - val_loss: 5.6034e-05 - val_acc: 0.2861\n",
      "Epoch 70/100\n",
      "2038/2038 [==============================] - 630s 309ms/step - loss: 3.0589e-04 - acc: 0.1785 - val_loss: 7.5054e-05 - val_acc: 0.2861\n",
      "Epoch 71/100\n",
      "2038/2038 [==============================] - 658s 323ms/step - loss: 3.0572e-04 - acc: 0.1785 - val_loss: 5.2757e-05 - val_acc: 0.2861\n",
      "Epoch 72/100\n",
      "2038/2038 [==============================] - 652s 320ms/step - loss: 3.0555e-04 - acc: 0.1785 - val_loss: 5.5099e-05 - val_acc: 0.2861\n",
      "Epoch 73/100\n",
      "2038/2038 [==============================] - 647s 317ms/step - loss: 3.0529e-04 - acc: 0.1785 - val_loss: 5.2930e-05 - val_acc: 0.2861\n",
      "Epoch 74/100\n",
      "2038/2038 [==============================] - 624s 306ms/step - loss: 3.0518e-04 - acc: 0.1785 - val_loss: 5.3786e-05 - val_acc: 0.2861\n",
      "Epoch 75/100\n",
      "2038/2038 [==============================] - 643s 316ms/step - loss: 3.0496e-04 - acc: 0.1785 - val_loss: 5.6261e-05 - val_acc: 0.2861\n",
      "Epoch 76/100\n",
      "2038/2038 [==============================] - 636s 312ms/step - loss: 3.0479e-04 - acc: 0.1785 - val_loss: 5.3268e-05 - val_acc: 0.2861\n",
      "Epoch 77/100\n",
      "2038/2038 [==============================] - 636s 312ms/step - loss: 3.0464e-04 - acc: 0.1785 - val_loss: 5.3058e-05 - val_acc: 0.2861\n",
      "Epoch 78/100\n",
      "2038/2038 [==============================] - 644s 316ms/step - loss: 3.0445e-04 - acc: 0.1785 - val_loss: 5.5890e-05 - val_acc: 0.2861\n",
      "Epoch 79/100\n",
      "2038/2038 [==============================] - 629s 309ms/step - loss: 3.0425e-04 - acc: 0.1785 - val_loss: 5.3837e-05 - val_acc: 0.2861\n",
      "Epoch 80/100\n",
      "2038/2038 [==============================] - 627s 308ms/step - loss: 3.0417e-04 - acc: 0.1785 - val_loss: 5.3741e-05 - val_acc: 0.2861\n",
      "Epoch 81/100\n",
      "2038/2038 [==============================] - 626s 307ms/step - loss: 3.0398e-04 - acc: 0.1785 - val_loss: 5.0251e-05 - val_acc: 0.2861\n",
      "Epoch 82/100\n",
      "2038/2038 [==============================] - 644s 316ms/step - loss: 3.0387e-04 - acc: 0.1785 - val_loss: 5.0451e-05 - val_acc: 0.2861\n",
      "Epoch 83/100\n",
      "2038/2038 [==============================] - 627s 307ms/step - loss: 3.0370e-04 - acc: 0.1785 - val_loss: 8.0076e-05 - val_acc: 0.2861\n",
      "Epoch 84/100\n",
      "2038/2038 [==============================] - 627s 308ms/step - loss: 3.0356e-04 - acc: 0.1785 - val_loss: 5.6431e-05 - val_acc: 0.2861\n",
      "Epoch 85/100\n",
      "2038/2038 [==============================] - 633s 311ms/step - loss: 3.0338e-04 - acc: 0.1785 - val_loss: 5.4003e-05 - val_acc: 0.2861\n",
      "Epoch 86/100\n",
      "2038/2038 [==============================] - 652s 320ms/step - loss: 3.0324e-04 - acc: 0.1785 - val_loss: 5.0000e-05 - val_acc: 0.2861\n",
      "Epoch 87/100\n",
      "2038/2038 [==============================] - 633s 310ms/step - loss: 3.0311e-04 - acc: 0.1785 - val_loss: 5.4313e-05 - val_acc: 0.2861\n",
      "Epoch 88/100\n",
      "2038/2038 [==============================] - 650s 319ms/step - loss: 3.0300e-04 - acc: 0.1785 - val_loss: 4.9664e-05 - val_acc: 0.2861\n",
      "Epoch 89/100\n",
      "2038/2038 [==============================] - 627s 308ms/step - loss: 3.0285e-04 - acc: 0.1785 - val_loss: 5.3022e-05 - val_acc: 0.2861\n",
      "Epoch 90/100\n",
      "2038/2038 [==============================] - 650s 319ms/step - loss: 3.0273e-04 - acc: 0.1785 - val_loss: 5.4288e-05 - val_acc: 0.2861\n",
      "Epoch 91/100\n",
      "2038/2038 [==============================] - 656s 322ms/step - loss: 3.0262e-04 - acc: 0.1785 - val_loss: 7.8501e-05 - val_acc: 0.2861\n",
      "Epoch 92/100\n",
      "2038/2038 [==============================] - 630s 309ms/step - loss: 3.0249e-04 - acc: 0.1785 - val_loss: 4.9187e-05 - val_acc: 0.2861\n",
      "Epoch 93/100\n",
      "2038/2038 [==============================] - 656s 322ms/step - loss: 3.0235e-04 - acc: 0.1785 - val_loss: 5.5065e-05 - val_acc: 0.2861\n",
      "Epoch 94/100\n",
      "2038/2038 [==============================] - 637s 312ms/step - loss: 3.0227e-04 - acc: 0.1785 - val_loss: 5.0714e-05 - val_acc: 0.2861\n",
      "Epoch 95/100\n",
      "2038/2038 [==============================] - 632s 310ms/step - loss: 3.0209e-04 - acc: 0.1785 - val_loss: 4.9299e-05 - val_acc: 0.2861\n",
      "Epoch 96/100\n",
      "2038/2038 [==============================] - 640s 314ms/step - loss: 3.0206e-04 - acc: 0.1785 - val_loss: 4.9215e-05 - val_acc: 0.2861\n",
      "Epoch 97/100\n",
      "2038/2038 [==============================] - 641s 315ms/step - loss: 3.0192e-04 - acc: 0.1785 - val_loss: 4.9601e-05 - val_acc: 0.2861\n",
      "Epoch 98/100\n",
      "2038/2038 [==============================] - 622s 305ms/step - loss: 3.0181e-04 - acc: 0.1785 - val_loss: 5.0250e-05 - val_acc: 0.2861\n",
      "Epoch 99/100\n",
      "2038/2038 [==============================] - 621s 305ms/step - loss: 3.0174e-04 - acc: 0.1785 - val_loss: 6.6733e-04 - val_acc: 0.2861\n",
      "Epoch 100/100\n",
      "2038/2038 [==============================] - 637s 313ms/step - loss: 3.0284e-04 - acc: 0.1785 - val_loss: 5.1189e-05 - val_acc: 0.2861\n"
     ]
    },
    {
     "data": {
      "text/plain": [
       "<keras.callbacks.History at 0x21e3a787400>"
      ]
     },
     "execution_count": 33,
     "metadata": {},
     "output_type": "execute_result"
    }
   ],
   "source": [
    "model.fit(X_train,y_train,validation_data=(X_test,ytest),epochs=100,batch_size=64,verbose=1)"
   ]
  },
  {
   "cell_type": "code",
   "execution_count": 34,
   "metadata": {},
   "outputs": [
    {
     "data": {
      "text/plain": [
       "[<matplotlib.lines.Line2D at 0x21e4236d670>]"
      ]
     },
     "execution_count": 34,
     "metadata": {},
     "output_type": "execute_result"
    },
    {
     "data": {
      "image/png": "[encoded data removed]",
      "text/plain": [
       "<Figure size 432x288 with 1 Axes>"
      ]
     },
     "metadata": {
      "needs_background": "light"
     },
     "output_type": "display_data"
    }
   ],
   "source": [
    "loss_per_epoch = model.history.history['loss']\n",
    "plt.plot(range(len(loss_per_epoch)),loss_per_epoch)"
   ]
  },
  {
   "cell_type": "code",
   "execution_count": 35,
   "metadata": {},
   "outputs": [
    {
     "data": {
      "text/plain": [
       "[<matplotlib.lines.Line2D at 0x21e423bdcd0>]"
      ]
     },
     "execution_count": 35,
     "metadata": {},
     "output_type": "execute_result"
    },
    {
     "data": {
      "image/png": "[encoded data removed]",
      "text/plain": [
       "<Figure size 432x288 with 1 Axes>"
      ]
     },
     "metadata": {
      "needs_background": "light"
     },
     "output_type": "display_data"
    }
   ],
   "source": [
    "acc_per_epoch = model.history.history['acc']\n",
    "plt.plot(range(len(acc_per_epoch)),acc_per_epoch)"
   ]
  },
  {
   "cell_type": "code",
   "execution_count": 36,
   "metadata": {},
   "outputs": [],
   "source": [
    "import tensorflow as tf"
   ]
  },
  {
   "cell_type": "code",
   "execution_count": 37,
   "metadata": {},
   "outputs": [
    {
     "data": {
      "text/plain": [
       "'2.7.0'"
      ]
     },
     "execution_count": 37,
     "metadata": {},
     "output_type": "execute_result"
    }
   ],
   "source": [
    "tf.__version__"
   ]
  },
  {
   "cell_type": "code",
   "execution_count": 38,
   "metadata": {},
   "outputs": [],
   "source": [
    "### Lets Do the prediction and check performance metrics\n",
    "train_predict=model.predict(X_train)\n",
    "test_predict=model.predict(X_test)"
   ]
  },
  {
   "cell_type": "code",
   "execution_count": 39,
   "metadata": {},
   "outputs": [],
   "source": [
    "##Transformback to original form\n",
    "train_predict=scaler.inverse_transform(train_predict)\n",
    "test_predict=scaler.inverse_transform(test_predict)"
   ]
  },
  {
   "cell_type": "code",
   "execution_count": 67,
   "metadata": {},
   "outputs": [
    {
     "data": {
      "text/plain": [
       "231.94140871763238"
      ]
     },
     "execution_count": 67,
     "metadata": {},
     "output_type": "execute_result"
    }
   ],
   "source": [
    "### Calculate RMSE performance metrics\n",
    "import math\n",
    "from sklearn.metrics import mean_squared_error,mean_absolute_error\n",
    "math.sqrt(mean_squared_error(y_train,train_predict))"
   ]
  },
  {
   "cell_type": "code",
   "execution_count": 72,
   "metadata": {},
   "outputs": [
    {
     "data": {
      "text/plain": [
       "23700.72033689635"
      ]
     },
     "execution_count": 72,
     "metadata": {},
     "output_type": "execute_result"
    }
   ],
   "source": [
    "mean_squared_error(ytest,test_predict)"
   ]
  },
  {
   "cell_type": "code",
   "execution_count": 75,
   "metadata": {},
   "outputs": [
    {
     "data": {
      "text/plain": [
       "53796.81707791979"
      ]
     },
     "execution_count": 75,
     "metadata": {},
     "output_type": "execute_result"
    }
   ],
   "source": [
    "mean_squared_error(y_train,train_predict)"
   ]
  },
  {
   "cell_type": "code",
   "execution_count": 73,
   "metadata": {},
   "outputs": [
    {
     "data": {
      "text/plain": [
       "184.34220188118118"
      ]
     },
     "execution_count": 73,
     "metadata": {},
     "output_type": "execute_result"
    }
   ],
   "source": [
    "mean_absolute_error(y_train,train_predict)"
   ]
  },
  {
   "cell_type": "code",
   "execution_count": 76,
   "metadata": {},
   "outputs": [
    {
     "data": {
      "text/plain": [
       "128.82583239326445"
      ]
     },
     "execution_count": 76,
     "metadata": {},
     "output_type": "execute_result"
    }
   ],
   "source": [
    "mean_absolute_error(ytest,test_predict)"
   ]
  },
  {
   "cell_type": "code",
   "execution_count": 68,
   "metadata": {},
   "outputs": [
    {
     "data": {
      "text/plain": [
       "153.95038271110712"
      ]
     },
     "execution_count": 68,
     "metadata": {},
     "output_type": "execute_result"
    }
   ],
   "source": [
    "### Test Data RMSE\n",
    "math.sqrt(mean_squared_error(ytest,test_predict))"
   ]
  },
  {
   "cell_type": "code",
   "execution_count": 70,
   "metadata": {},
   "outputs": [
    {
     "data": {
      "text/plain": [
       "11.350146800516038"
      ]
     },
     "execution_count": 70,
     "metadata": {},
     "output_type": "execute_result"
    }
   ],
   "source": [
    "math.sqrt(mean_absolute_error(ytest,test_predict))"
   ]
  },
  {
   "cell_type": "code",
   "execution_count": 71,
   "metadata": {},
   "outputs": [
    {
     "data": {
      "text/plain": [
       "13.577267835657555"
      ]
     },
     "execution_count": 71,
     "metadata": {},
     "output_type": "execute_result"
    }
   ],
   "source": [
    "math.sqrt(mean_absolute_error(y_train,train_predict))"
   ]
  },
  {
   "cell_type": "code",
   "execution_count": 42,
   "metadata": {},
   "outputs": [
    {
     "data": {
      "image/png": "[encoded data removed]",
      "text/plain": [
       "<Figure size 432x288 with 1 Axes>"
      ]
     },
     "metadata": {
      "needs_background": "light"
     },
     "output_type": "display_data"
    }
   ],
   "source": [
    "### Plotting \n",
    "# shift train predictions for plotting\n",
    "look_back=100\n",
    "trainPredictPlot = numpy.empty_like(df1)\n",
    "trainPredictPlot[:, :] = np.nan\n",
    "trainPredictPlot[look_back:len(train_predict)+look_back, :] = train_predict\n",
    "# shift test predictions for plotting\n",
    "testPredictPlot = numpy.empty_like(df1)\n",
    "testPredictPlot[:, :] = numpy.nan\n",
    "testPredictPlot[len(train_predict)+(look_back*2)+1:len(df1)-1, :] = test_predict\n",
    "# plot baseline and predictions\n",
    "plt.plot(scaler.inverse_transform(df1))\n",
    "plt.plot(trainPredictPlot)\n",
    "plt.plot(testPredictPlot)\n",
    "plt.show()"
   ]
  },
  {
   "cell_type": "code",
   "execution_count": 43,
   "metadata": {},
   "outputs": [
    {
     "data": {
      "text/plain": [
       "43491"
      ]
     },
     "execution_count": 43,
     "metadata": {},
     "output_type": "execute_result"
    }
   ],
   "source": [
    "len(test_data)"
   ]
  },
  {
   "cell_type": "code",
   "execution_count": 44,
   "metadata": {},
   "outputs": [
    {
     "data": {
      "text/plain": [
       "(1, 100)"
      ]
     },
     "execution_count": 44,
     "metadata": {},
     "output_type": "execute_result"
    }
   ],
   "source": [
    "x_input=test_data[43391:].reshape(1,-1)\n",
    "x_input.shape\n"
   ]
  },
  {
   "cell_type": "code",
   "execution_count": null,
   "metadata": {},
   "outputs": [],
   "source": []
  },
  {
   "cell_type": "code",
   "execution_count": null,
   "metadata": {},
   "outputs": [],
   "source": []
  },
  {
   "cell_type": "code",
   "execution_count": 45,
   "metadata": {},
   "outputs": [],
   "source": [
    "temp_input=list(x_input)\n",
    "temp_input=temp_input[0].tolist()"
   ]
  },
  {
   "cell_type": "code",
   "execution_count": 46,
   "metadata": {},
   "outputs": [
    {
     "data": {
      "text/plain": [
       "[0.0,\n",
       " 0.0,\n",
       " 0.0,\n",
       " 0.0,\n",
       " 0.0,\n",
       " 0.0,\n",
       " 0.0,\n",
       " 0.0,\n",
       " 0.0,\n",
       " 0.0,\n",
       " 0.0,\n",
       " 0.0,\n",
       " 0.0,\n",
       " 0.0,\n",
       " 0.0,\n",
       " 0.0,\n",
       " 0.0,\n",
       " 0.0,\n",
       " 0.0,\n",
       " 0.0,\n",
       " 0.0,\n",
       " 0.0,\n",
       " 0.0,\n",
       " 0.0,\n",
       " 0.0,\n",
       " 0.0,\n",
       " 0.0,\n",
       " 0.0,\n",
       " 0.0,\n",
       " 0.0,\n",
       " 0.0,\n",
       " 0.0,\n",
       " 0.0,\n",
       " 0.0,\n",
       " 0.0,\n",
       " 0.0,\n",
       " 0.0,\n",
       " 0.0,\n",
       " 0.0,\n",
       " 0.0,\n",
       " 0.0,\n",
       " 0.0,\n",
       " 0.0,\n",
       " 0.0,\n",
       " 0.0,\n",
       " 0.0,\n",
       " 0.0,\n",
       " 0.0,\n",
       " 0.0,\n",
       " 0.0,\n",
       " 0.0,\n",
       " 0.0,\n",
       " 0.0,\n",
       " 0.0,\n",
       " 0.0,\n",
       " 0.0,\n",
       " 0.0,\n",
       " 0.0,\n",
       " 0.0,\n",
       " 0.0,\n",
       " 0.0,\n",
       " 0.0,\n",
       " 0.0,\n",
       " 0.0,\n",
       " 0.0,\n",
       " 0.0,\n",
       " 0.0,\n",
       " 0.0,\n",
       " 0.0,\n",
       " 0.06547503400038858,\n",
       " 0.043576008215604096,\n",
       " 0.07632740292542119,\n",
       " 0.06702933747814262,\n",
       " 0.03408365483360626,\n",
       " 0.022315357073468593,\n",
       " 0.05390102417497016,\n",
       " 0.034499986122290376,\n",
       " 0.046601348913375334,\n",
       " 0.013183824141663658,\n",
       " 0.03247384051736101,\n",
       " 0.0205390102417497,\n",
       " 0.10563712564878293,\n",
       " 0.05045935218851481,\n",
       " 0.10980043853562409,\n",
       " 0.06994365649893142,\n",
       " 0.06902772766382637,\n",
       " 0.06200560659468761,\n",
       " 0.08876183074745345,\n",
       " 0.08329401315606873,\n",
       " 0.09134308473729495,\n",
       " 0.06383746426489773,\n",
       " 0.03394487773737822,\n",
       " 0.01798551167115379,\n",
       " 0.04557439840128785,\n",
       " 0.03155791168225596,\n",
       " 0.014432818007716005,\n",
       " 0.01523772516583863,\n",
       " 0.00033306503094729243,\n",
       " 0.0,\n",
       " 0.0001387770962280385]"
      ]
     },
     "execution_count": 46,
     "metadata": {},
     "output_type": "execute_result"
    }
   ],
   "source": [
    "temp_input"
   ]
  },
  {
   "cell_type": "code",
   "execution_count": 47,
   "metadata": {},
   "outputs": [
    {
     "name": "stdout",
     "output_type": "stream",
     "text": [
      "[0.02558412]\n",
      "101\n",
      "1 day input [0.         0.         0.         0.         0.         0.\n",
      " 0.         0.         0.         0.         0.         0.\n",
      " 0.         0.         0.         0.         0.         0.\n",
      " 0.         0.         0.         0.         0.         0.\n",
      " 0.         0.         0.         0.         0.         0.\n",
      " 0.         0.         0.         0.         0.         0.\n",
      " 0.         0.         0.         0.         0.         0.\n",
      " 0.         0.         0.         0.         0.         0.\n",
      " 0.         0.         0.         0.         0.         0.\n",
      " 0.         0.         0.         0.         0.         0.\n",
      " 0.         0.         0.         0.         0.         0.\n",
      " 0.         0.         0.06547503 0.04357601 0.0763274  0.06702934\n",
      " 0.03408365 0.02231536 0.05390102 0.03449999 0.04660135 0.01318382\n",
      " 0.03247384 0.02053901 0.10563713 0.05045935 0.10980044 0.06994366\n",
      " 0.06902773 0.06200561 0.08876183 0.08329401 0.09134308 0.06383746\n",
      " 0.03394488 0.01798551 0.0455744  0.03155791 0.01443282 0.01523773\n",
      " 0.00033307 0.         0.00013878 0.02558412]\n",
      "1 day output [[0.0245837]]\n",
      "2 day input [0.         0.         0.         0.         0.         0.\n",
      " 0.         0.         0.         0.         0.         0.\n",
      " 0.         0.         0.         0.         0.         0.\n",
      " 0.         0.         0.         0.         0.         0.\n",
      " 0.         0.         0.         0.         0.         0.\n",
      " 0.         0.         0.         0.         0.         0.\n",
      " 0.         0.         0.         0.         0.         0.\n",
      " 0.         0.         0.         0.         0.         0.\n",
      " 0.         0.         0.         0.         0.         0.\n",
      " 0.         0.         0.         0.         0.         0.\n",
      " 0.         0.         0.         0.         0.         0.\n",
      " 0.         0.06547503 0.04357601 0.0763274  0.06702934 0.03408365\n",
      " 0.02231536 0.05390102 0.03449999 0.04660135 0.01318382 0.03247384\n",
      " 0.02053901 0.10563713 0.05045935 0.10980044 0.06994366 0.06902773\n",
      " 0.06200561 0.08876183 0.08329401 0.09134308 0.06383746 0.03394488\n",
      " 0.01798551 0.0455744  0.03155791 0.01443282 0.01523773 0.00033307\n",
      " 0.         0.00013878 0.02558412 0.0245837 ]\n",
      "2 day output [[0.02355441]]\n",
      "3 day input [0.         0.         0.         0.         0.         0.\n",
      " 0.         0.         0.         0.         0.         0.\n",
      " 0.         0.         0.         0.         0.         0.\n",
      " 0.         0.         0.         0.         0.         0.\n",
      " 0.         0.         0.         0.         0.         0.\n",
      " 0.         0.         0.         0.         0.         0.\n",
      " 0.         0.         0.         0.         0.         0.\n",
      " 0.         0.         0.         0.         0.         0.\n",
      " 0.         0.         0.         0.         0.         0.\n",
      " 0.         0.         0.         0.         0.         0.\n",
      " 0.         0.         0.         0.         0.         0.\n",
      " 0.06547503 0.04357601 0.0763274  0.06702934 0.03408365 0.02231536\n",
      " 0.05390102 0.03449999 0.04660135 0.01318382 0.03247384 0.02053901\n",
      " 0.10563713 0.05045935 0.10980044 0.06994366 0.06902773 0.06200561\n",
      " 0.08876183 0.08329401 0.09134308 0.06383746 0.03394488 0.01798551\n",
      " 0.0455744  0.03155791 0.01443282 0.01523773 0.00033307 0.\n",
      " 0.00013878 0.02558412 0.0245837  0.02355441]\n",
      "3 day output [[0.02254277]]\n",
      "4 day input [0.         0.         0.         0.         0.         0.\n",
      " 0.         0.         0.         0.         0.         0.\n",
      " 0.         0.         0.         0.         0.         0.\n",
      " 0.         0.         0.         0.         0.         0.\n",
      " 0.         0.         0.         0.         0.         0.\n",
      " 0.         0.         0.         0.         0.         0.\n",
      " 0.         0.         0.         0.         0.         0.\n",
      " 0.         0.         0.         0.         0.         0.\n",
      " 0.         0.         0.         0.         0.         0.\n",
      " 0.         0.         0.         0.         0.         0.\n",
      " 0.         0.         0.         0.         0.         0.06547503\n",
      " 0.04357601 0.0763274  0.06702934 0.03408365 0.02231536 0.05390102\n",
      " 0.03449999 0.04660135 0.01318382 0.03247384 0.02053901 0.10563713\n",
      " 0.05045935 0.10980044 0.06994366 0.06902773 0.06200561 0.08876183\n",
      " 0.08329401 0.09134308 0.06383746 0.03394488 0.01798551 0.0455744\n",
      " 0.03155791 0.01443282 0.01523773 0.00033307 0.         0.00013878\n",
      " 0.02558412 0.0245837  0.02355441 0.02254277]\n",
      "4 day output [[0.02157606]]\n",
      "5 day input [0.         0.         0.         0.         0.         0.\n",
      " 0.         0.         0.         0.         0.         0.\n",
      " 0.         0.         0.         0.         0.         0.\n",
      " 0.         0.         0.         0.         0.         0.\n",
      " 0.         0.         0.         0.         0.         0.\n",
      " 0.         0.         0.         0.         0.         0.\n",
      " 0.         0.         0.         0.         0.         0.\n",
      " 0.         0.         0.         0.         0.         0.\n",
      " 0.         0.         0.         0.         0.         0.\n",
      " 0.         0.         0.         0.         0.         0.\n",
      " 0.         0.         0.         0.         0.06547503 0.04357601\n",
      " 0.0763274  0.06702934 0.03408365 0.02231536 0.05390102 0.03449999\n",
      " 0.04660135 0.01318382 0.03247384 0.02053901 0.10563713 0.05045935\n",
      " 0.10980044 0.06994366 0.06902773 0.06200561 0.08876183 0.08329401\n",
      " 0.09134308 0.06383746 0.03394488 0.01798551 0.0455744  0.03155791\n",
      " 0.01443282 0.01523773 0.00033307 0.         0.00013878 0.02558412\n",
      " 0.0245837  0.02355441 0.02254277 0.02157606]\n",
      "5 day output [[0.02066835]]\n",
      "6 day input [0.         0.         0.         0.         0.         0.\n",
      " 0.         0.         0.         0.         0.         0.\n",
      " 0.         0.         0.         0.         0.         0.\n",
      " 0.         0.         0.         0.         0.         0.\n",
      " 0.         0.         0.         0.         0.         0.\n",
      " 0.         0.         0.         0.         0.         0.\n",
      " 0.         0.         0.         0.         0.         0.\n",
      " 0.         0.         0.         0.         0.         0.\n",
      " 0.         0.         0.         0.         0.         0.\n",
      " 0.         0.         0.         0.         0.         0.\n",
      " 0.         0.         0.         0.06547503 0.04357601 0.0763274\n",
      " 0.06702934 0.03408365 0.02231536 0.05390102 0.03449999 0.04660135\n",
      " 0.01318382 0.03247384 0.02053901 0.10563713 0.05045935 0.10980044\n",
      " 0.06994366 0.06902773 0.06200561 0.08876183 0.08329401 0.09134308\n",
      " 0.06383746 0.03394488 0.01798551 0.0455744  0.03155791 0.01443282\n",
      " 0.01523773 0.00033307 0.         0.00013878 0.02558412 0.0245837\n",
      " 0.02355441 0.02254277 0.02157606 0.02066835]\n",
      "6 day output [[0.01982492]]\n",
      "7 day input [0.         0.         0.         0.         0.         0.\n",
      " 0.         0.         0.         0.         0.         0.\n",
      " 0.         0.         0.         0.         0.         0.\n",
      " 0.         0.         0.         0.         0.         0.\n",
      " 0.         0.         0.         0.         0.         0.\n",
      " 0.         0.         0.         0.         0.         0.\n",
      " 0.         0.         0.         0.         0.         0.\n",
      " 0.         0.         0.         0.         0.         0.\n",
      " 0.         0.         0.         0.         0.         0.\n",
      " 0.         0.         0.         0.         0.         0.\n",
      " 0.         0.         0.06547503 0.04357601 0.0763274  0.06702934\n",
      " 0.03408365 0.02231536 0.05390102 0.03449999 0.04660135 0.01318382\n",
      " 0.03247384 0.02053901 0.10563713 0.05045935 0.10980044 0.06994366\n",
      " 0.06902773 0.06200561 0.08876183 0.08329401 0.09134308 0.06383746\n",
      " 0.03394488 0.01798551 0.0455744  0.03155791 0.01443282 0.01523773\n",
      " 0.00033307 0.         0.00013878 0.02558412 0.0245837  0.02355441\n",
      " 0.02254277 0.02157606 0.02066835 0.01982492]\n",
      "7 day output [[0.01904557]]\n",
      "8 day input [0.         0.         0.         0.         0.         0.\n",
      " 0.         0.         0.         0.         0.         0.\n",
      " 0.         0.         0.         0.         0.         0.\n",
      " 0.         0.         0.         0.         0.         0.\n",
      " 0.         0.         0.         0.         0.         0.\n",
      " 0.         0.         0.         0.         0.         0.\n",
      " 0.         0.         0.         0.         0.         0.\n",
      " 0.         0.         0.         0.         0.         0.\n",
      " 0.         0.         0.         0.         0.         0.\n",
      " 0.         0.         0.         0.         0.         0.\n",
      " 0.         0.06547503 0.04357601 0.0763274  0.06702934 0.03408365\n",
      " 0.02231536 0.05390102 0.03449999 0.04660135 0.01318382 0.03247384\n",
      " 0.02053901 0.10563713 0.05045935 0.10980044 0.06994366 0.06902773\n",
      " 0.06200561 0.08876183 0.08329401 0.09134308 0.06383746 0.03394488\n",
      " 0.01798551 0.0455744  0.03155791 0.01443282 0.01523773 0.00033307\n",
      " 0.         0.00013878 0.02558412 0.0245837  0.02355441 0.02254277\n",
      " 0.02157606 0.02066835 0.01982492 0.01904557]\n",
      "8 day output [[0.01832692]]\n",
      "9 day input [0.         0.         0.         0.         0.         0.\n",
      " 0.         0.         0.         0.         0.         0.\n",
      " 0.         0.         0.         0.         0.         0.\n",
      " 0.         0.         0.         0.         0.         0.\n",
      " 0.         0.         0.         0.         0.         0.\n",
      " 0.         0.         0.         0.         0.         0.\n",
      " 0.         0.         0.         0.         0.         0.\n",
      " 0.         0.         0.         0.         0.         0.\n",
      " 0.         0.         0.         0.         0.         0.\n",
      " 0.         0.         0.         0.         0.         0.\n",
      " 0.06547503 0.04357601 0.0763274  0.06702934 0.03408365 0.02231536\n",
      " 0.05390102 0.03449999 0.04660135 0.01318382 0.03247384 0.02053901\n",
      " 0.10563713 0.05045935 0.10980044 0.06994366 0.06902773 0.06200561\n",
      " 0.08876183 0.08329401 0.09134308 0.06383746 0.03394488 0.01798551\n",
      " 0.0455744  0.03155791 0.01443282 0.01523773 0.00033307 0.\n",
      " 0.00013878 0.02558412 0.0245837  0.02355441 0.02254277 0.02157606\n",
      " 0.02066835 0.01982492 0.01904557 0.01832692]\n"
     ]
    },
    {
     "name": "stdout",
     "output_type": "stream",
     "text": [
      "9 day output [[0.01766392]]\n",
      "10 day input [0.         0.         0.         0.         0.         0.\n",
      " 0.         0.         0.         0.         0.         0.\n",
      " 0.         0.         0.         0.         0.         0.\n",
      " 0.         0.         0.         0.         0.         0.\n",
      " 0.         0.         0.         0.         0.         0.\n",
      " 0.         0.         0.         0.         0.         0.\n",
      " 0.         0.         0.         0.         0.         0.\n",
      " 0.         0.         0.         0.         0.         0.\n",
      " 0.         0.         0.         0.         0.         0.\n",
      " 0.         0.         0.         0.         0.         0.06547503\n",
      " 0.04357601 0.0763274  0.06702934 0.03408365 0.02231536 0.05390102\n",
      " 0.03449999 0.04660135 0.01318382 0.03247384 0.02053901 0.10563713\n",
      " 0.05045935 0.10980044 0.06994366 0.06902773 0.06200561 0.08876183\n",
      " 0.08329401 0.09134308 0.06383746 0.03394488 0.01798551 0.0455744\n",
      " 0.03155791 0.01443282 0.01523773 0.00033307 0.         0.00013878\n",
      " 0.02558412 0.0245837  0.02355441 0.02254277 0.02157606 0.02066835\n",
      " 0.01982492 0.01904557 0.01832692 0.01766392]\n",
      "10 day output [[0.0170509]]\n",
      "11 day input [0.         0.         0.         0.         0.         0.\n",
      " 0.         0.         0.         0.         0.         0.\n",
      " 0.         0.         0.         0.         0.         0.\n",
      " 0.         0.         0.         0.         0.         0.\n",
      " 0.         0.         0.         0.         0.         0.\n",
      " 0.         0.         0.         0.         0.         0.\n",
      " 0.         0.         0.         0.         0.         0.\n",
      " 0.         0.         0.         0.         0.         0.\n",
      " 0.         0.         0.         0.         0.         0.\n",
      " 0.         0.         0.         0.         0.06547503 0.04357601\n",
      " 0.0763274  0.06702934 0.03408365 0.02231536 0.05390102 0.03449999\n",
      " 0.04660135 0.01318382 0.03247384 0.02053901 0.10563713 0.05045935\n",
      " 0.10980044 0.06994366 0.06902773 0.06200561 0.08876183 0.08329401\n",
      " 0.09134308 0.06383746 0.03394488 0.01798551 0.0455744  0.03155791\n",
      " 0.01443282 0.01523773 0.00033307 0.         0.00013878 0.02558412\n",
      " 0.0245837  0.02355441 0.02254277 0.02157606 0.02066835 0.01982492\n",
      " 0.01904557 0.01832692 0.01766392 0.0170509 ]\n",
      "11 day output [[0.01648222]]\n",
      "12 day input [0.         0.         0.         0.         0.         0.\n",
      " 0.         0.         0.         0.         0.         0.\n",
      " 0.         0.         0.         0.         0.         0.\n",
      " 0.         0.         0.         0.         0.         0.\n",
      " 0.         0.         0.         0.         0.         0.\n",
      " 0.         0.         0.         0.         0.         0.\n",
      " 0.         0.         0.         0.         0.         0.\n",
      " 0.         0.         0.         0.         0.         0.\n",
      " 0.         0.         0.         0.         0.         0.\n",
      " 0.         0.         0.         0.06547503 0.04357601 0.0763274\n",
      " 0.06702934 0.03408365 0.02231536 0.05390102 0.03449999 0.04660135\n",
      " 0.01318382 0.03247384 0.02053901 0.10563713 0.05045935 0.10980044\n",
      " 0.06994366 0.06902773 0.06200561 0.08876183 0.08329401 0.09134308\n",
      " 0.06383746 0.03394488 0.01798551 0.0455744  0.03155791 0.01443282\n",
      " 0.01523773 0.00033307 0.         0.00013878 0.02558412 0.0245837\n",
      " 0.02355441 0.02254277 0.02157606 0.02066835 0.01982492 0.01904557\n",
      " 0.01832692 0.01766392 0.0170509  0.01648222]\n",
      "12 day output [[0.01595263]]\n",
      "13 day input [0.         0.         0.         0.         0.         0.\n",
      " 0.         0.         0.         0.         0.         0.\n",
      " 0.         0.         0.         0.         0.         0.\n",
      " 0.         0.         0.         0.         0.         0.\n",
      " 0.         0.         0.         0.         0.         0.\n",
      " 0.         0.         0.         0.         0.         0.\n",
      " 0.         0.         0.         0.         0.         0.\n",
      " 0.         0.         0.         0.         0.         0.\n",
      " 0.         0.         0.         0.         0.         0.\n",
      " 0.         0.         0.06547503 0.04357601 0.0763274  0.06702934\n",
      " 0.03408365 0.02231536 0.05390102 0.03449999 0.04660135 0.01318382\n",
      " 0.03247384 0.02053901 0.10563713 0.05045935 0.10980044 0.06994366\n",
      " 0.06902773 0.06200561 0.08876183 0.08329401 0.09134308 0.06383746\n",
      " 0.03394488 0.01798551 0.0455744  0.03155791 0.01443282 0.01523773\n",
      " 0.00033307 0.         0.00013878 0.02558412 0.0245837  0.02355441\n",
      " 0.02254277 0.02157606 0.02066835 0.01982492 0.01904557 0.01832692\n",
      " 0.01766392 0.0170509  0.01648222 0.01595263]\n",
      "13 day output [[0.0154574]]\n",
      "14 day input [0.         0.         0.         0.         0.         0.\n",
      " 0.         0.         0.         0.         0.         0.\n",
      " 0.         0.         0.         0.         0.         0.\n",
      " 0.         0.         0.         0.         0.         0.\n",
      " 0.         0.         0.         0.         0.         0.\n",
      " 0.         0.         0.         0.         0.         0.\n",
      " 0.         0.         0.         0.         0.         0.\n",
      " 0.         0.         0.         0.         0.         0.\n",
      " 0.         0.         0.         0.         0.         0.\n",
      " 0.         0.06547503 0.04357601 0.0763274  0.06702934 0.03408365\n",
      " 0.02231536 0.05390102 0.03449999 0.04660135 0.01318382 0.03247384\n",
      " 0.02053901 0.10563713 0.05045935 0.10980044 0.06994366 0.06902773\n",
      " 0.06200561 0.08876183 0.08329401 0.09134308 0.06383746 0.03394488\n",
      " 0.01798551 0.0455744  0.03155791 0.01443282 0.01523773 0.00033307\n",
      " 0.         0.00013878 0.02558412 0.0245837  0.02355441 0.02254277\n",
      " 0.02157606 0.02066835 0.01982492 0.01904557 0.01832692 0.01766392\n",
      " 0.0170509  0.01648222 0.01595263 0.0154574 ]\n",
      "14 day output [[0.01499245]]\n",
      "15 day input [0.         0.         0.         0.         0.         0.\n",
      " 0.         0.         0.         0.         0.         0.\n",
      " 0.         0.         0.         0.         0.         0.\n",
      " 0.         0.         0.         0.         0.         0.\n",
      " 0.         0.         0.         0.         0.         0.\n",
      " 0.         0.         0.         0.         0.         0.\n",
      " 0.         0.         0.         0.         0.         0.\n",
      " 0.         0.         0.         0.         0.         0.\n",
      " 0.         0.         0.         0.         0.         0.\n",
      " 0.06547503 0.04357601 0.0763274  0.06702934 0.03408365 0.02231536\n",
      " 0.05390102 0.03449999 0.04660135 0.01318382 0.03247384 0.02053901\n",
      " 0.10563713 0.05045935 0.10980044 0.06994366 0.06902773 0.06200561\n",
      " 0.08876183 0.08329401 0.09134308 0.06383746 0.03394488 0.01798551\n",
      " 0.0455744  0.03155791 0.01443282 0.01523773 0.00033307 0.\n",
      " 0.00013878 0.02558412 0.0245837  0.02355441 0.02254277 0.02157606\n",
      " 0.02066835 0.01982492 0.01904557 0.01832692 0.01766392 0.0170509\n",
      " 0.01648222 0.01595263 0.0154574  0.01499245]\n",
      "15 day output [[0.01455427]]\n",
      "16 day input [0.         0.         0.         0.         0.         0.\n",
      " 0.         0.         0.         0.         0.         0.\n",
      " 0.         0.         0.         0.         0.         0.\n",
      " 0.         0.         0.         0.         0.         0.\n",
      " 0.         0.         0.         0.         0.         0.\n",
      " 0.         0.         0.         0.         0.         0.\n",
      " 0.         0.         0.         0.         0.         0.\n",
      " 0.         0.         0.         0.         0.         0.\n",
      " 0.         0.         0.         0.         0.         0.06547503\n",
      " 0.04357601 0.0763274  0.06702934 0.03408365 0.02231536 0.05390102\n",
      " 0.03449999 0.04660135 0.01318382 0.03247384 0.02053901 0.10563713\n",
      " 0.05045935 0.10980044 0.06994366 0.06902773 0.06200561 0.08876183\n",
      " 0.08329401 0.09134308 0.06383746 0.03394488 0.01798551 0.0455744\n",
      " 0.03155791 0.01443282 0.01523773 0.00033307 0.         0.00013878\n",
      " 0.02558412 0.0245837  0.02355441 0.02254277 0.02157606 0.02066835\n",
      " 0.01982492 0.01904557 0.01832692 0.01766392 0.0170509  0.01648222\n",
      " 0.01595263 0.0154574  0.01499245 0.01455427]\n",
      "16 day output [[0.01413995]]\n",
      "17 day input [0.         0.         0.         0.         0.         0.\n",
      " 0.         0.         0.         0.         0.         0.\n",
      " 0.         0.         0.         0.         0.         0.\n",
      " 0.         0.         0.         0.         0.         0.\n",
      " 0.         0.         0.         0.         0.         0.\n",
      " 0.         0.         0.         0.         0.         0.\n",
      " 0.         0.         0.         0.         0.         0.\n",
      " 0.         0.         0.         0.         0.         0.\n",
      " 0.         0.         0.         0.         0.06547503 0.04357601\n",
      " 0.0763274  0.06702934 0.03408365 0.02231536 0.05390102 0.03449999\n",
      " 0.04660135 0.01318382 0.03247384 0.02053901 0.10563713 0.05045935\n",
      " 0.10980044 0.06994366 0.06902773 0.06200561 0.08876183 0.08329401\n",
      " 0.09134308 0.06383746 0.03394488 0.01798551 0.0455744  0.03155791\n",
      " 0.01443282 0.01523773 0.00033307 0.         0.00013878 0.02558412\n",
      " 0.0245837  0.02355441 0.02254277 0.02157606 0.02066835 0.01982492\n",
      " 0.01904557 0.01832692 0.01766392 0.0170509  0.01648222 0.01595263\n",
      " 0.0154574  0.01499245 0.01455427 0.01413995]\n"
     ]
    },
    {
     "name": "stdout",
     "output_type": "stream",
     "text": [
      "17 day output [[0.01374703]]\n",
      "18 day input [0.         0.         0.         0.         0.         0.\n",
      " 0.         0.         0.         0.         0.         0.\n",
      " 0.         0.         0.         0.         0.         0.\n",
      " 0.         0.         0.         0.         0.         0.\n",
      " 0.         0.         0.         0.         0.         0.\n",
      " 0.         0.         0.         0.         0.         0.\n",
      " 0.         0.         0.         0.         0.         0.\n",
      " 0.         0.         0.         0.         0.         0.\n",
      " 0.         0.         0.         0.06547503 0.04357601 0.0763274\n",
      " 0.06702934 0.03408365 0.02231536 0.05390102 0.03449999 0.04660135\n",
      " 0.01318382 0.03247384 0.02053901 0.10563713 0.05045935 0.10980044\n",
      " 0.06994366 0.06902773 0.06200561 0.08876183 0.08329401 0.09134308\n",
      " 0.06383746 0.03394488 0.01798551 0.0455744  0.03155791 0.01443282\n",
      " 0.01523773 0.00033307 0.         0.00013878 0.02558412 0.0245837\n",
      " 0.02355441 0.02254277 0.02157606 0.02066835 0.01982492 0.01904557\n",
      " 0.01832692 0.01766392 0.0170509  0.01648222 0.01595263 0.0154574\n",
      " 0.01499245 0.01455427 0.01413995 0.01374703]\n",
      "18 day output [[0.0133735]]\n",
      "19 day input [0.         0.         0.         0.         0.         0.\n",
      " 0.         0.         0.         0.         0.         0.\n",
      " 0.         0.         0.         0.         0.         0.\n",
      " 0.         0.         0.         0.         0.         0.\n",
      " 0.         0.         0.         0.         0.         0.\n",
      " 0.         0.         0.         0.         0.         0.\n",
      " 0.         0.         0.         0.         0.         0.\n",
      " 0.         0.         0.         0.         0.         0.\n",
      " 0.         0.         0.06547503 0.04357601 0.0763274  0.06702934\n",
      " 0.03408365 0.02231536 0.05390102 0.03449999 0.04660135 0.01318382\n",
      " 0.03247384 0.02053901 0.10563713 0.05045935 0.10980044 0.06994366\n",
      " 0.06902773 0.06200561 0.08876183 0.08329401 0.09134308 0.06383746\n",
      " 0.03394488 0.01798551 0.0455744  0.03155791 0.01443282 0.01523773\n",
      " 0.00033307 0.         0.00013878 0.02558412 0.0245837  0.02355441\n",
      " 0.02254277 0.02157606 0.02066835 0.01982492 0.01904557 0.01832692\n",
      " 0.01766392 0.0170509  0.01648222 0.01595263 0.0154574  0.01499245\n",
      " 0.01455427 0.01413995 0.01374703 0.0133735 ]\n",
      "19 day output [[0.01301767]]\n",
      "20 day input [0.         0.         0.         0.         0.         0.\n",
      " 0.         0.         0.         0.         0.         0.\n",
      " 0.         0.         0.         0.         0.         0.\n",
      " 0.         0.         0.         0.         0.         0.\n",
      " 0.         0.         0.         0.         0.         0.\n",
      " 0.         0.         0.         0.         0.         0.\n",
      " 0.         0.         0.         0.         0.         0.\n",
      " 0.         0.         0.         0.         0.         0.\n",
      " 0.         0.06547503 0.04357601 0.0763274  0.06702934 0.03408365\n",
      " 0.02231536 0.05390102 0.03449999 0.04660135 0.01318382 0.03247384\n",
      " 0.02053901 0.10563713 0.05045935 0.10980044 0.06994366 0.06902773\n",
      " 0.06200561 0.08876183 0.08329401 0.09134308 0.06383746 0.03394488\n",
      " 0.01798551 0.0455744  0.03155791 0.01443282 0.01523773 0.00033307\n",
      " 0.         0.00013878 0.02558412 0.0245837  0.02355441 0.02254277\n",
      " 0.02157606 0.02066835 0.01982492 0.01904557 0.01832692 0.01766392\n",
      " 0.0170509  0.01648222 0.01595263 0.0154574  0.01499245 0.01455427\n",
      " 0.01413995 0.01374703 0.0133735  0.01301767]\n",
      "20 day output [[0.01267819]]\n",
      "21 day input [0.         0.         0.         0.         0.         0.\n",
      " 0.         0.         0.         0.         0.         0.\n",
      " 0.         0.         0.         0.         0.         0.\n",
      " 0.         0.         0.         0.         0.         0.\n",
      " 0.         0.         0.         0.         0.         0.\n",
      " 0.         0.         0.         0.         0.         0.\n",
      " 0.         0.         0.         0.         0.         0.\n",
      " 0.         0.         0.         0.         0.         0.\n",
      " 0.06547503 0.04357601 0.0763274  0.06702934 0.03408365 0.02231536\n",
      " 0.05390102 0.03449999 0.04660135 0.01318382 0.03247384 0.02053901\n",
      " 0.10563713 0.05045935 0.10980044 0.06994366 0.06902773 0.06200561\n",
      " 0.08876183 0.08329401 0.09134308 0.06383746 0.03394488 0.01798551\n",
      " 0.0455744  0.03155791 0.01443282 0.01523773 0.00033307 0.\n",
      " 0.00013878 0.02558412 0.0245837  0.02355441 0.02254277 0.02157606\n",
      " 0.02066835 0.01982492 0.01904557 0.01832692 0.01766392 0.0170509\n",
      " 0.01648222 0.01595263 0.0154574  0.01499245 0.01455427 0.01413995\n",
      " 0.01374703 0.0133735  0.01301767 0.01267819]\n",
      "21 day output [[0.01235387]]\n",
      "22 day input [0.         0.         0.         0.         0.         0.\n",
      " 0.         0.         0.         0.         0.         0.\n",
      " 0.         0.         0.         0.         0.         0.\n",
      " 0.         0.         0.         0.         0.         0.\n",
      " 0.         0.         0.         0.         0.         0.\n",
      " 0.         0.         0.         0.         0.         0.\n",
      " 0.         0.         0.         0.         0.         0.\n",
      " 0.         0.         0.         0.         0.         0.06547503\n",
      " 0.04357601 0.0763274  0.06702934 0.03408365 0.02231536 0.05390102\n",
      " 0.03449999 0.04660135 0.01318382 0.03247384 0.02053901 0.10563713\n",
      " 0.05045935 0.10980044 0.06994366 0.06902773 0.06200561 0.08876183\n",
      " 0.08329401 0.09134308 0.06383746 0.03394488 0.01798551 0.0455744\n",
      " 0.03155791 0.01443282 0.01523773 0.00033307 0.         0.00013878\n",
      " 0.02558412 0.0245837  0.02355441 0.02254277 0.02157606 0.02066835\n",
      " 0.01982492 0.01904557 0.01832692 0.01766392 0.0170509  0.01648222\n",
      " 0.01595263 0.0154574  0.01499245 0.01455427 0.01413995 0.01374703\n",
      " 0.0133735  0.01301767 0.01267819 0.01235387]\n",
      "22 day output [[0.01204375]]\n",
      "23 day input [0.         0.         0.         0.         0.         0.\n",
      " 0.         0.         0.         0.         0.         0.\n",
      " 0.         0.         0.         0.         0.         0.\n",
      " 0.         0.         0.         0.         0.         0.\n",
      " 0.         0.         0.         0.         0.         0.\n",
      " 0.         0.         0.         0.         0.         0.\n",
      " 0.         0.         0.         0.         0.         0.\n",
      " 0.         0.         0.         0.         0.06547503 0.04357601\n",
      " 0.0763274  0.06702934 0.03408365 0.02231536 0.05390102 0.03449999\n",
      " 0.04660135 0.01318382 0.03247384 0.02053901 0.10563713 0.05045935\n",
      " 0.10980044 0.06994366 0.06902773 0.06200561 0.08876183 0.08329401\n",
      " 0.09134308 0.06383746 0.03394488 0.01798551 0.0455744  0.03155791\n",
      " 0.01443282 0.01523773 0.00033307 0.         0.00013878 0.02558412\n",
      " 0.0245837  0.02355441 0.02254277 0.02157606 0.02066835 0.01982492\n",
      " 0.01904557 0.01832692 0.01766392 0.0170509  0.01648222 0.01595263\n",
      " 0.0154574  0.01499245 0.01455427 0.01413995 0.01374703 0.0133735\n",
      " 0.01301767 0.01267819 0.01235387 0.01204375]\n",
      "23 day output [[0.01174702]]\n",
      "24 day input [0.         0.         0.         0.         0.         0.\n",
      " 0.         0.         0.         0.         0.         0.\n",
      " 0.         0.         0.         0.         0.         0.\n",
      " 0.         0.         0.         0.         0.         0.\n",
      " 0.         0.         0.         0.         0.         0.\n",
      " 0.         0.         0.         0.         0.         0.\n",
      " 0.         0.         0.         0.         0.         0.\n",
      " 0.         0.         0.         0.06547503 0.04357601 0.0763274\n",
      " 0.06702934 0.03408365 0.02231536 0.05390102 0.03449999 0.04660135\n",
      " 0.01318382 0.03247384 0.02053901 0.10563713 0.05045935 0.10980044\n",
      " 0.06994366 0.06902773 0.06200561 0.08876183 0.08329401 0.09134308\n",
      " 0.06383746 0.03394488 0.01798551 0.0455744  0.03155791 0.01443282\n",
      " 0.01523773 0.00033307 0.         0.00013878 0.02558412 0.0245837\n",
      " 0.02355441 0.02254277 0.02157606 0.02066835 0.01982492 0.01904557\n",
      " 0.01832692 0.01766392 0.0170509  0.01648222 0.01595263 0.0154574\n",
      " 0.01499245 0.01455427 0.01413995 0.01374703 0.0133735  0.01301767\n",
      " 0.01267819 0.01235387 0.01204375 0.01174702]\n",
      "24 day output [[0.01146293]]\n",
      "25 day input [0.         0.         0.         0.         0.         0.\n",
      " 0.         0.         0.         0.         0.         0.\n",
      " 0.         0.         0.         0.         0.         0.\n",
      " 0.         0.         0.         0.         0.         0.\n",
      " 0.         0.         0.         0.         0.         0.\n",
      " 0.         0.         0.         0.         0.         0.\n",
      " 0.         0.         0.         0.         0.         0.\n",
      " 0.         0.         0.06547503 0.04357601 0.0763274  0.06702934\n",
      " 0.03408365 0.02231536 0.05390102 0.03449999 0.04660135 0.01318382\n",
      " 0.03247384 0.02053901 0.10563713 0.05045935 0.10980044 0.06994366\n",
      " 0.06902773 0.06200561 0.08876183 0.08329401 0.09134308 0.06383746\n",
      " 0.03394488 0.01798551 0.0455744  0.03155791 0.01443282 0.01523773\n",
      " 0.00033307 0.         0.00013878 0.02558412 0.0245837  0.02355441\n",
      " 0.02254277 0.02157606 0.02066835 0.01982492 0.01904557 0.01832692\n",
      " 0.01766392 0.0170509  0.01648222 0.01595263 0.0154574  0.01499245\n",
      " 0.01455427 0.01413995 0.01374703 0.0133735  0.01301767 0.01267819\n",
      " 0.01235387 0.01204375 0.01174702 0.01146293]\n",
      "25 day output [[0.01119088]]\n",
      "26 day input [0.         0.         0.         0.         0.         0.\n",
      " 0.         0.         0.         0.         0.         0.\n",
      " 0.         0.         0.         0.         0.         0.\n",
      " 0.         0.         0.         0.         0.         0.\n",
      " 0.         0.         0.         0.         0.         0.\n",
      " 0.         0.         0.         0.         0.         0.\n",
      " 0.         0.         0.         0.         0.         0.\n",
      " 0.         0.06547503 0.04357601 0.0763274  0.06702934 0.03408365\n",
      " 0.02231536 0.05390102 0.03449999 0.04660135 0.01318382 0.03247384\n",
      " 0.02053901 0.10563713 0.05045935 0.10980044 0.06994366 0.06902773\n",
      " 0.06200561 0.08876183 0.08329401 0.09134308 0.06383746 0.03394488\n",
      " 0.01798551 0.0455744  0.03155791 0.01443282 0.01523773 0.00033307\n",
      " 0.         0.00013878 0.02558412 0.0245837  0.02355441 0.02254277\n",
      " 0.02157606 0.02066835 0.01982492 0.01904557 0.01832692 0.01766392\n",
      " 0.0170509  0.01648222 0.01595263 0.0154574  0.01499245 0.01455427\n",
      " 0.01413995 0.01374703 0.0133735  0.01301767 0.01267819 0.01235387\n",
      " 0.01204375 0.01174702 0.01146293 0.01119088]\n"
     ]
    },
    {
     "name": "stdout",
     "output_type": "stream",
     "text": [
      "26 day output [[0.0109303]]\n",
      "27 day input [0.         0.         0.         0.         0.         0.\n",
      " 0.         0.         0.         0.         0.         0.\n",
      " 0.         0.         0.         0.         0.         0.\n",
      " 0.         0.         0.         0.         0.         0.\n",
      " 0.         0.         0.         0.         0.         0.\n",
      " 0.         0.         0.         0.         0.         0.\n",
      " 0.         0.         0.         0.         0.         0.\n",
      " 0.06547503 0.04357601 0.0763274  0.06702934 0.03408365 0.02231536\n",
      " 0.05390102 0.03449999 0.04660135 0.01318382 0.03247384 0.02053901\n",
      " 0.10563713 0.05045935 0.10980044 0.06994366 0.06902773 0.06200561\n",
      " 0.08876183 0.08329401 0.09134308 0.06383746 0.03394488 0.01798551\n",
      " 0.0455744  0.03155791 0.01443282 0.01523773 0.00033307 0.\n",
      " 0.00013878 0.02558412 0.0245837  0.02355441 0.02254277 0.02157606\n",
      " 0.02066835 0.01982492 0.01904557 0.01832692 0.01766392 0.0170509\n",
      " 0.01648222 0.01595263 0.0154574  0.01499245 0.01455427 0.01413995\n",
      " 0.01374703 0.0133735  0.01301767 0.01267819 0.01235387 0.01204375\n",
      " 0.01174702 0.01146293 0.01119088 0.0109303 ]\n",
      "27 day output [[0.01068069]]\n",
      "28 day input [0.         0.         0.         0.         0.         0.\n",
      " 0.         0.         0.         0.         0.         0.\n",
      " 0.         0.         0.         0.         0.         0.\n",
      " 0.         0.         0.         0.         0.         0.\n",
      " 0.         0.         0.         0.         0.         0.\n",
      " 0.         0.         0.         0.         0.         0.\n",
      " 0.         0.         0.         0.         0.         0.06547503\n",
      " 0.04357601 0.0763274  0.06702934 0.03408365 0.02231536 0.05390102\n",
      " 0.03449999 0.04660135 0.01318382 0.03247384 0.02053901 0.10563713\n",
      " 0.05045935 0.10980044 0.06994366 0.06902773 0.06200561 0.08876183\n",
      " 0.08329401 0.09134308 0.06383746 0.03394488 0.01798551 0.0455744\n",
      " 0.03155791 0.01443282 0.01523773 0.00033307 0.         0.00013878\n",
      " 0.02558412 0.0245837  0.02355441 0.02254277 0.02157606 0.02066835\n",
      " 0.01982492 0.01904557 0.01832692 0.01766392 0.0170509  0.01648222\n",
      " 0.01595263 0.0154574  0.01499245 0.01455427 0.01413995 0.01374703\n",
      " 0.0133735  0.01301767 0.01267819 0.01235387 0.01204375 0.01174702\n",
      " 0.01146293 0.01119088 0.0109303  0.01068069]\n",
      "28 day output [[0.01044157]]\n",
      "29 day input [0.         0.         0.         0.         0.         0.\n",
      " 0.         0.         0.         0.         0.         0.\n",
      " 0.         0.         0.         0.         0.         0.\n",
      " 0.         0.         0.         0.         0.         0.\n",
      " 0.         0.         0.         0.         0.         0.\n",
      " 0.         0.         0.         0.         0.         0.\n",
      " 0.         0.         0.         0.         0.06547503 0.04357601\n",
      " 0.0763274  0.06702934 0.03408365 0.02231536 0.05390102 0.03449999\n",
      " 0.04660135 0.01318382 0.03247384 0.02053901 0.10563713 0.05045935\n",
      " 0.10980044 0.06994366 0.06902773 0.06200561 0.08876183 0.08329401\n",
      " 0.09134308 0.06383746 0.03394488 0.01798551 0.0455744  0.03155791\n",
      " 0.01443282 0.01523773 0.00033307 0.         0.00013878 0.02558412\n",
      " 0.0245837  0.02355441 0.02254277 0.02157606 0.02066835 0.01982492\n",
      " 0.01904557 0.01832692 0.01766392 0.0170509  0.01648222 0.01595263\n",
      " 0.0154574  0.01499245 0.01455427 0.01413995 0.01374703 0.0133735\n",
      " 0.01301767 0.01267819 0.01235387 0.01204375 0.01174702 0.01146293\n",
      " 0.01119088 0.0109303  0.01068069 0.01044157]\n",
      "29 day output [[0.01021251]]\n",
      "[[0.025584116578102112], [0.024583695456385612], [0.02355441264808178], [0.022542772814631462], [0.021576063707470894], [0.02066834643483162], [0.01982492208480835], [0.019045574590563774], [0.01832692138850689], [0.017663918435573578], [0.01705089770257473], [0.016482220962643623], [0.015952633693814278], [0.015457402914762497], [0.014992453157901764], [0.014554272405803204], [0.014139946550130844], [0.01374702900648117], [0.013373497873544693], [0.013017674908041954], [0.01267818734049797], [0.012353873811662197], [0.012043754570186138], [0.01174701564013958], [0.011462933383882046], [0.011190883815288544], [0.010930303484201431], [0.01068069040775299], [0.010441573336720467], [0.010212507098913193]]\n"
     ]
    }
   ],
   "source": [
    "# demonstrate prediction for next 30 days\n",
    "from numpy import array\n",
    "\n",
    "lst_output=[]\n",
    "n_steps=100\n",
    "i=0\n",
    "while(i<30):\n",
    "    \n",
    "    if(len(temp_input)>100):\n",
    "        #print(temp_input)\n",
    "        x_input=np.array(temp_input[1:])\n",
    "        print(\"{} day input {}\".format(i,x_input))\n",
    "        x_input=x_input.reshape(1,-1)\n",
    "        x_input = x_input.reshape((1, n_steps, 1))\n",
    "        #print(x_input)\n",
    "        yhat = model.predict(x_input, verbose=0)\n",
    "        print(\"{} day output {}\".format(i,yhat))\n",
    "        temp_input.extend(yhat[0].tolist())\n",
    "        temp_input=temp_input[1:]\n",
    "        #print(temp_input)\n",
    "        lst_output.extend(yhat.tolist())\n",
    "        i=i+1\n",
    "    else:\n",
    "        x_input = x_input.reshape((1, n_steps,1))\n",
    "        yhat = model.predict(x_input, verbose=0)\n",
    "        print(yhat[0])\n",
    "        temp_input.extend(yhat[0].tolist())\n",
    "        print(len(temp_input))\n",
    "        lst_output.extend(yhat.tolist())\n",
    "        i=i+1\n",
    "    \n",
    "\n",
    "print(lst_output)"
   ]
  },
  {
   "cell_type": "code",
   "execution_count": 48,
   "metadata": {},
   "outputs": [],
   "source": [
    "day_new=np.arange(1,101)\n",
    "day_pred=np.arange(101,131)"
   ]
  },
  {
   "cell_type": "code",
   "execution_count": 49,
   "metadata": {},
   "outputs": [],
   "source": [
    "import matplotlib.pyplot as plt"
   ]
  },
  {
   "cell_type": "code",
   "execution_count": 50,
   "metadata": {},
   "outputs": [
    {
     "data": {
      "text/plain": [
       "173963"
      ]
     },
     "execution_count": 50,
     "metadata": {},
     "output_type": "execute_result"
    }
   ],
   "source": [
    "len(df1)"
   ]
  },
  {
   "cell_type": "code",
   "execution_count": null,
   "metadata": {},
   "outputs": [],
   "source": []
  },
  {
   "cell_type": "code",
   "execution_count": 51,
   "metadata": {},
   "outputs": [
    {
     "data": {
      "text/plain": [
       "[<matplotlib.lines.Line2D at 0x21e45b360a0>]"
      ]
     },
     "execution_count": 51,
     "metadata": {},
     "output_type": "execute_result"
    },
    {
     "data": {
      "image/png": "[encoded data removed]",
      "text/plain": [
       "<Figure size 432x288 with 1 Axes>"
      ]
     },
     "metadata": {
      "needs_background": "light"
     },
     "output_type": "display_data"
    }
   ],
   "source": [
    "plt.plot(day_new,scaler.inverse_transform(df1[173863:]))\n",
    "plt.plot(day_pred,scaler.inverse_transform(lst_output))"
   ]
  },
  {
   "cell_type": "code",
   "execution_count": 52,
   "metadata": {},
   "outputs": [
    {
     "data": {
      "text/plain": [
       "[<matplotlib.lines.Line2D at 0x21e40055c40>]"
      ]
     },
     "execution_count": 52,
     "metadata": {},
     "output_type": "execute_result"
    },
    {
     "data": {
      "image/png": "[encoded data removed]",
      "text/plain": [
       "<Figure size 432x288 with 1 Axes>"
      ]
     },
     "metadata": {
      "needs_background": "light"
     },
     "output_type": "display_data"
    }
   ],
   "source": [
    "df3=df1.tolist()\n",
    "df3.extend(lst_output)\n",
    "plt.plot(df3[173900:])"
   ]
  },
  {
   "cell_type": "code",
   "execution_count": 53,
   "metadata": {},
   "outputs": [],
   "source": [
    "df3=scaler.inverse_transform(df3).tolist()"
   ]
  },
  {
   "cell_type": "code",
   "execution_count": 54,
   "metadata": {},
   "outputs": [
    {
     "data": {
      "text/plain": [
       "[<matplotlib.lines.Line2D at 0x21e43afa6d0>]"
      ]
     },
     "execution_count": 54,
     "metadata": {},
     "output_type": "execute_result"
    },
    {
     "data": {
      "image/png": "[encoded data removed]",
      "text/plain": [
       "<Figure size 432x288 with 1 Axes>"
      ]
     },
     "metadata": {
      "needs_background": "light"
     },
     "output_type": "display_data"
    }
   ],
   "source": [
    "plt.plot(df3)"
   ]
  },
  {
   "cell_type": "code",
   "execution_count": 56,
   "metadata": {},
   "outputs": [
    {
     "name": "stdout",
     "output_type": "stream",
     "text": [
      "WARNING:tensorflow:Model was constructed with shape (None, 100, 1) for input KerasTensor(type_spec=TensorSpec(shape=(None, 100, 1), dtype=tf.float32, name='lstm_input'), name='lstm_input', description=\"created by layer 'lstm_input'\"), but it was called on an input with incompatible shape (None, 1, 1).\n"
     ]
    },
    {
     "name": "stderr",
     "output_type": "stream",
     "text": [
      "WARNING:tensorflow:Model was constructed with shape (None, 100, 1) for input KerasTensor(type_spec=TensorSpec(shape=(None, 100, 1), dtype=tf.float32, name='lstm_input'), name='lstm_input', description=\"created by layer 'lstm_input'\"), but it was called on an input with incompatible shape (None, 1, 1).\n"
     ]
    },
    {
     "data": {
      "text/plain": [
       "array([[-0.02618255]], dtype=float32)"
      ]
     },
     "execution_count": 56,
     "metadata": {},
     "output_type": "execute_result"
    }
   ],
   "source": [
    "model.predict([[17400]])"
   ]
  },
  {
   "cell_type": "code",
   "execution_count": 63,
   "metadata": {},
   "outputs": [],
   "source": [
    "from keras.models import load_model\n",
    "\n",
    "model.save('my_model.h5') "
   ]
  },
  {
   "cell_type": "code",
   "execution_count": 64,
   "metadata": {},
   "outputs": [
    {
     "name": "stderr",
     "output_type": "stream",
     "text": [
      "WARNING:absl:Found untraced functions such as lstm_cell_layer_call_fn, lstm_cell_layer_call_and_return_conditional_losses, lstm_cell_1_layer_call_fn, lstm_cell_1_layer_call_and_return_conditional_losses, lstm_cell_2_layer_call_fn while saving (showing 5 of 15). These functions will not be directly callable after loading.\n"
     ]
    },
    {
     "name": "stdout",
     "output_type": "stream",
     "text": [
      "INFO:tensorflow:Assets written to: my_model\\assets\n"
     ]
    },
    {
     "name": "stderr",
     "output_type": "stream",
     "text": [
      "INFO:tensorflow:Assets written to: my_model\\assets\n",
      "WARNING:absl:<keras.layers.recurrent.LSTMCell object at 0x0000021E362DBEE0> has the same name 'LSTMCell' as a built-in Keras object. Consider renaming <class 'keras.layers.recurrent.LSTMCell'> to avoid naming conflicts when loading with `tf.keras.models.load_model`. If renaming is not possible, pass the object in the `custom_objects` parameter of the load function.\n",
      "WARNING:absl:<keras.layers.recurrent.LSTMCell object at 0x0000021E373AC3D0> has the same name 'LSTMCell' as a built-in Keras object. Consider renaming <class 'keras.layers.recurrent.LSTMCell'> to avoid naming conflicts when loading with `tf.keras.models.load_model`. If renaming is not possible, pass the object in the `custom_objects` parameter of the load function.\n",
      "WARNING:absl:<keras.layers.recurrent.LSTMCell object at 0x0000021E374B5E20> has the same name 'LSTMCell' as a built-in Keras object. Consider renaming <class 'keras.layers.recurrent.LSTMCell'> to avoid naming conflicts when loading with `tf.keras.models.load_model`. If renaming is not possible, pass the object in the `custom_objects` parameter of the load function.\n"
     ]
    }
   ],
   "source": [
    "model.save(\"my_model\")"
   ]
  },
  {
   "cell_type": "code",
   "execution_count": null,
   "metadata": {},
   "outputs": [],
   "source": []
  },
  {
   "cell_type": "markdown",
   "metadata": {},
   "source": [
    "###### -"
   ]
  }
 ],
 "metadata": {
  "kernelspec": {
   "display_name": "Python 3 (ipykernel)",
   "language": "python",
   "name": "python3"
  },
  "language_info": {
   "codemirror_mode": {
    "name": "ipython",
    "version": 3
   },
   "file_extension": ".py",
   "mimetype": "text/x-python",
   "name": "python",
   "nbconvert_exporter": "python",
   "pygments_lexer": "ipython3",
   "version": "3.9.7"
  }
 },
 "nbformat": 4,
 "nbformat_minor": 2
}
