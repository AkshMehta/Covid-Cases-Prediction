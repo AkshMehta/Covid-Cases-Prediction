{
 "cells": [
  {
   "cell_type": "markdown",
   "metadata": {},
   "source": [
    "### Covid Cases Prediction And Forecasting Using Stacked LSTM"
   ]
  },
  {
   "cell_type": "code",
   "execution_count": 1,
   "metadata": {},
   "outputs": [],
   "source": [
    "import pandas as pd\n",
    "import numpy as np\n",
    "import matplotlib.pyplot as plt"
   ]
  },
  {
   "cell_type": "code",
   "execution_count": 2,
   "metadata": {},
   "outputs": [],
   "source": [
    "df1 = pd.read_csv('Covid Dataset.csv',index_col='Date Announced',parse_dates=True)"
   ]
  },
  {
   "cell_type": "code",
   "execution_count": 3,
   "metadata": {},
   "outputs": [
    {
     "data": {
      "text/html": [
       "<div>\n",
       "<style scoped>\n",
       "    .dataframe tbody tr th:only-of-type {\n",
       "        vertical-align: middle;\n",
       "    }\n",
       "\n",
       "    .dataframe tbody tr th {\n",
       "        vertical-align: top;\n",
       "    }\n",
       "\n",
       "    .dataframe thead th {\n",
       "        text-align: right;\n",
       "    }\n",
       "</style>\n",
       "<table border=\"1\" class=\"dataframe\">\n",
       "  <thead>\n",
       "    <tr style=\"text-align: right;\">\n",
       "      <th></th>\n",
       "      <th>Unnamed: 0</th>\n",
       "      <th>Num Cases</th>\n",
       "      <th>Age Bracket</th>\n",
       "      <th>Gender</th>\n",
       "      <th>Detected State</th>\n",
       "      <th>Current Status</th>\n",
       "      <th>Day</th>\n",
       "      <th>Month</th>\n",
       "      <th>Year</th>\n",
       "    </tr>\n",
       "    <tr>\n",
       "      <th>Date Announced</th>\n",
       "      <th></th>\n",
       "      <th></th>\n",
       "      <th></th>\n",
       "      <th></th>\n",
       "      <th></th>\n",
       "      <th></th>\n",
       "      <th></th>\n",
       "      <th></th>\n",
       "      <th></th>\n",
       "    </tr>\n",
       "  </thead>\n",
       "  <tbody>\n",
       "    <tr>\n",
       "      <th>2021-05-05</th>\n",
       "      <td>0</td>\n",
       "      <td>443.0</td>\n",
       "      <td>NaN</td>\n",
       "      <td>NaN</td>\n",
       "      <td>Odisha</td>\n",
       "      <td>Hospitalized</td>\n",
       "      <td>5</td>\n",
       "      <td>5</td>\n",
       "      <td>2021</td>\n",
       "    </tr>\n",
       "    <tr>\n",
       "      <th>2021-05-05</th>\n",
       "      <td>1</td>\n",
       "      <td>151.0</td>\n",
       "      <td>NaN</td>\n",
       "      <td>NaN</td>\n",
       "      <td>Odisha</td>\n",
       "      <td>Hospitalized</td>\n",
       "      <td>5</td>\n",
       "      <td>5</td>\n",
       "      <td>2021</td>\n",
       "    </tr>\n",
       "    <tr>\n",
       "      <th>2021-05-05</th>\n",
       "      <td>2</td>\n",
       "      <td>483.0</td>\n",
       "      <td>NaN</td>\n",
       "      <td>NaN</td>\n",
       "      <td>Odisha</td>\n",
       "      <td>Hospitalized</td>\n",
       "      <td>5</td>\n",
       "      <td>5</td>\n",
       "      <td>2021</td>\n",
       "    </tr>\n",
       "    <tr>\n",
       "      <th>2021-05-05</th>\n",
       "      <td>3</td>\n",
       "      <td>52.0</td>\n",
       "      <td>NaN</td>\n",
       "      <td>NaN</td>\n",
       "      <td>Odisha</td>\n",
       "      <td>Hospitalized</td>\n",
       "      <td>5</td>\n",
       "      <td>5</td>\n",
       "      <td>2021</td>\n",
       "    </tr>\n",
       "    <tr>\n",
       "      <th>2021-05-05</th>\n",
       "      <td>4</td>\n",
       "      <td>326.0</td>\n",
       "      <td>NaN</td>\n",
       "      <td>NaN</td>\n",
       "      <td>Odisha</td>\n",
       "      <td>Hospitalized</td>\n",
       "      <td>5</td>\n",
       "      <td>5</td>\n",
       "      <td>2021</td>\n",
       "    </tr>\n",
       "  </tbody>\n",
       "</table>\n",
       "</div>"
      ],
      "text/plain": [
       "                Unnamed: 0  Num Cases  Age Bracket Gender Detected State  \\\n",
       "Date Announced                                                             \n",
       "2021-05-05               0      443.0          NaN    NaN         Odisha   \n",
       "2021-05-05               1      151.0          NaN    NaN         Odisha   \n",
       "2021-05-05               2      483.0          NaN    NaN         Odisha   \n",
       "2021-05-05               3       52.0          NaN    NaN         Odisha   \n",
       "2021-05-05               4      326.0          NaN    NaN         Odisha   \n",
       "\n",
       "               Current Status  Day  Month  Year  \n",
       "Date Announced                                   \n",
       "2021-05-05       Hospitalized    5      5  2021  \n",
       "2021-05-05       Hospitalized    5      5  2021  \n",
       "2021-05-05       Hospitalized    5      5  2021  \n",
       "2021-05-05       Hospitalized    5      5  2021  \n",
       "2021-05-05       Hospitalized    5      5  2021  "
      ]
     },
     "execution_count": 3,
     "metadata": {},
     "output_type": "execute_result"
    }
   ],
   "source": [
    "df1.head()"
   ]
  },
  {
   "cell_type": "code",
   "execution_count": 4,
   "metadata": {},
   "outputs": [
    {
     "data": {
      "text/html": [
       "<div>\n",
       "<style scoped>\n",
       "    .dataframe tbody tr th:only-of-type {\n",
       "        vertical-align: middle;\n",
       "    }\n",
       "\n",
       "    .dataframe tbody tr th {\n",
       "        vertical-align: top;\n",
       "    }\n",
       "\n",
       "    .dataframe thead th {\n",
       "        text-align: right;\n",
       "    }\n",
       "</style>\n",
       "<table border=\"1\" class=\"dataframe\">\n",
       "  <thead>\n",
       "    <tr style=\"text-align: right;\">\n",
       "      <th></th>\n",
       "      <th>Unnamed: 0</th>\n",
       "      <th>Num Cases</th>\n",
       "      <th>Age Bracket</th>\n",
       "      <th>Gender</th>\n",
       "      <th>Detected State</th>\n",
       "      <th>Current Status</th>\n",
       "      <th>Day</th>\n",
       "      <th>Month</th>\n",
       "      <th>Year</th>\n",
       "    </tr>\n",
       "    <tr>\n",
       "      <th>Date Announced</th>\n",
       "      <th></th>\n",
       "      <th></th>\n",
       "      <th></th>\n",
       "      <th></th>\n",
       "      <th></th>\n",
       "      <th></th>\n",
       "      <th></th>\n",
       "      <th></th>\n",
       "      <th></th>\n",
       "    </tr>\n",
       "  </thead>\n",
       "  <tbody>\n",
       "    <tr>\n",
       "      <th>2021-08-28</th>\n",
       "      <td>12065</td>\n",
       "      <td>NaN</td>\n",
       "      <td>NaN</td>\n",
       "      <td>NaN</td>\n",
       "      <td>NaN</td>\n",
       "      <td>NaN</td>\n",
       "      <td>28</td>\n",
       "      <td>8</td>\n",
       "      <td>2021</td>\n",
       "    </tr>\n",
       "    <tr>\n",
       "      <th>2021-08-28</th>\n",
       "      <td>12066</td>\n",
       "      <td>NaN</td>\n",
       "      <td>NaN</td>\n",
       "      <td>NaN</td>\n",
       "      <td>NaN</td>\n",
       "      <td>NaN</td>\n",
       "      <td>28</td>\n",
       "      <td>8</td>\n",
       "      <td>2021</td>\n",
       "    </tr>\n",
       "    <tr>\n",
       "      <th>2021-08-28</th>\n",
       "      <td>12067</td>\n",
       "      <td>NaN</td>\n",
       "      <td>NaN</td>\n",
       "      <td>NaN</td>\n",
       "      <td>NaN</td>\n",
       "      <td>NaN</td>\n",
       "      <td>28</td>\n",
       "      <td>8</td>\n",
       "      <td>2021</td>\n",
       "    </tr>\n",
       "    <tr>\n",
       "      <th>2021-08-28</th>\n",
       "      <td>12068</td>\n",
       "      <td>NaN</td>\n",
       "      <td>NaN</td>\n",
       "      <td>NaN</td>\n",
       "      <td>NaN</td>\n",
       "      <td>NaN</td>\n",
       "      <td>28</td>\n",
       "      <td>8</td>\n",
       "      <td>2021</td>\n",
       "    </tr>\n",
       "    <tr>\n",
       "      <th>2021-08-28</th>\n",
       "      <td>12069</td>\n",
       "      <td>NaN</td>\n",
       "      <td>NaN</td>\n",
       "      <td>NaN</td>\n",
       "      <td>NaN</td>\n",
       "      <td>NaN</td>\n",
       "      <td>28</td>\n",
       "      <td>8</td>\n",
       "      <td>2021</td>\n",
       "    </tr>\n",
       "  </tbody>\n",
       "</table>\n",
       "</div>"
      ],
      "text/plain": [
       "                Unnamed: 0  Num Cases  Age Bracket Gender Detected State  \\\n",
       "Date Announced                                                             \n",
       "2021-08-28           12065        NaN          NaN    NaN            NaN   \n",
       "2021-08-28           12066        NaN          NaN    NaN            NaN   \n",
       "2021-08-28           12067        NaN          NaN    NaN            NaN   \n",
       "2021-08-28           12068        NaN          NaN    NaN            NaN   \n",
       "2021-08-28           12069        NaN          NaN    NaN            NaN   \n",
       "\n",
       "               Current Status  Day  Month  Year  \n",
       "Date Announced                                   \n",
       "2021-08-28                NaN   28      8  2021  \n",
       "2021-08-28                NaN   28      8  2021  \n",
       "2021-08-28                NaN   28      8  2021  \n",
       "2021-08-28                NaN   28      8  2021  \n",
       "2021-08-28                NaN   28      8  2021  "
      ]
     },
     "execution_count": 4,
     "metadata": {},
     "output_type": "execute_result"
    }
   ],
   "source": [
    "df1.tail()"
   ]
  },
  {
   "cell_type": "code",
   "execution_count": 5,
   "metadata": {},
   "outputs": [
    {
     "data": {
      "text/html": [
       "<div>\n",
       "<style scoped>\n",
       "    .dataframe tbody tr th:only-of-type {\n",
       "        vertical-align: middle;\n",
       "    }\n",
       "\n",
       "    .dataframe tbody tr th {\n",
       "        vertical-align: top;\n",
       "    }\n",
       "\n",
       "    .dataframe thead th {\n",
       "        text-align: right;\n",
       "    }\n",
       "</style>\n",
       "<table border=\"1\" class=\"dataframe\">\n",
       "  <thead>\n",
       "    <tr style=\"text-align: right;\">\n",
       "      <th></th>\n",
       "      <th>Unnamed: 0</th>\n",
       "      <th>Num Cases</th>\n",
       "      <th>Age Bracket</th>\n",
       "      <th>Gender</th>\n",
       "      <th>Detected State</th>\n",
       "      <th>Current Status</th>\n",
       "      <th>Day</th>\n",
       "      <th>Month</th>\n",
       "      <th>Year</th>\n",
       "    </tr>\n",
       "    <tr>\n",
       "      <th>Date Announced</th>\n",
       "      <th></th>\n",
       "      <th></th>\n",
       "      <th></th>\n",
       "      <th></th>\n",
       "      <th></th>\n",
       "      <th></th>\n",
       "      <th></th>\n",
       "      <th></th>\n",
       "      <th></th>\n",
       "    </tr>\n",
       "  </thead>\n",
       "  <tbody>\n",
       "    <tr>\n",
       "      <th>2021-05-05</th>\n",
       "      <td>0</td>\n",
       "      <td>443.0</td>\n",
       "      <td>NaN</td>\n",
       "      <td>NaN</td>\n",
       "      <td>Odisha</td>\n",
       "      <td>Hospitalized</td>\n",
       "      <td>5</td>\n",
       "      <td>5</td>\n",
       "      <td>2021</td>\n",
       "    </tr>\n",
       "    <tr>\n",
       "      <th>2021-05-05</th>\n",
       "      <td>1</td>\n",
       "      <td>151.0</td>\n",
       "      <td>NaN</td>\n",
       "      <td>NaN</td>\n",
       "      <td>Odisha</td>\n",
       "      <td>Hospitalized</td>\n",
       "      <td>5</td>\n",
       "      <td>5</td>\n",
       "      <td>2021</td>\n",
       "    </tr>\n",
       "    <tr>\n",
       "      <th>2021-05-05</th>\n",
       "      <td>2</td>\n",
       "      <td>483.0</td>\n",
       "      <td>NaN</td>\n",
       "      <td>NaN</td>\n",
       "      <td>Odisha</td>\n",
       "      <td>Hospitalized</td>\n",
       "      <td>5</td>\n",
       "      <td>5</td>\n",
       "      <td>2021</td>\n",
       "    </tr>\n",
       "    <tr>\n",
       "      <th>2021-05-05</th>\n",
       "      <td>3</td>\n",
       "      <td>52.0</td>\n",
       "      <td>NaN</td>\n",
       "      <td>NaN</td>\n",
       "      <td>Odisha</td>\n",
       "      <td>Hospitalized</td>\n",
       "      <td>5</td>\n",
       "      <td>5</td>\n",
       "      <td>2021</td>\n",
       "    </tr>\n",
       "    <tr>\n",
       "      <th>2021-05-05</th>\n",
       "      <td>4</td>\n",
       "      <td>326.0</td>\n",
       "      <td>NaN</td>\n",
       "      <td>NaN</td>\n",
       "      <td>Odisha</td>\n",
       "      <td>Hospitalized</td>\n",
       "      <td>5</td>\n",
       "      <td>5</td>\n",
       "      <td>2021</td>\n",
       "    </tr>\n",
       "    <tr>\n",
       "      <th>...</th>\n",
       "      <td>...</td>\n",
       "      <td>...</td>\n",
       "      <td>...</td>\n",
       "      <td>...</td>\n",
       "      <td>...</td>\n",
       "      <td>...</td>\n",
       "      <td>...</td>\n",
       "      <td>...</td>\n",
       "      <td>...</td>\n",
       "    </tr>\n",
       "    <tr>\n",
       "      <th>2021-08-28</th>\n",
       "      <td>12065</td>\n",
       "      <td>NaN</td>\n",
       "      <td>NaN</td>\n",
       "      <td>NaN</td>\n",
       "      <td>NaN</td>\n",
       "      <td>NaN</td>\n",
       "      <td>28</td>\n",
       "      <td>8</td>\n",
       "      <td>2021</td>\n",
       "    </tr>\n",
       "    <tr>\n",
       "      <th>2021-08-28</th>\n",
       "      <td>12066</td>\n",
       "      <td>NaN</td>\n",
       "      <td>NaN</td>\n",
       "      <td>NaN</td>\n",
       "      <td>NaN</td>\n",
       "      <td>NaN</td>\n",
       "      <td>28</td>\n",
       "      <td>8</td>\n",
       "      <td>2021</td>\n",
       "    </tr>\n",
       "    <tr>\n",
       "      <th>2021-08-28</th>\n",
       "      <td>12067</td>\n",
       "      <td>NaN</td>\n",
       "      <td>NaN</td>\n",
       "      <td>NaN</td>\n",
       "      <td>NaN</td>\n",
       "      <td>NaN</td>\n",
       "      <td>28</td>\n",
       "      <td>8</td>\n",
       "      <td>2021</td>\n",
       "    </tr>\n",
       "    <tr>\n",
       "      <th>2021-08-28</th>\n",
       "      <td>12068</td>\n",
       "      <td>NaN</td>\n",
       "      <td>NaN</td>\n",
       "      <td>NaN</td>\n",
       "      <td>NaN</td>\n",
       "      <td>NaN</td>\n",
       "      <td>28</td>\n",
       "      <td>8</td>\n",
       "      <td>2021</td>\n",
       "    </tr>\n",
       "    <tr>\n",
       "      <th>2021-08-28</th>\n",
       "      <td>12069</td>\n",
       "      <td>NaN</td>\n",
       "      <td>NaN</td>\n",
       "      <td>NaN</td>\n",
       "      <td>NaN</td>\n",
       "      <td>NaN</td>\n",
       "      <td>28</td>\n",
       "      <td>8</td>\n",
       "      <td>2021</td>\n",
       "    </tr>\n",
       "  </tbody>\n",
       "</table>\n",
       "<p>175757 rows × 9 columns</p>\n",
       "</div>"
      ],
      "text/plain": [
       "                Unnamed: 0  Num Cases  Age Bracket Gender Detected State  \\\n",
       "Date Announced                                                             \n",
       "2021-05-05               0      443.0          NaN    NaN         Odisha   \n",
       "2021-05-05               1      151.0          NaN    NaN         Odisha   \n",
       "2021-05-05               2      483.0          NaN    NaN         Odisha   \n",
       "2021-05-05               3       52.0          NaN    NaN         Odisha   \n",
       "2021-05-05               4      326.0          NaN    NaN         Odisha   \n",
       "...                    ...        ...          ...    ...            ...   \n",
       "2021-08-28           12065        NaN          NaN    NaN            NaN   \n",
       "2021-08-28           12066        NaN          NaN    NaN            NaN   \n",
       "2021-08-28           12067        NaN          NaN    NaN            NaN   \n",
       "2021-08-28           12068        NaN          NaN    NaN            NaN   \n",
       "2021-08-28           12069        NaN          NaN    NaN            NaN   \n",
       "\n",
       "               Current Status  Day  Month  Year  \n",
       "Date Announced                                   \n",
       "2021-05-05       Hospitalized    5      5  2021  \n",
       "2021-05-05       Hospitalized    5      5  2021  \n",
       "2021-05-05       Hospitalized    5      5  2021  \n",
       "2021-05-05       Hospitalized    5      5  2021  \n",
       "2021-05-05       Hospitalized    5      5  2021  \n",
       "...                       ...  ...    ...   ...  \n",
       "2021-08-28                NaN   28      8  2021  \n",
       "2021-08-28                NaN   28      8  2021  \n",
       "2021-08-28                NaN   28      8  2021  \n",
       "2021-08-28                NaN   28      8  2021  \n",
       "2021-08-28                NaN   28      8  2021  \n",
       "\n",
       "[175757 rows x 9 columns]"
      ]
     },
     "execution_count": 5,
     "metadata": {},
     "output_type": "execute_result"
    }
   ],
   "source": [
    "df1"
   ]
  },
  {
   "cell_type": "code",
   "execution_count": 6,
   "metadata": {},
   "outputs": [],
   "source": [
    "del df1['Unnamed: 0']\n",
    "del df1['Age Bracket']\n",
    "del df1['Gender']\n",
    "del df1['Detected State']\n",
    "del df1['Current Status']\n",
    "del df1['Day']\n",
    "del df1['Month']\n",
    "del df1['Year']"
   ]
  },
  {
   "cell_type": "code",
   "execution_count": 7,
   "metadata": {},
   "outputs": [
    {
     "data": {
      "text/html": [
       "<div>\n",
       "<style scoped>\n",
       "    .dataframe tbody tr th:only-of-type {\n",
       "        vertical-align: middle;\n",
       "    }\n",
       "\n",
       "    .dataframe tbody tr th {\n",
       "        vertical-align: top;\n",
       "    }\n",
       "\n",
       "    .dataframe thead th {\n",
       "        text-align: right;\n",
       "    }\n",
       "</style>\n",
       "<table border=\"1\" class=\"dataframe\">\n",
       "  <thead>\n",
       "    <tr style=\"text-align: right;\">\n",
       "      <th></th>\n",
       "      <th>Num Cases</th>\n",
       "    </tr>\n",
       "    <tr>\n",
       "      <th>Date Announced</th>\n",
       "      <th></th>\n",
       "    </tr>\n",
       "  </thead>\n",
       "  <tbody>\n",
       "    <tr>\n",
       "      <th>2021-05-05</th>\n",
       "      <td>443.0</td>\n",
       "    </tr>\n",
       "    <tr>\n",
       "      <th>2021-05-05</th>\n",
       "      <td>151.0</td>\n",
       "    </tr>\n",
       "    <tr>\n",
       "      <th>2021-05-05</th>\n",
       "      <td>483.0</td>\n",
       "    </tr>\n",
       "    <tr>\n",
       "      <th>2021-05-05</th>\n",
       "      <td>52.0</td>\n",
       "    </tr>\n",
       "    <tr>\n",
       "      <th>2021-05-05</th>\n",
       "      <td>326.0</td>\n",
       "    </tr>\n",
       "    <tr>\n",
       "      <th>...</th>\n",
       "      <td>...</td>\n",
       "    </tr>\n",
       "    <tr>\n",
       "      <th>2021-08-28</th>\n",
       "      <td>521.0</td>\n",
       "    </tr>\n",
       "    <tr>\n",
       "      <th>2021-08-28</th>\n",
       "      <td>550.0</td>\n",
       "    </tr>\n",
       "    <tr>\n",
       "      <th>2021-08-28</th>\n",
       "      <td>13.0</td>\n",
       "    </tr>\n",
       "    <tr>\n",
       "      <th>2021-08-28</th>\n",
       "      <td>1.0</td>\n",
       "    </tr>\n",
       "    <tr>\n",
       "      <th>2021-08-28</th>\n",
       "      <td>6.0</td>\n",
       "    </tr>\n",
       "  </tbody>\n",
       "</table>\n",
       "<p>175429 rows × 1 columns</p>\n",
       "</div>"
      ],
      "text/plain": [
       "                Num Cases\n",
       "Date Announced           \n",
       "2021-05-05          443.0\n",
       "2021-05-05          151.0\n",
       "2021-05-05          483.0\n",
       "2021-05-05           52.0\n",
       "2021-05-05          326.0\n",
       "...                   ...\n",
       "2021-08-28          521.0\n",
       "2021-08-28          550.0\n",
       "2021-08-28           13.0\n",
       "2021-08-28            1.0\n",
       "2021-08-28            6.0\n",
       "\n",
       "[175429 rows x 1 columns]"
      ]
     },
     "execution_count": 7,
     "metadata": {},
     "output_type": "execute_result"
    }
   ],
   "source": [
    "df1 = df1.dropna()\n",
    "df1"
   ]
  },
  {
   "cell_type": "code",
   "execution_count": 8,
   "metadata": {},
   "outputs": [
    {
     "data": {
      "text/plain": [
       "Num Cases    0\n",
       "dtype: int64"
      ]
     },
     "execution_count": 8,
     "metadata": {},
     "output_type": "execute_result"
    }
   ],
   "source": [
    "df1.isna().sum()"
   ]
  },
  {
   "cell_type": "code",
   "execution_count": 9,
   "metadata": {},
   "outputs": [
    {
     "data": {
      "text/plain": [
       "True"
      ]
     },
     "execution_count": 9,
     "metadata": {},
     "output_type": "execute_result"
    }
   ],
   "source": [
    "(df1['Num Cases'].values < 0).any()"
   ]
  },
  {
   "cell_type": "code",
   "execution_count": 10,
   "metadata": {},
   "outputs": [],
   "source": [
    "df1 = df1[df1['Num Cases'] > 0]"
   ]
  },
  {
   "cell_type": "code",
   "execution_count": 11,
   "metadata": {},
   "outputs": [
    {
     "data": {
      "text/html": [
       "<div>\n",
       "<style scoped>\n",
       "    .dataframe tbody tr th:only-of-type {\n",
       "        vertical-align: middle;\n",
       "    }\n",
       "\n",
       "    .dataframe tbody tr th {\n",
       "        vertical-align: top;\n",
       "    }\n",
       "\n",
       "    .dataframe thead th {\n",
       "        text-align: right;\n",
       "    }\n",
       "</style>\n",
       "<table border=\"1\" class=\"dataframe\">\n",
       "  <thead>\n",
       "    <tr style=\"text-align: right;\">\n",
       "      <th></th>\n",
       "      <th>Num Cases</th>\n",
       "    </tr>\n",
       "    <tr>\n",
       "      <th>Date Announced</th>\n",
       "      <th></th>\n",
       "    </tr>\n",
       "  </thead>\n",
       "  <tbody>\n",
       "    <tr>\n",
       "      <th>2021-05-05</th>\n",
       "      <td>443.0</td>\n",
       "    </tr>\n",
       "    <tr>\n",
       "      <th>2021-05-05</th>\n",
       "      <td>151.0</td>\n",
       "    </tr>\n",
       "    <tr>\n",
       "      <th>2021-05-05</th>\n",
       "      <td>483.0</td>\n",
       "    </tr>\n",
       "    <tr>\n",
       "      <th>2021-05-05</th>\n",
       "      <td>52.0</td>\n",
       "    </tr>\n",
       "    <tr>\n",
       "      <th>2021-05-05</th>\n",
       "      <td>326.0</td>\n",
       "    </tr>\n",
       "    <tr>\n",
       "      <th>...</th>\n",
       "      <td>...</td>\n",
       "    </tr>\n",
       "    <tr>\n",
       "      <th>2021-08-28</th>\n",
       "      <td>521.0</td>\n",
       "    </tr>\n",
       "    <tr>\n",
       "      <th>2021-08-28</th>\n",
       "      <td>550.0</td>\n",
       "    </tr>\n",
       "    <tr>\n",
       "      <th>2021-08-28</th>\n",
       "      <td>13.0</td>\n",
       "    </tr>\n",
       "    <tr>\n",
       "      <th>2021-08-28</th>\n",
       "      <td>1.0</td>\n",
       "    </tr>\n",
       "    <tr>\n",
       "      <th>2021-08-28</th>\n",
       "      <td>6.0</td>\n",
       "    </tr>\n",
       "  </tbody>\n",
       "</table>\n",
       "<p>173963 rows × 1 columns</p>\n",
       "</div>"
      ],
      "text/plain": [
       "                Num Cases\n",
       "Date Announced           \n",
       "2021-05-05          443.0\n",
       "2021-05-05          151.0\n",
       "2021-05-05          483.0\n",
       "2021-05-05           52.0\n",
       "2021-05-05          326.0\n",
       "...                   ...\n",
       "2021-08-28          521.0\n",
       "2021-08-28          550.0\n",
       "2021-08-28           13.0\n",
       "2021-08-28            1.0\n",
       "2021-08-28            6.0\n",
       "\n",
       "[173963 rows x 1 columns]"
      ]
     },
     "execution_count": 11,
     "metadata": {},
     "output_type": "execute_result"
    }
   ],
   "source": [
    "df1"
   ]
  },
  {
   "cell_type": "code",
   "execution_count": 12,
   "metadata": {},
   "outputs": [
    {
     "data": {
      "text/plain": [
       "False"
      ]
     },
     "execution_count": 12,
     "metadata": {},
     "output_type": "execute_result"
    }
   ],
   "source": [
    "(df1['Num Cases'].values < 0).any()"
   ]
  },
  {
   "cell_type": "code",
   "execution_count": 13,
   "metadata": {},
   "outputs": [
    {
     "data": {
      "text/html": [
       "<div>\n",
       "<style scoped>\n",
       "    .dataframe tbody tr th:only-of-type {\n",
       "        vertical-align: middle;\n",
       "    }\n",
       "\n",
       "    .dataframe tbody tr th {\n",
       "        vertical-align: top;\n",
       "    }\n",
       "\n",
       "    .dataframe thead th {\n",
       "        text-align: right;\n",
       "    }\n",
       "</style>\n",
       "<table border=\"1\" class=\"dataframe\">\n",
       "  <thead>\n",
       "    <tr style=\"text-align: right;\">\n",
       "      <th></th>\n",
       "      <th>Num Cases</th>\n",
       "    </tr>\n",
       "  </thead>\n",
       "  <tbody>\n",
       "    <tr>\n",
       "      <th>count</th>\n",
       "      <td>173963.000000</td>\n",
       "    </tr>\n",
       "    <tr>\n",
       "      <th>mean</th>\n",
       "      <td>156.762881</td>\n",
       "    </tr>\n",
       "    <tr>\n",
       "      <th>std</th>\n",
       "      <td>584.433606</td>\n",
       "    </tr>\n",
       "    <tr>\n",
       "      <th>min</th>\n",
       "      <td>1.000000</td>\n",
       "    </tr>\n",
       "    <tr>\n",
       "      <th>25%</th>\n",
       "      <td>2.000000</td>\n",
       "    </tr>\n",
       "    <tr>\n",
       "      <th>50%</th>\n",
       "      <td>12.000000</td>\n",
       "    </tr>\n",
       "    <tr>\n",
       "      <th>75%</th>\n",
       "      <td>89.000000</td>\n",
       "    </tr>\n",
       "    <tr>\n",
       "      <th>max</th>\n",
       "      <td>36030.000000</td>\n",
       "    </tr>\n",
       "  </tbody>\n",
       "</table>\n",
       "</div>"
      ],
      "text/plain": [
       "           Num Cases\n",
       "count  173963.000000\n",
       "mean      156.762881\n",
       "std       584.433606\n",
       "min         1.000000\n",
       "25%         2.000000\n",
       "50%        12.000000\n",
       "75%        89.000000\n",
       "max     36030.000000"
      ]
     },
     "execution_count": 13,
     "metadata": {},
     "output_type": "execute_result"
    }
   ],
   "source": [
    "df1.describe()"
   ]
  },
  {
   "cell_type": "code",
   "execution_count": 14,
   "metadata": {},
   "outputs": [
    {
     "data": {
      "text/plain": [
       "<matplotlib.axes._subplots.AxesSubplot at 0x16535a71910>"
      ]
     },
     "execution_count": 14,
     "metadata": {},
     "output_type": "execute_result"
    },
    {
     "data": {
      "image/png": "[encoded data removed]",
      "text/plain": [
       "<Figure size 864x432 with 1 Axes>"
      ]
     },
     "metadata": {
      "needs_background": "light"
     },
     "output_type": "display_data"
    }
   ],
   "source": [
    "df1.plot(figsize=(12,6))"
   ]
  },
  {
   "cell_type": "code",
   "execution_count": 15,
   "metadata": {},
   "outputs": [
    {
     "data": {
      "text/plain": [
       "[<matplotlib.lines.Line2D at 0x1653705f0d0>]"
      ]
     },
     "execution_count": 15,
     "metadata": {},
     "output_type": "execute_result"
    },
    {
     "data": {
      "image/png": "[encoded data removed]",
      "text/plain": [
       "<Figure size 432x288 with 1 Axes>"
      ]
     },
     "metadata": {
      "needs_background": "light"
     },
     "output_type": "display_data"
    }
   ],
   "source": [
    "import matplotlib.pyplot as plt\n",
    "plt.plot(df1)"
   ]
  },
  {
   "cell_type": "code",
   "execution_count": 16,
   "metadata": {},
   "outputs": [],
   "source": [
    "from statsmodels.tsa.stattools import adfuller\n",
    "def adfuller_test(Num_Cases):\n",
    "    result=adfuller(Num_Cases)\n",
    "    labels = ['ADF Test Statistic','p-value','#Lags Used','Number of Observations Used']\n",
    "    for value,label in zip(result,labels):\n",
    "        print(label+' : '+str(value) )\n",
    "    if result[1] <= 0.05:\n",
    "        print(\"strong evidence against the null hypothesis(Ho), reject the null hypothesis. Data has no unit root and is stationary\")\n",
    "    else:\n",
    "        print(\"weak evidence against null hypothesis, time series has a unit root, indicating it is non-stationary \")"
   ]
  },
  {
   "cell_type": "code",
   "execution_count": 17,
   "metadata": {},
   "outputs": [],
   "source": [
    "### LSTM are sensitive to the scale of the data. so we apply MinMax scaler "
   ]
  },
  {
   "cell_type": "code",
   "execution_count": 18,
   "metadata": {},
   "outputs": [],
   "source": [
    "import numpy as np"
   ]
  },
  {
   "cell_type": "code",
   "execution_count": 19,
   "metadata": {},
   "outputs": [
    {
     "data": {
      "text/html": [
       "<div>\n",
       "<style scoped>\n",
       "    .dataframe tbody tr th:only-of-type {\n",
       "        vertical-align: middle;\n",
       "    }\n",
       "\n",
       "    .dataframe tbody tr th {\n",
       "        vertical-align: top;\n",
       "    }\n",
       "\n",
       "    .dataframe thead th {\n",
       "        text-align: right;\n",
       "    }\n",
       "</style>\n",
       "<table border=\"1\" class=\"dataframe\">\n",
       "  <thead>\n",
       "    <tr style=\"text-align: right;\">\n",
       "      <th></th>\n",
       "      <th>Num Cases</th>\n",
       "    </tr>\n",
       "    <tr>\n",
       "      <th>Date Announced</th>\n",
       "      <th></th>\n",
       "    </tr>\n",
       "  </thead>\n",
       "  <tbody>\n",
       "    <tr>\n",
       "      <th>2021-05-05</th>\n",
       "      <td>443.0</td>\n",
       "    </tr>\n",
       "    <tr>\n",
       "      <th>2021-05-05</th>\n",
       "      <td>151.0</td>\n",
       "    </tr>\n",
       "    <tr>\n",
       "      <th>2021-05-05</th>\n",
       "      <td>483.0</td>\n",
       "    </tr>\n",
       "    <tr>\n",
       "      <th>2021-05-05</th>\n",
       "      <td>52.0</td>\n",
       "    </tr>\n",
       "    <tr>\n",
       "      <th>2021-05-05</th>\n",
       "      <td>326.0</td>\n",
       "    </tr>\n",
       "    <tr>\n",
       "      <th>...</th>\n",
       "      <td>...</td>\n",
       "    </tr>\n",
       "    <tr>\n",
       "      <th>2021-08-28</th>\n",
       "      <td>521.0</td>\n",
       "    </tr>\n",
       "    <tr>\n",
       "      <th>2021-08-28</th>\n",
       "      <td>550.0</td>\n",
       "    </tr>\n",
       "    <tr>\n",
       "      <th>2021-08-28</th>\n",
       "      <td>13.0</td>\n",
       "    </tr>\n",
       "    <tr>\n",
       "      <th>2021-08-28</th>\n",
       "      <td>1.0</td>\n",
       "    </tr>\n",
       "    <tr>\n",
       "      <th>2021-08-28</th>\n",
       "      <td>6.0</td>\n",
       "    </tr>\n",
       "  </tbody>\n",
       "</table>\n",
       "<p>173963 rows × 1 columns</p>\n",
       "</div>"
      ],
      "text/plain": [
       "                Num Cases\n",
       "Date Announced           \n",
       "2021-05-05          443.0\n",
       "2021-05-05          151.0\n",
       "2021-05-05          483.0\n",
       "2021-05-05           52.0\n",
       "2021-05-05          326.0\n",
       "...                   ...\n",
       "2021-08-28          521.0\n",
       "2021-08-28          550.0\n",
       "2021-08-28           13.0\n",
       "2021-08-28            1.0\n",
       "2021-08-28            6.0\n",
       "\n",
       "[173963 rows x 1 columns]"
      ]
     },
     "execution_count": 19,
     "metadata": {},
     "output_type": "execute_result"
    }
   ],
   "source": [
    "df1"
   ]
  },
  {
   "cell_type": "code",
   "execution_count": 20,
   "metadata": {},
   "outputs": [],
   "source": [
    "from sklearn.preprocessing import MinMaxScaler\n",
    "scaler=MinMaxScaler(feature_range=(0,1))\n",
    "df1=scaler.fit_transform(np.array(df1).reshape(-1,1))"
   ]
  },
  {
   "cell_type": "code",
   "execution_count": 21,
   "metadata": {},
   "outputs": [
    {
     "name": "stdout",
     "output_type": "stream",
     "text": [
      "[[0.0122679 ]\n",
      " [0.00416331]\n",
      " [0.01337811]\n",
      " ...\n",
      " [0.00033307]\n",
      " [0.        ]\n",
      " [0.00013878]]\n"
     ]
    }
   ],
   "source": [
    "print(df1)"
   ]
  },
  {
   "cell_type": "code",
   "execution_count": 22,
   "metadata": {},
   "outputs": [],
   "source": [
    "##splitting dataset into train and test split\n",
    "training_size=int(len(df1)*0.75)\n",
    "test_size=len(df1)-training_size\n",
    "train_data,test_data=df1[0:training_size,:],df1[training_size:len(df1),:1]"
   ]
  },
  {
   "cell_type": "code",
   "execution_count": 23,
   "metadata": {},
   "outputs": [
    {
     "data": {
      "text/plain": [
       "(130472, 43491)"
      ]
     },
     "execution_count": 23,
     "metadata": {},
     "output_type": "execute_result"
    }
   ],
   "source": [
    "training_size,test_size"
   ]
  },
  {
   "cell_type": "code",
   "execution_count": 24,
   "metadata": {},
   "outputs": [
    {
     "data": {
      "text/plain": [
       "array([[0.0122679 ],\n",
       "       [0.00416331],\n",
       "       [0.01337811],\n",
       "       ...,\n",
       "       [0.        ],\n",
       "       [0.01276749],\n",
       "       [0.00319187]])"
      ]
     },
     "execution_count": 24,
     "metadata": {},
     "output_type": "execute_result"
    }
   ],
   "source": [
    "train_data"
   ]
  },
  {
   "cell_type": "code",
   "execution_count": 25,
   "metadata": {},
   "outputs": [],
   "source": [
    "import numpy\n",
    "# convert an array of values into a dataset matrix\n",
    "def create_dataset(dataset, time_step=1):\n",
    "\tdataX, dataY = [], []\n",
    "\tfor i in range(len(dataset)-time_step-1):\n",
    "\t\ta = dataset[i:(i+time_step), 0]   ###i=0, 0,1,2,3-----99   100 \n",
    "\t\tdataX.append(a)\n",
    "\t\tdataY.append(dataset[i + time_step, 0])\n",
    "\treturn numpy.array(dataX), numpy.array(dataY)"
   ]
  },
  {
   "cell_type": "code",
   "execution_count": 26,
   "metadata": {},
   "outputs": [],
   "source": [
    "# reshape into X=t,t+1,t+2,t+3 and Y=t+4\n",
    "time_step = 100\n",
    "X_train, y_train = create_dataset(train_data, time_step)\n",
    "X_test, ytest = create_dataset(test_data, time_step)"
   ]
  },
  {
   "cell_type": "code",
   "execution_count": 27,
   "metadata": {},
   "outputs": [
    {
     "name": "stdout",
     "output_type": "stream",
     "text": [
      "(130371, 100)\n",
      "(130371,)\n"
     ]
    },
    {
     "data": {
      "text/plain": [
       "(None, None)"
      ]
     },
     "execution_count": 27,
     "metadata": {},
     "output_type": "execute_result"
    }
   ],
   "source": [
    "print(X_train.shape), print(y_train.shape)"
   ]
  },
  {
   "cell_type": "code",
   "execution_count": 28,
   "metadata": {},
   "outputs": [
    {
     "name": "stdout",
     "output_type": "stream",
     "text": [
      "(43390, 100)\n",
      "(43390,)\n"
     ]
    },
    {
     "data": {
      "text/plain": [
       "(None, None)"
      ]
     },
     "execution_count": 28,
     "metadata": {},
     "output_type": "execute_result"
    }
   ],
   "source": [
    "print(X_test.shape), print(ytest.shape)"
   ]
  },
  {
   "cell_type": "code",
   "execution_count": 29,
   "metadata": {},
   "outputs": [],
   "source": [
    "# reshape input to be [samples, time steps, features] which is required for LSTM\n",
    "X_train =X_train.reshape(X_train.shape[0],X_train.shape[1] , 1)\n",
    "X_test = X_test.reshape(X_test.shape[0],X_test.shape[1] , 1)"
   ]
  },
  {
   "cell_type": "code",
   "execution_count": 30,
   "metadata": {},
   "outputs": [],
   "source": [
    "### Create the Stacked LSTM model\n",
    "from tensorflow.keras.models import Sequential\n",
    "from tensorflow.keras.layers import Dense\n",
    "from tensorflow.keras.layers import LSTM"
   ]
  },
  {
   "cell_type": "code",
   "execution_count": 31,
   "metadata": {},
   "outputs": [],
   "source": [
    "model=Sequential()\n",
    "model.add(LSTM(50,return_sequences=True,input_shape=(100,1)))\n",
    "model.add(LSTM(50,return_sequences=True))\n",
    "model.add(LSTM(50))\n",
    "model.add(Dense(1))\n",
    "model.compile(loss='mean_squared_error',optimizer='rmsprop',metrics=['acc'])\n"
   ]
  },
  {
   "cell_type": "code",
   "execution_count": 32,
   "metadata": {},
   "outputs": [
    {
     "name": "stdout",
     "output_type": "stream",
     "text": [
      "Model: \"sequential\"\n",
      "_________________________________________________________________\n",
      " Layer (type)                Output Shape              Param #   \n",
      "=================================================================\n",
      " lstm (LSTM)                 (None, 100, 50)           10400     \n",
      "                                                                 \n",
      " lstm_1 (LSTM)               (None, 100, 50)           20200     \n",
      "                                                                 \n",
      " lstm_2 (LSTM)               (None, 50)                20200     \n",
      "                                                                 \n",
      " dense (Dense)               (None, 1)                 51        \n",
      "                                                                 \n",
      "=================================================================\n",
      "Total params: 50,851\n",
      "Trainable params: 50,851\n",
      "Non-trainable params: 0\n",
      "_________________________________________________________________\n"
     ]
    }
   ],
   "source": [
    "model.summary()"
   ]
  },
  {
   "cell_type": "code",
   "execution_count": 33,
   "metadata": {},
   "outputs": [
    {
     "name": "stdout",
     "output_type": "stream",
     "text": [
      "Epoch 1/100\n",
      "2038/2038 [==============================] - 636s 305ms/step - loss: 2.8662e-04 - acc: 0.1785 - val_loss: 4.6135e-05 - val_acc: 0.2861\n",
      "Epoch 2/100\n",
      "2038/2038 [==============================] - 625s 306ms/step - loss: 2.6977e-04 - acc: 0.1785 - val_loss: 2.5114e-05 - val_acc: 0.2861\n",
      "Epoch 3/100\n",
      "2038/2038 [==============================] - 613s 301ms/step - loss: 2.6332e-04 - acc: 0.1785 - val_loss: 5.7238e-05 - val_acc: 0.2861\n",
      "Epoch 4/100\n",
      "2038/2038 [==============================] - 615s 302ms/step - loss: 2.6109e-04 - acc: 0.1785 - val_loss: 2.9987e-05 - val_acc: 0.2861\n",
      "Epoch 5/100\n",
      "2038/2038 [==============================] - 632s 310ms/step - loss: 2.6144e-04 - acc: 0.1785 - val_loss: 2.4803e-05 - val_acc: 0.2861\n",
      "Epoch 6/100\n",
      "2038/2038 [==============================] - 619s 304ms/step - loss: 2.6107e-04 - acc: 0.1785 - val_loss: 2.5952e-05 - val_acc: 0.2861\n",
      "Epoch 7/100\n",
      "2038/2038 [==============================] - 616s 302ms/step - loss: 2.6084e-04 - acc: 0.1785 - val_loss: 6.0426e-05 - val_acc: 0.2861\n",
      "Epoch 8/100\n",
      "2038/2038 [==============================] - 634s 311ms/step - loss: 2.6015e-04 - acc: 0.1785 - val_loss: 2.6058e-05 - val_acc: 0.2861\n",
      "Epoch 9/100\n",
      "2038/2038 [==============================] - 638s 313ms/step - loss: 2.5928e-04 - acc: 0.1785 - val_loss: 2.6700e-05 - val_acc: 0.2861\n",
      "Epoch 10/100\n",
      "2038/2038 [==============================] - 646s 317ms/step - loss: 2.5940e-04 - acc: 0.1785 - val_loss: 2.4110e-05 - val_acc: 0.2861\n",
      "Epoch 11/100\n",
      "2038/2038 [==============================] - 621s 305ms/step - loss: 2.5726e-04 - acc: 0.1785 - val_loss: 4.1271e-05 - val_acc: 0.2861\n",
      "Epoch 12/100\n",
      "2038/2038 [==============================] - 622s 305ms/step - loss: 2.5717e-04 - acc: 0.1785 - val_loss: 2.5237e-05 - val_acc: 0.2861\n",
      "Epoch 13/100\n",
      "2038/2038 [==============================] - 622s 305ms/step - loss: 2.5593e-04 - acc: 0.1785 - val_loss: 2.5601e-05 - val_acc: 0.2861\n",
      "Epoch 14/100\n",
      "2038/2038 [==============================] - 626s 307ms/step - loss: 2.5455e-04 - acc: 0.1785 - val_loss: 3.8951e-05 - val_acc: 0.2861\n",
      "Epoch 15/100\n",
      "2038/2038 [==============================] - 623s 305ms/step - loss: 2.5298e-04 - acc: 0.1785 - val_loss: 4.6842e-05 - val_acc: 0.2861\n",
      "Epoch 16/100\n",
      "2038/2038 [==============================] - 623s 306ms/step - loss: 2.5109e-04 - acc: 0.1785 - val_loss: 7.1582e-05 - val_acc: 0.2861\n",
      "Epoch 17/100\n",
      "2038/2038 [==============================] - 639s 314ms/step - loss: 2.4866e-04 - acc: 0.1785 - val_loss: 4.7956e-05 - val_acc: 0.2861\n",
      "Epoch 18/100\n",
      "2038/2038 [==============================] - 651s 319ms/step - loss: 2.4719e-04 - acc: 0.1785 - val_loss: 1.5791e-04 - val_acc: 0.2861\n",
      "Epoch 19/100\n",
      "2038/2038 [==============================] - 648s 318ms/step - loss: 2.4536e-04 - acc: 0.1785 - val_loss: 3.2299e-05 - val_acc: 0.2861\n",
      "Epoch 20/100\n",
      "2038/2038 [==============================] - 624s 306ms/step - loss: 2.4392e-04 - acc: 0.1785 - val_loss: 2.3289e-05 - val_acc: 0.2861\n",
      "Epoch 21/100\n",
      "2038/2038 [==============================] - 623s 306ms/step - loss: 2.3590e-04 - acc: 0.1785 - val_loss: 3.0645e-05 - val_acc: 0.2861\n",
      "Epoch 22/100\n",
      "2038/2038 [==============================] - 641s 315ms/step - loss: 2.3545e-04 - acc: 0.1785 - val_loss: 2.2506e-05 - val_acc: 0.2861\n",
      "Epoch 23/100\n",
      "2038/2038 [==============================] - 623s 306ms/step - loss: 2.3124e-04 - acc: 0.1785 - val_loss: 2.2103e-05 - val_acc: 0.2861\n",
      "Epoch 24/100\n",
      "2038/2038 [==============================] - 644s 316ms/step - loss: 2.3165e-04 - acc: 0.1785 - val_loss: 2.6943e-05 - val_acc: 0.2861\n",
      "Epoch 25/100\n",
      "2038/2038 [==============================] - 623s 306ms/step - loss: 2.2154e-04 - acc: 0.1785 - val_loss: 3.3751e-05 - val_acc: 0.2861\n",
      "Epoch 26/100\n",
      "2038/2038 [==============================] - 622s 305ms/step - loss: 2.1973e-04 - acc: 0.1785 - val_loss: 7.3699e-05 - val_acc: 0.2861\n",
      "Epoch 27/100\n",
      "2038/2038 [==============================] - 645s 316ms/step - loss: 2.1849e-04 - acc: 0.1785 - val_loss: 3.0835e-05 - val_acc: 0.2861\n",
      "Epoch 28/100\n",
      "2038/2038 [==============================] - 625s 306ms/step - loss: 2.1364e-04 - acc: 0.1785 - val_loss: 2.2430e-05 - val_acc: 0.2861\n",
      "Epoch 29/100\n",
      "2038/2038 [==============================] - 628s 308ms/step - loss: 2.1452e-04 - acc: 0.1785 - val_loss: 3.1666e-05 - val_acc: 0.2861\n",
      "Epoch 30/100\n",
      "2038/2038 [==============================] - 624s 306ms/step - loss: 2.1292e-04 - acc: 0.1785 - val_loss: 6.5837e-05 - val_acc: 0.2861\n",
      "Epoch 31/100\n",
      "2038/2038 [==============================] - 622s 305ms/step - loss: 2.1586e-04 - acc: 0.1785 - val_loss: 7.8734e-05 - val_acc: 0.2861\n",
      "Epoch 32/100\n",
      "2038/2038 [==============================] - 644s 316ms/step - loss: 2.0704e-04 - acc: 0.1785 - val_loss: 5.8551e-05 - val_acc: 0.2861\n",
      "Epoch 33/100\n",
      "2038/2038 [==============================] - 653s 321ms/step - loss: 2.0608e-04 - acc: 0.1785 - val_loss: 3.4183e-05 - val_acc: 0.2861\n",
      "Epoch 34/100\n",
      "2038/2038 [==============================] - 626s 307ms/step - loss: 2.0248e-04 - acc: 0.1785 - val_loss: 3.3908e-05 - val_acc: 0.2861\n",
      "Epoch 35/100\n",
      "2038/2038 [==============================] - 622s 305ms/step - loss: 2.0571e-04 - acc: 0.1785 - val_loss: 5.4016e-05 - val_acc: 0.2861\n",
      "Epoch 36/100\n",
      "2038/2038 [==============================] - 619s 303ms/step - loss: 1.9863e-04 - acc: 0.1785 - val_loss: 2.8675e-05 - val_acc: 0.2861\n",
      "Epoch 37/100\n",
      "2038/2038 [==============================] - 638s 313ms/step - loss: 1.9224e-04 - acc: 0.1785 - val_loss: 3.9598e-05 - val_acc: 0.2861\n",
      "Epoch 38/100\n",
      "2038/2038 [==============================] - 617s 303ms/step - loss: 1.8417e-04 - acc: 0.1785 - val_loss: 7.6853e-05 - val_acc: 0.2861\n",
      "Epoch 39/100\n",
      "2038/2038 [==============================] - 619s 304ms/step - loss: 1.9113e-04 - acc: 0.1785 - val_loss: 1.2538e-04 - val_acc: 0.2861\n",
      "Epoch 40/100\n",
      "2038/2038 [==============================] - 620s 304ms/step - loss: 1.8827e-04 - acc: 0.1785 - val_loss: 1.1172e-04 - val_acc: 0.2861\n",
      "Epoch 41/100\n",
      "2038/2038 [==============================] - 650s 319ms/step - loss: 1.8594e-04 - acc: 0.1785 - val_loss: 2.6561e-05 - val_acc: 0.2861\n",
      "Epoch 42/100\n",
      "2038/2038 [==============================] - 626s 307ms/step - loss: 1.8364e-04 - acc: 0.1785 - val_loss: 2.9104e-05 - val_acc: 0.2861\n",
      "Epoch 43/100\n",
      "2038/2038 [==============================] - 633s 311ms/step - loss: 1.8099e-04 - acc: 0.1785 - val_loss: 4.0208e-05 - val_acc: 0.2861\n",
      "Epoch 44/100\n",
      "2038/2038 [==============================] - 658s 323ms/step - loss: 1.8248e-04 - acc: 0.1785 - val_loss: 1.2203e-04 - val_acc: 0.2861\n",
      "Epoch 45/100\n",
      "2038/2038 [==============================] - 637s 312ms/step - loss: 1.8149e-04 - acc: 0.1785 - val_loss: 7.2716e-05 - val_acc: 0.2861\n",
      "Epoch 46/100\n",
      "2038/2038 [==============================] - 642s 315ms/step - loss: 1.8130e-04 - acc: 0.1785 - val_loss: 2.6442e-05 - val_acc: 0.2861\n",
      "Epoch 47/100\n",
      "2038/2038 [==============================] - 621s 305ms/step - loss: 1.7715e-04 - acc: 0.1785 - val_loss: 3.5329e-05 - val_acc: 0.2861\n",
      "Epoch 48/100\n",
      "2038/2038 [==============================] - 636s 312ms/step - loss: 1.8699e-04 - acc: 0.1785 - val_loss: 2.6002e-05 - val_acc: 0.2861\n",
      "Epoch 49/100\n",
      "2038/2038 [==============================] - 644s 316ms/step - loss: 1.7990e-04 - acc: 0.1785 - val_loss: 8.8042e-05 - val_acc: 0.2861\n",
      "Epoch 50/100\n",
      "2038/2038 [==============================] - 619s 304ms/step - loss: 1.7469e-04 - acc: 0.1785 - val_loss: 3.9201e-05 - val_acc: 0.2861\n",
      "Epoch 51/100\n",
      "2038/2038 [==============================] - 626s 307ms/step - loss: 1.8119e-04 - acc: 0.1785 - val_loss: 2.8544e-05 - val_acc: 0.2861\n",
      "Epoch 52/100\n",
      "2038/2038 [==============================] - 641s 315ms/step - loss: 1.6952e-04 - acc: 0.1785 - val_loss: 2.1411e-05 - val_acc: 0.2861\n",
      "Epoch 53/100\n",
      "2038/2038 [==============================] - 638s 313ms/step - loss: 1.7168e-04 - acc: 0.1785 - val_loss: 7.1987e-05 - val_acc: 0.2861\n",
      "Epoch 54/100\n",
      "2038/2038 [==============================] - 640s 314ms/step - loss: 1.7145e-04 - acc: 0.1785 - val_loss: 3.3461e-05 - val_acc: 0.2861\n",
      "Epoch 55/100\n",
      "2038/2038 [==============================] - 640s 314ms/step - loss: 1.7417e-04 - acc: 0.1785 - val_loss: 2.1828e-05 - val_acc: 0.2861\n",
      "Epoch 56/100\n",
      "2038/2038 [==============================] - 620s 304ms/step - loss: 1.6791e-04 - acc: 0.1785 - val_loss: 7.5334e-05 - val_acc: 0.2861\n",
      "Epoch 57/100\n",
      "2038/2038 [==============================] - 625s 307ms/step - loss: 1.6252e-04 - acc: 0.1785 - val_loss: 2.5324e-05 - val_acc: 0.2861\n",
      "Epoch 58/100\n",
      "2038/2038 [==============================] - 631s 310ms/step - loss: 1.6354e-04 - acc: 0.1785 - val_loss: 3.2501e-05 - val_acc: 0.2861\n",
      "Epoch 59/100\n",
      "2038/2038 [==============================] - 636s 312ms/step - loss: 1.6574e-04 - acc: 0.1785 - val_loss: 2.8101e-05 - val_acc: 0.2861\n",
      "Epoch 60/100\n",
      "2038/2038 [==============================] - 619s 304ms/step - loss: 1.6165e-04 - acc: 0.1785 - val_loss: 4.5628e-05 - val_acc: 0.2861\n",
      "Epoch 61/100\n",
      "2038/2038 [==============================] - 620s 304ms/step - loss: 1.5749e-04 - acc: 0.1785 - val_loss: 2.1810e-05 - val_acc: 0.2861\n",
      "Epoch 62/100\n",
      "2038/2038 [==============================] - 620s 304ms/step - loss: 1.6078e-04 - acc: 0.1785 - val_loss: 2.1646e-05 - val_acc: 0.2861\n",
      "Epoch 63/100\n",
      "2038/2038 [==============================] - 621s 305ms/step - loss: 1.5883e-04 - acc: 0.1785 - val_loss: 2.4138e-05 - val_acc: 0.2861\n",
      "Epoch 64/100\n",
      "2038/2038 [==============================] - 637s 313ms/step - loss: 1.5492e-04 - acc: 0.1785 - val_loss: 2.4826e-05 - val_acc: 0.2861\n",
      "Epoch 65/100\n",
      "2038/2038 [==============================] - 624s 306ms/step - loss: 1.5258e-04 - acc: 0.1785 - val_loss: 1.8447e-04 - val_acc: 0.2861\n",
      "Epoch 66/100\n",
      "2038/2038 [==============================] - 634s 311ms/step - loss: 1.5429e-04 - acc: 0.1785 - val_loss: 2.7990e-05 - val_acc: 0.2861\n",
      "Epoch 67/100\n",
      "2038/2038 [==============================] - 643s 316ms/step - loss: 1.5149e-04 - acc: 0.1785 - val_loss: 6.2289e-05 - val_acc: 0.2861\n",
      "Epoch 68/100\n",
      "2038/2038 [==============================] - 651s 320ms/step - loss: 1.4879e-04 - acc: 0.1785 - val_loss: 8.9901e-05 - val_acc: 0.2861\n",
      "Epoch 69/100\n",
      "2038/2038 [==============================] - 624s 306ms/step - loss: 1.5156e-04 - acc: 0.1785 - val_loss: 4.9995e-05 - val_acc: 0.2861\n",
      "Epoch 70/100\n",
      "2038/2038 [==============================] - 639s 313ms/step - loss: 1.4615e-04 - acc: 0.1785 - val_loss: 4.6001e-05 - val_acc: 0.2861\n",
      "Epoch 71/100\n",
      "2038/2038 [==============================] - 629s 308ms/step - loss: 1.4686e-04 - acc: 0.1785 - val_loss: 3.4563e-05 - val_acc: 0.2861\n",
      "Epoch 72/100\n",
      "2038/2038 [==============================] - 650s 319ms/step - loss: 1.4352e-04 - acc: 0.1785 - val_loss: 7.2067e-05 - val_acc: 0.2861\n",
      "Epoch 73/100\n",
      "2038/2038 [==============================] - 643s 316ms/step - loss: 1.4936e-04 - acc: 0.1785 - val_loss: 2.2556e-05 - val_acc: 0.2861\n",
      "Epoch 74/100\n",
      "2038/2038 [==============================] - 626s 307ms/step - loss: 1.4993e-04 - acc: 0.1785 - val_loss: 3.9465e-05 - val_acc: 0.2861\n",
      "Epoch 75/100\n",
      "2038/2038 [==============================] - 626s 307ms/step - loss: 1.4343e-04 - acc: 0.1785 - val_loss: 2.1115e-05 - val_acc: 0.2861\n",
      "Epoch 76/100\n",
      "2038/2038 [==============================] - 628s 308ms/step - loss: 1.4156e-04 - acc: 0.1785 - val_loss: 8.7546e-05 - val_acc: 0.2861\n",
      "Epoch 77/100\n",
      "2038/2038 [==============================] - 647s 317ms/step - loss: 1.4023e-04 - acc: 0.1785 - val_loss: 1.0988e-04 - val_acc: 0.2861\n",
      "Epoch 78/100\n",
      "2038/2038 [==============================] - 638s 313ms/step - loss: 1.4326e-04 - acc: 0.1785 - val_loss: 7.7015e-05 - val_acc: 0.2861\n",
      "Epoch 79/100\n",
      "2038/2038 [==============================] - 622s 305ms/step - loss: 1.3902e-04 - acc: 0.1785 - val_loss: 3.3953e-05 - val_acc: 0.2861\n",
      "Epoch 80/100\n",
      "2038/2038 [==============================] - 627s 307ms/step - loss: 1.3582e-04 - acc: 0.1785 - val_loss: 3.4755e-05 - val_acc: 0.2861\n",
      "Epoch 81/100\n",
      "2038/2038 [==============================] - 627s 308ms/step - loss: 1.3430e-04 - acc: 0.1785 - val_loss: 3.4305e-05 - val_acc: 0.2861\n",
      "Epoch 82/100\n",
      "2038/2038 [==============================] - 627s 308ms/step - loss: 1.3219e-04 - acc: 0.1785 - val_loss: 4.4088e-05 - val_acc: 0.2861\n",
      "Epoch 83/100\n",
      "2038/2038 [==============================] - 627s 308ms/step - loss: 1.3590e-04 - acc: 0.1785 - val_loss: 4.2665e-05 - val_acc: 0.2861\n",
      "Epoch 84/100\n",
      "2038/2038 [==============================] - 627s 307ms/step - loss: 1.3206e-04 - acc: 0.1785 - val_loss: 1.8916e-05 - val_acc: 0.2861\n",
      "Epoch 85/100\n",
      "2038/2038 [==============================] - 655s 321ms/step - loss: 1.3273e-04 - acc: 0.1785 - val_loss: 3.1942e-05 - val_acc: 0.2861\n",
      "Epoch 86/100\n",
      "2038/2038 [==============================] - 650s 319ms/step - loss: 1.3279e-04 - acc: 0.1785 - val_loss: 3.9650e-05 - val_acc: 0.2861\n",
      "Epoch 87/100\n",
      "2038/2038 [==============================] - 675s 331ms/step - loss: 1.3202e-04 - acc: 0.1785 - val_loss: 4.6621e-05 - val_acc: 0.2861\n",
      "Epoch 88/100\n",
      "2038/2038 [==============================] - 633s 310ms/step - loss: 1.2622e-04 - acc: 0.1785 - val_loss: 2.0002e-05 - val_acc: 0.2861\n",
      "Epoch 89/100\n",
      "2038/2038 [==============================] - 631s 310ms/step - loss: 1.3398e-04 - acc: 0.1785 - val_loss: 2.0688e-05 - val_acc: 0.2861\n",
      "Epoch 90/100\n",
      "2038/2038 [==============================] - 651s 320ms/step - loss: 1.2832e-04 - acc: 0.1785 - val_loss: 2.0522e-05 - val_acc: 0.2861\n",
      "Epoch 91/100\n",
      "2038/2038 [==============================] - 644s 316ms/step - loss: 1.2531e-04 - acc: 0.1785 - val_loss: 5.7462e-05 - val_acc: 0.2861\n",
      "Epoch 92/100\n",
      "2038/2038 [==============================] - 639s 314ms/step - loss: 1.2058e-04 - acc: 0.1785 - val_loss: 3.9684e-05 - val_acc: 0.2861\n",
      "Epoch 93/100\n",
      "2038/2038 [==============================] - 640s 314ms/step - loss: 1.2213e-04 - acc: 0.1785 - val_loss: 2.1339e-05 - val_acc: 0.2861\n",
      "Epoch 94/100\n",
      "2038/2038 [==============================] - 646s 317ms/step - loss: 1.2121e-04 - acc: 0.1785 - val_loss: 1.9598e-05 - val_acc: 0.2861\n",
      "Epoch 95/100\n",
      "2038/2038 [==============================] - 641s 314ms/step - loss: 1.2372e-04 - acc: 0.1785 - val_loss: 2.4615e-05 - val_acc: 0.2861\n",
      "Epoch 96/100\n",
      "2038/2038 [==============================] - 660s 324ms/step - loss: 1.2222e-04 - acc: 0.1785 - val_loss: 2.5479e-05 - val_acc: 0.2861\n",
      "Epoch 97/100\n",
      "2038/2038 [==============================] - 666s 327ms/step - loss: 1.2329e-04 - acc: 0.1785 - val_loss: 4.5431e-05 - val_acc: 0.2861\n",
      "Epoch 98/100\n",
      "2038/2038 [==============================] - 671s 329ms/step - loss: 1.1695e-04 - acc: 0.1785 - val_loss: 2.1942e-05 - val_acc: 0.2861\n",
      "Epoch 99/100\n",
      "2038/2038 [==============================] - 645s 316ms/step - loss: 1.1568e-04 - acc: 0.1785 - val_loss: 6.1292e-05 - val_acc: 0.2861\n",
      "Epoch 100/100\n",
      "2038/2038 [==============================] - 648s 318ms/step - loss: 1.1872e-04 - acc: 0.1785 - val_loss: 2.6167e-05 - val_acc: 0.2861\n"
     ]
    },
    {
     "data": {
      "text/plain": [
       "<keras.callbacks.History at 0x1654d3cea60>"
      ]
     },
     "execution_count": 33,
     "metadata": {},
     "output_type": "execute_result"
    }
   ],
   "source": [
    "model.fit(X_train,y_train,validation_data=(X_test,ytest),epochs=100,batch_size=64,verbose=1)"
   ]
  },
  {
   "cell_type": "code",
   "execution_count": 34,
   "metadata": {},
   "outputs": [
    {
     "data": {
      "text/plain": [
       "[<matplotlib.lines.Line2D at 0x1655821ca30>]"
      ]
     },
     "execution_count": 34,
     "metadata": {},
     "output_type": "execute_result"
    },
    {
     "data": {
      "image/png": "[encoded data removed]",
      "text/plain": [
       "<Figure size 432x288 with 1 Axes>"
      ]
     },
     "metadata": {
      "needs_background": "light"
     },
     "output_type": "display_data"
    }
   ],
   "source": [
    "loss_per_epoch = model.history.history['loss']\n",
    "plt.plot(range(len(loss_per_epoch)),loss_per_epoch)"
   ]
  },
  {
   "cell_type": "code",
   "execution_count": 35,
   "metadata": {},
   "outputs": [
    {
     "data": {
      "text/plain": [
       "[<matplotlib.lines.Line2D at 0x1655946b160>]"
      ]
     },
     "execution_count": 35,
     "metadata": {},
     "output_type": "execute_result"
    },
    {
     "data": {
      "image/png": "[encoded data removed]",
      "text/plain": [
       "<Figure size 432x288 with 1 Axes>"
      ]
     },
     "metadata": {
      "needs_background": "light"
     },
     "output_type": "display_data"
    }
   ],
   "source": [
    "acc_per_epoch = model.history.history['acc']\n",
    "plt.plot(range(len(acc_per_epoch)),acc_per_epoch)"
   ]
  },
  {
   "cell_type": "code",
   "execution_count": 36,
   "metadata": {},
   "outputs": [],
   "source": [
    "import tensorflow as tf"
   ]
  },
  {
   "cell_type": "code",
   "execution_count": 37,
   "metadata": {},
   "outputs": [
    {
     "data": {
      "text/plain": [
       "'2.7.0'"
      ]
     },
     "execution_count": 37,
     "metadata": {},
     "output_type": "execute_result"
    }
   ],
   "source": [
    "tf.__version__"
   ]
  },
  {
   "cell_type": "code",
   "execution_count": 38,
   "metadata": {},
   "outputs": [],
   "source": [
    "### Lets Do the prediction and check performance metrics\n",
    "train_predict=model.predict(X_train)\n",
    "test_predict=model.predict(X_test)"
   ]
  },
  {
   "cell_type": "code",
   "execution_count": 39,
   "metadata": {},
   "outputs": [],
   "source": [
    "##Transformback to original form\n",
    "train_predict=scaler.inverse_transform(train_predict)\n",
    "test_predict=scaler.inverse_transform(test_predict)"
   ]
  },
  {
   "cell_type": "code",
   "execution_count": 40,
   "metadata": {},
   "outputs": [
    {
     "data": {
      "text/plain": [
       "599.3744623384262"
      ]
     },
     "execution_count": 40,
     "metadata": {},
     "output_type": "execute_result"
    }
   ],
   "source": [
    "### Calculate RMSE performance metrics\n",
    "import math\n",
    "from sklearn.metrics import mean_squared_error,mean_absolute_error\n",
    "math.sqrt(mean_squared_error(y_train,train_predict))"
   ]
  },
  {
   "cell_type": "code",
   "execution_count": 41,
   "metadata": {},
   "outputs": [
    {
     "data": {
      "text/plain": [
       "81803.54638007258"
      ]
     },
     "execution_count": 41,
     "metadata": {},
     "output_type": "execute_result"
    }
   ],
   "source": [
    "mean_squared_error(ytest,test_predict)"
   ]
  },
  {
   "cell_type": "code",
   "execution_count": 42,
   "metadata": {},
   "outputs": [
    {
     "data": {
      "text/plain": [
       "359249.7461034775"
      ]
     },
     "execution_count": 42,
     "metadata": {},
     "output_type": "execute_result"
    }
   ],
   "source": [
    "mean_squared_error(y_train,train_predict)"
   ]
  },
  {
   "cell_type": "code",
   "execution_count": 43,
   "metadata": {},
   "outputs": [
    {
     "data": {
      "text/plain": [
       "190.37716110014915"
      ]
     },
     "execution_count": 43,
     "metadata": {},
     "output_type": "execute_result"
    }
   ],
   "source": [
    "mean_absolute_error(y_train,train_predict)"
   ]
  },
  {
   "cell_type": "code",
   "execution_count": 44,
   "metadata": {},
   "outputs": [
    {
     "data": {
      "text/plain": [
       "100.96909773075295"
      ]
     },
     "execution_count": 44,
     "metadata": {},
     "output_type": "execute_result"
    }
   ],
   "source": [
    "mean_absolute_error(ytest,test_predict)"
   ]
  },
  {
   "cell_type": "code",
   "execution_count": 45,
   "metadata": {},
   "outputs": [
    {
     "data": {
      "text/plain": [
       "286.0131926678778"
      ]
     },
     "execution_count": 45,
     "metadata": {},
     "output_type": "execute_result"
    }
   ],
   "source": [
    "### Test Data RMSE\n",
    "math.sqrt(mean_squared_error(ytest,test_predict))"
   ]
  },
  {
   "cell_type": "code",
   "execution_count": 46,
   "metadata": {},
   "outputs": [
    {
     "data": {
      "text/plain": [
       "10.048338058144388"
      ]
     },
     "execution_count": 46,
     "metadata": {},
     "output_type": "execute_result"
    }
   ],
   "source": [
    "math.sqrt(mean_absolute_error(ytest,test_predict))"
   ]
  },
  {
   "cell_type": "code",
   "execution_count": 47,
   "metadata": {},
   "outputs": [
    {
     "data": {
      "text/plain": [
       "13.797723040420443"
      ]
     },
     "execution_count": 47,
     "metadata": {},
     "output_type": "execute_result"
    }
   ],
   "source": [
    "math.sqrt(mean_absolute_error(y_train,train_predict))"
   ]
  },
  {
   "cell_type": "code",
   "execution_count": 48,
   "metadata": {},
   "outputs": [
    {
     "data": {
      "image/png": "[encoded data removed]",
      "text/plain": [
       "<Figure size 432x288 with 1 Axes>"
      ]
     },
     "metadata": {
      "needs_background": "light"
     },
     "output_type": "display_data"
    }
   ],
   "source": [
    "### Plotting \n",
    "# shift train predictions for plotting\n",
    "look_back=100\n",
    "trainPredictPlot = numpy.empty_like(df1)\n",
    "trainPredictPlot[:, :] = np.nan\n",
    "trainPredictPlot[look_back:len(train_predict)+look_back, :] = train_predict\n",
    "# shift test predictions for plotting\n",
    "testPredictPlot = numpy.empty_like(df1)\n",
    "testPredictPlot[:, :] = numpy.nan\n",
    "testPredictPlot[len(train_predict)+(look_back*2)+1:len(df1)-1, :] = test_predict\n",
    "# plot baseline and predictions\n",
    "plt.plot(scaler.inverse_transform(df1))\n",
    "plt.plot(trainPredictPlot)\n",
    "plt.plot(testPredictPlot)\n",
    "plt.show()"
   ]
  },
  {
   "cell_type": "code",
   "execution_count": 49,
   "metadata": {},
   "outputs": [
    {
     "data": {
      "text/plain": [
       "43491"
      ]
     },
     "execution_count": 49,
     "metadata": {},
     "output_type": "execute_result"
    }
   ],
   "source": [
    "len(test_data)"
   ]
  },
  {
   "cell_type": "code",
   "execution_count": 50,
   "metadata": {},
   "outputs": [
    {
     "data": {
      "text/plain": [
       "(1, 100)"
      ]
     },
     "execution_count": 50,
     "metadata": {},
     "output_type": "execute_result"
    }
   ],
   "source": [
    "x_input=test_data[43391:].reshape(1,-1)\n",
    "x_input.shape\n"
   ]
  },
  {
   "cell_type": "code",
   "execution_count": null,
   "metadata": {},
   "outputs": [],
   "source": []
  },
  {
   "cell_type": "code",
   "execution_count": null,
   "metadata": {},
   "outputs": [],
   "source": []
  },
  {
   "cell_type": "code",
   "execution_count": 51,
   "metadata": {},
   "outputs": [],
   "source": [
    "temp_input=list(x_input)\n",
    "temp_input=temp_input[0].tolist()"
   ]
  },
  {
   "cell_type": "code",
   "execution_count": 52,
   "metadata": {},
   "outputs": [
    {
     "data": {
      "text/plain": [
       "[0.0,\n",
       " 0.0,\n",
       " 0.0,\n",
       " 0.0,\n",
       " 0.0,\n",
       " 0.0,\n",
       " 0.0,\n",
       " 0.0,\n",
       " 0.0,\n",
       " 0.0,\n",
       " 0.0,\n",
       " 0.0,\n",
       " 0.0,\n",
       " 0.0,\n",
       " 0.0,\n",
       " 0.0,\n",
       " 0.0,\n",
       " 0.0,\n",
       " 0.0,\n",
       " 0.0,\n",
       " 0.0,\n",
       " 0.0,\n",
       " 0.0,\n",
       " 0.0,\n",
       " 0.0,\n",
       " 0.0,\n",
       " 0.0,\n",
       " 0.0,\n",
       " 0.0,\n",
       " 0.0,\n",
       " 0.0,\n",
       " 0.0,\n",
       " 0.0,\n",
       " 0.0,\n",
       " 0.0,\n",
       " 0.0,\n",
       " 0.0,\n",
       " 0.0,\n",
       " 0.0,\n",
       " 0.0,\n",
       " 0.0,\n",
       " 0.0,\n",
       " 0.0,\n",
       " 0.0,\n",
       " 0.0,\n",
       " 0.0,\n",
       " 0.0,\n",
       " 0.0,\n",
       " 0.0,\n",
       " 0.0,\n",
       " 0.0,\n",
       " 0.0,\n",
       " 0.0,\n",
       " 0.0,\n",
       " 0.0,\n",
       " 0.0,\n",
       " 0.0,\n",
       " 0.0,\n",
       " 0.0,\n",
       " 0.0,\n",
       " 0.0,\n",
       " 0.0,\n",
       " 0.0,\n",
       " 0.0,\n",
       " 0.0,\n",
       " 0.0,\n",
       " 0.0,\n",
       " 0.0,\n",
       " 0.0,\n",
       " 0.06547503400038858,\n",
       " 0.043576008215604096,\n",
       " 0.07632740292542119,\n",
       " 0.06702933747814262,\n",
       " 0.03408365483360626,\n",
       " 0.022315357073468593,\n",
       " 0.05390102417497016,\n",
       " 0.034499986122290376,\n",
       " 0.046601348913375334,\n",
       " 0.013183824141663658,\n",
       " 0.03247384051736101,\n",
       " 0.0205390102417497,\n",
       " 0.10563712564878293,\n",
       " 0.05045935218851481,\n",
       " 0.10980043853562409,\n",
       " 0.06994365649893142,\n",
       " 0.06902772766382637,\n",
       " 0.06200560659468761,\n",
       " 0.08876183074745345,\n",
       " 0.08329401315606873,\n",
       " 0.09134308473729495,\n",
       " 0.06383746426489773,\n",
       " 0.03394487773737822,\n",
       " 0.01798551167115379,\n",
       " 0.04557439840128785,\n",
       " 0.03155791168225596,\n",
       " 0.014432818007716005,\n",
       " 0.01523772516583863,\n",
       " 0.00033306503094729243,\n",
       " 0.0,\n",
       " 0.0001387770962280385]"
      ]
     },
     "execution_count": 52,
     "metadata": {},
     "output_type": "execute_result"
    }
   ],
   "source": [
    "temp_input"
   ]
  },
  {
   "cell_type": "code",
   "execution_count": 53,
   "metadata": {},
   "outputs": [
    {
     "name": "stdout",
     "output_type": "stream",
     "text": [
      "[-0.00319982]\n",
      "101\n",
      "1 day input [ 0.          0.          0.          0.          0.          0.\n",
      "  0.          0.          0.          0.          0.          0.\n",
      "  0.          0.          0.          0.          0.          0.\n",
      "  0.          0.          0.          0.          0.          0.\n",
      "  0.          0.          0.          0.          0.          0.\n",
      "  0.          0.          0.          0.          0.          0.\n",
      "  0.          0.          0.          0.          0.          0.\n",
      "  0.          0.          0.          0.          0.          0.\n",
      "  0.          0.          0.          0.          0.          0.\n",
      "  0.          0.          0.          0.          0.          0.\n",
      "  0.          0.          0.          0.          0.          0.\n",
      "  0.          0.          0.06547503  0.04357601  0.0763274   0.06702934\n",
      "  0.03408365  0.02231536  0.05390102  0.03449999  0.04660135  0.01318382\n",
      "  0.03247384  0.02053901  0.10563713  0.05045935  0.10980044  0.06994366\n",
      "  0.06902773  0.06200561  0.08876183  0.08329401  0.09134308  0.06383746\n",
      "  0.03394488  0.01798551  0.0455744   0.03155791  0.01443282  0.01523773\n",
      "  0.00033307  0.          0.00013878 -0.00319982]\n",
      "1 day output [[-0.00322616]]\n",
      "2 day input [ 0.          0.          0.          0.          0.          0.\n",
      "  0.          0.          0.          0.          0.          0.\n",
      "  0.          0.          0.          0.          0.          0.\n",
      "  0.          0.          0.          0.          0.          0.\n",
      "  0.          0.          0.          0.          0.          0.\n",
      "  0.          0.          0.          0.          0.          0.\n",
      "  0.          0.          0.          0.          0.          0.\n",
      "  0.          0.          0.          0.          0.          0.\n",
      "  0.          0.          0.          0.          0.          0.\n",
      "  0.          0.          0.          0.          0.          0.\n",
      "  0.          0.          0.          0.          0.          0.\n",
      "  0.          0.06547503  0.04357601  0.0763274   0.06702934  0.03408365\n",
      "  0.02231536  0.05390102  0.03449999  0.04660135  0.01318382  0.03247384\n",
      "  0.02053901  0.10563713  0.05045935  0.10980044  0.06994366  0.06902773\n",
      "  0.06200561  0.08876183  0.08329401  0.09134308  0.06383746  0.03394488\n",
      "  0.01798551  0.0455744   0.03155791  0.01443282  0.01523773  0.00033307\n",
      "  0.          0.00013878 -0.00319982 -0.00322616]\n",
      "2 day output [[-0.00298917]]\n",
      "3 day input [ 0.          0.          0.          0.          0.          0.\n",
      "  0.          0.          0.          0.          0.          0.\n",
      "  0.          0.          0.          0.          0.          0.\n",
      "  0.          0.          0.          0.          0.          0.\n",
      "  0.          0.          0.          0.          0.          0.\n",
      "  0.          0.          0.          0.          0.          0.\n",
      "  0.          0.          0.          0.          0.          0.\n",
      "  0.          0.          0.          0.          0.          0.\n",
      "  0.          0.          0.          0.          0.          0.\n",
      "  0.          0.          0.          0.          0.          0.\n",
      "  0.          0.          0.          0.          0.          0.\n",
      "  0.06547503  0.04357601  0.0763274   0.06702934  0.03408365  0.02231536\n",
      "  0.05390102  0.03449999  0.04660135  0.01318382  0.03247384  0.02053901\n",
      "  0.10563713  0.05045935  0.10980044  0.06994366  0.06902773  0.06200561\n",
      "  0.08876183  0.08329401  0.09134308  0.06383746  0.03394488  0.01798551\n",
      "  0.0455744   0.03155791  0.01443282  0.01523773  0.00033307  0.\n",
      "  0.00013878 -0.00319982 -0.00322616 -0.00298917]\n",
      "3 day output [[-0.00327849]]\n",
      "4 day input [ 0.          0.          0.          0.          0.          0.\n",
      "  0.          0.          0.          0.          0.          0.\n",
      "  0.          0.          0.          0.          0.          0.\n",
      "  0.          0.          0.          0.          0.          0.\n",
      "  0.          0.          0.          0.          0.          0.\n",
      "  0.          0.          0.          0.          0.          0.\n",
      "  0.          0.          0.          0.          0.          0.\n",
      "  0.          0.          0.          0.          0.          0.\n",
      "  0.          0.          0.          0.          0.          0.\n",
      "  0.          0.          0.          0.          0.          0.\n",
      "  0.          0.          0.          0.          0.          0.06547503\n",
      "  0.04357601  0.0763274   0.06702934  0.03408365  0.02231536  0.05390102\n",
      "  0.03449999  0.04660135  0.01318382  0.03247384  0.02053901  0.10563713\n",
      "  0.05045935  0.10980044  0.06994366  0.06902773  0.06200561  0.08876183\n",
      "  0.08329401  0.09134308  0.06383746  0.03394488  0.01798551  0.0455744\n",
      "  0.03155791  0.01443282  0.01523773  0.00033307  0.          0.00013878\n",
      " -0.00319982 -0.00322616 -0.00298917 -0.00327849]\n",
      "4 day output [[-0.00274611]]\n",
      "5 day input [ 0.          0.          0.          0.          0.          0.\n",
      "  0.          0.          0.          0.          0.          0.\n",
      "  0.          0.          0.          0.          0.          0.\n",
      "  0.          0.          0.          0.          0.          0.\n",
      "  0.          0.          0.          0.          0.          0.\n",
      "  0.          0.          0.          0.          0.          0.\n",
      "  0.          0.          0.          0.          0.          0.\n",
      "  0.          0.          0.          0.          0.          0.\n",
      "  0.          0.          0.          0.          0.          0.\n",
      "  0.          0.          0.          0.          0.          0.\n",
      "  0.          0.          0.          0.          0.06547503  0.04357601\n",
      "  0.0763274   0.06702934  0.03408365  0.02231536  0.05390102  0.03449999\n",
      "  0.04660135  0.01318382  0.03247384  0.02053901  0.10563713  0.05045935\n",
      "  0.10980044  0.06994366  0.06902773  0.06200561  0.08876183  0.08329401\n",
      "  0.09134308  0.06383746  0.03394488  0.01798551  0.0455744   0.03155791\n",
      "  0.01443282  0.01523773  0.00033307  0.          0.00013878 -0.00319982\n",
      " -0.00322616 -0.00298917 -0.00327849 -0.00274611]\n",
      "5 day output [[-0.0031063]]\n",
      "6 day input [ 0.          0.          0.          0.          0.          0.\n",
      "  0.          0.          0.          0.          0.          0.\n",
      "  0.          0.          0.          0.          0.          0.\n",
      "  0.          0.          0.          0.          0.          0.\n",
      "  0.          0.          0.          0.          0.          0.\n",
      "  0.          0.          0.          0.          0.          0.\n",
      "  0.          0.          0.          0.          0.          0.\n",
      "  0.          0.          0.          0.          0.          0.\n",
      "  0.          0.          0.          0.          0.          0.\n",
      "  0.          0.          0.          0.          0.          0.\n",
      "  0.          0.          0.          0.06547503  0.04357601  0.0763274\n",
      "  0.06702934  0.03408365  0.02231536  0.05390102  0.03449999  0.04660135\n",
      "  0.01318382  0.03247384  0.02053901  0.10563713  0.05045935  0.10980044\n",
      "  0.06994366  0.06902773  0.06200561  0.08876183  0.08329401  0.09134308\n",
      "  0.06383746  0.03394488  0.01798551  0.0455744   0.03155791  0.01443282\n",
      "  0.01523773  0.00033307  0.          0.00013878 -0.00319982 -0.00322616\n",
      " -0.00298917 -0.00327849 -0.00274611 -0.0031063 ]\n",
      "6 day output [[-0.00136781]]\n",
      "7 day input [ 0.          0.          0.          0.          0.          0.\n",
      "  0.          0.          0.          0.          0.          0.\n",
      "  0.          0.          0.          0.          0.          0.\n",
      "  0.          0.          0.          0.          0.          0.\n",
      "  0.          0.          0.          0.          0.          0.\n",
      "  0.          0.          0.          0.          0.          0.\n",
      "  0.          0.          0.          0.          0.          0.\n",
      "  0.          0.          0.          0.          0.          0.\n",
      "  0.          0.          0.          0.          0.          0.\n",
      "  0.          0.          0.          0.          0.          0.\n",
      "  0.          0.          0.06547503  0.04357601  0.0763274   0.06702934\n",
      "  0.03408365  0.02231536  0.05390102  0.03449999  0.04660135  0.01318382\n",
      "  0.03247384  0.02053901  0.10563713  0.05045935  0.10980044  0.06994366\n",
      "  0.06902773  0.06200561  0.08876183  0.08329401  0.09134308  0.06383746\n",
      "  0.03394488  0.01798551  0.0455744   0.03155791  0.01443282  0.01523773\n",
      "  0.00033307  0.          0.00013878 -0.00319982 -0.00322616 -0.00298917\n",
      " -0.00327849 -0.00274611 -0.0031063  -0.00136781]\n"
     ]
    },
    {
     "name": "stdout",
     "output_type": "stream",
     "text": [
      "7 day output [[0.00176752]]\n",
      "8 day input [ 0.          0.          0.          0.          0.          0.\n",
      "  0.          0.          0.          0.          0.          0.\n",
      "  0.          0.          0.          0.          0.          0.\n",
      "  0.          0.          0.          0.          0.          0.\n",
      "  0.          0.          0.          0.          0.          0.\n",
      "  0.          0.          0.          0.          0.          0.\n",
      "  0.          0.          0.          0.          0.          0.\n",
      "  0.          0.          0.          0.          0.          0.\n",
      "  0.          0.          0.          0.          0.          0.\n",
      "  0.          0.          0.          0.          0.          0.\n",
      "  0.          0.06547503  0.04357601  0.0763274   0.06702934  0.03408365\n",
      "  0.02231536  0.05390102  0.03449999  0.04660135  0.01318382  0.03247384\n",
      "  0.02053901  0.10563713  0.05045935  0.10980044  0.06994366  0.06902773\n",
      "  0.06200561  0.08876183  0.08329401  0.09134308  0.06383746  0.03394488\n",
      "  0.01798551  0.0455744   0.03155791  0.01443282  0.01523773  0.00033307\n",
      "  0.          0.00013878 -0.00319982 -0.00322616 -0.00298917 -0.00327849\n",
      " -0.00274611 -0.0031063  -0.00136781  0.00176752]\n",
      "8 day output [[0.0020287]]\n",
      "9 day input [ 0.          0.          0.          0.          0.          0.\n",
      "  0.          0.          0.          0.          0.          0.\n",
      "  0.          0.          0.          0.          0.          0.\n",
      "  0.          0.          0.          0.          0.          0.\n",
      "  0.          0.          0.          0.          0.          0.\n",
      "  0.          0.          0.          0.          0.          0.\n",
      "  0.          0.          0.          0.          0.          0.\n",
      "  0.          0.          0.          0.          0.          0.\n",
      "  0.          0.          0.          0.          0.          0.\n",
      "  0.          0.          0.          0.          0.          0.\n",
      "  0.06547503  0.04357601  0.0763274   0.06702934  0.03408365  0.02231536\n",
      "  0.05390102  0.03449999  0.04660135  0.01318382  0.03247384  0.02053901\n",
      "  0.10563713  0.05045935  0.10980044  0.06994366  0.06902773  0.06200561\n",
      "  0.08876183  0.08329401  0.09134308  0.06383746  0.03394488  0.01798551\n",
      "  0.0455744   0.03155791  0.01443282  0.01523773  0.00033307  0.\n",
      "  0.00013878 -0.00319982 -0.00322616 -0.00298917 -0.00327849 -0.00274611\n",
      " -0.0031063  -0.00136781  0.00176752  0.0020287 ]\n",
      "9 day output [[-0.00062329]]\n",
      "10 day input [ 0.          0.          0.          0.          0.          0.\n",
      "  0.          0.          0.          0.          0.          0.\n",
      "  0.          0.          0.          0.          0.          0.\n",
      "  0.          0.          0.          0.          0.          0.\n",
      "  0.          0.          0.          0.          0.          0.\n",
      "  0.          0.          0.          0.          0.          0.\n",
      "  0.          0.          0.          0.          0.          0.\n",
      "  0.          0.          0.          0.          0.          0.\n",
      "  0.          0.          0.          0.          0.          0.\n",
      "  0.          0.          0.          0.          0.          0.06547503\n",
      "  0.04357601  0.0763274   0.06702934  0.03408365  0.02231536  0.05390102\n",
      "  0.03449999  0.04660135  0.01318382  0.03247384  0.02053901  0.10563713\n",
      "  0.05045935  0.10980044  0.06994366  0.06902773  0.06200561  0.08876183\n",
      "  0.08329401  0.09134308  0.06383746  0.03394488  0.01798551  0.0455744\n",
      "  0.03155791  0.01443282  0.01523773  0.00033307  0.          0.00013878\n",
      " -0.00319982 -0.00322616 -0.00298917 -0.00327849 -0.00274611 -0.0031063\n",
      " -0.00136781  0.00176752  0.0020287  -0.00062329]\n",
      "10 day output [[-0.00207311]]\n",
      "11 day input [ 0.          0.          0.          0.          0.          0.\n",
      "  0.          0.          0.          0.          0.          0.\n",
      "  0.          0.          0.          0.          0.          0.\n",
      "  0.          0.          0.          0.          0.          0.\n",
      "  0.          0.          0.          0.          0.          0.\n",
      "  0.          0.          0.          0.          0.          0.\n",
      "  0.          0.          0.          0.          0.          0.\n",
      "  0.          0.          0.          0.          0.          0.\n",
      "  0.          0.          0.          0.          0.          0.\n",
      "  0.          0.          0.          0.          0.06547503  0.04357601\n",
      "  0.0763274   0.06702934  0.03408365  0.02231536  0.05390102  0.03449999\n",
      "  0.04660135  0.01318382  0.03247384  0.02053901  0.10563713  0.05045935\n",
      "  0.10980044  0.06994366  0.06902773  0.06200561  0.08876183  0.08329401\n",
      "  0.09134308  0.06383746  0.03394488  0.01798551  0.0455744   0.03155791\n",
      "  0.01443282  0.01523773  0.00033307  0.          0.00013878 -0.00319982\n",
      " -0.00322616 -0.00298917 -0.00327849 -0.00274611 -0.0031063  -0.00136781\n",
      "  0.00176752  0.0020287  -0.00062329 -0.00207311]\n",
      "11 day output [[-0.00270855]]\n",
      "12 day input [ 0.          0.          0.          0.          0.          0.\n",
      "  0.          0.          0.          0.          0.          0.\n",
      "  0.          0.          0.          0.          0.          0.\n",
      "  0.          0.          0.          0.          0.          0.\n",
      "  0.          0.          0.          0.          0.          0.\n",
      "  0.          0.          0.          0.          0.          0.\n",
      "  0.          0.          0.          0.          0.          0.\n",
      "  0.          0.          0.          0.          0.          0.\n",
      "  0.          0.          0.          0.          0.          0.\n",
      "  0.          0.          0.          0.06547503  0.04357601  0.0763274\n",
      "  0.06702934  0.03408365  0.02231536  0.05390102  0.03449999  0.04660135\n",
      "  0.01318382  0.03247384  0.02053901  0.10563713  0.05045935  0.10980044\n",
      "  0.06994366  0.06902773  0.06200561  0.08876183  0.08329401  0.09134308\n",
      "  0.06383746  0.03394488  0.01798551  0.0455744   0.03155791  0.01443282\n",
      "  0.01523773  0.00033307  0.          0.00013878 -0.00319982 -0.00322616\n",
      " -0.00298917 -0.00327849 -0.00274611 -0.0031063  -0.00136781  0.00176752\n",
      "  0.0020287  -0.00062329 -0.00207311 -0.00270855]\n",
      "12 day output [[-0.00294739]]\n",
      "13 day input [ 0.          0.          0.          0.          0.          0.\n",
      "  0.          0.          0.          0.          0.          0.\n",
      "  0.          0.          0.          0.          0.          0.\n",
      "  0.          0.          0.          0.          0.          0.\n",
      "  0.          0.          0.          0.          0.          0.\n",
      "  0.          0.          0.          0.          0.          0.\n",
      "  0.          0.          0.          0.          0.          0.\n",
      "  0.          0.          0.          0.          0.          0.\n",
      "  0.          0.          0.          0.          0.          0.\n",
      "  0.          0.          0.06547503  0.04357601  0.0763274   0.06702934\n",
      "  0.03408365  0.02231536  0.05390102  0.03449999  0.04660135  0.01318382\n",
      "  0.03247384  0.02053901  0.10563713  0.05045935  0.10980044  0.06994366\n",
      "  0.06902773  0.06200561  0.08876183  0.08329401  0.09134308  0.06383746\n",
      "  0.03394488  0.01798551  0.0455744   0.03155791  0.01443282  0.01523773\n",
      "  0.00033307  0.          0.00013878 -0.00319982 -0.00322616 -0.00298917\n",
      " -0.00327849 -0.00274611 -0.0031063  -0.00136781  0.00176752  0.0020287\n",
      " -0.00062329 -0.00207311 -0.00270855 -0.00294739]\n",
      "13 day output [[-0.00273263]]\n",
      "14 day input [ 0.          0.          0.          0.          0.          0.\n",
      "  0.          0.          0.          0.          0.          0.\n",
      "  0.          0.          0.          0.          0.          0.\n",
      "  0.          0.          0.          0.          0.          0.\n",
      "  0.          0.          0.          0.          0.          0.\n",
      "  0.          0.          0.          0.          0.          0.\n",
      "  0.          0.          0.          0.          0.          0.\n",
      "  0.          0.          0.          0.          0.          0.\n",
      "  0.          0.          0.          0.          0.          0.\n",
      "  0.          0.06547503  0.04357601  0.0763274   0.06702934  0.03408365\n",
      "  0.02231536  0.05390102  0.03449999  0.04660135  0.01318382  0.03247384\n",
      "  0.02053901  0.10563713  0.05045935  0.10980044  0.06994366  0.06902773\n",
      "  0.06200561  0.08876183  0.08329401  0.09134308  0.06383746  0.03394488\n",
      "  0.01798551  0.0455744   0.03155791  0.01443282  0.01523773  0.00033307\n",
      "  0.          0.00013878 -0.00319982 -0.00322616 -0.00298917 -0.00327849\n",
      " -0.00274611 -0.0031063  -0.00136781  0.00176752  0.0020287  -0.00062329\n",
      " -0.00207311 -0.00270855 -0.00294739 -0.00273263]\n",
      "14 day output [[-0.002505]]\n",
      "15 day input [ 0.          0.          0.          0.          0.          0.\n",
      "  0.          0.          0.          0.          0.          0.\n",
      "  0.          0.          0.          0.          0.          0.\n",
      "  0.          0.          0.          0.          0.          0.\n",
      "  0.          0.          0.          0.          0.          0.\n",
      "  0.          0.          0.          0.          0.          0.\n",
      "  0.          0.          0.          0.          0.          0.\n",
      "  0.          0.          0.          0.          0.          0.\n",
      "  0.          0.          0.          0.          0.          0.\n",
      "  0.06547503  0.04357601  0.0763274   0.06702934  0.03408365  0.02231536\n",
      "  0.05390102  0.03449999  0.04660135  0.01318382  0.03247384  0.02053901\n",
      "  0.10563713  0.05045935  0.10980044  0.06994366  0.06902773  0.06200561\n",
      "  0.08876183  0.08329401  0.09134308  0.06383746  0.03394488  0.01798551\n",
      "  0.0455744   0.03155791  0.01443282  0.01523773  0.00033307  0.\n",
      "  0.00013878 -0.00319982 -0.00322616 -0.00298917 -0.00327849 -0.00274611\n",
      " -0.0031063  -0.00136781  0.00176752  0.0020287  -0.00062329 -0.00207311\n",
      " -0.00270855 -0.00294739 -0.00273263 -0.002505  ]\n"
     ]
    },
    {
     "name": "stdout",
     "output_type": "stream",
     "text": [
      "15 day output [[-0.0023846]]\n",
      "16 day input [ 0.          0.          0.          0.          0.          0.\n",
      "  0.          0.          0.          0.          0.          0.\n",
      "  0.          0.          0.          0.          0.          0.\n",
      "  0.          0.          0.          0.          0.          0.\n",
      "  0.          0.          0.          0.          0.          0.\n",
      "  0.          0.          0.          0.          0.          0.\n",
      "  0.          0.          0.          0.          0.          0.\n",
      "  0.          0.          0.          0.          0.          0.\n",
      "  0.          0.          0.          0.          0.          0.06547503\n",
      "  0.04357601  0.0763274   0.06702934  0.03408365  0.02231536  0.05390102\n",
      "  0.03449999  0.04660135  0.01318382  0.03247384  0.02053901  0.10563713\n",
      "  0.05045935  0.10980044  0.06994366  0.06902773  0.06200561  0.08876183\n",
      "  0.08329401  0.09134308  0.06383746  0.03394488  0.01798551  0.0455744\n",
      "  0.03155791  0.01443282  0.01523773  0.00033307  0.          0.00013878\n",
      " -0.00319982 -0.00322616 -0.00298917 -0.00327849 -0.00274611 -0.0031063\n",
      " -0.00136781  0.00176752  0.0020287  -0.00062329 -0.00207311 -0.00270855\n",
      " -0.00294739 -0.00273263 -0.002505   -0.0023846 ]\n",
      "16 day output [[-0.0021565]]\n",
      "17 day input [ 0.          0.          0.          0.          0.          0.\n",
      "  0.          0.          0.          0.          0.          0.\n",
      "  0.          0.          0.          0.          0.          0.\n",
      "  0.          0.          0.          0.          0.          0.\n",
      "  0.          0.          0.          0.          0.          0.\n",
      "  0.          0.          0.          0.          0.          0.\n",
      "  0.          0.          0.          0.          0.          0.\n",
      "  0.          0.          0.          0.          0.          0.\n",
      "  0.          0.          0.          0.          0.06547503  0.04357601\n",
      "  0.0763274   0.06702934  0.03408365  0.02231536  0.05390102  0.03449999\n",
      "  0.04660135  0.01318382  0.03247384  0.02053901  0.10563713  0.05045935\n",
      "  0.10980044  0.06994366  0.06902773  0.06200561  0.08876183  0.08329401\n",
      "  0.09134308  0.06383746  0.03394488  0.01798551  0.0455744   0.03155791\n",
      "  0.01443282  0.01523773  0.00033307  0.          0.00013878 -0.00319982\n",
      " -0.00322616 -0.00298917 -0.00327849 -0.00274611 -0.0031063  -0.00136781\n",
      "  0.00176752  0.0020287  -0.00062329 -0.00207311 -0.00270855 -0.00294739\n",
      " -0.00273263 -0.002505   -0.0023846  -0.0021565 ]\n",
      "17 day output [[-0.00196826]]\n",
      "18 day input [ 0.          0.          0.          0.          0.          0.\n",
      "  0.          0.          0.          0.          0.          0.\n",
      "  0.          0.          0.          0.          0.          0.\n",
      "  0.          0.          0.          0.          0.          0.\n",
      "  0.          0.          0.          0.          0.          0.\n",
      "  0.          0.          0.          0.          0.          0.\n",
      "  0.          0.          0.          0.          0.          0.\n",
      "  0.          0.          0.          0.          0.          0.\n",
      "  0.          0.          0.          0.06547503  0.04357601  0.0763274\n",
      "  0.06702934  0.03408365  0.02231536  0.05390102  0.03449999  0.04660135\n",
      "  0.01318382  0.03247384  0.02053901  0.10563713  0.05045935  0.10980044\n",
      "  0.06994366  0.06902773  0.06200561  0.08876183  0.08329401  0.09134308\n",
      "  0.06383746  0.03394488  0.01798551  0.0455744   0.03155791  0.01443282\n",
      "  0.01523773  0.00033307  0.          0.00013878 -0.00319982 -0.00322616\n",
      " -0.00298917 -0.00327849 -0.00274611 -0.0031063  -0.00136781  0.00176752\n",
      "  0.0020287  -0.00062329 -0.00207311 -0.00270855 -0.00294739 -0.00273263\n",
      " -0.002505   -0.0023846  -0.0021565  -0.00196826]\n",
      "18 day output [[-0.00191092]]\n",
      "19 day input [ 0.          0.          0.          0.          0.          0.\n",
      "  0.          0.          0.          0.          0.          0.\n",
      "  0.          0.          0.          0.          0.          0.\n",
      "  0.          0.          0.          0.          0.          0.\n",
      "  0.          0.          0.          0.          0.          0.\n",
      "  0.          0.          0.          0.          0.          0.\n",
      "  0.          0.          0.          0.          0.          0.\n",
      "  0.          0.          0.          0.          0.          0.\n",
      "  0.          0.          0.06547503  0.04357601  0.0763274   0.06702934\n",
      "  0.03408365  0.02231536  0.05390102  0.03449999  0.04660135  0.01318382\n",
      "  0.03247384  0.02053901  0.10563713  0.05045935  0.10980044  0.06994366\n",
      "  0.06902773  0.06200561  0.08876183  0.08329401  0.09134308  0.06383746\n",
      "  0.03394488  0.01798551  0.0455744   0.03155791  0.01443282  0.01523773\n",
      "  0.00033307  0.          0.00013878 -0.00319982 -0.00322616 -0.00298917\n",
      " -0.00327849 -0.00274611 -0.0031063  -0.00136781  0.00176752  0.0020287\n",
      " -0.00062329 -0.00207311 -0.00270855 -0.00294739 -0.00273263 -0.002505\n",
      " -0.0023846  -0.0021565  -0.00196826 -0.00191092]\n",
      "19 day output [[-0.00187075]]\n",
      "20 day input [ 0.          0.          0.          0.          0.          0.\n",
      "  0.          0.          0.          0.          0.          0.\n",
      "  0.          0.          0.          0.          0.          0.\n",
      "  0.          0.          0.          0.          0.          0.\n",
      "  0.          0.          0.          0.          0.          0.\n",
      "  0.          0.          0.          0.          0.          0.\n",
      "  0.          0.          0.          0.          0.          0.\n",
      "  0.          0.          0.          0.          0.          0.\n",
      "  0.          0.06547503  0.04357601  0.0763274   0.06702934  0.03408365\n",
      "  0.02231536  0.05390102  0.03449999  0.04660135  0.01318382  0.03247384\n",
      "  0.02053901  0.10563713  0.05045935  0.10980044  0.06994366  0.06902773\n",
      "  0.06200561  0.08876183  0.08329401  0.09134308  0.06383746  0.03394488\n",
      "  0.01798551  0.0455744   0.03155791  0.01443282  0.01523773  0.00033307\n",
      "  0.          0.00013878 -0.00319982 -0.00322616 -0.00298917 -0.00327849\n",
      " -0.00274611 -0.0031063  -0.00136781  0.00176752  0.0020287  -0.00062329\n",
      " -0.00207311 -0.00270855 -0.00294739 -0.00273263 -0.002505   -0.0023846\n",
      " -0.0021565  -0.00196826 -0.00191092 -0.00187075]\n",
      "20 day output [[-0.00191653]]\n",
      "21 day input [ 0.          0.          0.          0.          0.          0.\n",
      "  0.          0.          0.          0.          0.          0.\n",
      "  0.          0.          0.          0.          0.          0.\n",
      "  0.          0.          0.          0.          0.          0.\n",
      "  0.          0.          0.          0.          0.          0.\n",
      "  0.          0.          0.          0.          0.          0.\n",
      "  0.          0.          0.          0.          0.          0.\n",
      "  0.          0.          0.          0.          0.          0.\n",
      "  0.06547503  0.04357601  0.0763274   0.06702934  0.03408365  0.02231536\n",
      "  0.05390102  0.03449999  0.04660135  0.01318382  0.03247384  0.02053901\n",
      "  0.10563713  0.05045935  0.10980044  0.06994366  0.06902773  0.06200561\n",
      "  0.08876183  0.08329401  0.09134308  0.06383746  0.03394488  0.01798551\n",
      "  0.0455744   0.03155791  0.01443282  0.01523773  0.00033307  0.\n",
      "  0.00013878 -0.00319982 -0.00322616 -0.00298917 -0.00327849 -0.00274611\n",
      " -0.0031063  -0.00136781  0.00176752  0.0020287  -0.00062329 -0.00207311\n",
      " -0.00270855 -0.00294739 -0.00273263 -0.002505   -0.0023846  -0.0021565\n",
      " -0.00196826 -0.00191092 -0.00187075 -0.00191653]\n",
      "21 day output [[-0.0020684]]\n",
      "22 day input [ 0.          0.          0.          0.          0.          0.\n",
      "  0.          0.          0.          0.          0.          0.\n",
      "  0.          0.          0.          0.          0.          0.\n",
      "  0.          0.          0.          0.          0.          0.\n",
      "  0.          0.          0.          0.          0.          0.\n",
      "  0.          0.          0.          0.          0.          0.\n",
      "  0.          0.          0.          0.          0.          0.\n",
      "  0.          0.          0.          0.          0.          0.06547503\n",
      "  0.04357601  0.0763274   0.06702934  0.03408365  0.02231536  0.05390102\n",
      "  0.03449999  0.04660135  0.01318382  0.03247384  0.02053901  0.10563713\n",
      "  0.05045935  0.10980044  0.06994366  0.06902773  0.06200561  0.08876183\n",
      "  0.08329401  0.09134308  0.06383746  0.03394488  0.01798551  0.0455744\n",
      "  0.03155791  0.01443282  0.01523773  0.00033307  0.          0.00013878\n",
      " -0.00319982 -0.00322616 -0.00298917 -0.00327849 -0.00274611 -0.0031063\n",
      " -0.00136781  0.00176752  0.0020287  -0.00062329 -0.00207311 -0.00270855\n",
      " -0.00294739 -0.00273263 -0.002505   -0.0023846  -0.0021565  -0.00196826\n",
      " -0.00191092 -0.00187075 -0.00191653 -0.0020684 ]\n",
      "22 day output [[-0.00218791]]\n",
      "23 day input [ 0.          0.          0.          0.          0.          0.\n",
      "  0.          0.          0.          0.          0.          0.\n",
      "  0.          0.          0.          0.          0.          0.\n",
      "  0.          0.          0.          0.          0.          0.\n",
      "  0.          0.          0.          0.          0.          0.\n",
      "  0.          0.          0.          0.          0.          0.\n",
      "  0.          0.          0.          0.          0.          0.\n",
      "  0.          0.          0.          0.          0.06547503  0.04357601\n",
      "  0.0763274   0.06702934  0.03408365  0.02231536  0.05390102  0.03449999\n",
      "  0.04660135  0.01318382  0.03247384  0.02053901  0.10563713  0.05045935\n",
      "  0.10980044  0.06994366  0.06902773  0.06200561  0.08876183  0.08329401\n",
      "  0.09134308  0.06383746  0.03394488  0.01798551  0.0455744   0.03155791\n",
      "  0.01443282  0.01523773  0.00033307  0.          0.00013878 -0.00319982\n",
      " -0.00322616 -0.00298917 -0.00327849 -0.00274611 -0.0031063  -0.00136781\n",
      "  0.00176752  0.0020287  -0.00062329 -0.00207311 -0.00270855 -0.00294739\n",
      " -0.00273263 -0.002505   -0.0023846  -0.0021565  -0.00196826 -0.00191092\n",
      " -0.00187075 -0.00191653 -0.0020684  -0.00218791]\n"
     ]
    },
    {
     "name": "stdout",
     "output_type": "stream",
     "text": [
      "23 day output [[-0.00232655]]\n",
      "24 day input [ 0.          0.          0.          0.          0.          0.\n",
      "  0.          0.          0.          0.          0.          0.\n",
      "  0.          0.          0.          0.          0.          0.\n",
      "  0.          0.          0.          0.          0.          0.\n",
      "  0.          0.          0.          0.          0.          0.\n",
      "  0.          0.          0.          0.          0.          0.\n",
      "  0.          0.          0.          0.          0.          0.\n",
      "  0.          0.          0.          0.06547503  0.04357601  0.0763274\n",
      "  0.06702934  0.03408365  0.02231536  0.05390102  0.03449999  0.04660135\n",
      "  0.01318382  0.03247384  0.02053901  0.10563713  0.05045935  0.10980044\n",
      "  0.06994366  0.06902773  0.06200561  0.08876183  0.08329401  0.09134308\n",
      "  0.06383746  0.03394488  0.01798551  0.0455744   0.03155791  0.01443282\n",
      "  0.01523773  0.00033307  0.          0.00013878 -0.00319982 -0.00322616\n",
      " -0.00298917 -0.00327849 -0.00274611 -0.0031063  -0.00136781  0.00176752\n",
      "  0.0020287  -0.00062329 -0.00207311 -0.00270855 -0.00294739 -0.00273263\n",
      " -0.002505   -0.0023846  -0.0021565  -0.00196826 -0.00191092 -0.00187075\n",
      " -0.00191653 -0.0020684  -0.00218791 -0.00232655]\n",
      "24 day output [[-0.00244308]]\n",
      "25 day input [ 0.          0.          0.          0.          0.          0.\n",
      "  0.          0.          0.          0.          0.          0.\n",
      "  0.          0.          0.          0.          0.          0.\n",
      "  0.          0.          0.          0.          0.          0.\n",
      "  0.          0.          0.          0.          0.          0.\n",
      "  0.          0.          0.          0.          0.          0.\n",
      "  0.          0.          0.          0.          0.          0.\n",
      "  0.          0.          0.06547503  0.04357601  0.0763274   0.06702934\n",
      "  0.03408365  0.02231536  0.05390102  0.03449999  0.04660135  0.01318382\n",
      "  0.03247384  0.02053901  0.10563713  0.05045935  0.10980044  0.06994366\n",
      "  0.06902773  0.06200561  0.08876183  0.08329401  0.09134308  0.06383746\n",
      "  0.03394488  0.01798551  0.0455744   0.03155791  0.01443282  0.01523773\n",
      "  0.00033307  0.          0.00013878 -0.00319982 -0.00322616 -0.00298917\n",
      " -0.00327849 -0.00274611 -0.0031063  -0.00136781  0.00176752  0.0020287\n",
      " -0.00062329 -0.00207311 -0.00270855 -0.00294739 -0.00273263 -0.002505\n",
      " -0.0023846  -0.0021565  -0.00196826 -0.00191092 -0.00187075 -0.00191653\n",
      " -0.0020684  -0.00218791 -0.00232655 -0.00244308]\n",
      "25 day output [[-0.00247467]]\n",
      "26 day input [ 0.          0.          0.          0.          0.          0.\n",
      "  0.          0.          0.          0.          0.          0.\n",
      "  0.          0.          0.          0.          0.          0.\n",
      "  0.          0.          0.          0.          0.          0.\n",
      "  0.          0.          0.          0.          0.          0.\n",
      "  0.          0.          0.          0.          0.          0.\n",
      "  0.          0.          0.          0.          0.          0.\n",
      "  0.          0.06547503  0.04357601  0.0763274   0.06702934  0.03408365\n",
      "  0.02231536  0.05390102  0.03449999  0.04660135  0.01318382  0.03247384\n",
      "  0.02053901  0.10563713  0.05045935  0.10980044  0.06994366  0.06902773\n",
      "  0.06200561  0.08876183  0.08329401  0.09134308  0.06383746  0.03394488\n",
      "  0.01798551  0.0455744   0.03155791  0.01443282  0.01523773  0.00033307\n",
      "  0.          0.00013878 -0.00319982 -0.00322616 -0.00298917 -0.00327849\n",
      " -0.00274611 -0.0031063  -0.00136781  0.00176752  0.0020287  -0.00062329\n",
      " -0.00207311 -0.00270855 -0.00294739 -0.00273263 -0.002505   -0.0023846\n",
      " -0.0021565  -0.00196826 -0.00191092 -0.00187075 -0.00191653 -0.0020684\n",
      " -0.00218791 -0.00232655 -0.00244308 -0.00247467]\n",
      "26 day output [[-0.0024755]]\n",
      "27 day input [ 0.          0.          0.          0.          0.          0.\n",
      "  0.          0.          0.          0.          0.          0.\n",
      "  0.          0.          0.          0.          0.          0.\n",
      "  0.          0.          0.          0.          0.          0.\n",
      "  0.          0.          0.          0.          0.          0.\n",
      "  0.          0.          0.          0.          0.          0.\n",
      "  0.          0.          0.          0.          0.          0.\n",
      "  0.06547503  0.04357601  0.0763274   0.06702934  0.03408365  0.02231536\n",
      "  0.05390102  0.03449999  0.04660135  0.01318382  0.03247384  0.02053901\n",
      "  0.10563713  0.05045935  0.10980044  0.06994366  0.06902773  0.06200561\n",
      "  0.08876183  0.08329401  0.09134308  0.06383746  0.03394488  0.01798551\n",
      "  0.0455744   0.03155791  0.01443282  0.01523773  0.00033307  0.\n",
      "  0.00013878 -0.00319982 -0.00322616 -0.00298917 -0.00327849 -0.00274611\n",
      " -0.0031063  -0.00136781  0.00176752  0.0020287  -0.00062329 -0.00207311\n",
      " -0.00270855 -0.00294739 -0.00273263 -0.002505   -0.0023846  -0.0021565\n",
      " -0.00196826 -0.00191092 -0.00187075 -0.00191653 -0.0020684  -0.00218791\n",
      " -0.00232655 -0.00244308 -0.00247467 -0.0024755 ]\n",
      "27 day output [[-0.00250512]]\n",
      "28 day input [ 0.          0.          0.          0.          0.          0.\n",
      "  0.          0.          0.          0.          0.          0.\n",
      "  0.          0.          0.          0.          0.          0.\n",
      "  0.          0.          0.          0.          0.          0.\n",
      "  0.          0.          0.          0.          0.          0.\n",
      "  0.          0.          0.          0.          0.          0.\n",
      "  0.          0.          0.          0.          0.          0.06547503\n",
      "  0.04357601  0.0763274   0.06702934  0.03408365  0.02231536  0.05390102\n",
      "  0.03449999  0.04660135  0.01318382  0.03247384  0.02053901  0.10563713\n",
      "  0.05045935  0.10980044  0.06994366  0.06902773  0.06200561  0.08876183\n",
      "  0.08329401  0.09134308  0.06383746  0.03394488  0.01798551  0.0455744\n",
      "  0.03155791  0.01443282  0.01523773  0.00033307  0.          0.00013878\n",
      " -0.00319982 -0.00322616 -0.00298917 -0.00327849 -0.00274611 -0.0031063\n",
      " -0.00136781  0.00176752  0.0020287  -0.00062329 -0.00207311 -0.00270855\n",
      " -0.00294739 -0.00273263 -0.002505   -0.0023846  -0.0021565  -0.00196826\n",
      " -0.00191092 -0.00187075 -0.00191653 -0.0020684  -0.00218791 -0.00232655\n",
      " -0.00244308 -0.00247467 -0.0024755  -0.00250512]\n",
      "28 day output [[-0.00256824]]\n",
      "29 day input [ 0.          0.          0.          0.          0.          0.\n",
      "  0.          0.          0.          0.          0.          0.\n",
      "  0.          0.          0.          0.          0.          0.\n",
      "  0.          0.          0.          0.          0.          0.\n",
      "  0.          0.          0.          0.          0.          0.\n",
      "  0.          0.          0.          0.          0.          0.\n",
      "  0.          0.          0.          0.          0.06547503  0.04357601\n",
      "  0.0763274   0.06702934  0.03408365  0.02231536  0.05390102  0.03449999\n",
      "  0.04660135  0.01318382  0.03247384  0.02053901  0.10563713  0.05045935\n",
      "  0.10980044  0.06994366  0.06902773  0.06200561  0.08876183  0.08329401\n",
      "  0.09134308  0.06383746  0.03394488  0.01798551  0.0455744   0.03155791\n",
      "  0.01443282  0.01523773  0.00033307  0.          0.00013878 -0.00319982\n",
      " -0.00322616 -0.00298917 -0.00327849 -0.00274611 -0.0031063  -0.00136781\n",
      "  0.00176752  0.0020287  -0.00062329 -0.00207311 -0.00270855 -0.00294739\n",
      " -0.00273263 -0.002505   -0.0023846  -0.0021565  -0.00196826 -0.00191092\n",
      " -0.00187075 -0.00191653 -0.0020684  -0.00218791 -0.00232655 -0.00244308\n",
      " -0.00247467 -0.0024755  -0.00250512 -0.00256824]\n",
      "29 day output [[-0.00266778]]\n",
      "[[-0.0031998157501220703], [-0.003226161003112793], [-0.00298917293548584], [-0.003278493881225586], [-0.002746105194091797], [-0.0031062960624694824], [-0.001367807388305664], [0.0017675161361694336], [0.0020287036895751953], [-0.0006232857704162598], [-0.0020731091499328613], [-0.0027085542678833008], [-0.002947390079498291], [-0.0027326345443725586], [-0.002505004405975342], [-0.0023846030235290527], [-0.002156496047973633], [-0.0019682645797729492], [-0.0019109249114990234], [-0.0018707513809204102], [-0.0019165277481079102], [-0.0020684003829956055], [-0.0021879076957702637], [-0.0023265480995178223], [-0.002443075180053711], [-0.002474665641784668], [-0.0024755001068115234], [-0.0025051236152648926], [-0.0025682449340820312], [-0.0026677846908569336]]\n"
     ]
    }
   ],
   "source": [
    "# demonstrate prediction for next 30 days\n",
    "from numpy import array\n",
    "\n",
    "lst_output=[]\n",
    "n_steps=100\n",
    "i=0\n",
    "while(i<30):\n",
    "    \n",
    "    if(len(temp_input)>100):\n",
    "        #print(temp_input)\n",
    "        x_input=np.array(temp_input[1:])\n",
    "        print(\"{} day input {}\".format(i,x_input))\n",
    "        x_input=x_input.reshape(1,-1)\n",
    "        x_input = x_input.reshape((1, n_steps, 1))\n",
    "        #print(x_input)\n",
    "        yhat = model.predict(x_input, verbose=0)\n",
    "        print(\"{} day output {}\".format(i,yhat))\n",
    "        temp_input.extend(yhat[0].tolist())\n",
    "        temp_input=temp_input[1:]\n",
    "        #print(temp_input)\n",
    "        lst_output.extend(yhat.tolist())\n",
    "        i=i+1\n",
    "    else:\n",
    "        x_input = x_input.reshape((1, n_steps,1))\n",
    "        yhat = model.predict(x_input, verbose=0)\n",
    "        print(yhat[0])\n",
    "        temp_input.extend(yhat[0].tolist())\n",
    "        print(len(temp_input))\n",
    "        lst_output.extend(yhat.tolist())\n",
    "        i=i+1\n",
    "    \n",
    "\n",
    "print(lst_output)"
   ]
  },
  {
   "cell_type": "code",
   "execution_count": 54,
   "metadata": {},
   "outputs": [],
   "source": [
    "day_new=np.arange(1,101)\n",
    "day_pred=np.arange(101,131)"
   ]
  },
  {
   "cell_type": "code",
   "execution_count": 55,
   "metadata": {},
   "outputs": [],
   "source": [
    "import matplotlib.pyplot as plt"
   ]
  },
  {
   "cell_type": "code",
   "execution_count": 56,
   "metadata": {},
   "outputs": [
    {
     "data": {
      "text/plain": [
       "173963"
      ]
     },
     "execution_count": 56,
     "metadata": {},
     "output_type": "execute_result"
    }
   ],
   "source": [
    "len(df1)"
   ]
  },
  {
   "cell_type": "code",
   "execution_count": null,
   "metadata": {},
   "outputs": [],
   "source": []
  },
  {
   "cell_type": "code",
   "execution_count": 57,
   "metadata": {},
   "outputs": [
    {
     "data": {
      "text/plain": [
       "[<matplotlib.lines.Line2D at 0x1655a984ac0>]"
      ]
     },
     "execution_count": 57,
     "metadata": {},
     "output_type": "execute_result"
    },
    {
     "data": {
      "image/png": "[encoded data removed]",
      "text/plain": [
       "<Figure size 432x288 with 1 Axes>"
      ]
     },
     "metadata": {
      "needs_background": "light"
     },
     "output_type": "display_data"
    }
   ],
   "source": [
    "plt.plot(day_new,scaler.inverse_transform(df1[173863:]))\n",
    "plt.plot(day_pred,scaler.inverse_transform(lst_output))"
   ]
  },
  {
   "cell_type": "code",
   "execution_count": 58,
   "metadata": {},
   "outputs": [
    {
     "data": {
      "text/plain": [
       "[<matplotlib.lines.Line2D at 0x16556005c70>]"
      ]
     },
     "execution_count": 58,
     "metadata": {},
     "output_type": "execute_result"
    },
    {
     "data": {
      "image/png": "[encoded data removed]",
      "text/plain": [
       "<Figure size 432x288 with 1 Axes>"
      ]
     },
     "metadata": {
      "needs_background": "light"
     },
     "output_type": "display_data"
    }
   ],
   "source": [
    "df3=df1.tolist()\n",
    "df3.extend(lst_output)\n",
    "plt.plot(df3[173900:])"
   ]
  },
  {
   "cell_type": "code",
   "execution_count": 59,
   "metadata": {},
   "outputs": [],
   "source": [
    "df3=scaler.inverse_transform(df3).tolist()"
   ]
  },
  {
   "cell_type": "code",
   "execution_count": 60,
   "metadata": {},
   "outputs": [
    {
     "data": {
      "text/plain": [
       "[<matplotlib.lines.Line2D at 0x1655a8df100>]"
      ]
     },
     "execution_count": 60,
     "metadata": {},
     "output_type": "execute_result"
    },
    {
     "data": {
      "image/png": "[encoded data removed]",
      "text/plain": [
       "<Figure size 432x288 with 1 Axes>"
      ]
     },
     "metadata": {
      "needs_background": "light"
     },
     "output_type": "display_data"
    }
   ],
   "source": [
    "plt.plot(df3)"
   ]
  },
  {
   "cell_type": "code",
   "execution_count": 61,
   "metadata": {},
   "outputs": [
    {
     "name": "stdout",
     "output_type": "stream",
     "text": [
      "WARNING:tensorflow:Model was constructed with shape (None, 100, 1) for input KerasTensor(type_spec=TensorSpec(shape=(None, 100, 1), dtype=tf.float32, name='lstm_input'), name='lstm_input', description=\"created by layer 'lstm_input'\"), but it was called on an input with incompatible shape (None, 1, 1).\n"
     ]
    },
    {
     "data": {
      "text/plain": [
       "array([[0.45233423]], dtype=float32)"
      ]
     },
     "execution_count": 61,
     "metadata": {},
     "output_type": "execute_result"
    }
   ],
   "source": [
    "model.predict([[17400]])"
   ]
  },
  {
   "cell_type": "code",
   "execution_count": 62,
   "metadata": {},
   "outputs": [],
   "source": [
    "from keras.models import load_model\n",
    "\n",
    "model.save('my_model.h5') "
   ]
  },
  {
   "cell_type": "code",
   "execution_count": 63,
   "metadata": {},
   "outputs": [
    {
     "name": "stderr",
     "output_type": "stream",
     "text": [
      "WARNING:absl:Found untraced functions such as lstm_cell_layer_call_fn, lstm_cell_layer_call_and_return_conditional_losses, lstm_cell_1_layer_call_fn, lstm_cell_1_layer_call_and_return_conditional_losses, lstm_cell_2_layer_call_fn while saving (showing 5 of 15). These functions will not be directly callable after loading.\n"
     ]
    },
    {
     "name": "stdout",
     "output_type": "stream",
     "text": [
      "INFO:tensorflow:Assets written to: my_model\\assets\n"
     ]
    },
    {
     "name": "stderr",
     "output_type": "stream",
     "text": [
      "INFO:tensorflow:Assets written to: my_model\\assets\n",
      "WARNING:absl:<keras.layers.recurrent.LSTMCell object at 0x000001654C0DFC70> has the same name 'LSTMCell' as a built-in Keras object. Consider renaming <class 'keras.layers.recurrent.LSTMCell'> to avoid naming conflicts when loading with `tf.keras.models.load_model`. If renaming is not possible, pass the object in the `custom_objects` parameter of the load function.\n",
      "WARNING:absl:<keras.layers.recurrent.LSTMCell object at 0x000001654D180670> has the same name 'LSTMCell' as a built-in Keras object. Consider renaming <class 'keras.layers.recurrent.LSTMCell'> to avoid naming conflicts when loading with `tf.keras.models.load_model`. If renaming is not possible, pass the object in the `custom_objects` parameter of the load function.\n",
      "WARNING:absl:<keras.layers.recurrent.LSTMCell object at 0x000001654D2BC520> has the same name 'LSTMCell' as a built-in Keras object. Consider renaming <class 'keras.layers.recurrent.LSTMCell'> to avoid naming conflicts when loading with `tf.keras.models.load_model`. If renaming is not possible, pass the object in the `custom_objects` parameter of the load function.\n"
     ]
    }
   ],
   "source": [
    "model.save(\"my_model\")"
   ]
  },
  {
   "cell_type": "code",
   "execution_count": 64,
   "metadata": {},
   "outputs": [
    {
     "name": "stderr",
     "output_type": "stream",
     "text": [
      "WARNING:absl:Found untraced functions such as lstm_cell_layer_call_fn, lstm_cell_layer_call_and_return_conditional_losses, lstm_cell_1_layer_call_fn, lstm_cell_1_layer_call_and_return_conditional_losses, lstm_cell_2_layer_call_fn while saving (showing 5 of 15). These functions will not be directly callable after loading.\n"
     ]
    },
    {
     "name": "stdout",
     "output_type": "stream",
     "text": [
      "INFO:tensorflow:Assets written to: ram://1ffd1fd6-062a-4a91-9403-d0c795ef4764/assets\n"
     ]
    },
    {
     "name": "stderr",
     "output_type": "stream",
     "text": [
      "INFO:tensorflow:Assets written to: ram://1ffd1fd6-062a-4a91-9403-d0c795ef4764/assets\n",
      "WARNING:absl:<keras.layers.recurrent.LSTMCell object at 0x000001654C0DFC70> has the same name 'LSTMCell' as a built-in Keras object. Consider renaming <class 'keras.layers.recurrent.LSTMCell'> to avoid naming conflicts when loading with `tf.keras.models.load_model`. If renaming is not possible, pass the object in the `custom_objects` parameter of the load function.\n",
      "WARNING:absl:<keras.layers.recurrent.LSTMCell object at 0x000001654D180670> has the same name 'LSTMCell' as a built-in Keras object. Consider renaming <class 'keras.layers.recurrent.LSTMCell'> to avoid naming conflicts when loading with `tf.keras.models.load_model`. If renaming is not possible, pass the object in the `custom_objects` parameter of the load function.\n",
      "WARNING:absl:<keras.layers.recurrent.LSTMCell object at 0x000001654D2BC520> has the same name 'LSTMCell' as a built-in Keras object. Consider renaming <class 'keras.layers.recurrent.LSTMCell'> to avoid naming conflicts when loading with `tf.keras.models.load_model`. If renaming is not possible, pass the object in the `custom_objects` parameter of the load function.\n"
     ]
    },
    {
     "ename": "NotFoundError",
     "evalue": "",
     "output_type": "error",
     "traceback": [
      "\u001b[1;31m---------------------------------------------------------------------------\u001b[0m",
      "\u001b[1;31mNotFoundError\u001b[0m                             Traceback (most recent call last)",
      "\u001b[1;32m<ipython-input-64-36e2be473ba5>\u001b[0m in \u001b[0;36m<module>\u001b[1;34m\u001b[0m\n\u001b[0;32m      1\u001b[0m \u001b[1;32mimport\u001b[0m \u001b[0mpickle\u001b[0m\u001b[1;33m\u001b[0m\u001b[1;33m\u001b[0m\u001b[0m\n\u001b[1;32m----> 2\u001b[1;33m \u001b[0mpickle\u001b[0m\u001b[1;33m.\u001b[0m\u001b[0mdump\u001b[0m\u001b[1;33m(\u001b[0m\u001b[0mmodel\u001b[0m\u001b[1;33m,\u001b[0m\u001b[0mopen\u001b[0m\u001b[1;33m(\u001b[0m\u001b[1;34m'model.pkl'\u001b[0m\u001b[1;33m,\u001b[0m\u001b[1;34m'wb'\u001b[0m\u001b[1;33m)\u001b[0m\u001b[1;33m)\u001b[0m\u001b[1;33m\u001b[0m\u001b[1;33m\u001b[0m\u001b[0m\n\u001b[0m",
      "\u001b[1;32m~\\anaconda3\\lib\\site-packages\\keras\\engine\\training.py\u001b[0m in \u001b[0;36m__reduce__\u001b[1;34m(self)\u001b[0m\n\u001b[0;32m    313\u001b[0m     \u001b[1;32mif\u001b[0m \u001b[0mself\u001b[0m\u001b[1;33m.\u001b[0m\u001b[0mbuilt\u001b[0m\u001b[1;33m:\u001b[0m\u001b[1;33m\u001b[0m\u001b[1;33m\u001b[0m\u001b[0m\n\u001b[0;32m    314\u001b[0m       return (pickle_utils.deserialize_model_from_bytecode,\n\u001b[1;32m--> 315\u001b[1;33m               pickle_utils.serialize_model_as_bytecode(self))\n\u001b[0m\u001b[0;32m    316\u001b[0m     \u001b[1;32melse\u001b[0m\u001b[1;33m:\u001b[0m\u001b[1;33m\u001b[0m\u001b[1;33m\u001b[0m\u001b[0m\n\u001b[0;32m    317\u001b[0m       \u001b[1;31m# SavedModel (and hence serialize_model_as_bytecode) only support\u001b[0m\u001b[1;33m\u001b[0m\u001b[1;33m\u001b[0m\u001b[1;33m\u001b[0m\u001b[0m\n",
      "\u001b[1;32m~\\anaconda3\\lib\\site-packages\\keras\\saving\\pickle_utils.py\u001b[0m in \u001b[0;36mserialize_model_as_bytecode\u001b[1;34m(model)\u001b[0m\n\u001b[0;32m     75\u001b[0m         \u001b[1;32mwith\u001b[0m \u001b[0mtf\u001b[0m\u001b[1;33m.\u001b[0m\u001b[0mio\u001b[0m\u001b[1;33m.\u001b[0m\u001b[0mgfile\u001b[0m\u001b[1;33m.\u001b[0m\u001b[0mGFile\u001b[0m\u001b[1;33m(\u001b[0m\u001b[0mdest_path\u001b[0m\u001b[1;33m,\u001b[0m \u001b[1;34m\"rb\"\u001b[0m\u001b[1;33m)\u001b[0m \u001b[1;32mas\u001b[0m \u001b[0mf\u001b[0m\u001b[1;33m:\u001b[0m\u001b[1;33m\u001b[0m\u001b[1;33m\u001b[0m\u001b[0m\n\u001b[0;32m     76\u001b[0m           \u001b[0minfo\u001b[0m \u001b[1;33m=\u001b[0m \u001b[0mtarfile\u001b[0m\u001b[1;33m.\u001b[0m\u001b[0mTarInfo\u001b[0m\u001b[1;33m(\u001b[0m\u001b[0mname\u001b[0m\u001b[1;33m=\u001b[0m\u001b[0mos\u001b[0m\u001b[1;33m.\u001b[0m\u001b[0mpath\u001b[0m\u001b[1;33m.\u001b[0m\u001b[0mrelpath\u001b[0m\u001b[1;33m(\u001b[0m\u001b[0mdest_path\u001b[0m\u001b[1;33m,\u001b[0m \u001b[0mtemp_dir\u001b[0m\u001b[1;33m)\u001b[0m\u001b[1;33m)\u001b[0m\u001b[1;33m\u001b[0m\u001b[1;33m\u001b[0m\u001b[0m\n\u001b[1;32m---> 77\u001b[1;33m           \u001b[0minfo\u001b[0m\u001b[1;33m.\u001b[0m\u001b[0msize\u001b[0m \u001b[1;33m=\u001b[0m \u001b[0mf\u001b[0m\u001b[1;33m.\u001b[0m\u001b[0msize\u001b[0m\u001b[1;33m(\u001b[0m\u001b[1;33m)\u001b[0m\u001b[1;33m\u001b[0m\u001b[1;33m\u001b[0m\u001b[0m\n\u001b[0m\u001b[0;32m     78\u001b[0m           \u001b[0marchive\u001b[0m\u001b[1;33m.\u001b[0m\u001b[0maddfile\u001b[0m\u001b[1;33m(\u001b[0m\u001b[0mtarinfo\u001b[0m\u001b[1;33m=\u001b[0m\u001b[0minfo\u001b[0m\u001b[1;33m,\u001b[0m \u001b[0mfileobj\u001b[0m\u001b[1;33m=\u001b[0m\u001b[0mf\u001b[0m\u001b[1;33m)\u001b[0m\u001b[1;33m\u001b[0m\u001b[1;33m\u001b[0m\u001b[0m\n\u001b[0;32m     79\u001b[0m   \u001b[0mtf\u001b[0m\u001b[1;33m.\u001b[0m\u001b[0mio\u001b[0m\u001b[1;33m.\u001b[0m\u001b[0mgfile\u001b[0m\u001b[1;33m.\u001b[0m\u001b[0mrmtree\u001b[0m\u001b[1;33m(\u001b[0m\u001b[0mtemp_dir\u001b[0m\u001b[1;33m)\u001b[0m\u001b[1;33m\u001b[0m\u001b[1;33m\u001b[0m\u001b[0m\n",
      "\u001b[1;32m~\\anaconda3\\lib\\site-packages\\tensorflow\\python\\lib\\io\\file_io.py\u001b[0m in \u001b[0;36msize\u001b[1;34m(self)\u001b[0m\n\u001b[0;32m     97\u001b[0m   \u001b[1;32mdef\u001b[0m \u001b[0msize\u001b[0m\u001b[1;33m(\u001b[0m\u001b[0mself\u001b[0m\u001b[1;33m)\u001b[0m\u001b[1;33m:\u001b[0m\u001b[1;33m\u001b[0m\u001b[1;33m\u001b[0m\u001b[0m\n\u001b[0;32m     98\u001b[0m     \u001b[1;34m\"\"\"Returns the size of the file.\"\"\"\u001b[0m\u001b[1;33m\u001b[0m\u001b[1;33m\u001b[0m\u001b[0m\n\u001b[1;32m---> 99\u001b[1;33m     \u001b[1;32mreturn\u001b[0m \u001b[0mstat\u001b[0m\u001b[1;33m(\u001b[0m\u001b[0mself\u001b[0m\u001b[1;33m.\u001b[0m\u001b[0m__name\u001b[0m\u001b[1;33m)\u001b[0m\u001b[1;33m.\u001b[0m\u001b[0mlength\u001b[0m\u001b[1;33m\u001b[0m\u001b[1;33m\u001b[0m\u001b[0m\n\u001b[0m\u001b[0;32m    100\u001b[0m \u001b[1;33m\u001b[0m\u001b[0m\n\u001b[0;32m    101\u001b[0m   \u001b[1;32mdef\u001b[0m \u001b[0mwrite\u001b[0m\u001b[1;33m(\u001b[0m\u001b[0mself\u001b[0m\u001b[1;33m,\u001b[0m \u001b[0mfile_content\u001b[0m\u001b[1;33m)\u001b[0m\u001b[1;33m:\u001b[0m\u001b[1;33m\u001b[0m\u001b[1;33m\u001b[0m\u001b[0m\n",
      "\u001b[1;32m~\\anaconda3\\lib\\site-packages\\tensorflow\\python\\lib\\io\\file_io.py\u001b[0m in \u001b[0;36mstat\u001b[1;34m(filename)\u001b[0m\n\u001b[0;32m    908\u001b[0m     \u001b[0merrors\u001b[0m\u001b[1;33m.\u001b[0m\u001b[0mOpError\u001b[0m\u001b[1;33m:\u001b[0m \u001b[0mIf\u001b[0m \u001b[0mthe\u001b[0m \u001b[0moperation\u001b[0m \u001b[0mfails\u001b[0m\u001b[1;33m.\u001b[0m\u001b[1;33m\u001b[0m\u001b[1;33m\u001b[0m\u001b[0m\n\u001b[0;32m    909\u001b[0m   \"\"\"\n\u001b[1;32m--> 910\u001b[1;33m   \u001b[1;32mreturn\u001b[0m \u001b[0mstat_v2\u001b[0m\u001b[1;33m(\u001b[0m\u001b[0mfilename\u001b[0m\u001b[1;33m)\u001b[0m\u001b[1;33m\u001b[0m\u001b[1;33m\u001b[0m\u001b[0m\n\u001b[0m\u001b[0;32m    911\u001b[0m \u001b[1;33m\u001b[0m\u001b[0m\n\u001b[0;32m    912\u001b[0m \u001b[1;33m\u001b[0m\u001b[0m\n",
      "\u001b[1;32m~\\anaconda3\\lib\\site-packages\\tensorflow\\python\\lib\\io\\file_io.py\u001b[0m in \u001b[0;36mstat_v2\u001b[1;34m(path)\u001b[0m\n\u001b[0;32m    924\u001b[0m     \u001b[0merrors\u001b[0m\u001b[1;33m.\u001b[0m\u001b[0mOpError\u001b[0m\u001b[1;33m:\u001b[0m \u001b[0mIf\u001b[0m \u001b[0mthe\u001b[0m \u001b[0moperation\u001b[0m \u001b[0mfails\u001b[0m\u001b[1;33m.\u001b[0m\u001b[1;33m\u001b[0m\u001b[1;33m\u001b[0m\u001b[0m\n\u001b[0;32m    925\u001b[0m   \"\"\"\n\u001b[1;32m--> 926\u001b[1;33m   \u001b[1;32mreturn\u001b[0m \u001b[0m_pywrap_file_io\u001b[0m\u001b[1;33m.\u001b[0m\u001b[0mStat\u001b[0m\u001b[1;33m(\u001b[0m\u001b[0mcompat\u001b[0m\u001b[1;33m.\u001b[0m\u001b[0mpath_to_str\u001b[0m\u001b[1;33m(\u001b[0m\u001b[0mpath\u001b[0m\u001b[1;33m)\u001b[0m\u001b[1;33m)\u001b[0m\u001b[1;33m\u001b[0m\u001b[1;33m\u001b[0m\u001b[0m\n\u001b[0m\u001b[0;32m    927\u001b[0m \u001b[1;33m\u001b[0m\u001b[0m\n\u001b[0;32m    928\u001b[0m \u001b[1;33m\u001b[0m\u001b[0m\n",
      "\u001b[1;31mNotFoundError\u001b[0m: "
     ]
    }
   ],
   "source": [
    "import pickle\n",
    "pickle.dump(model,open('model.pkl','wb'))"
   ]
  },
  {
   "cell_type": "code",
   "execution_count": null,
   "metadata": {},
   "outputs": [],
   "source": []
  },
  {
   "cell_type": "code",
   "execution_count": null,
   "metadata": {},
   "outputs": [],
   "source": []
  }
 ],
 "metadata": {
  "kernelspec": {
   "display_name": "Python 3 (ipykernel)",
   "language": "python",
   "name": "python3"
  },
  "language_info": {
   "codemirror_mode": {
    "name": "ipython",
    "version": 3
   },
   "file_extension": ".py",
   "mimetype": "text/x-python",
   "name": "python",
   "nbconvert_exporter": "python",
   "pygments_lexer": "ipython3",
   "version": "3.9.7"
  }
 },
 "nbformat": 4,
 "nbformat_minor": 2
}
